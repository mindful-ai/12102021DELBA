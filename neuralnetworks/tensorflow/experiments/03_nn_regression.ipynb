{
 "cells": [
  {
   "cell_type": "code",
   "execution_count": 1,
   "metadata": {},
   "outputs": [],
   "source": [
    "path = r'C:\\Users\\Purushotham\\Desktop\\deloitte\\neuralnetworks\\TF_2_Notebooks_and_Data\\DATA\\datasets\\kc_house_data.csv'"
   ]
  },
  {
   "cell_type": "code",
   "execution_count": 2,
   "metadata": {},
   "outputs": [],
   "source": [
    "import pandas as pd\n",
    "import numpy as np\n",
    "import matplotlib.pyplot as plt\n",
    "import seaborn as sns"
   ]
  },
  {
   "cell_type": "code",
   "execution_count": 3,
   "metadata": {},
   "outputs": [
    {
     "data": {
      "text/html": [
       "<div>\n",
       "<style scoped>\n",
       "    .dataframe tbody tr th:only-of-type {\n",
       "        vertical-align: middle;\n",
       "    }\n",
       "\n",
       "    .dataframe tbody tr th {\n",
       "        vertical-align: top;\n",
       "    }\n",
       "\n",
       "    .dataframe thead th {\n",
       "        text-align: right;\n",
       "    }\n",
       "</style>\n",
       "<table border=\"1\" class=\"dataframe\">\n",
       "  <thead>\n",
       "    <tr style=\"text-align: right;\">\n",
       "      <th></th>\n",
       "      <th>id</th>\n",
       "      <th>date</th>\n",
       "      <th>price</th>\n",
       "      <th>bedrooms</th>\n",
       "      <th>bathrooms</th>\n",
       "      <th>sqft_living</th>\n",
       "      <th>sqft_lot</th>\n",
       "      <th>floors</th>\n",
       "      <th>waterfront</th>\n",
       "      <th>view</th>\n",
       "      <th>...</th>\n",
       "      <th>grade</th>\n",
       "      <th>sqft_above</th>\n",
       "      <th>sqft_basement</th>\n",
       "      <th>yr_built</th>\n",
       "      <th>yr_renovated</th>\n",
       "      <th>zipcode</th>\n",
       "      <th>lat</th>\n",
       "      <th>long</th>\n",
       "      <th>sqft_living15</th>\n",
       "      <th>sqft_lot15</th>\n",
       "    </tr>\n",
       "  </thead>\n",
       "  <tbody>\n",
       "    <tr>\n",
       "      <th>0</th>\n",
       "      <td>7129300520</td>\n",
       "      <td>10/13/2014</td>\n",
       "      <td>221900.0</td>\n",
       "      <td>3</td>\n",
       "      <td>1.00</td>\n",
       "      <td>1180</td>\n",
       "      <td>5650</td>\n",
       "      <td>1.0</td>\n",
       "      <td>0</td>\n",
       "      <td>0</td>\n",
       "      <td>...</td>\n",
       "      <td>7</td>\n",
       "      <td>1180</td>\n",
       "      <td>0</td>\n",
       "      <td>1955</td>\n",
       "      <td>0</td>\n",
       "      <td>98178</td>\n",
       "      <td>47.5112</td>\n",
       "      <td>-122.257</td>\n",
       "      <td>1340</td>\n",
       "      <td>5650</td>\n",
       "    </tr>\n",
       "    <tr>\n",
       "      <th>1</th>\n",
       "      <td>6414100192</td>\n",
       "      <td>12/9/2014</td>\n",
       "      <td>538000.0</td>\n",
       "      <td>3</td>\n",
       "      <td>2.25</td>\n",
       "      <td>2570</td>\n",
       "      <td>7242</td>\n",
       "      <td>2.0</td>\n",
       "      <td>0</td>\n",
       "      <td>0</td>\n",
       "      <td>...</td>\n",
       "      <td>7</td>\n",
       "      <td>2170</td>\n",
       "      <td>400</td>\n",
       "      <td>1951</td>\n",
       "      <td>1991</td>\n",
       "      <td>98125</td>\n",
       "      <td>47.7210</td>\n",
       "      <td>-122.319</td>\n",
       "      <td>1690</td>\n",
       "      <td>7639</td>\n",
       "    </tr>\n",
       "    <tr>\n",
       "      <th>2</th>\n",
       "      <td>5631500400</td>\n",
       "      <td>2/25/2015</td>\n",
       "      <td>180000.0</td>\n",
       "      <td>2</td>\n",
       "      <td>1.00</td>\n",
       "      <td>770</td>\n",
       "      <td>10000</td>\n",
       "      <td>1.0</td>\n",
       "      <td>0</td>\n",
       "      <td>0</td>\n",
       "      <td>...</td>\n",
       "      <td>6</td>\n",
       "      <td>770</td>\n",
       "      <td>0</td>\n",
       "      <td>1933</td>\n",
       "      <td>0</td>\n",
       "      <td>98028</td>\n",
       "      <td>47.7379</td>\n",
       "      <td>-122.233</td>\n",
       "      <td>2720</td>\n",
       "      <td>8062</td>\n",
       "    </tr>\n",
       "    <tr>\n",
       "      <th>3</th>\n",
       "      <td>2487200875</td>\n",
       "      <td>12/9/2014</td>\n",
       "      <td>604000.0</td>\n",
       "      <td>4</td>\n",
       "      <td>3.00</td>\n",
       "      <td>1960</td>\n",
       "      <td>5000</td>\n",
       "      <td>1.0</td>\n",
       "      <td>0</td>\n",
       "      <td>0</td>\n",
       "      <td>...</td>\n",
       "      <td>7</td>\n",
       "      <td>1050</td>\n",
       "      <td>910</td>\n",
       "      <td>1965</td>\n",
       "      <td>0</td>\n",
       "      <td>98136</td>\n",
       "      <td>47.5208</td>\n",
       "      <td>-122.393</td>\n",
       "      <td>1360</td>\n",
       "      <td>5000</td>\n",
       "    </tr>\n",
       "    <tr>\n",
       "      <th>4</th>\n",
       "      <td>1954400510</td>\n",
       "      <td>2/18/2015</td>\n",
       "      <td>510000.0</td>\n",
       "      <td>3</td>\n",
       "      <td>2.00</td>\n",
       "      <td>1680</td>\n",
       "      <td>8080</td>\n",
       "      <td>1.0</td>\n",
       "      <td>0</td>\n",
       "      <td>0</td>\n",
       "      <td>...</td>\n",
       "      <td>8</td>\n",
       "      <td>1680</td>\n",
       "      <td>0</td>\n",
       "      <td>1987</td>\n",
       "      <td>0</td>\n",
       "      <td>98074</td>\n",
       "      <td>47.6168</td>\n",
       "      <td>-122.045</td>\n",
       "      <td>1800</td>\n",
       "      <td>7503</td>\n",
       "    </tr>\n",
       "  </tbody>\n",
       "</table>\n",
       "<p>5 rows × 21 columns</p>\n",
       "</div>"
      ],
      "text/plain": [
       "           id        date     price  bedrooms  bathrooms  sqft_living  \\\n",
       "0  7129300520  10/13/2014  221900.0         3       1.00         1180   \n",
       "1  6414100192   12/9/2014  538000.0         3       2.25         2570   \n",
       "2  5631500400   2/25/2015  180000.0         2       1.00          770   \n",
       "3  2487200875   12/9/2014  604000.0         4       3.00         1960   \n",
       "4  1954400510   2/18/2015  510000.0         3       2.00         1680   \n",
       "\n",
       "   sqft_lot  floors  waterfront  view  ...  grade  sqft_above  sqft_basement  \\\n",
       "0      5650     1.0           0     0  ...      7        1180              0   \n",
       "1      7242     2.0           0     0  ...      7        2170            400   \n",
       "2     10000     1.0           0     0  ...      6         770              0   \n",
       "3      5000     1.0           0     0  ...      7        1050            910   \n",
       "4      8080     1.0           0     0  ...      8        1680              0   \n",
       "\n",
       "   yr_built  yr_renovated  zipcode      lat     long  sqft_living15  \\\n",
       "0      1955             0    98178  47.5112 -122.257           1340   \n",
       "1      1951          1991    98125  47.7210 -122.319           1690   \n",
       "2      1933             0    98028  47.7379 -122.233           2720   \n",
       "3      1965             0    98136  47.5208 -122.393           1360   \n",
       "4      1987             0    98074  47.6168 -122.045           1800   \n",
       "\n",
       "   sqft_lot15  \n",
       "0        5650  \n",
       "1        7639  \n",
       "2        8062  \n",
       "3        5000  \n",
       "4        7503  \n",
       "\n",
       "[5 rows x 21 columns]"
      ]
     },
     "execution_count": 3,
     "metadata": {},
     "output_type": "execute_result"
    }
   ],
   "source": [
    "df = pd.read_csv(path)\n",
    "df.head()"
   ]
  },
  {
   "cell_type": "code",
   "execution_count": 4,
   "metadata": {},
   "outputs": [
    {
     "data": {
      "text/plain": [
       "Index(['id', 'date', 'price', 'bedrooms', 'bathrooms', 'sqft_living',\n",
       "       'sqft_lot', 'floors', 'waterfront', 'view', 'condition', 'grade',\n",
       "       'sqft_above', 'sqft_basement', 'yr_built', 'yr_renovated', 'zipcode',\n",
       "       'lat', 'long', 'sqft_living15', 'sqft_lot15'],\n",
       "      dtype='object')"
      ]
     },
     "execution_count": 4,
     "metadata": {},
     "output_type": "execute_result"
    }
   ],
   "source": [
    "df.columns"
   ]
  },
  {
   "cell_type": "markdown",
   "metadata": {},
   "source": [
    "### EDA"
   ]
  },
  {
   "cell_type": "code",
   "execution_count": 5,
   "metadata": {},
   "outputs": [
    {
     "data": {
      "text/plain": [
       "id               0\n",
       "date             0\n",
       "price            0\n",
       "bedrooms         0\n",
       "bathrooms        0\n",
       "sqft_living      0\n",
       "sqft_lot         0\n",
       "floors           0\n",
       "waterfront       0\n",
       "view             0\n",
       "condition        0\n",
       "grade            0\n",
       "sqft_above       0\n",
       "sqft_basement    0\n",
       "yr_built         0\n",
       "yr_renovated     0\n",
       "zipcode          0\n",
       "lat              0\n",
       "long             0\n",
       "sqft_living15    0\n",
       "sqft_lot15       0\n",
       "dtype: int64"
      ]
     },
     "execution_count": 5,
     "metadata": {},
     "output_type": "execute_result"
    }
   ],
   "source": [
    "df.isnull().sum()"
   ]
  },
  {
   "cell_type": "code",
   "execution_count": 6,
   "metadata": {},
   "outputs": [
    {
     "name": "stderr",
     "output_type": "stream",
     "text": [
      "C:\\Users\\Purushotham\\AppData\\Local\\Programs\\Python\\Python37\\lib\\site-packages\\seaborn\\distributions.py:2619: FutureWarning: `distplot` is a deprecated function and will be removed in a future version. Please adapt your code to use either `displot` (a figure-level function with similar flexibility) or `histplot` (an axes-level function for histograms).\n",
      "  warnings.warn(msg, FutureWarning)\n"
     ]
    },
    {
     "data": {
      "text/plain": [
       "<matplotlib.axes._subplots.AxesSubplot at 0x27022ff3d30>"
      ]
     },
     "execution_count": 6,
     "metadata": {},
     "output_type": "execute_result"
    },
    {
     "data": {
      "image/png": "[encoded data removed]",
      "text/plain": [
       "<Figure size 432x288 with 1 Axes>"
      ]
     },
     "metadata": {
      "needs_background": "light"
     },
     "output_type": "display_data"
    }
   ],
   "source": [
    "sns.distplot(df['price'])"
   ]
  },
  {
   "cell_type": "code",
   "execution_count": 7,
   "metadata": {},
   "outputs": [
    {
     "name": "stderr",
     "output_type": "stream",
     "text": [
      "C:\\Users\\Purushotham\\AppData\\Local\\Programs\\Python\\Python37\\lib\\site-packages\\seaborn\\_decorators.py:43: FutureWarning: Pass the following variable as a keyword arg: x. From version 0.12, the only valid positional argument will be `data`, and passing other arguments without an explicit keyword will result in an error or misinterpretation.\n",
      "  FutureWarning\n"
     ]
    },
    {
     "data": {
      "text/plain": [
       "<matplotlib.axes._subplots.AxesSubplot at 0x2702316f748>"
      ]
     },
     "execution_count": 7,
     "metadata": {},
     "output_type": "execute_result"
    },
    {
     "data": {
      "image/png": "[encoded data removed]",
      "text/plain": [
       "<Figure size 432x288 with 1 Axes>"
      ]
     },
     "metadata": {
      "needs_background": "light"
     },
     "output_type": "display_data"
    }
   ],
   "source": [
    "sns.countplot(df['bedrooms'])"
   ]
  },
  {
   "cell_type": "code",
   "execution_count": 8,
   "metadata": {},
   "outputs": [
    {
     "data": {
      "text/plain": [
       "<matplotlib.axes._subplots.AxesSubplot at 0x2702325f390>"
      ]
     },
     "execution_count": 8,
     "metadata": {},
     "output_type": "execute_result"
    },
    {
     "data": {
      "image/png": "[encoded data removed]",
      "text/plain": [
       "<Figure size 432x288 with 1 Axes>"
      ]
     },
     "metadata": {
      "needs_background": "light"
     },
     "output_type": "display_data"
    }
   ],
   "source": [
    "sns.scatterplot(x='price', y='sqft_living', data=df)"
   ]
  },
  {
   "cell_type": "code",
   "execution_count": 9,
   "metadata": {},
   "outputs": [
    {
     "data": {
      "text/plain": [
       "<matplotlib.axes._subplots.AxesSubplot at 0x2702323f518>"
      ]
     },
     "execution_count": 9,
     "metadata": {},
     "output_type": "execute_result"
    },
    {
     "data": {
      "image/png": "[encoded data removed]",
      "text/plain": [
       "<Figure size 432x288 with 1 Axes>"
      ]
     },
     "metadata": {
      "needs_background": "light"
     },
     "output_type": "display_data"
    }
   ],
   "source": [
    "sns.scatterplot(x='long', y='price', data=df)"
   ]
  },
  {
   "cell_type": "code",
   "execution_count": 10,
   "metadata": {},
   "outputs": [
    {
     "data": {
      "text/plain": [
       "<matplotlib.axes._subplots.AxesSubplot at 0x27023355470>"
      ]
     },
     "execution_count": 10,
     "metadata": {},
     "output_type": "execute_result"
    },
    {
     "data": {
      "image/png": "[encoded data removed]",
      "text/plain": [
       "<Figure size 432x288 with 1 Axes>"
      ]
     },
     "metadata": {
      "needs_background": "light"
     },
     "output_type": "display_data"
    }
   ],
   "source": [
    "sns.scatterplot(x='lat', y='price', data=df)"
   ]
  },
  {
   "cell_type": "code",
   "execution_count": 11,
   "metadata": {},
   "outputs": [
    {
     "data": {
      "text/plain": [
       "<matplotlib.axes._subplots.AxesSubplot at 0x2707fdce7b8>"
      ]
     },
     "execution_count": 11,
     "metadata": {},
     "output_type": "execute_result"
    },
    {
     "data": {
      "image/png": "[encoded data removed]",
      "text/plain": [
       "<Figure size 432x288 with 1 Axes>"
      ]
     },
     "metadata": {
      "needs_background": "light"
     },
     "output_type": "display_data"
    }
   ],
   "source": [
    "sns.scatterplot(x='lat', y='long', data=df, hue='price')"
   ]
  },
  {
   "cell_type": "code",
   "execution_count": 12,
   "metadata": {},
   "outputs": [
    {
     "data": {
      "text/plain": [
       "<matplotlib.axes._subplots.AxesSubplot at 0x270256a9b38>"
      ]
     },
     "execution_count": 12,
     "metadata": {},
     "output_type": "execute_result"
    },
    {
     "data": {
      "image/png": "[encoded data removed]",
      "text/plain": [
       "<Figure size 432x288 with 1 Axes>"
      ]
     },
     "metadata": {
      "needs_background": "light"
     },
     "output_type": "display_data"
    }
   ],
   "source": [
    "sns.boxplot(x='waterfront', y='price', data=df)"
   ]
  },
  {
   "cell_type": "markdown",
   "metadata": {},
   "source": [
    "### Prepare the Data"
   ]
  },
  {
   "cell_type": "code",
   "execution_count": 13,
   "metadata": {},
   "outputs": [
    {
     "data": {
      "text/html": [
       "<div>\n",
       "<style scoped>\n",
       "    .dataframe tbody tr th:only-of-type {\n",
       "        vertical-align: middle;\n",
       "    }\n",
       "\n",
       "    .dataframe tbody tr th {\n",
       "        vertical-align: top;\n",
       "    }\n",
       "\n",
       "    .dataframe thead th {\n",
       "        text-align: right;\n",
       "    }\n",
       "</style>\n",
       "<table border=\"1\" class=\"dataframe\">\n",
       "  <thead>\n",
       "    <tr style=\"text-align: right;\">\n",
       "      <th></th>\n",
       "      <th>id</th>\n",
       "      <th>date</th>\n",
       "      <th>price</th>\n",
       "      <th>bedrooms</th>\n",
       "      <th>bathrooms</th>\n",
       "      <th>sqft_living</th>\n",
       "      <th>sqft_lot</th>\n",
       "      <th>floors</th>\n",
       "      <th>waterfront</th>\n",
       "      <th>view</th>\n",
       "      <th>...</th>\n",
       "      <th>grade</th>\n",
       "      <th>sqft_above</th>\n",
       "      <th>sqft_basement</th>\n",
       "      <th>yr_built</th>\n",
       "      <th>yr_renovated</th>\n",
       "      <th>zipcode</th>\n",
       "      <th>lat</th>\n",
       "      <th>long</th>\n",
       "      <th>sqft_living15</th>\n",
       "      <th>sqft_lot15</th>\n",
       "    </tr>\n",
       "  </thead>\n",
       "  <tbody>\n",
       "    <tr>\n",
       "      <th>0</th>\n",
       "      <td>7129300520</td>\n",
       "      <td>10/13/2014</td>\n",
       "      <td>221900.0</td>\n",
       "      <td>3</td>\n",
       "      <td>1.00</td>\n",
       "      <td>1180</td>\n",
       "      <td>5650</td>\n",
       "      <td>1.0</td>\n",
       "      <td>0</td>\n",
       "      <td>0</td>\n",
       "      <td>...</td>\n",
       "      <td>7</td>\n",
       "      <td>1180</td>\n",
       "      <td>0</td>\n",
       "      <td>1955</td>\n",
       "      <td>0</td>\n",
       "      <td>98178</td>\n",
       "      <td>47.5112</td>\n",
       "      <td>-122.257</td>\n",
       "      <td>1340</td>\n",
       "      <td>5650</td>\n",
       "    </tr>\n",
       "    <tr>\n",
       "      <th>1</th>\n",
       "      <td>6414100192</td>\n",
       "      <td>12/9/2014</td>\n",
       "      <td>538000.0</td>\n",
       "      <td>3</td>\n",
       "      <td>2.25</td>\n",
       "      <td>2570</td>\n",
       "      <td>7242</td>\n",
       "      <td>2.0</td>\n",
       "      <td>0</td>\n",
       "      <td>0</td>\n",
       "      <td>...</td>\n",
       "      <td>7</td>\n",
       "      <td>2170</td>\n",
       "      <td>400</td>\n",
       "      <td>1951</td>\n",
       "      <td>1991</td>\n",
       "      <td>98125</td>\n",
       "      <td>47.7210</td>\n",
       "      <td>-122.319</td>\n",
       "      <td>1690</td>\n",
       "      <td>7639</td>\n",
       "    </tr>\n",
       "    <tr>\n",
       "      <th>2</th>\n",
       "      <td>5631500400</td>\n",
       "      <td>2/25/2015</td>\n",
       "      <td>180000.0</td>\n",
       "      <td>2</td>\n",
       "      <td>1.00</td>\n",
       "      <td>770</td>\n",
       "      <td>10000</td>\n",
       "      <td>1.0</td>\n",
       "      <td>0</td>\n",
       "      <td>0</td>\n",
       "      <td>...</td>\n",
       "      <td>6</td>\n",
       "      <td>770</td>\n",
       "      <td>0</td>\n",
       "      <td>1933</td>\n",
       "      <td>0</td>\n",
       "      <td>98028</td>\n",
       "      <td>47.7379</td>\n",
       "      <td>-122.233</td>\n",
       "      <td>2720</td>\n",
       "      <td>8062</td>\n",
       "    </tr>\n",
       "    <tr>\n",
       "      <th>3</th>\n",
       "      <td>2487200875</td>\n",
       "      <td>12/9/2014</td>\n",
       "      <td>604000.0</td>\n",
       "      <td>4</td>\n",
       "      <td>3.00</td>\n",
       "      <td>1960</td>\n",
       "      <td>5000</td>\n",
       "      <td>1.0</td>\n",
       "      <td>0</td>\n",
       "      <td>0</td>\n",
       "      <td>...</td>\n",
       "      <td>7</td>\n",
       "      <td>1050</td>\n",
       "      <td>910</td>\n",
       "      <td>1965</td>\n",
       "      <td>0</td>\n",
       "      <td>98136</td>\n",
       "      <td>47.5208</td>\n",
       "      <td>-122.393</td>\n",
       "      <td>1360</td>\n",
       "      <td>5000</td>\n",
       "    </tr>\n",
       "    <tr>\n",
       "      <th>4</th>\n",
       "      <td>1954400510</td>\n",
       "      <td>2/18/2015</td>\n",
       "      <td>510000.0</td>\n",
       "      <td>3</td>\n",
       "      <td>2.00</td>\n",
       "      <td>1680</td>\n",
       "      <td>8080</td>\n",
       "      <td>1.0</td>\n",
       "      <td>0</td>\n",
       "      <td>0</td>\n",
       "      <td>...</td>\n",
       "      <td>8</td>\n",
       "      <td>1680</td>\n",
       "      <td>0</td>\n",
       "      <td>1987</td>\n",
       "      <td>0</td>\n",
       "      <td>98074</td>\n",
       "      <td>47.6168</td>\n",
       "      <td>-122.045</td>\n",
       "      <td>1800</td>\n",
       "      <td>7503</td>\n",
       "    </tr>\n",
       "  </tbody>\n",
       "</table>\n",
       "<p>5 rows × 21 columns</p>\n",
       "</div>"
      ],
      "text/plain": [
       "           id        date     price  bedrooms  bathrooms  sqft_living  \\\n",
       "0  7129300520  10/13/2014  221900.0         3       1.00         1180   \n",
       "1  6414100192   12/9/2014  538000.0         3       2.25         2570   \n",
       "2  5631500400   2/25/2015  180000.0         2       1.00          770   \n",
       "3  2487200875   12/9/2014  604000.0         4       3.00         1960   \n",
       "4  1954400510   2/18/2015  510000.0         3       2.00         1680   \n",
       "\n",
       "   sqft_lot  floors  waterfront  view  ...  grade  sqft_above  sqft_basement  \\\n",
       "0      5650     1.0           0     0  ...      7        1180              0   \n",
       "1      7242     2.0           0     0  ...      7        2170            400   \n",
       "2     10000     1.0           0     0  ...      6         770              0   \n",
       "3      5000     1.0           0     0  ...      7        1050            910   \n",
       "4      8080     1.0           0     0  ...      8        1680              0   \n",
       "\n",
       "   yr_built  yr_renovated  zipcode      lat     long  sqft_living15  \\\n",
       "0      1955             0    98178  47.5112 -122.257           1340   \n",
       "1      1951          1991    98125  47.7210 -122.319           1690   \n",
       "2      1933             0    98028  47.7379 -122.233           2720   \n",
       "3      1965             0    98136  47.5208 -122.393           1360   \n",
       "4      1987             0    98074  47.6168 -122.045           1800   \n",
       "\n",
       "   sqft_lot15  \n",
       "0        5650  \n",
       "1        7639  \n",
       "2        8062  \n",
       "3        5000  \n",
       "4        7503  \n",
       "\n",
       "[5 rows x 21 columns]"
      ]
     },
     "execution_count": 13,
     "metadata": {},
     "output_type": "execute_result"
    }
   ],
   "source": [
    "df.head()"
   ]
  },
  {
   "cell_type": "code",
   "execution_count": 14,
   "metadata": {},
   "outputs": [],
   "source": [
    "df = df.drop('id', axis=1)"
   ]
  },
  {
   "cell_type": "code",
   "execution_count": 15,
   "metadata": {},
   "outputs": [],
   "source": [
    "df['date'] = pd.to_datetime(df['date'])"
   ]
  },
  {
   "cell_type": "code",
   "execution_count": 16,
   "metadata": {},
   "outputs": [],
   "source": [
    "df['month'] = df['date'].apply(lambda d : d.month)\n",
    "df['year'] = df['date'].apply(lambda d : d.year)"
   ]
  },
  {
   "cell_type": "code",
   "execution_count": 17,
   "metadata": {},
   "outputs": [
    {
     "data": {
      "text/plain": [
       "<matplotlib.axes._subplots.AxesSubplot at 0x27025755a20>"
      ]
     },
     "execution_count": 17,
     "metadata": {},
     "output_type": "execute_result"
    },
    {
     "data": {
      "image/png": "[encoded data removed]",
      "text/plain": [
       "<Figure size 432x288 with 1 Axes>"
      ]
     },
     "metadata": {
      "needs_background": "light"
     },
     "output_type": "display_data"
    }
   ],
   "source": [
    "df.groupby('month').mean()['price'].plot()"
   ]
  },
  {
   "cell_type": "code",
   "execution_count": 18,
   "metadata": {},
   "outputs": [
    {
     "data": {
      "text/plain": [
       "<matplotlib.axes._subplots.AxesSubplot at 0x270257c6668>"
      ]
     },
     "execution_count": 18,
     "metadata": {},
     "output_type": "execute_result"
    },
    {
     "data": {
      "image/png": "[encoded data removed]",
      "text/plain": [
       "<Figure size 432x288 with 1 Axes>"
      ]
     },
     "metadata": {
      "needs_background": "light"
     },
     "output_type": "display_data"
    }
   ],
   "source": [
    "df.groupby('year').mean()['price'].plot()"
   ]
  },
  {
   "cell_type": "code",
   "execution_count": 19,
   "metadata": {},
   "outputs": [],
   "source": [
    "df = df.drop('date',axis=1)"
   ]
  },
  {
   "cell_type": "markdown",
   "metadata": {},
   "source": [
    "### Training"
   ]
  },
  {
   "cell_type": "code",
   "execution_count": 24,
   "metadata": {},
   "outputs": [],
   "source": [
    "from tensorflow.keras.models import Sequential\n",
    "from tensorflow.keras.layers import Dense, Activation\n",
    "from tensorflow.keras.optimizers import Adam"
   ]
  },
  {
   "cell_type": "code",
   "execution_count": 20,
   "metadata": {},
   "outputs": [],
   "source": [
    "X = df.drop('price',axis=1)\n",
    "y = df['price']"
   ]
  },
  {
   "cell_type": "code",
   "execution_count": 25,
   "metadata": {},
   "outputs": [],
   "source": [
    "from sklearn.model_selection import train_test_split\n",
    "X_train, X_test, y_train, y_test = train_test_split(X,y,test_size=0.3,random_state=101)"
   ]
  },
  {
   "cell_type": "markdown",
   "metadata": {},
   "source": [
    "### Scaling"
   ]
  },
  {
   "cell_type": "code",
   "execution_count": 26,
   "metadata": {},
   "outputs": [],
   "source": [
    "from sklearn.preprocessing import MinMaxScaler\n",
    "scaler = MinMaxScaler()\n",
    "X_train= scaler.fit_transform(X_train)\n",
    "X_test = scaler.transform(X_test)"
   ]
  },
  {
   "cell_type": "markdown",
   "metadata": {},
   "source": [
    "### Model Creation"
   ]
  },
  {
   "cell_type": "code",
   "execution_count": 27,
   "metadata": {},
   "outputs": [],
   "source": [
    "model = Sequential()\n",
    "\n",
    "model.add(Dense(19,activation='relu'))\n",
    "model.add(Dense(19,activation='relu'))\n",
    "model.add(Dense(19,activation='relu'))\n",
    "model.add(Dense(19,activation='relu'))\n",
    "model.add(Dense(1))\n",
    "\n",
    "model.compile(optimizer='adam',loss='mse')"
   ]
  },
  {
   "cell_type": "code",
   "execution_count": 28,
   "metadata": {},
   "outputs": [
    {
     "name": "stdout",
     "output_type": "stream",
     "text": [
      "Epoch 1/400\n",
      "119/119 [==============================] - 2s 5ms/step - loss: 430247411712.0000 - val_loss: 418954379264.0000\n",
      "Epoch 2/400\n",
      "119/119 [==============================] - 0s 3ms/step - loss: 429240352768.0000 - val_loss: 414933286912.0000\n",
      "Epoch 3/400\n",
      "119/119 [==============================] - 0s 3ms/step - loss: 409846513664.0000 - val_loss: 368020914176.0000\n",
      "Epoch 4/400\n",
      "119/119 [==============================] - 0s 3ms/step - loss: 307820593152.0000 - val_loss: 209484070912.0000\n",
      "Epoch 5/400\n",
      "119/119 [==============================] - 0s 3ms/step - loss: 145683791872.0000 - val_loss: 101772656640.0000\n",
      "Epoch 6/400\n",
      "119/119 [==============================] - 0s 3ms/step - loss: 102032621568.0000 - val_loss: 97458307072.0000\n",
      "Epoch 7/400\n",
      "119/119 [==============================] - 0s 3ms/step - loss: 99582820352.0000 - val_loss: 95627788288.0000\n",
      "Epoch 8/400\n",
      "119/119 [==============================] - 0s 3ms/step - loss: 97693417472.0000 - val_loss: 93801676800.0000\n",
      "Epoch 9/400\n",
      "119/119 [==============================] - 0s 3ms/step - loss: 95752462336.0000 - val_loss: 91938111488.0000\n",
      "Epoch 10/400\n",
      "119/119 [==============================] - 0s 3ms/step - loss: 93750648832.0000 - val_loss: 89938903040.0000\n",
      "Epoch 11/400\n",
      "119/119 [==============================] - 0s 3ms/step - loss: 91753857024.0000 - val_loss: 87947771904.0000\n",
      "Epoch 12/400\n",
      "119/119 [==============================] - 0s 3ms/step - loss: 89551929344.0000 - val_loss: 85802704896.0000\n",
      "Epoch 13/400\n",
      "119/119 [==============================] - 0s 3ms/step - loss: 87290159104.0000 - val_loss: 83683917824.0000\n",
      "Epoch 14/400\n",
      "119/119 [==============================] - 0s 3ms/step - loss: 84926660608.0000 - val_loss: 81202397184.0000\n",
      "Epoch 15/400\n",
      "119/119 [==============================] - 0s 3ms/step - loss: 82461736960.0000 - val_loss: 78725570560.0000\n",
      "Epoch 16/400\n",
      "119/119 [==============================] - 0s 4ms/step - loss: 79811895296.0000 - val_loss: 76150857728.0000\n",
      "Epoch 17/400\n",
      "119/119 [==============================] - 0s 4ms/step - loss: 77067476992.0000 - val_loss: 73390301184.0000\n",
      "Epoch 18/400\n",
      "119/119 [==============================] - 1s 5ms/step - loss: 74178428928.0000 - val_loss: 70516834304.0000\n",
      "Epoch 19/400\n",
      "119/119 [==============================] - 0s 3ms/step - loss: 71174316032.0000 - val_loss: 67621457920.0000\n",
      "Epoch 20/400\n",
      "119/119 [==============================] - 0s 4ms/step - loss: 68189523968.0000 - val_loss: 64718557184.0000\n",
      "Epoch 21/400\n",
      "119/119 [==============================] - 0s 3ms/step - loss: 65203867648.0000 - val_loss: 62009937920.0000\n",
      "Epoch 22/400\n",
      "119/119 [==============================] - 0s 3ms/step - loss: 62404370432.0000 - val_loss: 59273646080.0000\n",
      "Epoch 23/400\n",
      "119/119 [==============================] - 0s 3ms/step - loss: 59778772992.0000 - val_loss: 56850268160.0000\n",
      "Epoch 24/400\n",
      "119/119 [==============================] - 0s 3ms/step - loss: 57458208768.0000 - val_loss: 54788194304.0000\n",
      "Epoch 25/400\n",
      "119/119 [==============================] - 0s 3ms/step - loss: 55386497024.0000 - val_loss: 52906524672.0000\n",
      "Epoch 26/400\n",
      "119/119 [==============================] - 0s 3ms/step - loss: 53624655872.0000 - val_loss: 51402932224.0000\n",
      "Epoch 27/400\n",
      "119/119 [==============================] - 0s 3ms/step - loss: 52193546240.0000 - val_loss: 50162798592.0000\n",
      "Epoch 28/400\n",
      "119/119 [==============================] - 0s 3ms/step - loss: 50930229248.0000 - val_loss: 49066496000.0000\n",
      "Epoch 29/400\n",
      "119/119 [==============================] - 0s 3ms/step - loss: 49848705024.0000 - val_loss: 48070864896.0000\n",
      "Epoch 30/400\n",
      "119/119 [==============================] - 0s 3ms/step - loss: 48863666176.0000 - val_loss: 47202975744.0000\n",
      "Epoch 31/400\n",
      "119/119 [==============================] - 0s 3ms/step - loss: 48001249280.0000 - val_loss: 46478401536.0000\n",
      "Epoch 32/400\n",
      "119/119 [==============================] - 0s 3ms/step - loss: 47261114368.0000 - val_loss: 45680553984.0000\n",
      "Epoch 33/400\n",
      "119/119 [==============================] - 0s 3ms/step - loss: 46459973632.0000 - val_loss: 44983181312.0000\n",
      "Epoch 34/400\n",
      "119/119 [==============================] - 0s 3ms/step - loss: 45802262528.0000 - val_loss: 44352233472.0000\n",
      "Epoch 35/400\n",
      "119/119 [==============================] - 0s 3ms/step - loss: 45181816832.0000 - val_loss: 43782848512.0000\n",
      "Epoch 36/400\n",
      "119/119 [==============================] - 0s 3ms/step - loss: 44639154176.0000 - val_loss: 43249647616.0000\n",
      "Epoch 37/400\n",
      "119/119 [==============================] - 0s 3ms/step - loss: 44014112768.0000 - val_loss: 42848415744.0000\n",
      "Epoch 38/400\n",
      "119/119 [==============================] - 0s 3ms/step - loss: 43546984448.0000 - val_loss: 42208489472.0000\n",
      "Epoch 39/400\n",
      "119/119 [==============================] - 0s 3ms/step - loss: 43042648064.0000 - val_loss: 41725595648.0000\n",
      "Epoch 40/400\n",
      "119/119 [==============================] - 0s 4ms/step - loss: 42484842496.0000 - val_loss: 41277743104.0000\n",
      "Epoch 41/400\n",
      "119/119 [==============================] - 0s 3ms/step - loss: 42036092928.0000 - val_loss: 40792915968.0000\n",
      "Epoch 42/400\n",
      "119/119 [==============================] - 0s 3ms/step - loss: 41621008384.0000 - val_loss: 40414081024.0000\n",
      "Epoch 43/400\n",
      "119/119 [==============================] - 0s 3ms/step - loss: 41194991616.0000 - val_loss: 40035381248.0000\n",
      "Epoch 44/400\n",
      "119/119 [==============================] - 1s 4ms/step - loss: 40841658368.0000 - val_loss: 39704190976.0000\n",
      "Epoch 45/400\n",
      "119/119 [==============================] - 0s 3ms/step - loss: 40476221440.0000 - val_loss: 39387668480.0000\n",
      "Epoch 46/400\n",
      "119/119 [==============================] - 0s 3ms/step - loss: 40193028096.0000 - val_loss: 39052541952.0000\n",
      "Epoch 47/400\n",
      "119/119 [==============================] - 0s 4ms/step - loss: 39806402560.0000 - val_loss: 38736441344.0000\n",
      "Epoch 48/400\n",
      "119/119 [==============================] - 0s 3ms/step - loss: 39461609472.0000 - val_loss: 38408265728.0000\n",
      "Epoch 49/400\n",
      "119/119 [==============================] - 0s 4ms/step - loss: 39100940288.0000 - val_loss: 38065307648.0000\n",
      "Epoch 50/400\n",
      "119/119 [==============================] - 0s 3ms/step - loss: 38740258816.0000 - val_loss: 37700878336.0000\n",
      "Epoch 51/400\n",
      "119/119 [==============================] - 0s 3ms/step - loss: 38375661568.0000 - val_loss: 37474721792.0000\n",
      "Epoch 52/400\n",
      "119/119 [==============================] - 0s 3ms/step - loss: 38020894720.0000 - val_loss: 36958154752.0000\n",
      "Epoch 53/400\n",
      "119/119 [==============================] - 0s 3ms/step - loss: 37655310336.0000 - val_loss: 36635602944.0000\n",
      "Epoch 54/400\n",
      "119/119 [==============================] - 0s 3ms/step - loss: 37292138496.0000 - val_loss: 36380856320.0000\n",
      "Epoch 55/400\n",
      "119/119 [==============================] - 0s 3ms/step - loss: 37045862400.0000 - val_loss: 36028768256.0000\n",
      "Epoch 56/400\n",
      "119/119 [==============================] - 0s 3ms/step - loss: 36700844032.0000 - val_loss: 35826036736.0000\n",
      "Epoch 57/400\n",
      "119/119 [==============================] - 0s 4ms/step - loss: 36402536448.0000 - val_loss: 35539169280.0000\n",
      "Epoch 58/400\n",
      "119/119 [==============================] - 0s 4ms/step - loss: 36108402688.0000 - val_loss: 35357274112.0000\n",
      "Epoch 59/400\n",
      "119/119 [==============================] - 0s 3ms/step - loss: 35873742848.0000 - val_loss: 35060232192.0000\n",
      "Epoch 60/400\n",
      "119/119 [==============================] - 0s 4ms/step - loss: 35612696576.0000 - val_loss: 34831056896.0000\n",
      "Epoch 61/400\n",
      "119/119 [==============================] - 0s 4ms/step - loss: 35391619072.0000 - val_loss: 34695483392.0000\n",
      "Epoch 62/400\n",
      "119/119 [==============================] - 0s 3ms/step - loss: 35142995968.0000 - val_loss: 34322307072.0000\n",
      "Epoch 63/400\n",
      "119/119 [==============================] - 1s 4ms/step - loss: 34973356032.0000 - val_loss: 34213076992.0000\n",
      "Epoch 64/400\n",
      "119/119 [==============================] - 0s 4ms/step - loss: 34748690432.0000 - val_loss: 33954547712.0000\n",
      "Epoch 65/400\n",
      "119/119 [==============================] - 0s 3ms/step - loss: 34587815936.0000 - val_loss: 33791232000.0000\n",
      "Epoch 66/400\n",
      "119/119 [==============================] - 0s 3ms/step - loss: 34419458048.0000 - val_loss: 33612425216.0000\n",
      "Epoch 67/400\n",
      "119/119 [==============================] - 1s 4ms/step - loss: 34265202688.0000 - val_loss: 33488402432.0000\n",
      "Epoch 68/400\n"
     ]
    },
    {
     "name": "stdout",
     "output_type": "stream",
     "text": [
      "119/119 [==============================] - 0s 4ms/step - loss: 34108753920.0000 - val_loss: 33330823168.0000\n",
      "Epoch 69/400\n",
      "119/119 [==============================] - 0s 3ms/step - loss: 33974626304.0000 - val_loss: 33235001344.0000\n",
      "Epoch 70/400\n",
      "119/119 [==============================] - 0s 3ms/step - loss: 33843927040.0000 - val_loss: 33112190976.0000\n",
      "Epoch 71/400\n",
      "119/119 [==============================] - 0s 3ms/step - loss: 33699788800.0000 - val_loss: 33051047936.0000\n",
      "Epoch 72/400\n",
      "119/119 [==============================] - 0s 3ms/step - loss: 33599533056.0000 - val_loss: 32954646528.0000\n",
      "Epoch 73/400\n",
      "119/119 [==============================] - 0s 3ms/step - loss: 33550168064.0000 - val_loss: 32796770304.0000\n",
      "Epoch 74/400\n",
      "119/119 [==============================] - 0s 3ms/step - loss: 33385361408.0000 - val_loss: 32687104000.0000\n",
      "Epoch 75/400\n",
      "119/119 [==============================] - 0s 3ms/step - loss: 33230456832.0000 - val_loss: 32597690368.0000\n",
      "Epoch 76/400\n",
      "119/119 [==============================] - 0s 4ms/step - loss: 33178648576.0000 - val_loss: 32510255104.0000\n",
      "Epoch 77/400\n",
      "119/119 [==============================] - 0s 3ms/step - loss: 33106653184.0000 - val_loss: 32445392896.0000\n",
      "Epoch 78/400\n",
      "119/119 [==============================] - 0s 3ms/step - loss: 32993191936.0000 - val_loss: 32337649664.0000\n",
      "Epoch 79/400\n",
      "119/119 [==============================] - 0s 3ms/step - loss: 32915781632.0000 - val_loss: 32255047680.0000\n",
      "Epoch 80/400\n",
      "119/119 [==============================] - 0s 3ms/step - loss: 32777840640.0000 - val_loss: 32278470656.0000\n",
      "Epoch 81/400\n",
      "119/119 [==============================] - 0s 4ms/step - loss: 32749977600.0000 - val_loss: 32320202752.0000\n",
      "Epoch 82/400\n",
      "119/119 [==============================] - 0s 3ms/step - loss: 32634886144.0000 - val_loss: 32053161984.0000\n",
      "Epoch 83/400\n",
      "119/119 [==============================] - 0s 3ms/step - loss: 32548175872.0000 - val_loss: 32045432832.0000\n",
      "Epoch 84/400\n",
      "119/119 [==============================] - 0s 4ms/step - loss: 32502298624.0000 - val_loss: 31900329984.0000\n",
      "Epoch 85/400\n",
      "119/119 [==============================] - 0s 4ms/step - loss: 32397961216.0000 - val_loss: 31831101440.0000\n",
      "Epoch 86/400\n",
      "119/119 [==============================] - 0s 3ms/step - loss: 32301602816.0000 - val_loss: 31792216064.0000\n",
      "Epoch 87/400\n",
      "119/119 [==============================] - 0s 3ms/step - loss: 32236558336.0000 - val_loss: 31878922240.0000\n",
      "Epoch 88/400\n",
      "119/119 [==============================] - 0s 3ms/step - loss: 32164841472.0000 - val_loss: 31640182784.0000\n",
      "Epoch 89/400\n",
      "119/119 [==============================] - 0s 3ms/step - loss: 32099868672.0000 - val_loss: 31593627648.0000\n",
      "Epoch 90/400\n",
      "119/119 [==============================] - 0s 3ms/step - loss: 31995959296.0000 - val_loss: 31538419712.0000\n",
      "Epoch 91/400\n",
      "119/119 [==============================] - 0s 3ms/step - loss: 31926587392.0000 - val_loss: 31472228352.0000\n",
      "Epoch 92/400\n",
      "119/119 [==============================] - 0s 3ms/step - loss: 31868829696.0000 - val_loss: 31416590336.0000\n",
      "Epoch 93/400\n",
      "119/119 [==============================] - 0s 3ms/step - loss: 31846584320.0000 - val_loss: 31366817792.0000\n",
      "Epoch 94/400\n",
      "119/119 [==============================] - 0s 3ms/step - loss: 31758374912.0000 - val_loss: 31285424128.0000\n",
      "Epoch 95/400\n",
      "119/119 [==============================] - 0s 3ms/step - loss: 31675027456.0000 - val_loss: 31277051904.0000\n",
      "Epoch 96/400\n",
      "119/119 [==============================] - 0s 3ms/step - loss: 31603210240.0000 - val_loss: 31325700096.0000\n",
      "Epoch 97/400\n",
      "119/119 [==============================] - 0s 3ms/step - loss: 31569418240.0000 - val_loss: 31144325120.0000\n",
      "Epoch 98/400\n",
      "119/119 [==============================] - 0s 3ms/step - loss: 31525410816.0000 - val_loss: 31253819392.0000\n",
      "Epoch 99/400\n",
      "119/119 [==============================] - 0s 3ms/step - loss: 31442589696.0000 - val_loss: 31003527168.0000\n",
      "Epoch 100/400\n",
      "119/119 [==============================] - 0s 3ms/step - loss: 31409991680.0000 - val_loss: 31143786496.0000\n",
      "Epoch 101/400\n",
      "119/119 [==============================] - 0s 4ms/step - loss: 31350519808.0000 - val_loss: 31062841344.0000\n",
      "Epoch 102/400\n",
      "119/119 [==============================] - 0s 4ms/step - loss: 31317256192.0000 - val_loss: 30879524864.0000\n",
      "Epoch 103/400\n",
      "119/119 [==============================] - 0s 4ms/step - loss: 31184619520.0000 - val_loss: 31102861312.0000\n",
      "Epoch 104/400\n",
      "119/119 [==============================] - 0s 3ms/step - loss: 31168800768.0000 - val_loss: 30790025216.0000\n",
      "Epoch 105/400\n",
      "119/119 [==============================] - 0s 3ms/step - loss: 31112542208.0000 - val_loss: 30707036160.0000\n",
      "Epoch 106/400\n",
      "119/119 [==============================] - 0s 3ms/step - loss: 31077597184.0000 - val_loss: 30673897472.0000\n",
      "Epoch 107/400\n",
      "119/119 [==============================] - 0s 3ms/step - loss: 31068811264.0000 - val_loss: 30724968448.0000\n",
      "Epoch 108/400\n",
      "119/119 [==============================] - 0s 3ms/step - loss: 30925113344.0000 - val_loss: 30537381888.0000\n",
      "Epoch 109/400\n",
      "119/119 [==============================] - 0s 3ms/step - loss: 30922868736.0000 - val_loss: 30566666240.0000\n",
      "Epoch 110/400\n",
      "119/119 [==============================] - 0s 3ms/step - loss: 30845392896.0000 - val_loss: 30487533568.0000\n",
      "Epoch 111/400\n",
      "119/119 [==============================] - 0s 3ms/step - loss: 30875416576.0000 - val_loss: 30431285248.0000\n",
      "Epoch 112/400\n",
      "119/119 [==============================] - 0s 3ms/step - loss: 30751371264.0000 - val_loss: 30455851008.0000\n",
      "Epoch 113/400\n",
      "119/119 [==============================] - 0s 3ms/step - loss: 30681810944.0000 - val_loss: 30421012480.0000\n",
      "Epoch 114/400\n",
      "119/119 [==============================] - 0s 3ms/step - loss: 30656325632.0000 - val_loss: 30389518336.0000\n",
      "Epoch 115/400\n",
      "119/119 [==============================] - 0s 3ms/step - loss: 30633510912.0000 - val_loss: 30352087040.0000\n",
      "Epoch 116/400\n",
      "119/119 [==============================] - 0s 3ms/step - loss: 30549757952.0000 - val_loss: 30208055296.0000\n",
      "Epoch 117/400\n",
      "119/119 [==============================] - 0s 3ms/step - loss: 30510151680.0000 - val_loss: 30182518784.0000\n",
      "Epoch 118/400\n",
      "119/119 [==============================] - 0s 3ms/step - loss: 30510094336.0000 - val_loss: 30230052864.0000\n",
      "Epoch 119/400\n",
      "119/119 [==============================] - 0s 3ms/step - loss: 30429341696.0000 - val_loss: 30082244608.0000\n",
      "Epoch 120/400\n",
      "119/119 [==============================] - 0s 3ms/step - loss: 30373734400.0000 - val_loss: 30045845504.0000\n",
      "Epoch 121/400\n",
      "119/119 [==============================] - 0s 3ms/step - loss: 30315315200.0000 - val_loss: 30038712320.0000\n",
      "Epoch 122/400\n",
      "119/119 [==============================] - 0s 3ms/step - loss: 30284365824.0000 - val_loss: 29965166592.0000\n",
      "Epoch 123/400\n",
      "119/119 [==============================] - 0s 3ms/step - loss: 30237743104.0000 - val_loss: 29898364928.0000\n",
      "Epoch 124/400\n",
      "119/119 [==============================] - 0s 3ms/step - loss: 30163906560.0000 - val_loss: 29880952832.0000\n",
      "Epoch 125/400\n",
      "119/119 [==============================] - 0s 3ms/step - loss: 30155298816.0000 - val_loss: 29893224448.0000\n",
      "Epoch 126/400\n",
      "119/119 [==============================] - 0s 3ms/step - loss: 30077724672.0000 - val_loss: 29816002560.0000\n",
      "Epoch 127/400\n",
      "119/119 [==============================] - 0s 3ms/step - loss: 30054414336.0000 - val_loss: 29885399040.0000\n",
      "Epoch 128/400\n",
      "119/119 [==============================] - 0s 3ms/step - loss: 30031190016.0000 - val_loss: 29703364608.0000\n",
      "Epoch 129/400\n",
      "119/119 [==============================] - 0s 4ms/step - loss: 29993353216.0000 - val_loss: 29674397696.0000\n",
      "Epoch 130/400\n",
      "119/119 [==============================] - 0s 3ms/step - loss: 29940307968.0000 - val_loss: 29688365056.0000\n",
      "Epoch 131/400\n",
      "119/119 [==============================] - 0s 3ms/step - loss: 29916815360.0000 - val_loss: 29950406656.0000\n",
      "Epoch 132/400\n",
      "119/119 [==============================] - 0s 4ms/step - loss: 29867583488.0000 - val_loss: 29573009408.0000\n",
      "Epoch 133/400\n",
      "119/119 [==============================] - 0s 3ms/step - loss: 29817255936.0000 - val_loss: 29690167296.0000\n",
      "Epoch 134/400\n",
      "119/119 [==============================] - 0s 3ms/step - loss: 29799696384.0000 - val_loss: 29543802880.0000\n"
     ]
    },
    {
     "name": "stdout",
     "output_type": "stream",
     "text": [
      "Epoch 135/400\n",
      "119/119 [==============================] - 0s 3ms/step - loss: 29757450240.0000 - val_loss: 29397354496.0000\n",
      "Epoch 136/400\n",
      "119/119 [==============================] - 0s 3ms/step - loss: 29763592192.0000 - val_loss: 29385351168.0000\n",
      "Epoch 137/400\n",
      "119/119 [==============================] - 0s 3ms/step - loss: 29682018304.0000 - val_loss: 29392603136.0000\n",
      "Epoch 138/400\n",
      "119/119 [==============================] - 0s 3ms/step - loss: 29693798400.0000 - val_loss: 29408741376.0000\n",
      "Epoch 139/400\n",
      "119/119 [==============================] - 0s 3ms/step - loss: 29643419648.0000 - val_loss: 29344235520.0000\n",
      "Epoch 140/400\n",
      "119/119 [==============================] - 0s 3ms/step - loss: 29652051968.0000 - val_loss: 29485088768.0000\n",
      "Epoch 141/400\n",
      "119/119 [==============================] - 0s 3ms/step - loss: 29567574016.0000 - val_loss: 29450508288.0000\n",
      "Epoch 142/400\n",
      "119/119 [==============================] - 0s 3ms/step - loss: 29575784448.0000 - val_loss: 29266343936.0000\n",
      "Epoch 143/400\n",
      "119/119 [==============================] - 0s 3ms/step - loss: 29511053312.0000 - val_loss: 29209513984.0000\n",
      "Epoch 144/400\n",
      "119/119 [==============================] - 0s 3ms/step - loss: 29535774720.0000 - val_loss: 29145913344.0000\n",
      "Epoch 145/400\n",
      "119/119 [==============================] - 0s 3ms/step - loss: 29466165248.0000 - val_loss: 29139189760.0000\n",
      "Epoch 146/400\n",
      "119/119 [==============================] - 0s 3ms/step - loss: 29412003840.0000 - val_loss: 29207183360.0000\n",
      "Epoch 147/400\n",
      "119/119 [==============================] - 0s 3ms/step - loss: 29385580544.0000 - val_loss: 29130035200.0000\n",
      "Epoch 148/400\n",
      "119/119 [==============================] - 0s 3ms/step - loss: 29365682176.0000 - val_loss: 29122359296.0000\n",
      "Epoch 149/400\n",
      "119/119 [==============================] - 0s 3ms/step - loss: 29337655296.0000 - val_loss: 29168349184.0000\n",
      "Epoch 150/400\n",
      "119/119 [==============================] - 0s 3ms/step - loss: 29299036160.0000 - val_loss: 29099671552.0000\n",
      "Epoch 151/400\n",
      "119/119 [==============================] - 0s 3ms/step - loss: 29253955584.0000 - val_loss: 28995936256.0000\n",
      "Epoch 152/400\n",
      "119/119 [==============================] - 0s 3ms/step - loss: 29267185664.0000 - val_loss: 28944314368.0000\n",
      "Epoch 153/400\n",
      "119/119 [==============================] - 0s 3ms/step - loss: 29194459136.0000 - val_loss: 28976494592.0000\n",
      "Epoch 154/400\n",
      "119/119 [==============================] - 0s 3ms/step - loss: 29147330560.0000 - val_loss: 28919164928.0000\n",
      "Epoch 155/400\n",
      "119/119 [==============================] - 0s 3ms/step - loss: 29139662848.0000 - val_loss: 28902731776.0000\n",
      "Epoch 156/400\n",
      "119/119 [==============================] - 0s 3ms/step - loss: 29142335488.0000 - val_loss: 28837908480.0000\n",
      "Epoch 157/400\n",
      "119/119 [==============================] - 0s 3ms/step - loss: 29093488640.0000 - val_loss: 28825634816.0000\n",
      "Epoch 158/400\n",
      "119/119 [==============================] - 0s 3ms/step - loss: 29090822144.0000 - val_loss: 28823068672.0000\n",
      "Epoch 159/400\n",
      "119/119 [==============================] - 0s 3ms/step - loss: 29125130240.0000 - val_loss: 28786280448.0000\n",
      "Epoch 160/400\n",
      "119/119 [==============================] - 0s 3ms/step - loss: 29050890240.0000 - val_loss: 28780171264.0000\n",
      "Epoch 161/400\n",
      "119/119 [==============================] - 0s 3ms/step - loss: 29013010432.0000 - val_loss: 28711159808.0000\n",
      "Epoch 162/400\n",
      "119/119 [==============================] - 0s 3ms/step - loss: 28946124800.0000 - val_loss: 28802445312.0000\n",
      "Epoch 163/400\n",
      "119/119 [==============================] - 0s 3ms/step - loss: 28913276928.0000 - val_loss: 28716634112.0000\n",
      "Epoch 164/400\n",
      "119/119 [==============================] - 0s 3ms/step - loss: 28897378304.0000 - val_loss: 28712755200.0000\n",
      "Epoch 165/400\n",
      "119/119 [==============================] - 0s 3ms/step - loss: 28888936448.0000 - val_loss: 28716333056.0000\n",
      "Epoch 166/400\n",
      "119/119 [==============================] - 0s 3ms/step - loss: 28846825472.0000 - val_loss: 28769165312.0000\n",
      "Epoch 167/400\n",
      "119/119 [==============================] - 0s 3ms/step - loss: 28844800000.0000 - val_loss: 28847351808.0000\n",
      "Epoch 168/400\n",
      "119/119 [==============================] - 0s 3ms/step - loss: 28793968640.0000 - val_loss: 28660504576.0000\n",
      "Epoch 169/400\n",
      "119/119 [==============================] - 0s 3ms/step - loss: 28770445312.0000 - val_loss: 28727236608.0000\n",
      "Epoch 170/400\n",
      "119/119 [==============================] - 0s 3ms/step - loss: 28746596352.0000 - val_loss: 28675633152.0000\n",
      "Epoch 171/400\n",
      "119/119 [==============================] - 0s 4ms/step - loss: 28710356992.0000 - val_loss: 28657383424.0000\n",
      "Epoch 172/400\n",
      "119/119 [==============================] - 1s 4ms/step - loss: 28705955840.0000 - val_loss: 28719054848.0000\n",
      "Epoch 173/400\n",
      "119/119 [==============================] - 0s 4ms/step - loss: 28682164224.0000 - val_loss: 28722231296.0000\n",
      "Epoch 174/400\n",
      "119/119 [==============================] - 1s 4ms/step - loss: 28667222016.0000 - val_loss: 28525600768.0000\n",
      "Epoch 175/400\n",
      "119/119 [==============================] - 0s 3ms/step - loss: 28615337984.0000 - val_loss: 28516005888.0000\n",
      "Epoch 176/400\n",
      "119/119 [==============================] - 0s 4ms/step - loss: 28606334976.0000 - val_loss: 28500324352.0000\n",
      "Epoch 177/400\n",
      "119/119 [==============================] - 0s 3ms/step - loss: 28613691392.0000 - val_loss: 28426805248.0000\n",
      "Epoch 178/400\n",
      "119/119 [==============================] - 0s 3ms/step - loss: 28594698240.0000 - val_loss: 28615931904.0000\n",
      "Epoch 179/400\n",
      "119/119 [==============================] - 0s 3ms/step - loss: 28535662592.0000 - val_loss: 28569929728.0000\n",
      "Epoch 180/400\n",
      "119/119 [==============================] - 0s 3ms/step - loss: 28536684544.0000 - val_loss: 28421474304.0000\n",
      "Epoch 181/400\n",
      "119/119 [==============================] - 0s 3ms/step - loss: 28508575744.0000 - val_loss: 28598695936.0000\n",
      "Epoch 182/400\n",
      "119/119 [==============================] - 0s 3ms/step - loss: 28462161920.0000 - val_loss: 28489371648.0000\n",
      "Epoch 183/400\n",
      "119/119 [==============================] - 0s 3ms/step - loss: 28449208320.0000 - val_loss: 28516868096.0000\n",
      "Epoch 184/400\n",
      "119/119 [==============================] - 0s 3ms/step - loss: 28451141632.0000 - val_loss: 28311580672.0000\n",
      "Epoch 185/400\n",
      "119/119 [==============================] - 0s 3ms/step - loss: 28390832128.0000 - val_loss: 28290635776.0000\n",
      "Epoch 186/400\n",
      "119/119 [==============================] - 0s 3ms/step - loss: 28390496256.0000 - val_loss: 28388077568.0000\n",
      "Epoch 187/400\n",
      "119/119 [==============================] - 0s 4ms/step - loss: 28349984768.0000 - val_loss: 28234428416.0000\n",
      "Epoch 188/400\n",
      "119/119 [==============================] - 0s 3ms/step - loss: 28345858048.0000 - val_loss: 28584062976.0000\n",
      "Epoch 189/400\n",
      "119/119 [==============================] - 0s 3ms/step - loss: 28368125952.0000 - val_loss: 28300220416.0000\n",
      "Epoch 190/400\n",
      "119/119 [==============================] - 0s 3ms/step - loss: 28311920640.0000 - val_loss: 28252200960.0000\n",
      "Epoch 191/400\n",
      "119/119 [==============================] - 0s 3ms/step - loss: 28293978112.0000 - val_loss: 28539860992.0000\n",
      "Epoch 192/400\n",
      "119/119 [==============================] - 0s 4ms/step - loss: 28325033984.0000 - val_loss: 28209856512.0000\n",
      "Epoch 193/400\n",
      "119/119 [==============================] - 0s 4ms/step - loss: 28266985472.0000 - val_loss: 28125378560.0000\n",
      "Epoch 194/400\n",
      "119/119 [==============================] - 0s 3ms/step - loss: 28248696832.0000 - val_loss: 28087365632.0000\n",
      "Epoch 195/400\n",
      "119/119 [==============================] - 0s 4ms/step - loss: 28186296320.0000 - val_loss: 28193546240.0000\n",
      "Epoch 196/400\n",
      "119/119 [==============================] - 0s 3ms/step - loss: 28210884608.0000 - val_loss: 28125589504.0000\n",
      "Epoch 197/400\n",
      "119/119 [==============================] - 0s 3ms/step - loss: 28159195136.0000 - val_loss: 28030101504.0000\n",
      "Epoch 198/400\n",
      "119/119 [==============================] - 0s 4ms/step - loss: 28143730688.0000 - val_loss: 28056229888.0000\n",
      "Epoch 199/400\n",
      "119/119 [==============================] - 0s 3ms/step - loss: 28119371776.0000 - val_loss: 28091330560.0000\n",
      "Epoch 200/400\n",
      "119/119 [==============================] - 0s 3ms/step - loss: 28106766336.0000 - val_loss: 28148353024.0000\n",
      "Epoch 201/400\n"
     ]
    },
    {
     "name": "stdout",
     "output_type": "stream",
     "text": [
      "119/119 [==============================] - 0s 3ms/step - loss: 28088584192.0000 - val_loss: 27988647936.0000\n",
      "Epoch 202/400\n",
      "119/119 [==============================] - 0s 4ms/step - loss: 28057659392.0000 - val_loss: 27944865792.0000\n",
      "Epoch 203/400\n",
      "119/119 [==============================] - 0s 3ms/step - loss: 28057606144.0000 - val_loss: 27994351616.0000\n",
      "Epoch 204/400\n",
      "119/119 [==============================] - 0s 3ms/step - loss: 28030777344.0000 - val_loss: 27922900992.0000\n",
      "Epoch 205/400\n",
      "119/119 [==============================] - 0s 3ms/step - loss: 28017387520.0000 - val_loss: 28074991616.0000\n",
      "Epoch 206/400\n",
      "119/119 [==============================] - 0s 3ms/step - loss: 28039118848.0000 - val_loss: 28105492480.0000\n",
      "Epoch 207/400\n",
      "119/119 [==============================] - 0s 3ms/step - loss: 27955472384.0000 - val_loss: 28389332992.0000\n",
      "Epoch 208/400\n",
      "119/119 [==============================] - 0s 3ms/step - loss: 27958048768.0000 - val_loss: 27914297344.0000\n",
      "Epoch 209/400\n",
      "119/119 [==============================] - 0s 3ms/step - loss: 27943325696.0000 - val_loss: 27975790592.0000\n",
      "Epoch 210/400\n",
      "119/119 [==============================] - 0s 3ms/step - loss: 27938949120.0000 - val_loss: 27846977536.0000\n",
      "Epoch 211/400\n",
      "119/119 [==============================] - 0s 3ms/step - loss: 27942481920.0000 - val_loss: 27886233600.0000\n",
      "Epoch 212/400\n",
      "119/119 [==============================] - 0s 3ms/step - loss: 27865958400.0000 - val_loss: 27821701120.0000\n",
      "Epoch 213/400\n",
      "119/119 [==============================] - 0s 3ms/step - loss: 27868424192.0000 - val_loss: 27894923264.0000\n",
      "Epoch 214/400\n",
      "119/119 [==============================] - 0s 3ms/step - loss: 27832418304.0000 - val_loss: 27802628096.0000\n",
      "Epoch 215/400\n",
      "119/119 [==============================] - 0s 3ms/step - loss: 27861628928.0000 - val_loss: 27785703424.0000\n",
      "Epoch 216/400\n",
      "119/119 [==============================] - 0s 4ms/step - loss: 27833690112.0000 - val_loss: 28094910464.0000\n",
      "Epoch 217/400\n",
      "119/119 [==============================] - 0s 4ms/step - loss: 27814344704.0000 - val_loss: 27778924544.0000\n",
      "Epoch 218/400\n",
      "119/119 [==============================] - 0s 4ms/step - loss: 27773632512.0000 - val_loss: 27691354112.0000\n",
      "Epoch 219/400\n",
      "119/119 [==============================] - 0s 4ms/step - loss: 27756187648.0000 - val_loss: 27852060672.0000\n",
      "Epoch 220/400\n",
      "119/119 [==============================] - 0s 4ms/step - loss: 27746383872.0000 - val_loss: 27786029056.0000\n",
      "Epoch 221/400\n",
      "119/119 [==============================] - 0s 4ms/step - loss: 27747000320.0000 - val_loss: 27676043264.0000\n",
      "Epoch 222/400\n",
      "119/119 [==============================] - 0s 4ms/step - loss: 27709403136.0000 - val_loss: 27700830208.0000\n",
      "Epoch 223/400\n",
      "119/119 [==============================] - 0s 3ms/step - loss: 27694626816.0000 - val_loss: 27614816256.0000\n",
      "Epoch 224/400\n",
      "119/119 [==============================] - 0s 3ms/step - loss: 27666538496.0000 - val_loss: 27964825600.0000\n",
      "Epoch 225/400\n",
      "119/119 [==============================] - 0s 3ms/step - loss: 27670321152.0000 - val_loss: 28030668800.0000\n",
      "Epoch 226/400\n",
      "119/119 [==============================] - 0s 3ms/step - loss: 27678973952.0000 - val_loss: 27633250304.0000\n",
      "Epoch 227/400\n",
      "119/119 [==============================] - 0s 3ms/step - loss: 27649126400.0000 - val_loss: 27694428160.0000\n",
      "Epoch 228/400\n",
      "119/119 [==============================] - 0s 3ms/step - loss: 27667916800.0000 - val_loss: 27688562688.0000\n",
      "Epoch 229/400\n",
      "119/119 [==============================] - 0s 3ms/step - loss: 27597821952.0000 - val_loss: 27538096128.0000\n",
      "Epoch 230/400\n",
      "119/119 [==============================] - 0s 3ms/step - loss: 27570702336.0000 - val_loss: 27502628864.0000\n",
      "Epoch 231/400\n",
      "119/119 [==============================] - 0s 3ms/step - loss: 27589228544.0000 - val_loss: 27554686976.0000\n",
      "Epoch 232/400\n",
      "119/119 [==============================] - 0s 4ms/step - loss: 27603148800.0000 - val_loss: 27567515648.0000\n",
      "Epoch 233/400\n",
      "119/119 [==============================] - 0s 4ms/step - loss: 27536793600.0000 - val_loss: 27623139328.0000\n",
      "Epoch 234/400\n",
      "119/119 [==============================] - 0s 4ms/step - loss: 27571628032.0000 - val_loss: 27490646016.0000\n",
      "Epoch 235/400\n",
      "119/119 [==============================] - 0s 3ms/step - loss: 27509356544.0000 - val_loss: 27498278912.0000\n",
      "Epoch 236/400\n",
      "119/119 [==============================] - 0s 3ms/step - loss: 27490320384.0000 - val_loss: 27546099712.0000\n",
      "Epoch 237/400\n",
      "119/119 [==============================] - 0s 4ms/step - loss: 27480373248.0000 - val_loss: 27452377088.0000\n",
      "Epoch 238/400\n",
      "119/119 [==============================] - 0s 3ms/step - loss: 27513071616.0000 - val_loss: 27416178688.0000\n",
      "Epoch 239/400\n",
      "119/119 [==============================] - 0s 4ms/step - loss: 27456096256.0000 - val_loss: 27576629248.0000\n",
      "Epoch 240/400\n",
      "119/119 [==============================] - 0s 4ms/step - loss: 27411421184.0000 - val_loss: 27405817856.0000\n",
      "Epoch 241/400\n",
      "119/119 [==============================] - 0s 3ms/step - loss: 27414638592.0000 - val_loss: 27406962688.0000\n",
      "Epoch 242/400\n",
      "119/119 [==============================] - 0s 3ms/step - loss: 27386208256.0000 - val_loss: 27395340288.0000\n",
      "Epoch 243/400\n",
      "119/119 [==============================] - 0s 3ms/step - loss: 27382386688.0000 - val_loss: 27544297472.0000\n",
      "Epoch 244/400\n",
      "119/119 [==============================] - 0s 3ms/step - loss: 27343368192.0000 - val_loss: 27393134592.0000\n",
      "Epoch 245/400\n",
      "119/119 [==============================] - 0s 3ms/step - loss: 27327899648.0000 - val_loss: 27429648384.0000\n",
      "Epoch 246/400\n",
      "119/119 [==============================] - 0s 3ms/step - loss: 27359514624.0000 - val_loss: 27386470400.0000\n",
      "Epoch 247/400\n",
      "119/119 [==============================] - 0s 3ms/step - loss: 27297912832.0000 - val_loss: 27435560960.0000\n",
      "Epoch 248/400\n",
      "119/119 [==============================] - 0s 3ms/step - loss: 27262801920.0000 - val_loss: 27726266368.0000\n",
      "Epoch 249/400\n",
      "119/119 [==============================] - 0s 3ms/step - loss: 27345614848.0000 - val_loss: 27440939008.0000\n",
      "Epoch 250/400\n",
      "119/119 [==============================] - 0s 3ms/step - loss: 27249371136.0000 - val_loss: 27276564480.0000\n",
      "Epoch 251/400\n",
      "119/119 [==============================] - 0s 3ms/step - loss: 27301814272.0000 - val_loss: 27262658560.0000\n",
      "Epoch 252/400\n",
      "119/119 [==============================] - 0s 3ms/step - loss: 27226732544.0000 - val_loss: 27267631104.0000\n",
      "Epoch 253/400\n",
      "119/119 [==============================] - 0s 4ms/step - loss: 27230889984.0000 - val_loss: 27162353664.0000\n",
      "Epoch 254/400\n",
      "119/119 [==============================] - 0s 3ms/step - loss: 27264430080.0000 - val_loss: 27213193216.0000\n",
      "Epoch 255/400\n",
      "119/119 [==============================] - 0s 3ms/step - loss: 27224719360.0000 - val_loss: 27142094848.0000\n",
      "Epoch 256/400\n",
      "119/119 [==============================] - 0s 3ms/step - loss: 27174615040.0000 - val_loss: 27367745536.0000\n",
      "Epoch 257/400\n",
      "119/119 [==============================] - 0s 3ms/step - loss: 27177486336.0000 - val_loss: 27222712320.0000\n",
      "Epoch 258/400\n",
      "119/119 [==============================] - 0s 3ms/step - loss: 27210334208.0000 - val_loss: 27194408960.0000\n",
      "Epoch 259/400\n",
      "119/119 [==============================] - 0s 3ms/step - loss: 27165034496.0000 - val_loss: 27180216320.0000\n",
      "Epoch 260/400\n",
      "119/119 [==============================] - 0s 3ms/step - loss: 27145392128.0000 - val_loss: 27393576960.0000\n",
      "Epoch 261/400\n",
      "119/119 [==============================] - 0s 3ms/step - loss: 27089651712.0000 - val_loss: 27168729088.0000\n",
      "Epoch 262/400\n",
      "119/119 [==============================] - 1s 4ms/step - loss: 27046434816.0000 - val_loss: 26962984960.0000\n",
      "Epoch 263/400\n",
      "119/119 [==============================] - 0s 3ms/step - loss: 27072821248.0000 - val_loss: 26989328384.0000\n",
      "Epoch 264/400\n",
      "119/119 [==============================] - 0s 3ms/step - loss: 27052134400.0000 - val_loss: 27018285056.0000\n",
      "Epoch 265/400\n",
      "119/119 [==============================] - 0s 3ms/step - loss: 27036571648.0000 - val_loss: 27037245440.0000\n",
      "Epoch 266/400\n",
      "119/119 [==============================] - 0s 3ms/step - loss: 27016990720.0000 - val_loss: 27045844992.0000\n",
      "Epoch 267/400\n"
     ]
    },
    {
     "name": "stdout",
     "output_type": "stream",
     "text": [
      "119/119 [==============================] - 0s 3ms/step - loss: 27038603264.0000 - val_loss: 27112644608.0000\n",
      "Epoch 268/400\n",
      "119/119 [==============================] - 0s 3ms/step - loss: 27033810944.0000 - val_loss: 27049455616.0000\n",
      "Epoch 269/400\n",
      "119/119 [==============================] - 0s 3ms/step - loss: 27026759680.0000 - val_loss: 27137744896.0000\n",
      "Epoch 270/400\n",
      "119/119 [==============================] - 0s 4ms/step - loss: 26963552256.0000 - val_loss: 27175133184.0000\n",
      "Epoch 271/400\n",
      "119/119 [==============================] - 0s 4ms/step - loss: 26955210752.0000 - val_loss: 26993201152.0000\n",
      "Epoch 272/400\n",
      "119/119 [==============================] - 0s 4ms/step - loss: 26907852800.0000 - val_loss: 27202637824.0000\n",
      "Epoch 273/400\n",
      "119/119 [==============================] - 0s 3ms/step - loss: 26897686528.0000 - val_loss: 26858463232.0000\n",
      "Epoch 274/400\n",
      "119/119 [==============================] - 0s 3ms/step - loss: 26940708864.0000 - val_loss: 26891288576.0000\n",
      "Epoch 275/400\n",
      "119/119 [==============================] - 0s 3ms/step - loss: 26946172928.0000 - val_loss: 26983940096.0000\n",
      "Epoch 276/400\n",
      "119/119 [==============================] - 0s 3ms/step - loss: 26869600256.0000 - val_loss: 26837233664.0000\n",
      "Epoch 277/400\n",
      "119/119 [==============================] - 0s 3ms/step - loss: 26900500480.0000 - val_loss: 26950051840.0000\n",
      "Epoch 278/400\n",
      "119/119 [==============================] - 0s 4ms/step - loss: 26834470912.0000 - val_loss: 26862379008.0000\n",
      "Epoch 279/400\n",
      "119/119 [==============================] - 0s 3ms/step - loss: 26907103232.0000 - val_loss: 27099822080.0000\n",
      "Epoch 280/400\n",
      "119/119 [==============================] - 0s 3ms/step - loss: 26815983616.0000 - val_loss: 26952433664.0000\n",
      "Epoch 281/400\n",
      "119/119 [==============================] - 0s 3ms/step - loss: 26784800768.0000 - val_loss: 26876696576.0000\n",
      "Epoch 282/400\n",
      "119/119 [==============================] - 0s 4ms/step - loss: 26785312768.0000 - val_loss: 26924400640.0000\n",
      "Epoch 283/400\n",
      "119/119 [==============================] - 0s 3ms/step - loss: 26779037696.0000 - val_loss: 27244427264.0000\n",
      "Epoch 284/400\n",
      "119/119 [==============================] - 0s 3ms/step - loss: 26781730816.0000 - val_loss: 26743568384.0000\n",
      "Epoch 285/400\n",
      "119/119 [==============================] - 0s 4ms/step - loss: 26792495104.0000 - val_loss: 26876067840.0000\n",
      "Epoch 286/400\n",
      "119/119 [==============================] - 0s 3ms/step - loss: 26743752704.0000 - val_loss: 26706085888.0000\n",
      "Epoch 287/400\n",
      "119/119 [==============================] - 0s 3ms/step - loss: 26708301824.0000 - val_loss: 26653349888.0000\n",
      "Epoch 288/400\n",
      "119/119 [==============================] - 0s 3ms/step - loss: 26694057984.0000 - val_loss: 26724564992.0000\n",
      "Epoch 289/400\n",
      "119/119 [==============================] - 0s 4ms/step - loss: 26670202880.0000 - val_loss: 26660724736.0000\n",
      "Epoch 290/400\n",
      "119/119 [==============================] - 0s 3ms/step - loss: 26639423488.0000 - val_loss: 26721554432.0000\n",
      "Epoch 291/400\n",
      "119/119 [==============================] - 0s 3ms/step - loss: 26671673344.0000 - val_loss: 26794547200.0000\n",
      "Epoch 292/400\n",
      "119/119 [==============================] - 0s 3ms/step - loss: 26631233536.0000 - val_loss: 26900217856.0000\n",
      "Epoch 293/400\n",
      "119/119 [==============================] - 0s 3ms/step - loss: 26641620992.0000 - val_loss: 26822565888.0000\n",
      "Epoch 294/400\n",
      "119/119 [==============================] - 0s 3ms/step - loss: 26605537280.0000 - val_loss: 26773917696.0000\n",
      "Epoch 295/400\n",
      "119/119 [==============================] - 0s 3ms/step - loss: 26639114240.0000 - val_loss: 26809317376.0000\n",
      "Epoch 296/400\n",
      "119/119 [==============================] - 0s 3ms/step - loss: 26589947904.0000 - val_loss: 26659575808.0000\n",
      "Epoch 297/400\n",
      "119/119 [==============================] - 0s 3ms/step - loss: 26585997312.0000 - val_loss: 26630752256.0000\n",
      "Epoch 298/400\n",
      "119/119 [==============================] - 0s 4ms/step - loss: 26555164672.0000 - val_loss: 26695262208.0000\n",
      "Epoch 299/400\n",
      "119/119 [==============================] - 0s 3ms/step - loss: 26567739392.0000 - val_loss: 26596982784.0000\n",
      "Epoch 300/400\n",
      "119/119 [==============================] - 0s 3ms/step - loss: 26516553728.0000 - val_loss: 26680610816.0000\n",
      "Epoch 301/400\n",
      "119/119 [==============================] - 1s 4ms/step - loss: 26514198528.0000 - val_loss: 26717411328.0000\n",
      "Epoch 302/400\n",
      "119/119 [==============================] - 0s 4ms/step - loss: 26499825664.0000 - val_loss: 26569768960.0000\n",
      "Epoch 303/400\n",
      "119/119 [==============================] - 0s 3ms/step - loss: 26490673152.0000 - val_loss: 26524985344.0000\n",
      "Epoch 304/400\n",
      "119/119 [==============================] - 0s 3ms/step - loss: 26489360384.0000 - val_loss: 26574956544.0000\n",
      "Epoch 305/400\n",
      "119/119 [==============================] - 0s 4ms/step - loss: 26494494720.0000 - val_loss: 26649313280.0000\n",
      "Epoch 306/400\n",
      "119/119 [==============================] - 0s 4ms/step - loss: 26447515648.0000 - val_loss: 26499442688.0000\n",
      "Epoch 307/400\n",
      "119/119 [==============================] - 0s 4ms/step - loss: 26415198208.0000 - val_loss: 26459314176.0000\n",
      "Epoch 308/400\n",
      "119/119 [==============================] - 0s 4ms/step - loss: 26449139712.0000 - val_loss: 26570532864.0000\n",
      "Epoch 309/400\n",
      "119/119 [==============================] - 1s 4ms/step - loss: 26412740608.0000 - val_loss: 26630152192.0000\n",
      "Epoch 310/400\n",
      "119/119 [==============================] - 0s 4ms/step - loss: 26370545664.0000 - val_loss: 26436962304.0000\n",
      "Epoch 311/400\n",
      "119/119 [==============================] - 0s 4ms/step - loss: 26389374976.0000 - val_loss: 26657777664.0000\n",
      "Epoch 312/400\n",
      "119/119 [==============================] - 0s 4ms/step - loss: 26388041728.0000 - val_loss: 26404630528.0000\n",
      "Epoch 313/400\n",
      "119/119 [==============================] - 1s 5ms/step - loss: 26367522816.0000 - val_loss: 26389897216.0000\n",
      "Epoch 314/400\n",
      "119/119 [==============================] - 1s 4ms/step - loss: 26355410944.0000 - val_loss: 26366648320.0000\n",
      "Epoch 315/400\n",
      "119/119 [==============================] - 0s 3ms/step - loss: 26343065600.0000 - val_loss: 26370754560.0000\n",
      "Epoch 316/400\n",
      "119/119 [==============================] - 0s 3ms/step - loss: 26324293632.0000 - val_loss: 26492536832.0000\n",
      "Epoch 317/400\n",
      "119/119 [==============================] - 0s 3ms/step - loss: 26366924800.0000 - val_loss: 26455582720.0000\n",
      "Epoch 318/400\n",
      "119/119 [==============================] - 0s 4ms/step - loss: 26290245632.0000 - val_loss: 26434754560.0000\n",
      "Epoch 319/400\n",
      "119/119 [==============================] - 0s 3ms/step - loss: 26319104000.0000 - val_loss: 26758813696.0000\n",
      "Epoch 320/400\n",
      "119/119 [==============================] - 0s 3ms/step - loss: 26241953792.0000 - val_loss: 26772224000.0000\n",
      "Epoch 321/400\n",
      "119/119 [==============================] - 0s 3ms/step - loss: 26274902016.0000 - val_loss: 26480347136.0000\n",
      "Epoch 322/400\n",
      "119/119 [==============================] - 0s 3ms/step - loss: 26226388992.0000 - val_loss: 26409267200.0000\n",
      "Epoch 323/400\n",
      "119/119 [==============================] - 0s 4ms/step - loss: 26239647744.0000 - val_loss: 26250416128.0000\n",
      "Epoch 324/400\n",
      "119/119 [==============================] - 1s 4ms/step - loss: 26226442240.0000 - val_loss: 26459432960.0000\n",
      "Epoch 325/400\n",
      "119/119 [==============================] - 1s 4ms/step - loss: 26197008384.0000 - val_loss: 26376030208.0000\n",
      "Epoch 326/400\n",
      "119/119 [==============================] - 1s 5ms/step - loss: 26210856960.0000 - val_loss: 26191675392.0000\n",
      "Epoch 327/400\n",
      "119/119 [==============================] - 0s 4ms/step - loss: 26242129920.0000 - val_loss: 26256025600.0000\n",
      "Epoch 328/400\n",
      "119/119 [==============================] - 0s 4ms/step - loss: 26188441600.0000 - val_loss: 26296102912.0000\n",
      "Epoch 329/400\n",
      "119/119 [==============================] - 1s 5ms/step - loss: 26178514944.0000 - val_loss: 26177392640.0000\n",
      "Epoch 330/400\n",
      "119/119 [==============================] - 1s 4ms/step - loss: 26153472000.0000 - val_loss: 26250117120.0000\n",
      "Epoch 331/400\n",
      "119/119 [==============================] - 1s 5ms/step - loss: 26176958464.0000 - val_loss: 26236526592.0000\n",
      "Epoch 332/400\n",
      "119/119 [==============================] - 1s 5ms/step - loss: 26124722176.0000 - val_loss: 26091247616.0000\n",
      "Epoch 333/400\n"
     ]
    },
    {
     "name": "stdout",
     "output_type": "stream",
     "text": [
      "119/119 [==============================] - 0s 4ms/step - loss: 26123003904.0000 - val_loss: 26261966848.0000\n",
      "Epoch 334/400\n",
      "119/119 [==============================] - 0s 4ms/step - loss: 26125363200.0000 - val_loss: 26207754240.0000\n",
      "Epoch 335/400\n",
      "119/119 [==============================] - 0s 3ms/step - loss: 26103181312.0000 - val_loss: 26086178816.0000\n",
      "Epoch 336/400\n",
      "119/119 [==============================] - 0s 3ms/step - loss: 26102376448.0000 - val_loss: 26160424960.0000\n",
      "Epoch 337/400\n",
      "119/119 [==============================] - 0s 3ms/step - loss: 26092574720.0000 - val_loss: 26260006912.0000\n",
      "Epoch 338/400\n",
      "119/119 [==============================] - 0s 3ms/step - loss: 26088779776.0000 - val_loss: 26338191360.0000\n",
      "Epoch 339/400\n",
      "119/119 [==============================] - 0s 3ms/step - loss: 26034851840.0000 - val_loss: 26111512576.0000\n",
      "Epoch 340/400\n",
      "119/119 [==============================] - 0s 3ms/step - loss: 26050134016.0000 - val_loss: 26162673664.0000\n",
      "Epoch 341/400\n",
      "119/119 [==============================] - 0s 4ms/step - loss: 26067748864.0000 - val_loss: 26130638848.0000\n",
      "Epoch 342/400\n",
      "119/119 [==============================] - 1s 4ms/step - loss: 26025748480.0000 - val_loss: 26266820608.0000\n",
      "Epoch 343/400\n",
      "119/119 [==============================] - 1s 4ms/step - loss: 26001039360.0000 - val_loss: 26116360192.0000\n",
      "Epoch 344/400\n",
      "119/119 [==============================] - 0s 4ms/step - loss: 25991542784.0000 - val_loss: 25997027328.0000\n",
      "Epoch 345/400\n",
      "119/119 [==============================] - 1s 5ms/step - loss: 25984000000.0000 - val_loss: 25970550784.0000\n",
      "Epoch 346/400\n",
      "119/119 [==============================] - 1s 4ms/step - loss: 26023905280.0000 - val_loss: 26182469632.0000\n",
      "Epoch 347/400\n",
      "119/119 [==============================] - 0s 4ms/step - loss: 26012309504.0000 - val_loss: 25975638016.0000\n",
      "Epoch 348/400\n",
      "119/119 [==============================] - 0s 4ms/step - loss: 25967333376.0000 - val_loss: 26298417152.0000\n",
      "Epoch 349/400\n",
      "119/119 [==============================] - 1s 4ms/step - loss: 25947222016.0000 - val_loss: 25920522240.0000\n",
      "Epoch 350/400\n",
      "119/119 [==============================] - 0s 4ms/step - loss: 25933316096.0000 - val_loss: 26000091136.0000\n",
      "Epoch 351/400\n",
      "119/119 [==============================] - 0s 4ms/step - loss: 25902782464.0000 - val_loss: 26230822912.0000\n",
      "Epoch 352/400\n",
      "119/119 [==============================] - 0s 3ms/step - loss: 25909872640.0000 - val_loss: 25950423040.0000\n",
      "Epoch 353/400\n",
      "119/119 [==============================] - 0s 4ms/step - loss: 25909313536.0000 - val_loss: 26064019456.0000\n",
      "Epoch 354/400\n",
      "119/119 [==============================] - 0s 4ms/step - loss: 25888153600.0000 - val_loss: 25899859968.0000\n",
      "Epoch 355/400\n",
      "119/119 [==============================] - 0s 4ms/step - loss: 25876924416.0000 - val_loss: 25892855808.0000\n",
      "Epoch 356/400\n",
      "119/119 [==============================] - 0s 3ms/step - loss: 25919524864.0000 - val_loss: 25972785152.0000\n",
      "Epoch 357/400\n",
      "119/119 [==============================] - 0s 3ms/step - loss: 25844635648.0000 - val_loss: 25766543360.0000\n",
      "Epoch 358/400\n",
      "119/119 [==============================] - 0s 3ms/step - loss: 25857472512.0000 - val_loss: 25907490816.0000\n",
      "Epoch 359/400\n",
      "119/119 [==============================] - 0s 3ms/step - loss: 25863751680.0000 - val_loss: 25842810880.0000\n",
      "Epoch 360/400\n",
      "119/119 [==============================] - 0s 3ms/step - loss: 25906319360.0000 - val_loss: 25837189120.0000\n",
      "Epoch 361/400\n",
      "119/119 [==============================] - 0s 3ms/step - loss: 25851840512.0000 - val_loss: 25975560192.0000\n",
      "Epoch 362/400\n",
      "119/119 [==============================] - 0s 4ms/step - loss: 25815035904.0000 - val_loss: 26198013952.0000\n",
      "Epoch 363/400\n",
      "119/119 [==============================] - 0s 4ms/step - loss: 25828956160.0000 - val_loss: 25878235136.0000\n",
      "Epoch 364/400\n",
      "119/119 [==============================] - 0s 4ms/step - loss: 25798170624.0000 - val_loss: 25810180096.0000\n",
      "Epoch 365/400\n",
      "119/119 [==============================] - 0s 4ms/step - loss: 25785092096.0000 - val_loss: 25775243264.0000\n",
      "Epoch 366/400\n",
      "119/119 [==============================] - 0s 4ms/step - loss: 25781000192.0000 - val_loss: 25698402304.0000\n",
      "Epoch 367/400\n",
      "119/119 [==============================] - 0s 4ms/step - loss: 25782626304.0000 - val_loss: 25700874240.0000\n",
      "Epoch 368/400\n",
      "119/119 [==============================] - 0s 4ms/step - loss: 25797066752.0000 - val_loss: 25749526528.0000\n",
      "Epoch 369/400\n",
      "119/119 [==============================] - 0s 4ms/step - loss: 25763008512.0000 - val_loss: 25781288960.0000\n",
      "Epoch 370/400\n",
      "119/119 [==============================] - 0s 4ms/step - loss: 25737529344.0000 - val_loss: 25673863168.0000\n",
      "Epoch 371/400\n",
      "119/119 [==============================] - 0s 4ms/step - loss: 25754269696.0000 - val_loss: 25767141376.0000\n",
      "Epoch 372/400\n",
      "119/119 [==============================] - 0s 4ms/step - loss: 25750441984.0000 - val_loss: 25744347136.0000\n",
      "Epoch 373/400\n",
      "119/119 [==============================] - 0s 4ms/step - loss: 25805987840.0000 - val_loss: 25823408128.0000\n",
      "Epoch 374/400\n",
      "119/119 [==============================] - 0s 4ms/step - loss: 25717678080.0000 - val_loss: 25998071808.0000\n",
      "Epoch 375/400\n",
      "119/119 [==============================] - 0s 4ms/step - loss: 25712478208.0000 - val_loss: 25649131520.0000\n",
      "Epoch 376/400\n",
      "119/119 [==============================] - 0s 4ms/step - loss: 25708158976.0000 - val_loss: 25759037440.0000\n",
      "Epoch 377/400\n",
      "119/119 [==============================] - 0s 3ms/step - loss: 25701163008.0000 - val_loss: 25690849280.0000\n",
      "Epoch 378/400\n",
      "119/119 [==============================] - 0s 3ms/step - loss: 25672003584.0000 - val_loss: 25614833664.0000\n",
      "Epoch 379/400\n",
      "119/119 [==============================] - 0s 3ms/step - loss: 25676433408.0000 - val_loss: 25486022656.0000\n",
      "Epoch 380/400\n",
      "119/119 [==============================] - 0s 3ms/step - loss: 25674399744.0000 - val_loss: 25660841984.0000\n",
      "Epoch 381/400\n",
      "119/119 [==============================] - 0s 3ms/step - loss: 25645164544.0000 - val_loss: 25591152640.0000\n",
      "Epoch 382/400\n",
      "119/119 [==============================] - 0s 3ms/step - loss: 25650704384.0000 - val_loss: 25769551872.0000\n",
      "Epoch 383/400\n",
      "119/119 [==============================] - 0s 3ms/step - loss: 25606543360.0000 - val_loss: 25573523456.0000\n",
      "Epoch 384/400\n",
      "119/119 [==============================] - 0s 3ms/step - loss: 25657149440.0000 - val_loss: 25559179264.0000\n",
      "Epoch 385/400\n",
      "119/119 [==============================] - 0s 3ms/step - loss: 25623500800.0000 - val_loss: 25834532864.0000\n",
      "Epoch 386/400\n",
      "119/119 [==============================] - 0s 3ms/step - loss: 25630218240.0000 - val_loss: 25584267264.0000\n",
      "Epoch 387/400\n",
      "119/119 [==============================] - 0s 4ms/step - loss: 25596360704.0000 - val_loss: 25924712448.0000\n",
      "Epoch 388/400\n",
      "119/119 [==============================] - 0s 4ms/step - loss: 25582036992.0000 - val_loss: 25464000512.0000\n",
      "Epoch 389/400\n",
      "119/119 [==============================] - 0s 4ms/step - loss: 25642868736.0000 - val_loss: 25514795008.0000\n",
      "Epoch 390/400\n",
      "119/119 [==============================] - 0s 4ms/step - loss: 25555761152.0000 - val_loss: 25668970496.0000\n",
      "Epoch 391/400\n",
      "119/119 [==============================] - 0s 4ms/step - loss: 25531150336.0000 - val_loss: 25662126080.0000\n",
      "Epoch 392/400\n",
      "119/119 [==============================] - 0s 4ms/step - loss: 25551306752.0000 - val_loss: 25445713920.0000\n",
      "Epoch 393/400\n",
      "119/119 [==============================] - 0s 4ms/step - loss: 25530947584.0000 - val_loss: 25643565056.0000\n",
      "Epoch 394/400\n",
      "119/119 [==============================] - 0s 4ms/step - loss: 25523118080.0000 - val_loss: 25476243456.0000\n",
      "Epoch 395/400\n",
      "119/119 [==============================] - 0s 4ms/step - loss: 25513125888.0000 - val_loss: 25669990400.0000\n",
      "Epoch 396/400\n",
      "119/119 [==============================] - 0s 4ms/step - loss: 25489690624.0000 - val_loss: 25716606976.0000\n",
      "Epoch 397/400\n",
      "119/119 [==============================] - 0s 4ms/step - loss: 25519306752.0000 - val_loss: 25470537728.0000\n",
      "Epoch 398/400\n",
      "119/119 [==============================] - 0s 4ms/step - loss: 25460764672.0000 - val_loss: 25389219840.0000\n",
      "Epoch 399/400\n"
     ]
    },
    {
     "name": "stdout",
     "output_type": "stream",
     "text": [
      "119/119 [==============================] - 0s 3ms/step - loss: 25490688000.0000 - val_loss: 25584889856.0000\n",
      "Epoch 400/400\n",
      "119/119 [==============================] - 0s 3ms/step - loss: 25521418240.0000 - val_loss: 25378373632.0000\n"
     ]
    },
    {
     "data": {
      "text/plain": [
       "<keras.callbacks.History at 0x2702e7f2f60>"
      ]
     },
     "execution_count": 28,
     "metadata": {},
     "output_type": "execute_result"
    }
   ],
   "source": [
    "model.fit(\n",
    "    x=X_train,\n",
    "    y=y_train.values,\n",
    "    validation_data=(X_test,y_test.values),\n",
    "    batch_size=128,\n",
    "    epochs=400\n",
    ")"
   ]
  },
  {
   "cell_type": "code",
   "execution_count": 29,
   "metadata": {},
   "outputs": [],
   "source": [
    "losses = pd.DataFrame(model.history.history)"
   ]
  },
  {
   "cell_type": "code",
   "execution_count": 30,
   "metadata": {},
   "outputs": [
    {
     "data": {
      "text/plain": [
       "<matplotlib.axes._subplots.AxesSubplot at 0x2702f9cc048>"
      ]
     },
     "execution_count": 30,
     "metadata": {},
     "output_type": "execute_result"
    },
    {
     "data": {
      "image/png": "[encoded data removed]",
      "text/plain": [
       "<Figure size 432x288 with 1 Axes>"
      ]
     },
     "metadata": {
      "needs_background": "light"
     },
     "output_type": "display_data"
    }
   ],
   "source": [
    "losses.plot()"
   ]
  },
  {
   "cell_type": "markdown",
   "metadata": {},
   "source": [
    "### Evaluation"
   ]
  },
  {
   "cell_type": "code",
   "execution_count": 31,
   "metadata": {},
   "outputs": [],
   "source": [
    "from sklearn.metrics import mean_squared_error,mean_absolute_error,explained_variance_score"
   ]
  },
  {
   "cell_type": "code",
   "execution_count": 32,
   "metadata": {},
   "outputs": [],
   "source": [
    "predictions = model.predict(X_test)"
   ]
  },
  {
   "cell_type": "code",
   "execution_count": 33,
   "metadata": {},
   "outputs": [
    {
     "data": {
      "text/plain": [
       "98265.24569408275"
      ]
     },
     "execution_count": 33,
     "metadata": {},
     "output_type": "execute_result"
    }
   ],
   "source": [
    "mean_absolute_error(y_test,predictions)"
   ]
  },
  {
   "cell_type": "code",
   "execution_count": 34,
   "metadata": {},
   "outputs": [
    {
     "data": {
      "text/plain": [
       "159305.89111381717"
      ]
     },
     "execution_count": 34,
     "metadata": {},
     "output_type": "execute_result"
    }
   ],
   "source": [
    "np.sqrt(mean_squared_error(y_test,predictions))\n"
   ]
  },
  {
   "cell_type": "code",
   "execution_count": 35,
   "metadata": {},
   "outputs": [
    {
     "data": {
      "text/plain": [
       "0.8088376619267852"
      ]
     },
     "execution_count": 35,
     "metadata": {},
     "output_type": "execute_result"
    }
   ],
   "source": [
    "explained_variance_score(y_test,predictions)"
   ]
  },
  {
   "cell_type": "code",
   "execution_count": 36,
   "metadata": {},
   "outputs": [
    {
     "data": {
      "text/plain": [
       "540296.5735055795"
      ]
     },
     "execution_count": 36,
     "metadata": {},
     "output_type": "execute_result"
    }
   ],
   "source": [
    "df['price'].mean()"
   ]
  },
  {
   "cell_type": "code",
   "execution_count": 37,
   "metadata": {},
   "outputs": [
    {
     "data": {
      "text/plain": [
       "450000.0"
      ]
     },
     "execution_count": 37,
     "metadata": {},
     "output_type": "execute_result"
    }
   ],
   "source": [
    "\n"
   ]
  },
  {
   "cell_type": "code",
   "execution_count": 38,
   "metadata": {},
   "outputs": [
    {
     "data": {
      "text/plain": [
       "[<matplotlib.lines.Line2D at 0x27030ac69e8>]"
      ]
     },
     "execution_count": 38,
     "metadata": {},
     "output_type": "execute_result"
    },
    {
     "data": {
      "image/png": "[encoded data removed]",
      "text/plain": [
       "<Figure size 432x288 with 1 Axes>"
      ]
     },
     "metadata": {
      "needs_background": "light"
     },
     "output_type": "display_data"
    }
   ],
   "source": [
    "# Our predictions\n",
    "plt.scatter(y_test,predictions)\n",
    "\n",
    "# Perfect predictions\n",
    "plt.plot(y_test,y_test,'r')"
   ]
  },
  {
   "cell_type": "markdown",
   "metadata": {},
   "source": [
    "### Predicting for brand new house"
   ]
  },
  {
   "cell_type": "code",
   "execution_count": 47,
   "metadata": {},
   "outputs": [
    {
     "data": {
      "text/html": [
       "<div>\n",
       "<style scoped>\n",
       "    .dataframe tbody tr th:only-of-type {\n",
       "        vertical-align: middle;\n",
       "    }\n",
       "\n",
       "    .dataframe tbody tr th {\n",
       "        vertical-align: top;\n",
       "    }\n",
       "\n",
       "    .dataframe thead th {\n",
       "        text-align: right;\n",
       "    }\n",
       "</style>\n",
       "<table border=\"1\" class=\"dataframe\">\n",
       "  <thead>\n",
       "    <tr style=\"text-align: right;\">\n",
       "      <th></th>\n",
       "      <th>price</th>\n",
       "      <th>bedrooms</th>\n",
       "      <th>bathrooms</th>\n",
       "      <th>sqft_living</th>\n",
       "      <th>sqft_lot</th>\n",
       "      <th>floors</th>\n",
       "      <th>waterfront</th>\n",
       "      <th>view</th>\n",
       "      <th>condition</th>\n",
       "      <th>grade</th>\n",
       "      <th>...</th>\n",
       "      <th>sqft_basement</th>\n",
       "      <th>yr_built</th>\n",
       "      <th>yr_renovated</th>\n",
       "      <th>zipcode</th>\n",
       "      <th>lat</th>\n",
       "      <th>long</th>\n",
       "      <th>sqft_living15</th>\n",
       "      <th>sqft_lot15</th>\n",
       "      <th>month</th>\n",
       "      <th>year</th>\n",
       "    </tr>\n",
       "  </thead>\n",
       "  <tbody>\n",
       "    <tr>\n",
       "      <th>0</th>\n",
       "      <td>221900.0</td>\n",
       "      <td>3</td>\n",
       "      <td>1.00</td>\n",
       "      <td>1180</td>\n",
       "      <td>5650</td>\n",
       "      <td>1.0</td>\n",
       "      <td>0</td>\n",
       "      <td>0</td>\n",
       "      <td>3</td>\n",
       "      <td>7</td>\n",
       "      <td>...</td>\n",
       "      <td>0</td>\n",
       "      <td>1955</td>\n",
       "      <td>0</td>\n",
       "      <td>98178</td>\n",
       "      <td>47.5112</td>\n",
       "      <td>-122.257</td>\n",
       "      <td>1340</td>\n",
       "      <td>5650</td>\n",
       "      <td>10</td>\n",
       "      <td>2014</td>\n",
       "    </tr>\n",
       "    <tr>\n",
       "      <th>1</th>\n",
       "      <td>538000.0</td>\n",
       "      <td>3</td>\n",
       "      <td>2.25</td>\n",
       "      <td>2570</td>\n",
       "      <td>7242</td>\n",
       "      <td>2.0</td>\n",
       "      <td>0</td>\n",
       "      <td>0</td>\n",
       "      <td>3</td>\n",
       "      <td>7</td>\n",
       "      <td>...</td>\n",
       "      <td>400</td>\n",
       "      <td>1951</td>\n",
       "      <td>1991</td>\n",
       "      <td>98125</td>\n",
       "      <td>47.7210</td>\n",
       "      <td>-122.319</td>\n",
       "      <td>1690</td>\n",
       "      <td>7639</td>\n",
       "      <td>12</td>\n",
       "      <td>2014</td>\n",
       "    </tr>\n",
       "    <tr>\n",
       "      <th>2</th>\n",
       "      <td>180000.0</td>\n",
       "      <td>2</td>\n",
       "      <td>1.00</td>\n",
       "      <td>770</td>\n",
       "      <td>10000</td>\n",
       "      <td>1.0</td>\n",
       "      <td>0</td>\n",
       "      <td>0</td>\n",
       "      <td>3</td>\n",
       "      <td>6</td>\n",
       "      <td>...</td>\n",
       "      <td>0</td>\n",
       "      <td>1933</td>\n",
       "      <td>0</td>\n",
       "      <td>98028</td>\n",
       "      <td>47.7379</td>\n",
       "      <td>-122.233</td>\n",
       "      <td>2720</td>\n",
       "      <td>8062</td>\n",
       "      <td>2</td>\n",
       "      <td>2015</td>\n",
       "    </tr>\n",
       "    <tr>\n",
       "      <th>3</th>\n",
       "      <td>604000.0</td>\n",
       "      <td>4</td>\n",
       "      <td>3.00</td>\n",
       "      <td>1960</td>\n",
       "      <td>5000</td>\n",
       "      <td>1.0</td>\n",
       "      <td>0</td>\n",
       "      <td>0</td>\n",
       "      <td>5</td>\n",
       "      <td>7</td>\n",
       "      <td>...</td>\n",
       "      <td>910</td>\n",
       "      <td>1965</td>\n",
       "      <td>0</td>\n",
       "      <td>98136</td>\n",
       "      <td>47.5208</td>\n",
       "      <td>-122.393</td>\n",
       "      <td>1360</td>\n",
       "      <td>5000</td>\n",
       "      <td>12</td>\n",
       "      <td>2014</td>\n",
       "    </tr>\n",
       "    <tr>\n",
       "      <th>4</th>\n",
       "      <td>510000.0</td>\n",
       "      <td>3</td>\n",
       "      <td>2.00</td>\n",
       "      <td>1680</td>\n",
       "      <td>8080</td>\n",
       "      <td>1.0</td>\n",
       "      <td>0</td>\n",
       "      <td>0</td>\n",
       "      <td>3</td>\n",
       "      <td>8</td>\n",
       "      <td>...</td>\n",
       "      <td>0</td>\n",
       "      <td>1987</td>\n",
       "      <td>0</td>\n",
       "      <td>98074</td>\n",
       "      <td>47.6168</td>\n",
       "      <td>-122.045</td>\n",
       "      <td>1800</td>\n",
       "      <td>7503</td>\n",
       "      <td>2</td>\n",
       "      <td>2015</td>\n",
       "    </tr>\n",
       "  </tbody>\n",
       "</table>\n",
       "<p>5 rows × 21 columns</p>\n",
       "</div>"
      ],
      "text/plain": [
       "      price  bedrooms  bathrooms  sqft_living  sqft_lot  floors  waterfront  \\\n",
       "0  221900.0         3       1.00         1180      5650     1.0           0   \n",
       "1  538000.0         3       2.25         2570      7242     2.0           0   \n",
       "2  180000.0         2       1.00          770     10000     1.0           0   \n",
       "3  604000.0         4       3.00         1960      5000     1.0           0   \n",
       "4  510000.0         3       2.00         1680      8080     1.0           0   \n",
       "\n",
       "   view  condition  grade  ...  sqft_basement  yr_built  yr_renovated  \\\n",
       "0     0          3      7  ...              0      1955             0   \n",
       "1     0          3      7  ...            400      1951          1991   \n",
       "2     0          3      6  ...              0      1933             0   \n",
       "3     0          5      7  ...            910      1965             0   \n",
       "4     0          3      8  ...              0      1987             0   \n",
       "\n",
       "   zipcode      lat     long  sqft_living15  sqft_lot15  month  year  \n",
       "0    98178  47.5112 -122.257           1340        5650     10  2014  \n",
       "1    98125  47.7210 -122.319           1690        7639     12  2014  \n",
       "2    98028  47.7379 -122.233           2720        8062      2  2015  \n",
       "3    98136  47.5208 -122.393           1360        5000     12  2014  \n",
       "4    98074  47.6168 -122.045           1800        7503      2  2015  \n",
       "\n",
       "[5 rows x 21 columns]"
      ]
     },
     "execution_count": 47,
     "metadata": {},
     "output_type": "execute_result"
    }
   ],
   "source": [
    "df.head()"
   ]
  },
  {
   "cell_type": "code",
   "execution_count": 41,
   "metadata": {},
   "outputs": [
    {
     "data": {
      "text/plain": [
       "(20,)"
      ]
     },
     "execution_count": 41,
     "metadata": {},
     "output_type": "execute_result"
    }
   ],
   "source": [
    "single_house = df.drop('price', axis=1).iloc[0]\n",
    "single_house.shape"
   ]
  },
  {
   "cell_type": "code",
   "execution_count": 46,
   "metadata": {},
   "outputs": [
    {
     "name": "stderr",
     "output_type": "stream",
     "text": [
      "C:\\Users\\Purushotham\\AppData\\Local\\Programs\\Python\\Python37\\lib\\site-packages\\sklearn\\base.py:442: UserWarning: X does not have valid feature names, but MinMaxScaler was fitted with feature names\n",
      "  \"X does not have valid feature names, but\"\n"
     ]
    }
   ],
   "source": [
    "single_house = scaler.transform(single_house.values.reshape(-1, 20))"
   ]
  },
  {
   "cell_type": "code",
   "execution_count": 48,
   "metadata": {},
   "outputs": [
    {
     "data": {
      "text/plain": [
       "array([[0.2       , 0.08      , 0.08376422, 0.00310751, 0.        ,\n",
       "        0.        , 0.        , 0.5       , 0.4       , 0.10785619,\n",
       "        0.        , 0.47826087, 0.        , 0.89393939, 0.57149751,\n",
       "        0.21760797, 0.16193426, 0.00582059, 0.81818182, 0.        ]])"
      ]
     },
     "execution_count": 48,
     "metadata": {},
     "output_type": "execute_result"
    }
   ],
   "source": [
    "single_house"
   ]
  },
  {
   "cell_type": "code",
   "execution_count": 49,
   "metadata": {},
   "outputs": [
    {
     "data": {
      "text/plain": [
       "array([[266279.03]], dtype=float32)"
      ]
     },
     "execution_count": 49,
     "metadata": {},
     "output_type": "execute_result"
    }
   ],
   "source": [
    "model.predict(single_house)"
   ]
  },
  {
   "cell_type": "code",
   "execution_count": null,
   "metadata": {},
   "outputs": [],
   "source": []
  }
 ],
 "metadata": {
  "kernelspec": {
   "display_name": "Python 3",
   "language": "python",
   "name": "python3"
  },
  "language_info": {
   "codemirror_mode": {
    "name": "ipython",
    "version": 3
   },
   "file_extension": ".py",
   "mimetype": "text/x-python",
   "name": "python",
   "nbconvert_exporter": "python",
   "pygments_lexer": "ipython3",
   "version": "3.7.3"
  }
 },
 "nbformat": 4,
 "nbformat_minor": 2
}
