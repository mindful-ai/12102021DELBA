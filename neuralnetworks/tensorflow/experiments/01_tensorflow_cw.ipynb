{
 "cells": [
  {
   "cell_type": "code",
   "execution_count": 1,
   "metadata": {},
   "outputs": [
    {
     "data": {
      "text/plain": [
       "'2.6.0'"
      ]
     },
     "execution_count": 1,
     "metadata": {},
     "output_type": "execute_result"
    }
   ],
   "source": [
    "import tensorflow as tf\n",
    "tf.__version__"
   ]
  },
  {
   "cell_type": "code",
   "execution_count": 2,
   "metadata": {},
   "outputs": [],
   "source": [
    "import pandas as pd"
   ]
  },
  {
   "cell_type": "markdown",
   "metadata": {},
   "source": [
    "### Initialization of Tensors"
   ]
  },
  {
   "cell_type": "code",
   "execution_count": 3,
   "metadata": {},
   "outputs": [
    {
     "name": "stdout",
     "output_type": "stream",
     "text": [
      "10\n"
     ]
    }
   ],
   "source": [
    "x = 10\n",
    "print(x)"
   ]
  },
  {
   "cell_type": "code",
   "execution_count": 4,
   "metadata": {},
   "outputs": [
    {
     "data": {
      "text/plain": [
       "int"
      ]
     },
     "execution_count": 4,
     "metadata": {},
     "output_type": "execute_result"
    }
   ],
   "source": [
    "type(x)"
   ]
  },
  {
   "cell_type": "code",
   "execution_count": 6,
   "metadata": {},
   "outputs": [
    {
     "data": {
      "text/plain": [
       "<tf.Tensor: shape=(), dtype=int32, numpy=10>"
      ]
     },
     "execution_count": 6,
     "metadata": {},
     "output_type": "execute_result"
    }
   ],
   "source": [
    "x = tf.constant(10)\n",
    "x"
   ]
  },
  {
   "cell_type": "code",
   "execution_count": 9,
   "metadata": {},
   "outputs": [
    {
     "data": {
      "text/plain": [
       "<tf.Tensor: shape=(2, 2), dtype=float32, numpy=\n",
       "array([[10., 10.],\n",
       "       [10., 10.]], dtype=float32)>"
      ]
     },
     "execution_count": 9,
     "metadata": {},
     "output_type": "execute_result"
    }
   ],
   "source": [
    "x = tf.constant(10, shape=(2, 2), dtype=tf.float32)\n",
    "x"
   ]
  },
  {
   "cell_type": "code",
   "execution_count": 11,
   "metadata": {},
   "outputs": [
    {
     "data": {
      "text/plain": [
       "<tf.Tensor: shape=(2, 2), dtype=float32, numpy=\n",
       "array([[10., 20.],\n",
       "       [30., 40.]], dtype=float32)>"
      ]
     },
     "execution_count": 11,
     "metadata": {},
     "output_type": "execute_result"
    }
   ],
   "source": [
    "x = tf.constant([10, 20, 30, 40], shape=(2, 2), dtype=tf.float32)\n",
    "x"
   ]
  },
  {
   "cell_type": "code",
   "execution_count": 13,
   "metadata": {},
   "outputs": [
    {
     "data": {
      "text/plain": [
       "<tf.Tensor: shape=(1, 3), dtype=float32, numpy=array([[10., 20., 30.]], dtype=float32)>"
      ]
     },
     "execution_count": 13,
     "metadata": {},
     "output_type": "execute_result"
    }
   ],
   "source": [
    "x = tf.constant([10, 20, 30], shape=(1, 3), dtype=tf.float32)\n",
    "x"
   ]
  },
  {
   "cell_type": "code",
   "execution_count": 14,
   "metadata": {},
   "outputs": [
    {
     "data": {
      "text/plain": [
       "<tf.Tensor: shape=(3, 1), dtype=float32, numpy=\n",
       "array([[10.],\n",
       "       [20.],\n",
       "       [30.]], dtype=float32)>"
      ]
     },
     "execution_count": 14,
     "metadata": {},
     "output_type": "execute_result"
    }
   ],
   "source": [
    "x = tf.constant([10, 20, 30], shape=(3, 1), dtype=tf.float32)\n",
    "x"
   ]
  },
  {
   "cell_type": "code",
   "execution_count": 17,
   "metadata": {},
   "outputs": [
    {
     "data": {
      "text/plain": [
       "<tf.Tensor: shape=(3, 2), dtype=float32, numpy=\n",
       "array([[10., 20.],\n",
       "       [30., 40.],\n",
       "       [50., 60.]], dtype=float32)>"
      ]
     },
     "execution_count": 17,
     "metadata": {},
     "output_type": "execute_result"
    }
   ],
   "source": [
    "x = tf.constant([[10, 20, 30], [40, 50, 60]], shape=(3, 2), dtype=tf.float32)\n",
    "x"
   ]
  },
  {
   "cell_type": "code",
   "execution_count": 18,
   "metadata": {},
   "outputs": [
    {
     "data": {
      "text/plain": [
       "<tf.Tensor: shape=(3, 3), dtype=float32, numpy=\n",
       "array([[1., 1., 1.],\n",
       "       [1., 1., 1.],\n",
       "       [1., 1., 1.]], dtype=float32)>"
      ]
     },
     "execution_count": 18,
     "metadata": {},
     "output_type": "execute_result"
    }
   ],
   "source": [
    "tf.ones((3,3))"
   ]
  },
  {
   "cell_type": "code",
   "execution_count": 19,
   "metadata": {},
   "outputs": [
    {
     "data": {
      "text/plain": [
       "<tf.Tensor: shape=(3, 3), dtype=float32, numpy=\n",
       "array([[0., 0., 0.],\n",
       "       [0., 0., 0.],\n",
       "       [0., 0., 0.]], dtype=float32)>"
      ]
     },
     "execution_count": 19,
     "metadata": {},
     "output_type": "execute_result"
    }
   ],
   "source": [
    "tf.zeros((3, 3))"
   ]
  },
  {
   "cell_type": "code",
   "execution_count": 20,
   "metadata": {},
   "outputs": [
    {
     "data": {
      "text/plain": [
       "<tf.Tensor: shape=(3, 3), dtype=float32, numpy=\n",
       "array([[1., 0., 0.],\n",
       "       [0., 1., 0.],\n",
       "       [0., 0., 1.]], dtype=float32)>"
      ]
     },
     "execution_count": 20,
     "metadata": {},
     "output_type": "execute_result"
    }
   ],
   "source": [
    "tf.eye(3)"
   ]
  },
  {
   "cell_type": "code",
   "execution_count": 21,
   "metadata": {},
   "outputs": [
    {
     "data": {
      "text/plain": [
       "<tf.Tensor: shape=(10,), dtype=int32, numpy=array([0, 1, 2, 3, 4, 5, 6, 7, 8, 9])>"
      ]
     },
     "execution_count": 21,
     "metadata": {},
     "output_type": "execute_result"
    }
   ],
   "source": [
    "tf.range(10)"
   ]
  },
  {
   "cell_type": "code",
   "execution_count": 22,
   "metadata": {},
   "outputs": [
    {
     "data": {
      "text/plain": [
       "<tf.Tensor: shape=(7,), dtype=int32, numpy=array([ 1,  4,  7, 10, 13, 16, 19])>"
      ]
     },
     "execution_count": 22,
     "metadata": {},
     "output_type": "execute_result"
    }
   ],
   "source": [
    "tf.range(start=1, limit=20, delta=3)"
   ]
  },
  {
   "cell_type": "code",
   "execution_count": 23,
   "metadata": {},
   "outputs": [
    {
     "data": {
      "text/plain": [
       "<tf.Tensor: shape=(3, 3), dtype=float32, numpy=\n",
       "array([[2.1445463 , 1.6314118 , 2.983385  ],\n",
       "       [0.32513094, 0.62303996, 1.9193902 ],\n",
       "       [0.02447176, 1.7481887 , 0.8806057 ]], dtype=float32)>"
      ]
     },
     "execution_count": 23,
     "metadata": {},
     "output_type": "execute_result"
    }
   ],
   "source": [
    "tf.random.uniform((3,3), minval=0, maxval=3)"
   ]
  },
  {
   "cell_type": "code",
   "execution_count": 24,
   "metadata": {},
   "outputs": [
    {
     "data": {
      "text/plain": [
       "<tf.Tensor: shape=(5, 5), dtype=float32, numpy=\n",
       "array([[-0.2695155 ,  0.73712915,  0.6797922 ,  1.3061135 , -0.0114889 ],\n",
       "       [-0.34328064,  0.44189176, -0.3730192 , -1.8926729 ,  0.88534576],\n",
       "       [ 1.8816733 ,  1.2419357 ,  2.2958446 , -0.98378634,  0.2976266 ],\n",
       "       [-1.0014094 , -0.16461368, -0.8658073 , -1.7212021 , -0.07271829],\n",
       "       [ 1.6246855 ,  1.0381364 ,  0.20539601,  0.75268346, -0.6649557 ]],\n",
       "      dtype=float32)>"
      ]
     },
     "execution_count": 24,
     "metadata": {},
     "output_type": "execute_result"
    }
   ],
   "source": [
    "tf.random.normal((5,5), mean=0, stddev=1)"
   ]
  },
  {
   "cell_type": "code",
   "execution_count": 25,
   "metadata": {},
   "outputs": [],
   "source": [
    "x = tf.range(10)"
   ]
  },
  {
   "cell_type": "code",
   "execution_count": 26,
   "metadata": {},
   "outputs": [
    {
     "data": {
      "text/plain": [
       "<tf.Tensor: shape=(10,), dtype=int32, numpy=array([0, 1, 2, 3, 4, 5, 6, 7, 8, 9])>"
      ]
     },
     "execution_count": 26,
     "metadata": {},
     "output_type": "execute_result"
    }
   ],
   "source": [
    "x"
   ]
  },
  {
   "cell_type": "code",
   "execution_count": 27,
   "metadata": {},
   "outputs": [
    {
     "data": {
      "text/plain": [
       "<tf.Tensor: shape=(10,), dtype=float32, numpy=array([0., 1., 2., 3., 4., 5., 6., 7., 8., 9.], dtype=float32)>"
      ]
     },
     "execution_count": 27,
     "metadata": {},
     "output_type": "execute_result"
    }
   ],
   "source": [
    "tf.cast(x, dtype=tf.float32)"
   ]
  },
  {
   "cell_type": "markdown",
   "metadata": {},
   "source": [
    "### Mathematical Operations"
   ]
  },
  {
   "cell_type": "code",
   "execution_count": 28,
   "metadata": {},
   "outputs": [],
   "source": [
    "x = tf.constant(10)\n",
    "y = tf.constant(20)"
   ]
  },
  {
   "cell_type": "code",
   "execution_count": 29,
   "metadata": {},
   "outputs": [
    {
     "data": {
      "text/plain": [
       "tensorflow.python.framework.ops.EagerTensor"
      ]
     },
     "execution_count": 29,
     "metadata": {},
     "output_type": "execute_result"
    }
   ],
   "source": [
    "type(x)"
   ]
  },
  {
   "cell_type": "code",
   "execution_count": 30,
   "metadata": {},
   "outputs": [
    {
     "data": {
      "text/plain": [
       "<tf.Tensor: shape=(), dtype=int32, numpy=30>"
      ]
     },
     "execution_count": 30,
     "metadata": {},
     "output_type": "execute_result"
    }
   ],
   "source": [
    "x + y"
   ]
  },
  {
   "cell_type": "code",
   "execution_count": 31,
   "metadata": {},
   "outputs": [
    {
     "data": {
      "text/plain": [
       "<tf.Tensor: shape=(), dtype=int32, numpy=30>"
      ]
     },
     "execution_count": 31,
     "metadata": {},
     "output_type": "execute_result"
    }
   ],
   "source": [
    "tf.add(x,y)"
   ]
  },
  {
   "cell_type": "code",
   "execution_count": 32,
   "metadata": {},
   "outputs": [
    {
     "data": {
      "text/plain": [
       "<tf.Tensor: shape=(), dtype=int32, numpy=-10>"
      ]
     },
     "execution_count": 32,
     "metadata": {},
     "output_type": "execute_result"
    }
   ],
   "source": [
    "tf.subtract(x,y)"
   ]
  },
  {
   "cell_type": "code",
   "execution_count": 33,
   "metadata": {},
   "outputs": [
    {
     "data": {
      "text/plain": [
       "<tf.Tensor: shape=(), dtype=int32, numpy=200>"
      ]
     },
     "execution_count": 33,
     "metadata": {},
     "output_type": "execute_result"
    }
   ],
   "source": [
    "tf.multiply(x, y)"
   ]
  },
  {
   "cell_type": "code",
   "execution_count": 34,
   "metadata": {},
   "outputs": [
    {
     "data": {
      "text/plain": [
       "<tf.Tensor: shape=(), dtype=float64, numpy=0.5>"
      ]
     },
     "execution_count": 34,
     "metadata": {},
     "output_type": "execute_result"
    }
   ],
   "source": [
    "tf.divide(x, y)"
   ]
  },
  {
   "cell_type": "code",
   "execution_count": 42,
   "metadata": {},
   "outputs": [],
   "source": [
    "x = tf.random.normal((2, 3))\n",
    "y = tf.random.normal((3, 4))"
   ]
  },
  {
   "cell_type": "code",
   "execution_count": 44,
   "metadata": {},
   "outputs": [
    {
     "data": {
      "text/plain": [
       "<tf.Tensor: shape=(2, 4), dtype=float32, numpy=\n",
       "array([[ 1.9041513 , -0.5205671 ,  0.9650185 , -2.5438151 ],\n",
       "       [ 1.9232719 ,  1.085324  ,  0.47293463, -2.6411028 ]],\n",
       "      dtype=float32)>"
      ]
     },
     "execution_count": 44,
     "metadata": {},
     "output_type": "execute_result"
    }
   ],
   "source": [
    "tf.matmul(x, y)"
   ]
  },
  {
   "cell_type": "code",
   "execution_count": 45,
   "metadata": {},
   "outputs": [
    {
     "data": {
      "text/plain": [
       "<tf.Tensor: shape=(2, 4), dtype=float32, numpy=\n",
       "array([[ 1.9041513 , -0.5205671 ,  0.9650185 , -2.5438151 ],\n",
       "       [ 1.9232719 ,  1.085324  ,  0.47293463, -2.6411028 ]],\n",
       "      dtype=float32)>"
      ]
     },
     "execution_count": 45,
     "metadata": {},
     "output_type": "execute_result"
    }
   ],
   "source": [
    "x @ y"
   ]
  },
  {
   "cell_type": "markdown",
   "metadata": {},
   "source": [
    "### Index"
   ]
  },
  {
   "cell_type": "code",
   "execution_count": 46,
   "metadata": {},
   "outputs": [],
   "source": [
    "x = tf.constant([1, 2, 3, 4, 5, 6, 7, 8, 9, 10])"
   ]
  },
  {
   "cell_type": "code",
   "execution_count": 47,
   "metadata": {},
   "outputs": [
    {
     "data": {
      "text/plain": [
       "<tf.Tensor: shape=(), dtype=int32, numpy=3>"
      ]
     },
     "execution_count": 47,
     "metadata": {},
     "output_type": "execute_result"
    }
   ],
   "source": [
    "x[2]"
   ]
  },
  {
   "cell_type": "code",
   "execution_count": 48,
   "metadata": {},
   "outputs": [
    {
     "data": {
      "text/plain": [
       "<tf.Tensor: shape=(3,), dtype=int32, numpy=array([3, 4, 5])>"
      ]
     },
     "execution_count": 48,
     "metadata": {},
     "output_type": "execute_result"
    }
   ],
   "source": [
    "x[2:5]"
   ]
  },
  {
   "cell_type": "code",
   "execution_count": 49,
   "metadata": {},
   "outputs": [
    {
     "data": {
      "text/plain": [
       "<tf.Tensor: shape=(10,), dtype=int32, numpy=array([ 1,  2,  3,  4,  5,  6,  7,  8,  9, 10])>"
      ]
     },
     "execution_count": 49,
     "metadata": {},
     "output_type": "execute_result"
    }
   ],
   "source": [
    "x[:]"
   ]
  },
  {
   "cell_type": "code",
   "execution_count": 50,
   "metadata": {},
   "outputs": [
    {
     "data": {
      "text/plain": [
       "<tf.Tensor: shape=(8,), dtype=int32, numpy=array([ 3,  4,  5,  6,  7,  8,  9, 10])>"
      ]
     },
     "execution_count": 50,
     "metadata": {},
     "output_type": "execute_result"
    }
   ],
   "source": [
    "x[2:]"
   ]
  },
  {
   "cell_type": "code",
   "execution_count": 51,
   "metadata": {},
   "outputs": [
    {
     "data": {
      "text/plain": [
       "<tf.Tensor: shape=(6,), dtype=int32, numpy=array([1, 2, 3, 4, 5, 6])>"
      ]
     },
     "execution_count": 51,
     "metadata": {},
     "output_type": "execute_result"
    }
   ],
   "source": [
    "x[:6]"
   ]
  },
  {
   "cell_type": "code",
   "execution_count": 52,
   "metadata": {},
   "outputs": [
    {
     "data": {
      "text/plain": [
       "<tf.Tensor: shape=(5,), dtype=int32, numpy=array([1, 3, 5, 7, 9])>"
      ]
     },
     "execution_count": 52,
     "metadata": {},
     "output_type": "execute_result"
    }
   ],
   "source": [
    "x[::2]"
   ]
  },
  {
   "cell_type": "code",
   "execution_count": 53,
   "metadata": {},
   "outputs": [
    {
     "data": {
      "text/plain": [
       "<tf.Tensor: shape=(3,), dtype=int32, numpy=array([1, 4, 8])>"
      ]
     },
     "execution_count": 53,
     "metadata": {},
     "output_type": "execute_result"
    }
   ],
   "source": [
    "tf.gather(x, [0, 3, 7])"
   ]
  },
  {
   "cell_type": "code",
   "execution_count": 56,
   "metadata": {},
   "outputs": [],
   "source": [
    "x = tf.constant([[1, 2, 3],[4, 5, 6],[7, 8, 9]])"
   ]
  },
  {
   "cell_type": "code",
   "execution_count": 57,
   "metadata": {},
   "outputs": [
    {
     "data": {
      "text/plain": [
       "<tf.Tensor: shape=(3,), dtype=int32, numpy=array([1, 2, 3])>"
      ]
     },
     "execution_count": 57,
     "metadata": {},
     "output_type": "execute_result"
    }
   ],
   "source": [
    "x[0,:]"
   ]
  },
  {
   "cell_type": "code",
   "execution_count": 58,
   "metadata": {},
   "outputs": [
    {
     "data": {
      "text/plain": [
       "<tf.Tensor: shape=(2, 3), dtype=int32, numpy=\n",
       "array([[1, 2, 3],\n",
       "       [4, 5, 6]])>"
      ]
     },
     "execution_count": 58,
     "metadata": {},
     "output_type": "execute_result"
    }
   ],
   "source": [
    "x[0:2, :]"
   ]
  },
  {
   "cell_type": "code",
   "execution_count": 59,
   "metadata": {},
   "outputs": [
    {
     "data": {
      "text/plain": [
       "<tf.Tensor: shape=(1,), dtype=int32, numpy=array([1])>"
      ]
     },
     "execution_count": 59,
     "metadata": {},
     "output_type": "execute_result"
    }
   ],
   "source": [
    "x[0, : 1:2]"
   ]
  },
  {
   "cell_type": "code",
   "execution_count": 60,
   "metadata": {},
   "outputs": [
    {
     "data": {
      "text/plain": [
       "<tf.Tensor: shape=(0, 3), dtype=int32, numpy=array([], shape=(0, 3), dtype=int32)>"
      ]
     },
     "execution_count": 60,
     "metadata": {},
     "output_type": "execute_result"
    }
   ],
   "source": [
    "x[ : 0:2]"
   ]
  },
  {
   "cell_type": "code",
   "execution_count": 64,
   "metadata": {},
   "outputs": [
    {
     "data": {
      "text/plain": [
       "<tf.Tensor: shape=(2, 2), dtype=int32, numpy=\n",
       "array([[1, 2],\n",
       "       [4, 5]])>"
      ]
     },
     "execution_count": 64,
     "metadata": {},
     "output_type": "execute_result"
    }
   ],
   "source": [
    "x[0:2, 0:2]"
   ]
  },
  {
   "cell_type": "markdown",
   "metadata": {},
   "source": [
    "### Reshaping"
   ]
  },
  {
   "cell_type": "code",
   "execution_count": 74,
   "metadata": {},
   "outputs": [],
   "source": [
    "x = tf.range(10)"
   ]
  },
  {
   "cell_type": "code",
   "execution_count": 75,
   "metadata": {},
   "outputs": [
    {
     "data": {
      "text/plain": [
       "<tf.Tensor: shape=(10,), dtype=int32, numpy=array([0, 1, 2, 3, 4, 5, 6, 7, 8, 9])>"
      ]
     },
     "execution_count": 75,
     "metadata": {},
     "output_type": "execute_result"
    }
   ],
   "source": [
    "x"
   ]
  },
  {
   "cell_type": "code",
   "execution_count": 76,
   "metadata": {},
   "outputs": [
    {
     "data": {
      "text/plain": [
       "<tf.Tensor: shape=(2, 5), dtype=int32, numpy=\n",
       "array([[0, 1, 2, 3, 4],\n",
       "       [5, 6, 7, 8, 9]])>"
      ]
     },
     "execution_count": 76,
     "metadata": {},
     "output_type": "execute_result"
    }
   ],
   "source": [
    "tf.reshape(x, (2, 5))"
   ]
  },
  {
   "cell_type": "markdown",
   "metadata": {},
   "source": [
    "### Sessions"
   ]
  },
  {
   "cell_type": "code",
   "execution_count": 10,
   "metadata": {},
   "outputs": [
    {
     "name": "stdout",
     "output_type": "stream",
     "text": [
      "Tensor(\"Add_5:0\", shape=(), dtype=int32) Tensor(\"Multiply_5:0\", shape=(), dtype=int32) Tensor(\"Power_5:0\", shape=(), dtype=int32) Tensor(\"Some_4:0\", shape=(), dtype=float64)\n",
      "Tensor(\"Add_5:0\", shape=(), dtype=int32) Tensor(\"Multiply_5:0\", shape=(), dtype=int32) 15625 3125.0\n"
     ]
    }
   ],
   "source": [
    "import tensorflow as tf\n",
    "tf.compat.v1.disable_eager_execution()\n",
    "x = tf.constant(2)\n",
    "y = tf.constant(3)\n",
    "\n",
    "add_op = tf.add(x, y, name='Add')\n",
    "mul_op = tf.multiply(x, y, name='Multiply')\n",
    "pow_op = tf.pow(add_op, mul_op, name='Power')\n",
    "some_op = tf.divide(pow_op, add_op, name='Some')\n",
    "\n",
    "print(add_op, mul_op, pow_op, some_op)\n",
    "\n",
    "with tf.compat.v1.Session() as session:\n",
    "    pow_out, some_out = session.run([pow_op, some_op])\n",
    "    \n",
    "print(add_op, mul_op, pow_out, some_out)"
   ]
  },
  {
   "cell_type": "code",
   "execution_count": 11,
   "metadata": {},
   "outputs": [],
   "source": [
    "colors = [\"red\", \"green\", \"blue\"]"
   ]
  },
  {
   "cell_type": "code",
   "execution_count": 12,
   "metadata": {},
   "outputs": [
    {
     "name": "stdout",
     "output_type": "stream",
     "text": [
      "red green blue\n"
     ]
    }
   ],
   "source": [
    "r, g, b = colors\n",
    "print(r, g, b)"
   ]
  },
  {
   "cell_type": "code",
   "execution_count": 13,
   "metadata": {},
   "outputs": [
    {
     "ename": "ValueError",
     "evalue": "too many values to unpack (expected 3)",
     "output_type": "error",
     "traceback": [
      "\u001b[1;31m---------------------------------------------------------------------------\u001b[0m",
      "\u001b[1;31mValueError\u001b[0m                                Traceback (most recent call last)",
      "\u001b[1;32m<ipython-input-13-6a62b5344239>\u001b[0m in \u001b[0;36m<module>\u001b[1;34m\u001b[0m\n\u001b[0;32m      1\u001b[0m \u001b[0mcolors\u001b[0m \u001b[1;33m=\u001b[0m \u001b[1;33m[\u001b[0m\u001b[1;34m\"red\"\u001b[0m\u001b[1;33m,\u001b[0m \u001b[1;34m\"green\"\u001b[0m\u001b[1;33m,\u001b[0m \u001b[1;34m\"blue\"\u001b[0m\u001b[1;33m,\u001b[0m \u001b[1;34m\"yellow\"\u001b[0m\u001b[1;33m,\u001b[0m \u001b[1;34m\"pink\"\u001b[0m\u001b[1;33m]\u001b[0m\u001b[1;33m\u001b[0m\u001b[1;33m\u001b[0m\u001b[0m\n\u001b[1;32m----> 2\u001b[1;33m \u001b[0mr\u001b[0m\u001b[1;33m,\u001b[0m \u001b[0mg\u001b[0m\u001b[1;33m,\u001b[0m \u001b[0mb\u001b[0m \u001b[1;33m=\u001b[0m \u001b[0mcolors\u001b[0m\u001b[1;33m\u001b[0m\u001b[1;33m\u001b[0m\u001b[0m\n\u001b[0m\u001b[0;32m      3\u001b[0m \u001b[0mprint\u001b[0m\u001b[1;33m(\u001b[0m\u001b[0mr\u001b[0m\u001b[1;33m,\u001b[0m \u001b[0mg\u001b[0m\u001b[1;33m,\u001b[0m \u001b[0mb\u001b[0m\u001b[1;33m)\u001b[0m\u001b[1;33m\u001b[0m\u001b[1;33m\u001b[0m\u001b[0m\n",
      "\u001b[1;31mValueError\u001b[0m: too many values to unpack (expected 3)"
     ]
    }
   ],
   "source": [
    "colors = [\"red\", \"green\", \"blue\", \"yellow\", \"pink\"]\n",
    "r, g, b = colors\n",
    "print(r, g, b)\n"
   ]
  },
  {
   "cell_type": "code",
   "execution_count": 14,
   "metadata": {},
   "outputs": [
    {
     "name": "stdout",
     "output_type": "stream",
     "text": [
      "red green blue ['yellow', 'pink']\n"
     ]
    }
   ],
   "source": [
    "r, g, b, *x = colors\n",
    "print(r, g, b, x)"
   ]
  },
  {
   "cell_type": "code",
   "execution_count": 16,
   "metadata": {},
   "outputs": [
    {
     "data": {
      "text/plain": [
       "['red', 'green', 'blue', 'yellow', 'pink']"
      ]
     },
     "execution_count": 16,
     "metadata": {},
     "output_type": "execute_result"
    }
   ],
   "source": [
    "colors"
   ]
  },
  {
   "cell_type": "code",
   "execution_count": 17,
   "metadata": {},
   "outputs": [],
   "source": [
    "_, *x = colors"
   ]
  },
  {
   "cell_type": "code",
   "execution_count": 18,
   "metadata": {},
   "outputs": [
    {
     "data": {
      "text/plain": [
       "['green', 'blue', 'yellow', 'pink']"
      ]
     },
     "execution_count": 18,
     "metadata": {},
     "output_type": "execute_result"
    }
   ],
   "source": [
    "x\n"
   ]
  },
  {
   "cell_type": "code",
   "execution_count": 20,
   "metadata": {},
   "outputs": [],
   "source": [
    "_, *x = colors"
   ]
  },
  {
   "cell_type": "code",
   "execution_count": 21,
   "metadata": {},
   "outputs": [
    {
     "data": {
      "text/plain": [
       "'red'"
      ]
     },
     "execution_count": 21,
     "metadata": {},
     "output_type": "execute_result"
    }
   ],
   "source": [
    "_"
   ]
  },
  {
   "cell_type": "code",
   "execution_count": 23,
   "metadata": {},
   "outputs": [
    {
     "data": {
      "text/plain": [
       "{'red': 1, 'green': 2, 'blue': 3}"
      ]
     },
     "execution_count": 23,
     "metadata": {},
     "output_type": "execute_result"
    }
   ],
   "source": [
    "T1 = (\"red\", \"green\", \"blue\")\n",
    "T2 = (1, 2, 3, 4)\n",
    "dict(zip(T1, T2))"
   ]
  },
  {
   "cell_type": "code",
   "execution_count": 24,
   "metadata": {},
   "outputs": [
    {
     "data": {
      "text/plain": [
       "dict_items([('red', 1), ('green', 2), ('blue', 3)])"
      ]
     },
     "execution_count": 24,
     "metadata": {},
     "output_type": "execute_result"
    }
   ],
   "source": [
    "D = {'red': 1, 'green': 2, 'blue': 3}\n",
    "D.items()"
   ]
  },
  {
   "cell_type": "code",
   "execution_count": 25,
   "metadata": {},
   "outputs": [
    {
     "data": {
      "text/plain": [
       "[('red', 1), ('green', 2), ('blue', 3)]"
      ]
     },
     "execution_count": 25,
     "metadata": {},
     "output_type": "execute_result"
    }
   ],
   "source": [
    "T1 = (\"red\", \"green\", \"blue\")\n",
    "T2 = (1, 2, 3, 4)\n",
    "list(zip(T1, T2))"
   ]
  },
  {
   "cell_type": "code",
   "execution_count": 26,
   "metadata": {},
   "outputs": [
    {
     "data": {
      "text/plain": [
       "[('red', 'green', 'blue'), (1, 2, 3)]"
      ]
     },
     "execution_count": 26,
     "metadata": {},
     "output_type": "execute_result"
    }
   ],
   "source": [
    "LT = [('red', 1), ('green', 2), ('blue', 3)]\n",
    "list(zip(*LT))"
   ]
  },
  {
   "cell_type": "code",
   "execution_count": 29,
   "metadata": {},
   "outputs": [
    {
     "name": "stdout",
     "output_type": "stream",
     "text": [
      "[[0.07717548 0.98123449]\n",
      " [0.11675271 0.72391886]]\n",
      "[[0.12051784 0.78606135]\n",
      " [0.09352994 0.6386203 ]]\n"
     ]
    }
   ],
   "source": [
    "import numpy as np\n",
    "tf.compat.v1.disable_eager_execution()\n",
    "x = tf.compat.v1.placeholder(tf.float32, shape=(2,2))\n",
    "y = tf.matmul(x, x)\n",
    "\n",
    "with tf.compat.v1.Session() as session:\n",
    "    data = np.random.rand(2, 2)\n",
    "    result = session.run(y, feed_dict={x: data})\n",
    "    print(data)\n",
    "    print(result)"
   ]
  },
  {
   "cell_type": "markdown",
   "metadata": {},
   "source": [
    "### Keras"
   ]
  },
  {
   "cell_type": "code",
   "execution_count": 39,
   "metadata": {},
   "outputs": [],
   "source": [
    "\n",
    "from keras.models import Sequential"
   ]
  },
  {
   "cell_type": "code",
   "execution_count": null,
   "metadata": {},
   "outputs": [],
   "source": [
    "%pip install keras"
   ]
  },
  {
   "cell_type": "code",
   "execution_count": 32,
   "metadata": {},
   "outputs": [],
   "source": [
    "from keras.layers import Dense, Activation, Dropout"
   ]
  },
  {
   "cell_type": "code",
   "execution_count": 33,
   "metadata": {},
   "outputs": [],
   "source": [
    "num_classes = 3"
   ]
  },
  {
   "cell_type": "code",
   "execution_count": 36,
   "metadata": {},
   "outputs": [],
   "source": [
    "model = Sequential()\n",
    "model.add(Dense(512, activation='relu'))\n",
    "model.add(Dropout(0.2))\n",
    "model.add(Dense(512, activation='relu'))\n",
    "model.add(Dropout(0.2))\n",
    "model.add(Dense(512, activation='relu'))\n",
    "model.add(Dropout(0.2))\n",
    "model.add(Dense(num_classes, activation='softmax'))"
   ]
  },
  {
   "cell_type": "markdown",
   "metadata": {},
   "source": [
    "### Linear Regression using Tensor Flow"
   ]
  },
  {
   "cell_type": "code",
   "execution_count": 65,
   "metadata": {},
   "outputs": [
    {
     "ename": "ValueError",
     "evalue": "tf.enable_eager_execution must be called at program startup.",
     "output_type": "error",
     "traceback": [
      "\u001b[1;31m---------------------------------------------------------------------------\u001b[0m",
      "\u001b[1;31mValueError\u001b[0m                                Traceback (most recent call last)",
      "\u001b[1;32m<ipython-input-65-fe1224aee7f2>\u001b[0m in \u001b[0;36m<module>\u001b[1;34m\u001b[0m\n\u001b[0;32m      1\u001b[0m \u001b[1;32mimport\u001b[0m \u001b[0mtensorflow\u001b[0m \u001b[1;32mas\u001b[0m \u001b[0mtf\u001b[0m\u001b[1;33m\u001b[0m\u001b[1;33m\u001b[0m\u001b[0m\n\u001b[0;32m      2\u001b[0m \u001b[1;32mimport\u001b[0m \u001b[0mnumpy\u001b[0m \u001b[1;32mas\u001b[0m \u001b[0mnp\u001b[0m\u001b[1;33m\u001b[0m\u001b[1;33m\u001b[0m\u001b[0m\n\u001b[1;32m----> 3\u001b[1;33m \u001b[0mtf\u001b[0m\u001b[1;33m.\u001b[0m\u001b[0mcompat\u001b[0m\u001b[1;33m.\u001b[0m\u001b[0mv1\u001b[0m\u001b[1;33m.\u001b[0m\u001b[0menable_eager_execution\u001b[0m\u001b[1;33m(\u001b[0m\u001b[1;33m)\u001b[0m\u001b[1;33m\u001b[0m\u001b[1;33m\u001b[0m\u001b[0m\n\u001b[0m",
      "\u001b[1;32m~\\AppData\\Local\\Programs\\Python\\Python37\\lib\\site-packages\\tensorflow\\python\\framework\\ops.py\u001b[0m in \u001b[0;36menable_eager_execution\u001b[1;34m(config, device_policy, execution_mode)\u001b[0m\n\u001b[0;32m   5906\u001b[0m         \u001b[0mdevice_policy\u001b[0m\u001b[1;33m=\u001b[0m\u001b[0mdevice_policy\u001b[0m\u001b[1;33m,\u001b[0m\u001b[1;33m\u001b[0m\u001b[1;33m\u001b[0m\u001b[0m\n\u001b[0;32m   5907\u001b[0m         \u001b[0mexecution_mode\u001b[0m\u001b[1;33m=\u001b[0m\u001b[0mexecution_mode\u001b[0m\u001b[1;33m,\u001b[0m\u001b[1;33m\u001b[0m\u001b[1;33m\u001b[0m\u001b[0m\n\u001b[1;32m-> 5908\u001b[1;33m         server_def=None)\n\u001b[0m\u001b[0;32m   5909\u001b[0m \u001b[1;33m\u001b[0m\u001b[0m\n\u001b[0;32m   5910\u001b[0m \u001b[1;33m\u001b[0m\u001b[0m\n",
      "\u001b[1;32m~\\AppData\\Local\\Programs\\Python\\Python37\\lib\\site-packages\\tensorflow\\python\\framework\\ops.py\u001b[0m in \u001b[0;36menable_eager_execution_internal\u001b[1;34m(config, device_policy, execution_mode, server_def)\u001b[0m\n\u001b[0;32m   5966\u001b[0m     \u001b[1;32mif\u001b[0m \u001b[0mgraph_mode_has_been_used\u001b[0m\u001b[1;33m:\u001b[0m\u001b[1;33m\u001b[0m\u001b[1;33m\u001b[0m\u001b[0m\n\u001b[0;32m   5967\u001b[0m       raise ValueError(\n\u001b[1;32m-> 5968\u001b[1;33m           \"tf.enable_eager_execution must be called at program startup.\")\n\u001b[0m\u001b[0;32m   5969\u001b[0m   \u001b[0mcontext\u001b[0m\u001b[1;33m.\u001b[0m\u001b[0mdefault_execution_mode\u001b[0m \u001b[1;33m=\u001b[0m \u001b[0mcontext\u001b[0m\u001b[1;33m.\u001b[0m\u001b[0mEAGER_MODE\u001b[0m\u001b[1;33m\u001b[0m\u001b[1;33m\u001b[0m\u001b[0m\n\u001b[0;32m   5970\u001b[0m   \u001b[1;31m# pylint: disable=protected-access\u001b[0m\u001b[1;33m\u001b[0m\u001b[1;33m\u001b[0m\u001b[1;33m\u001b[0m\u001b[0m\n",
      "\u001b[1;31mValueError\u001b[0m: tf.enable_eager_execution must be called at program startup."
     ]
    }
   ],
   "source": [
    "import tensorflow as tf\n",
    "import numpy as np\n",
    "tf.compat.v1.enable_eager_execution()"
   ]
  },
  {
   "cell_type": "code",
   "execution_count": 41,
   "metadata": {},
   "outputs": [],
   "source": [
    "X = np.array([3.3,4.4,5.5,6.71,6.93,4.168,9.779,6.182,7.59,2.167,\n",
    "              7.042,10.791,5.313,7.997,5.654,9.27,3.1])\n",
    "Y = np.array([1.7,2.76,2.09,3.19,1.694,1.573,3.366,2.596,2.53,1.221,\n",
    "              2.827,3.465,1.65,2.904,2.42,2.94,1.3])"
   ]
  },
  {
   "cell_type": "code",
   "execution_count": 42,
   "metadata": {},
   "outputs": [],
   "source": [
    "#  Weight and bias, initialized randomly\n",
    "W = tf.Variable(np.random.randn(), name='weight')\n",
    "b = tf.Variable(np.random.randn(), name='bias')"
   ]
  },
  {
   "cell_type": "code",
   "execution_count": 43,
   "metadata": {},
   "outputs": [],
   "source": [
    "def linear_regression(x):\n",
    "    return W*x + b"
   ]
  },
  {
   "cell_type": "code",
   "execution_count": 44,
   "metadata": {},
   "outputs": [],
   "source": [
    "def mean_square(y_pred, y_true):\n",
    "    return tf.reduce_mean(tf.square(y_pred - y_true))"
   ]
  },
  {
   "cell_type": "code",
   "execution_count": 45,
   "metadata": {},
   "outputs": [
    {
     "data": {
      "text/plain": [
       "<tf.Tensor 'add_6:0' shape=(17,) dtype=float32>"
      ]
     },
     "execution_count": 45,
     "metadata": {},
     "output_type": "execute_result"
    }
   ],
   "source": [
    "linear_regression(X)"
   ]
  },
  {
   "cell_type": "code",
   "execution_count": 58,
   "metadata": {},
   "outputs": [],
   "source": [
    "optimizer = tf.optimizers.SGD(0.1)"
   ]
  },
  {
   "cell_type": "code",
   "execution_count": 61,
   "metadata": {},
   "outputs": [],
   "source": [
    "def run_optimization():\n",
    "    \n",
    "    with tf.GradientTape() as g:\n",
    "        pred = linear_regression(X)\n",
    "        loss = mean_square(pred, Y)\n",
    "    \n",
    "    gradients = g.gradient(loss, [W, b])\n",
    "    print(gradients)\n",
    "    \n",
    "    optimizer.apply_gradients(zip(gradients, [W, b]))\n",
    "    "
   ]
  },
  {
   "cell_type": "code",
   "execution_count": 62,
   "metadata": {},
   "outputs": [
    {
     "name": "stdout",
     "output_type": "stream",
     "text": [
      "[<tf.Tensor 'gradient_tape/mul_5/Reshape:0' shape=() dtype=float32>, <tf.Tensor 'gradient_tape/add_11/Reshape:0' shape=() dtype=float32>]\n"
     ]
    }
   ],
   "source": [
    "run_optimization()"
   ]
  },
  {
   "cell_type": "code",
   "execution_count": 63,
   "metadata": {},
   "outputs": [
    {
     "name": "stdout",
     "output_type": "stream",
     "text": [
      "[<tf.Tensor 'gradient_tape/mul_6/Reshape:0' shape=() dtype=float32>, <tf.Tensor 'gradient_tape/add_12/Reshape:0' shape=() dtype=float32>]\n",
      "[<tf.Tensor 'gradient_tape/mul_7/Reshape:0' shape=() dtype=float32>, <tf.Tensor 'gradient_tape/add_13/Reshape:0' shape=() dtype=float32>]\n",
      "[<tf.Tensor 'gradient_tape/mul_8/Reshape:0' shape=() dtype=float32>, <tf.Tensor 'gradient_tape/add_14/Reshape:0' shape=() dtype=float32>]\n",
      "[<tf.Tensor 'gradient_tape/mul_9/Reshape:0' shape=() dtype=float32>, <tf.Tensor 'gradient_tape/add_15/Reshape:0' shape=() dtype=float32>]\n",
      "[<tf.Tensor 'gradient_tape/mul_10/Reshape:0' shape=() dtype=float32>, <tf.Tensor 'gradient_tape/add_16/Reshape:0' shape=() dtype=float32>]\n",
      "[<tf.Tensor 'gradient_tape/mul_11/Reshape:0' shape=() dtype=float32>, <tf.Tensor 'gradient_tape/add_17/Reshape:0' shape=() dtype=float32>]\n",
      "[<tf.Tensor 'gradient_tape/mul_12/Reshape:0' shape=() dtype=float32>, <tf.Tensor 'gradient_tape/add_18/Reshape:0' shape=() dtype=float32>]\n",
      "[<tf.Tensor 'gradient_tape/mul_13/Reshape:0' shape=() dtype=float32>, <tf.Tensor 'gradient_tape/add_19/Reshape:0' shape=() dtype=float32>]\n",
      "[<tf.Tensor 'gradient_tape/mul_14/Reshape:0' shape=() dtype=float32>, <tf.Tensor 'gradient_tape/add_20/Reshape:0' shape=() dtype=float32>]\n",
      "[<tf.Tensor 'gradient_tape/mul_15/Reshape:0' shape=() dtype=float32>, <tf.Tensor 'gradient_tape/add_21/Reshape:0' shape=() dtype=float32>]\n",
      "[<tf.Tensor 'gradient_tape/mul_16/Reshape:0' shape=() dtype=float32>, <tf.Tensor 'gradient_tape/add_22/Reshape:0' shape=() dtype=float32>]\n",
      "[<tf.Tensor 'gradient_tape/mul_17/Reshape:0' shape=() dtype=float32>, <tf.Tensor 'gradient_tape/add_23/Reshape:0' shape=() dtype=float32>]\n",
      "[<tf.Tensor 'gradient_tape/mul_18/Reshape:0' shape=() dtype=float32>, <tf.Tensor 'gradient_tape/add_24/Reshape:0' shape=() dtype=float32>]\n",
      "[<tf.Tensor 'gradient_tape/mul_19/Reshape:0' shape=() dtype=float32>, <tf.Tensor 'gradient_tape/add_25/Reshape:0' shape=() dtype=float32>]\n",
      "[<tf.Tensor 'gradient_tape/mul_20/Reshape:0' shape=() dtype=float32>, <tf.Tensor 'gradient_tape/add_26/Reshape:0' shape=() dtype=float32>]\n",
      "[<tf.Tensor 'gradient_tape/mul_21/Reshape:0' shape=() dtype=float32>, <tf.Tensor 'gradient_tape/add_27/Reshape:0' shape=() dtype=float32>]\n",
      "[<tf.Tensor 'gradient_tape/mul_22/Reshape:0' shape=() dtype=float32>, <tf.Tensor 'gradient_tape/add_28/Reshape:0' shape=() dtype=float32>]\n",
      "[<tf.Tensor 'gradient_tape/mul_23/Reshape:0' shape=() dtype=float32>, <tf.Tensor 'gradient_tape/add_29/Reshape:0' shape=() dtype=float32>]\n",
      "[<tf.Tensor 'gradient_tape/mul_24/Reshape:0' shape=() dtype=float32>, <tf.Tensor 'gradient_tape/add_30/Reshape:0' shape=() dtype=float32>]\n",
      "[<tf.Tensor 'gradient_tape/mul_25/Reshape:0' shape=() dtype=float32>, <tf.Tensor 'gradient_tape/add_31/Reshape:0' shape=() dtype=float32>]\n",
      "[<tf.Tensor 'gradient_tape/mul_26/Reshape:0' shape=() dtype=float32>, <tf.Tensor 'gradient_tape/add_32/Reshape:0' shape=() dtype=float32>]\n",
      "[<tf.Tensor 'gradient_tape/mul_27/Reshape:0' shape=() dtype=float32>, <tf.Tensor 'gradient_tape/add_33/Reshape:0' shape=() dtype=float32>]\n",
      "[<tf.Tensor 'gradient_tape/mul_28/Reshape:0' shape=() dtype=float32>, <tf.Tensor 'gradient_tape/add_34/Reshape:0' shape=() dtype=float32>]\n",
      "[<tf.Tensor 'gradient_tape/mul_29/Reshape:0' shape=() dtype=float32>, <tf.Tensor 'gradient_tape/add_35/Reshape:0' shape=() dtype=float32>]\n",
      "[<tf.Tensor 'gradient_tape/mul_30/Reshape:0' shape=() dtype=float32>, <tf.Tensor 'gradient_tape/add_36/Reshape:0' shape=() dtype=float32>]\n",
      "[<tf.Tensor 'gradient_tape/mul_31/Reshape:0' shape=() dtype=float32>, <tf.Tensor 'gradient_tape/add_37/Reshape:0' shape=() dtype=float32>]\n",
      "[<tf.Tensor 'gradient_tape/mul_32/Reshape:0' shape=() dtype=float32>, <tf.Tensor 'gradient_tape/add_38/Reshape:0' shape=() dtype=float32>]\n",
      "[<tf.Tensor 'gradient_tape/mul_33/Reshape:0' shape=() dtype=float32>, <tf.Tensor 'gradient_tape/add_39/Reshape:0' shape=() dtype=float32>]\n",
      "[<tf.Tensor 'gradient_tape/mul_34/Reshape:0' shape=() dtype=float32>, <tf.Tensor 'gradient_tape/add_40/Reshape:0' shape=() dtype=float32>]\n",
      "[<tf.Tensor 'gradient_tape/mul_35/Reshape:0' shape=() dtype=float32>, <tf.Tensor 'gradient_tape/add_41/Reshape:0' shape=() dtype=float32>]\n",
      "[<tf.Tensor 'gradient_tape/mul_36/Reshape:0' shape=() dtype=float32>, <tf.Tensor 'gradient_tape/add_42/Reshape:0' shape=() dtype=float32>]\n",
      "[<tf.Tensor 'gradient_tape/mul_37/Reshape:0' shape=() dtype=float32>, <tf.Tensor 'gradient_tape/add_43/Reshape:0' shape=() dtype=float32>]\n",
      "[<tf.Tensor 'gradient_tape/mul_38/Reshape:0' shape=() dtype=float32>, <tf.Tensor 'gradient_tape/add_44/Reshape:0' shape=() dtype=float32>]\n",
      "[<tf.Tensor 'gradient_tape/mul_39/Reshape:0' shape=() dtype=float32>, <tf.Tensor 'gradient_tape/add_45/Reshape:0' shape=() dtype=float32>]\n",
      "[<tf.Tensor 'gradient_tape/mul_40/Reshape:0' shape=() dtype=float32>, <tf.Tensor 'gradient_tape/add_46/Reshape:0' shape=() dtype=float32>]\n",
      "[<tf.Tensor 'gradient_tape/mul_41/Reshape:0' shape=() dtype=float32>, <tf.Tensor 'gradient_tape/add_47/Reshape:0' shape=() dtype=float32>]\n",
      "[<tf.Tensor 'gradient_tape/mul_42/Reshape:0' shape=() dtype=float32>, <tf.Tensor 'gradient_tape/add_48/Reshape:0' shape=() dtype=float32>]\n",
      "[<tf.Tensor 'gradient_tape/mul_43/Reshape:0' shape=() dtype=float32>, <tf.Tensor 'gradient_tape/add_49/Reshape:0' shape=() dtype=float32>]\n",
      "[<tf.Tensor 'gradient_tape/mul_44/Reshape:0' shape=() dtype=float32>, <tf.Tensor 'gradient_tape/add_50/Reshape:0' shape=() dtype=float32>]\n",
      "[<tf.Tensor 'gradient_tape/mul_45/Reshape:0' shape=() dtype=float32>, <tf.Tensor 'gradient_tape/add_51/Reshape:0' shape=() dtype=float32>]\n",
      "[<tf.Tensor 'gradient_tape/mul_46/Reshape:0' shape=() dtype=float32>, <tf.Tensor 'gradient_tape/add_52/Reshape:0' shape=() dtype=float32>]\n",
      "[<tf.Tensor 'gradient_tape/mul_47/Reshape:0' shape=() dtype=float32>, <tf.Tensor 'gradient_tape/add_53/Reshape:0' shape=() dtype=float32>]\n",
      "[<tf.Tensor 'gradient_tape/mul_48/Reshape:0' shape=() dtype=float32>, <tf.Tensor 'gradient_tape/add_54/Reshape:0' shape=() dtype=float32>]\n",
      "[<tf.Tensor 'gradient_tape/mul_49/Reshape:0' shape=() dtype=float32>, <tf.Tensor 'gradient_tape/add_55/Reshape:0' shape=() dtype=float32>]\n",
      "[<tf.Tensor 'gradient_tape/mul_50/Reshape:0' shape=() dtype=float32>, <tf.Tensor 'gradient_tape/add_56/Reshape:0' shape=() dtype=float32>]\n",
      "[<tf.Tensor 'gradient_tape/mul_51/Reshape:0' shape=() dtype=float32>, <tf.Tensor 'gradient_tape/add_57/Reshape:0' shape=() dtype=float32>]\n",
      "[<tf.Tensor 'gradient_tape/mul_52/Reshape:0' shape=() dtype=float32>, <tf.Tensor 'gradient_tape/add_58/Reshape:0' shape=() dtype=float32>]\n",
      "[<tf.Tensor 'gradient_tape/mul_53/Reshape:0' shape=() dtype=float32>, <tf.Tensor 'gradient_tape/add_59/Reshape:0' shape=() dtype=float32>]\n",
      "[<tf.Tensor 'gradient_tape/mul_54/Reshape:0' shape=() dtype=float32>, <tf.Tensor 'gradient_tape/add_60/Reshape:0' shape=() dtype=float32>]\n",
      "[<tf.Tensor 'gradient_tape/mul_55/Reshape:0' shape=() dtype=float32>, <tf.Tensor 'gradient_tape/add_61/Reshape:0' shape=() dtype=float32>]\n"
     ]
    },
    {
     "ename": "NotImplementedError",
     "evalue": "numpy() is only available when eager execution is enabled.",
     "output_type": "error",
     "traceback": [
      "\u001b[1;31m---------------------------------------------------------------------------\u001b[0m",
      "\u001b[1;31mNotImplementedError\u001b[0m                       Traceback (most recent call last)",
      "\u001b[1;32m<ipython-input-63-486a649fa095>\u001b[0m in \u001b[0;36m<module>\u001b[1;34m\u001b[0m\n\u001b[0;32m      5\u001b[0m         \u001b[0mpred\u001b[0m \u001b[1;33m=\u001b[0m \u001b[0mlinear_regression\u001b[0m\u001b[1;33m(\u001b[0m\u001b[0mX\u001b[0m\u001b[1;33m)\u001b[0m\u001b[1;33m\u001b[0m\u001b[1;33m\u001b[0m\u001b[0m\n\u001b[0;32m      6\u001b[0m         \u001b[0mloss\u001b[0m \u001b[1;33m=\u001b[0m \u001b[0mmean_square\u001b[0m\u001b[1;33m(\u001b[0m\u001b[0mpred\u001b[0m\u001b[1;33m,\u001b[0m \u001b[0mY\u001b[0m\u001b[1;33m)\u001b[0m\u001b[1;33m\u001b[0m\u001b[1;33m\u001b[0m\u001b[0m\n\u001b[1;32m----> 7\u001b[1;33m         \u001b[0mprint\u001b[0m\u001b[1;33m(\u001b[0m\u001b[1;34m\"step: {}, loss: {}, W: {}, b: {}\"\u001b[0m\u001b[1;33m.\u001b[0m\u001b[0mformat\u001b[0m\u001b[1;33m(\u001b[0m\u001b[0mstep\u001b[0m\u001b[1;33m,\u001b[0m \u001b[0mloss\u001b[0m\u001b[1;33m,\u001b[0m \u001b[0mW\u001b[0m\u001b[1;33m.\u001b[0m\u001b[0mnumpy\u001b[0m\u001b[1;33m(\u001b[0m\u001b[1;33m)\u001b[0m\u001b[1;33m,\u001b[0m \u001b[0mb\u001b[0m\u001b[1;33m.\u001b[0m\u001b[0mnumpy\u001b[0m\u001b[1;33m(\u001b[0m\u001b[1;33m)\u001b[0m\u001b[1;33m)\u001b[0m\u001b[1;33m)\u001b[0m\u001b[1;33m\u001b[0m\u001b[1;33m\u001b[0m\u001b[0m\n\u001b[0m",
      "\u001b[1;32m~\\AppData\\Local\\Programs\\Python\\Python37\\lib\\site-packages\\tensorflow\\python\\ops\\resource_variable_ops.py\u001b[0m in \u001b[0;36mnumpy\u001b[1;34m(self)\u001b[0m\n\u001b[0;32m    629\u001b[0m       \u001b[1;32mreturn\u001b[0m \u001b[0mself\u001b[0m\u001b[1;33m.\u001b[0m\u001b[0mread_value\u001b[0m\u001b[1;33m(\u001b[0m\u001b[1;33m)\u001b[0m\u001b[1;33m.\u001b[0m\u001b[0mnumpy\u001b[0m\u001b[1;33m(\u001b[0m\u001b[1;33m)\u001b[0m\u001b[1;33m\u001b[0m\u001b[1;33m\u001b[0m\u001b[0m\n\u001b[0;32m    630\u001b[0m     raise NotImplementedError(\n\u001b[1;32m--> 631\u001b[1;33m         \"numpy() is only available when eager execution is enabled.\")\n\u001b[0m\u001b[0;32m    632\u001b[0m \u001b[1;33m\u001b[0m\u001b[0m\n\u001b[0;32m    633\u001b[0m   \u001b[1;33m@\u001b[0m\u001b[0mdeprecated\u001b[0m\u001b[1;33m(\u001b[0m\u001b[1;32mNone\u001b[0m\u001b[1;33m,\u001b[0m \u001b[1;34m\"Prefer Dataset.range instead.\"\u001b[0m\u001b[1;33m)\u001b[0m\u001b[1;33m\u001b[0m\u001b[1;33m\u001b[0m\u001b[0m\n",
      "\u001b[1;31mNotImplementedError\u001b[0m: numpy() is only available when eager execution is enabled."
     ]
    }
   ],
   "source": [
    "for step in range(1, 1000):\n",
    "    run_optimization()\n",
    "    \n",
    "    if step % 50 == 0:\n",
    "        pred = linear_regression(X)\n",
    "        loss = mean_square(pred, Y)\n",
    "        print(\"step: {}, loss: {}, W: {}, b: {}\".format(step, loss, W.numpy(), b.numpy()))"
   ]
  },
  {
   "cell_type": "code",
   "execution_count": null,
   "metadata": {},
   "outputs": [],
   "source": []
  }
 ],
 "metadata": {
  "kernelspec": {
   "display_name": "Python 3",
   "language": "python",
   "name": "python3"
  },
  "language_info": {
   "codemirror_mode": {
    "name": "ipython",
    "version": 3
   },
   "file_extension": ".py",
   "mimetype": "text/x-python",
   "name": "python",
   "nbconvert_exporter": "python",
   "pygments_lexer": "ipython3",
   "version": "3.7.3"
  }
 },
 "nbformat": 4,
 "nbformat_minor": 2
}
