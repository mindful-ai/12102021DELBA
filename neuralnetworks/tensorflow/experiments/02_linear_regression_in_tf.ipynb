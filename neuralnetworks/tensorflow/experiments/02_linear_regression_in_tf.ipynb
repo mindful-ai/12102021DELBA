{
 "cells": [
  {
   "cell_type": "code",
   "execution_count": 1,
   "metadata": {},
   "outputs": [],
   "source": [
    "import tensorflow as tf\n",
    "import numpy as np\n"
   ]
  },
  {
   "cell_type": "code",
   "execution_count": 2,
   "metadata": {},
   "outputs": [],
   "source": [
    "X = np.array([3.3,4.4,5.5,6.71,6.93,4.168,9.779,6.182,7.59,2.167,\n",
    "              7.042,10.791,5.313,7.997,5.654,9.27,3.1])\n",
    "Y = np.array([1.7,2.76,2.09,3.19,1.694,1.573,3.366,2.596,2.53,1.221,\n",
    "              2.827,3.465,1.65,2.904,2.42,2.94,1.3])"
   ]
  },
  {
   "cell_type": "code",
   "execution_count": 28,
   "metadata": {},
   "outputs": [],
   "source": [
    "#  Weight and bias, initialized randomly\n",
    "W = tf.Variable(np.random.randn(), name='weight')\n",
    "b = tf.Variable(np.random.randn(), name='bias')"
   ]
  },
  {
   "cell_type": "code",
   "execution_count": 29,
   "metadata": {},
   "outputs": [
    {
     "data": {
      "image/png": "[encoded data removed]",
      "text/plain": [
       "<Figure size 432x288 with 1 Axes>"
      ]
     },
     "metadata": {
      "needs_background": "light"
     },
     "output_type": "display_data"
    }
   ],
   "source": [
    "import matplotlib.pyplot as plt\n",
    "plt.scatter(X, Y, label=\"Original Data\")\n",
    "plt.plot(X, np.array(W*X + b), label=\"Fitted Line\", color='r')\n",
    "plt.legend()\n",
    "plt.show()"
   ]
  },
  {
   "cell_type": "code",
   "execution_count": 30,
   "metadata": {},
   "outputs": [],
   "source": [
    "def linear_regression(x):\n",
    "    return W*x + b"
   ]
  },
  {
   "cell_type": "code",
   "execution_count": 31,
   "metadata": {},
   "outputs": [],
   "source": [
    "def mean_square(y_pred, y_true):\n",
    "    return tf.reduce_mean(tf.square(y_pred - y_true))"
   ]
  },
  {
   "cell_type": "code",
   "execution_count": 32,
   "metadata": {},
   "outputs": [],
   "source": [
    "optimizer = tf.optimizers.SGD(0.01)"
   ]
  },
  {
   "cell_type": "code",
   "execution_count": 33,
   "metadata": {},
   "outputs": [],
   "source": [
    "def run_optimization():\n",
    "    \n",
    "    with tf.GradientTape() as g:\n",
    "        pred = linear_regression(X)\n",
    "        loss = mean_square(pred, Y)\n",
    "    \n",
    "    gradients = g.gradient(loss, [W, b])\n",
    "    \n",
    "    optimizer.apply_gradients(zip(gradients, [W, b]))"
   ]
  },
  {
   "cell_type": "code",
   "execution_count": 34,
   "metadata": {},
   "outputs": [
    {
     "name": "stdout",
     "output_type": "stream",
     "text": [
      "step: 50, loss: 0.15386046469211578, W: 0.25230705738067627, b: 0.7940362691879272\n",
      "step: 100, loss: 0.15385986864566803, W: 0.25223010778427124, b: 0.7945816516876221\n",
      "step: 150, loss: 0.15385940670967102, W: 0.25216200947761536, b: 0.7950646281242371\n",
      "step: 200, loss: 0.15385901927947998, W: 0.25210168957710266, b: 0.7954921126365662\n",
      "step: 250, loss: 0.1538587063550949, W: 0.2520482838153839, b: 0.795870840549469\n",
      "step: 300, loss: 0.15385852754116058, W: 0.25200098752975464, b: 0.7962060570716858\n",
      "step: 350, loss: 0.15385831892490387, W: 0.2519591152667999, b: 0.7965030074119568\n",
      "step: 400, loss: 0.15385818481445312, W: 0.25192201137542725, b: 0.7967660427093506\n",
      "step: 450, loss: 0.15385806560516357, W: 0.2518891394138336, b: 0.7969989776611328\n",
      "step: 500, loss: 0.15385802090168, W: 0.2518600523471832, b: 0.7972051501274109\n",
      "step: 550, loss: 0.15385794639587402, W: 0.25183430314064026, b: 0.7973878383636475\n",
      "step: 600, loss: 0.15385787189006805, W: 0.25181150436401367, b: 0.7975495457649231\n",
      "step: 650, loss: 0.15385782718658447, W: 0.2517912685871124, b: 0.7976927757263184\n",
      "step: 700, loss: 0.15385779738426208, W: 0.2517733871936798, b: 0.7978195548057556\n",
      "step: 750, loss: 0.1538577824831009, W: 0.25175756216049194, b: 0.7979319095611572\n",
      "step: 800, loss: 0.1538577526807785, W: 0.25174352526664734, b: 0.7980313897132874\n",
      "step: 850, loss: 0.1538577377796173, W: 0.25173112750053406, b: 0.7981193661689758\n",
      "step: 900, loss: 0.15385772287845612, W: 0.2517201006412506, b: 0.7981974482536316\n",
      "step: 950, loss: 0.15385770797729492, W: 0.2517103850841522, b: 0.7982664108276367\n"
     ]
    }
   ],
   "source": [
    "for step in range(1, 1000):\n",
    "    run_optimization()\n",
    "    \n",
    "    if step % 50 == 0:\n",
    "        pred = linear_regression(X)\n",
    "        loss = mean_square(pred, Y)\n",
    "        print(\"step: {}, loss: {}, W: {}, b: {}\".format(step, loss, W.numpy(), b.numpy()))"
   ]
  },
  {
   "cell_type": "code",
   "execution_count": 35,
   "metadata": {},
   "outputs": [
    {
     "data": {
      "image/png": "[encoded data removed]",
      "text/plain": [
       "<Figure size 432x288 with 1 Axes>"
      ]
     },
     "metadata": {
      "needs_background": "light"
     },
     "output_type": "display_data"
    }
   ],
   "source": [
    "import matplotlib.pyplot as plt\n",
    "plt.scatter(X, Y, label=\"Original Data\")\n",
    "plt.plot(X, np.array(W*X + b), label=\"Fitted Line\", color='r')\n",
    "plt.legend()\n",
    "plt.show()"
   ]
  },
  {
   "cell_type": "code",
   "execution_count": null,
   "metadata": {},
   "outputs": [],
   "source": []
  }
 ],
 "metadata": {
  "kernelspec": {
   "display_name": "Python 3",
   "language": "python",
   "name": "python3"
  },
  "language_info": {
   "codemirror_mode": {
    "name": "ipython",
    "version": 3
   },
   "file_extension": ".py",
   "mimetype": "text/x-python",
   "name": "python",
   "nbconvert_exporter": "python",
   "pygments_lexer": "ipython3",
   "version": "3.7.3"
  }
 },
 "nbformat": 4,
 "nbformat_minor": 2
}
