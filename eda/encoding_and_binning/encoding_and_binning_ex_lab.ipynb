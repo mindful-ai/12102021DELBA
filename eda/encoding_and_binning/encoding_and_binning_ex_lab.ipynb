{
 "cells": [
  {
   "cell_type": "code",
   "execution_count": null,
   "metadata": {},
   "outputs": [],
   "source": [
    "#Let's look into https://pypi.org/project/category-encoders/\n",
    "%pip install category_encoders"
   ]
  },
  {
   "cell_type": "code",
   "execution_count": null,
   "metadata": {},
   "outputs": [],
   "source": [
    "import category_encoders as ce\n",
    "import pandas as pd"
   ]
  },
  {
   "cell_type": "markdown",
   "metadata": {},
   "source": [
    "### Ordinal Encoding"
   ]
  },
  {
   "cell_type": "code",
   "execution_count": null,
   "metadata": {},
   "outputs": [],
   "source": [
    "df=pd.DataFrame({'Degree':['High school','Masters','Diploma','Bachelors','Bachelors','Masters','Phd','High school','High school']})"
   ]
  },
  {
   "cell_type": "code",
   "execution_count": null,
   "metadata": {},
   "outputs": [],
   "source": [
    "df"
   ]
  },
  {
   "cell_type": "code",
   "execution_count": null,
   "metadata": {},
   "outputs": [],
   "source": [
    "# create object of Ordinalencoding\n",
    "encoder= ce.OrdinalEncoder(cols=['Degree'],return_df=True,\n",
    "                           mapping=[{'col':'Degree',\n",
    "'mapping':{'None':0,'High school':1,'Diploma':2,'Bachelors':3,'Masters':4,'Phd':5}}])"
   ]
  },
  {
   "cell_type": "code",
   "execution_count": null,
   "metadata": {},
   "outputs": [],
   "source": [
    "df_ord = encoder.fit_transform(df)"
   ]
  },
  {
   "cell_type": "code",
   "execution_count": null,
   "metadata": {},
   "outputs": [],
   "source": [
    "df_ord"
   ]
  },
  {
   "cell_type": "markdown",
   "metadata": {},
   "source": [
    "### One-Hot Encoding"
   ]
  },
  {
   "cell_type": "code",
   "execution_count": null,
   "metadata": {},
   "outputs": [],
   "source": [
    "data=pd.DataFrame({'City':[\n",
    "'Delhi','Mumbai','Hydrabad','Chennai','Bangalore','Delhi','Hydrabad','Bangalore','Delhi'\n",
    "]})\n",
    "\n",
    "#Create object for one-hot encoding\n",
    "encoder=ce.OneHotEncoder(cols='City',handle_unknown='return_nan',return_df=True,use_cat_names=True)\n",
    "\n",
    "#Original Data\n",
    "data"
   ]
  },
  {
   "cell_type": "code",
   "execution_count": null,
   "metadata": {},
   "outputs": [],
   "source": [
    "#Fit and transform Data\n",
    "data_encoded = encoder.fit_transform(data)\n",
    "data_encoded"
   ]
  },
  {
   "cell_type": "markdown",
   "metadata": {},
   "source": [
    "### Dummy Encoding"
   ]
  },
  {
   "cell_type": "markdown",
   "metadata": {},
   "source": [
    "Dummy coding scheme is similar to one-hot encoding. This categorical data encoding method transforms the categorical variable into a set of binary variables (also known as dummy variables). In the case of one-hot encoding, for N categories in a variable, it uses N binary variables. The dummy encoding is a small improvement over one-hot-encoding. Dummy encoding uses N-1 features to represent N labels/categories."
   ]
  },
  {
   "cell_type": "code",
   "execution_count": null,
   "metadata": {},
   "outputs": [],
   "source": [
    "data"
   ]
  },
  {
   "cell_type": "code",
   "execution_count": null,
   "metadata": {},
   "outputs": [],
   "source": [
    "data_encoded=pd.get_dummies(data=data,drop_first=True)\n",
    "data_encoded"
   ]
  },
  {
   "cell_type": "markdown",
   "metadata": {},
   "source": [
    "One hot encoder and dummy encoder are two powerful and effective encoding schemes. They are also very popular among the data scientists, But may not be as effective when-\n",
    "\n",
    "A large number of levels are present in data. If there are multiple categories in a feature variable in such a case we need a similar number of dummy variables to encode the data. For example, a column with 30 different values will require 30 new variables for coding.\n",
    "If we have multiple categorical features in the dataset similar situation will occur and again we will end to have several binary features each representing the categorical feature and their multiple categories e.g a dataset having 10 or more categorical columns."
   ]
  },
  {
   "cell_type": "markdown",
   "metadata": {},
   "source": [
    "### Effect Encoding"
   ]
  },
  {
   "cell_type": "markdown",
   "metadata": {},
   "source": [
    "This encoding technique is also known as Deviation Encoding or Sum Encoding. Effect encoding is almost similar to dummy encoding, with a little difference. In dummy coding, we use 0 and 1 to represent the data but in effect encoding, we use three values i.e. 1,0, and -1."
   ]
  },
  {
   "cell_type": "code",
   "execution_count": null,
   "metadata": {},
   "outputs": [],
   "source": [
    "data"
   ]
  },
  {
   "cell_type": "markdown",
   "metadata": {},
   "source": [
    "See References section to read a paper on dummy and effect encoding techniques"
   ]
  },
  {
   "cell_type": "code",
   "execution_count": null,
   "metadata": {},
   "outputs": [],
   "source": [
    "encoder=ce.sum_coding.SumEncoder(cols='City',verbose=False,) \n",
    "encoder.fit_transform(data)"
   ]
  },
  {
   "cell_type": "markdown",
   "metadata": {},
   "source": [
    "### Hash Encoder"
   ]
  },
  {
   "cell_type": "markdown",
   "metadata": {},
   "source": [
    "Hashing is the transformation of arbitrary size input in the form of a fixed-size value. We use hashing algorithms to perform hashing operations i.e to generate the hash value of an input. Further, hashing is a one-way process, in other words, one can not generate original input from the hash representation.\n",
    "\n",
    "Hashing has several applications like data retrieval, checking data corruption, and in data encryption also."
   ]
  },
  {
   "cell_type": "markdown",
   "metadata": {},
   "source": [
    "Just like one-hot encoding, the Hash encoder represents categorical features using the new dimensions. Here, the user can fix the number of dimensions after transformation using n_component argument. "
   ]
  },
  {
   "cell_type": "code",
   "execution_count": null,
   "metadata": {},
   "outputs": [],
   "source": [
    "import category_encoders as ce\n",
    "import pandas as pd\n",
    "\n",
    "#Create the dataframe\n",
    "data=pd.DataFrame({'Month':['January','April','March','April','Februay','June','July','June','September']})\n",
    "\n",
    "#Create object for hash encoder\n",
    "encoder=ce.HashingEncoder(cols='Month',n_components=6)\n",
    "data"
   ]
  },
  {
   "cell_type": "code",
   "execution_count": null,
   "metadata": {},
   "outputs": [],
   "source": [
    "#Fit and Transform Data\n",
    "encoder.fit_transform(data)"
   ]
  },
  {
   "cell_type": "markdown",
   "metadata": {},
   "source": [
    "Since Hashing transforms the data in lesser dimensions, it may lead to loss of information. Another issue faced by hashing encoder is the collision. Since here, a large number of features are depicted into lesser dimensions, hence multiple values can be represented by the same hash value, this is known as a collision."
   ]
  },
  {
   "cell_type": "markdown",
   "metadata": {},
   "source": [
    "### Binary Encoding"
   ]
  },
  {
   "cell_type": "markdown",
   "metadata": {},
   "source": [
    "The categorical feature is first converted into numerical using an ordinal encoder. Then the numbers are transformed in the binary number. After that binary value is split into different columns."
   ]
  },
  {
   "cell_type": "markdown",
   "metadata": {},
   "source": [
    "Binary encoding works really well when there are a high number of categories. For example the cities in a country where a company supplies its products."
   ]
  },
  {
   "cell_type": "code",
   "execution_count": null,
   "metadata": {},
   "outputs": [],
   "source": [
    "#Create the Dataframe\n",
    "data=pd.DataFrame({'City':['Delhi','Mumbai','Hyderabad','Chennai','Bangalore','Delhi','Hyderabad','Mumbai','Agra']})\n",
    "\n",
    "#Create object for binary encoding\n",
    "encoder= ce.BinaryEncoder(cols=['City'],return_df=True)\n",
    "\n",
    "#Original Data\n",
    "data\n"
   ]
  },
  {
   "cell_type": "code",
   "execution_count": null,
   "metadata": {},
   "outputs": [],
   "source": [
    "#Fit and Transform Data \n",
    "data_encoded=encoder.fit_transform(data) \n",
    "data_encoded"
   ]
  },
  {
   "cell_type": "markdown",
   "metadata": {},
   "source": [
    "### BaseN Encoding"
   ]
  },
  {
   "cell_type": "markdown",
   "metadata": {},
   "source": [
    "In the case when categories are more and binary encoding is not able to handle the dimensionality then we can use a larger base such as 4 or 8."
   ]
  },
  {
   "cell_type": "code",
   "execution_count": null,
   "metadata": {},
   "outputs": [],
   "source": [
    "data"
   ]
  },
  {
   "cell_type": "code",
   "execution_count": null,
   "metadata": {},
   "outputs": [],
   "source": [
    "encoder= ce.BaseNEncoder(cols=['City'],return_df=True,base=5)\n",
    "data_encoded=encoder.fit_transform(data)\n",
    "data_encoded"
   ]
  },
  {
   "cell_type": "markdown",
   "metadata": {},
   "source": [
    "### Target Encoding"
   ]
  },
  {
   "cell_type": "markdown",
   "metadata": {},
   "source": [
    "Target encoding is a Baysian encoding technique.\n",
    "\n",
    "Bayesian encoders use information from dependent/target variables to encode the categorical data.\n",
    "\n",
    "In target encoding, we calculate the mean of the target variable for each category and replace the category variable with the mean value. In the case of the categorical target variables, the posterior probability of the target replaces each category.."
   ]
  },
  {
   "cell_type": "code",
   "execution_count": null,
   "metadata": {},
   "outputs": [],
   "source": [
    "#Create the Dataframe\n",
    "data=pd.DataFrame({'class':['A','B','C','B','C','A','A','A'],'Marks':[50,30,70,80,45,97,80,68]})\n",
    "\n",
    "#Create target encoding object\n",
    "encoder=ce.TargetEncoder(cols='class') \n",
    "\n",
    "#Original Data\n",
    "data"
   ]
  },
  {
   "cell_type": "code",
   "execution_count": null,
   "metadata": {},
   "outputs": [],
   "source": [
    "#Fit and Transform Train Data\n",
    "encoder.fit_transform(data['class'],data['Marks'])"
   ]
  },
  {
   "cell_type": "markdown",
   "metadata": {},
   "source": [
    "We perform Target encoding for train data only and code the test data using results obtained from the training dataset. Although, a very efficient coding system, it has the following issues responsible for deteriorating the model performance-\n",
    "\n",
    "It can lead to target leakage or overfitting. To address overfitting we can use different techniques.\n",
    "In the leave one out encoding, the current target value is reduced from the overall mean of the target to avoid leakage.\n",
    "In another method, we may introduce some Gaussian noise in the target statistics. The value of this noise is hyperparameter to the model.\n",
    "The second issue, we may face is the improper distribution of categories in train and test data. In such a case, the categories may assume extreme values. Therefore the target means for the category are mixed with the marginal mean of the target."
   ]
  },
  {
   "cell_type": "markdown",
   "metadata": {},
   "source": [
    "### Binning"
   ]
  },
  {
   "cell_type": "markdown",
   "metadata": {},
   "source": [
    "When dealing with continuous numeric data, it is often helpful to bin the data into multiple buckets for further analysis. There are several different terms for binning including bucketing, discrete binning, discretization or quantization. Pandas supports these approaches using the cut and qcut functions. "
   ]
  },
  {
   "cell_type": "markdown",
   "metadata": {},
   "source": [
    "If you want equal distribution of the items in your bins, use qcut . If you want to define your own numeric bin ranges, then use cut ."
   ]
  },
  {
   "cell_type": "code",
   "execution_count": null,
   "metadata": {},
   "outputs": [],
   "source": [
    "%pip install xlrd"
   ]
  },
  {
   "cell_type": "code",
   "execution_count": null,
   "metadata": {},
   "outputs": [],
   "source": [
    "import pandas as pd\n",
    "import numpy as np\n",
    "\n",
    "#Create a DataFrame\n",
    "df1 = {\n",
    "    'Name':['George','Andrea','micheal','maggie','Ravi','Xien','Jalpa','Tyieren'],    \n",
    "    'Score':[63,48,56,75,32,77,85,22]\n",
    "    \n",
    "   }\n",
    "\n",
    "\n",
    "df1 = pd.DataFrame(df1,columns=['Name','Score'])\n",
    "print(df1)"
   ]
  },
  {
   "cell_type": "code",
   "execution_count": null,
   "metadata": {},
   "outputs": [],
   "source": [
    "''' binning or bucketing with range'''\n",
    "\n",
    "bins = [0, 25, 50, 75, 100]\n",
    "df1['binned'] = pd.cut(df1['Score'], bins)\n",
    "print (df1)"
   ]
  },
  {
   "cell_type": "code",
   "execution_count": null,
   "metadata": {},
   "outputs": [],
   "source": [
    "''' binning or bucketing with labels''' \n",
    "\n",
    "bins = [0, 25, 50, 75, 100]\n",
    "labels =[1,2,3,4]\n",
    "df1['binned'] = pd.cut(df1['Score'], bins,labels=labels)\n",
    "print (df1)\n"
   ]
  },
  {
   "cell_type": "markdown",
   "metadata": {},
   "source": [
    "#### Another Example: Guided Lab\n",
    "\n"
   ]
  },
  {
   "cell_type": "code",
   "execution_count": null,
   "metadata": {},
   "outputs": [],
   "source": [
    "import pandas as pd\n",
    "import numpy as np\n",
    "import seaborn as sns"
   ]
  },
  {
   "cell_type": "code",
   "execution_count": null,
   "metadata": {},
   "outputs": [],
   "source": [
    "sns.set_style('whitegrid')"
   ]
  },
  {
   "cell_type": "code",
   "execution_count": null,
   "metadata": {},
   "outputs": [],
   "source": [
    "pip install openpyxl"
   ]
  },
  {
   "cell_type": "code",
   "execution_count": 36,
   "metadata": {},
   "outputs": [],
   "source": [
    "#raw_df = pd.read_excel(r\"C:\\Users\\Purushotham\\Desktop\\deloitte\\eda\\datasets\\sample-sales-v3.xlsx\")\n",
    "raw_df = pd.read_csv(r\"C:\\Users\\Purushotham\\Desktop\\deloitte\\eda\\datasets\\sample-sales-v3.csv\")"
   ]
  },
  {
   "cell_type": "code",
   "execution_count": 37,
   "metadata": {},
   "outputs": [],
   "source": [
    "df = raw_df.groupby(['account number', 'name'])['ext price'].sum().reset_index()"
   ]
  },
  {
   "cell_type": "code",
   "execution_count": 38,
   "metadata": {},
   "outputs": [
    {
     "data": {
      "text/html": [
       "<div>\n",
       "<style scoped>\n",
       "    .dataframe tbody tr th:only-of-type {\n",
       "        vertical-align: middle;\n",
       "    }\n",
       "\n",
       "    .dataframe tbody tr th {\n",
       "        vertical-align: top;\n",
       "    }\n",
       "\n",
       "    .dataframe thead th {\n",
       "        text-align: right;\n",
       "    }\n",
       "</style>\n",
       "<table border=\"1\" class=\"dataframe\">\n",
       "  <thead>\n",
       "    <tr style=\"text-align: right;\">\n",
       "      <th></th>\n",
       "      <th>account number</th>\n",
       "      <th>name</th>\n",
       "      <th>ext price</th>\n",
       "    </tr>\n",
       "  </thead>\n",
       "  <tbody>\n",
       "    <tr>\n",
       "      <th>0</th>\n",
       "      <td>141962</td>\n",
       "      <td>Herman LLC</td>\n",
       "      <td>82865.00</td>\n",
       "    </tr>\n",
       "    <tr>\n",
       "      <th>1</th>\n",
       "      <td>146832</td>\n",
       "      <td>Kiehn-Spinka</td>\n",
       "      <td>99608.77</td>\n",
       "    </tr>\n",
       "    <tr>\n",
       "      <th>2</th>\n",
       "      <td>163416</td>\n",
       "      <td>Purdy-Kunde</td>\n",
       "      <td>77898.21</td>\n",
       "    </tr>\n",
       "    <tr>\n",
       "      <th>3</th>\n",
       "      <td>218895</td>\n",
       "      <td>Kulas Inc</td>\n",
       "      <td>137351.96</td>\n",
       "    </tr>\n",
       "    <tr>\n",
       "      <th>4</th>\n",
       "      <td>239344</td>\n",
       "      <td>Stokes LLC</td>\n",
       "      <td>91535.92</td>\n",
       "    </tr>\n",
       "    <tr>\n",
       "      <th>5</th>\n",
       "      <td>257198</td>\n",
       "      <td>Cronin, Oberbrunner and Spencer</td>\n",
       "      <td>89734.55</td>\n",
       "    </tr>\n",
       "    <tr>\n",
       "      <th>6</th>\n",
       "      <td>307599</td>\n",
       "      <td>Kassulke, Ondricka and Metz</td>\n",
       "      <td>86451.07</td>\n",
       "    </tr>\n",
       "    <tr>\n",
       "      <th>7</th>\n",
       "      <td>383080</td>\n",
       "      <td>Will LLC</td>\n",
       "      <td>104437.60</td>\n",
       "    </tr>\n",
       "    <tr>\n",
       "      <th>8</th>\n",
       "      <td>412290</td>\n",
       "      <td>Jerde-Hilpert</td>\n",
       "      <td>112591.43</td>\n",
       "    </tr>\n",
       "    <tr>\n",
       "      <th>9</th>\n",
       "      <td>424914</td>\n",
       "      <td>White-Trantow</td>\n",
       "      <td>135841.99</td>\n",
       "    </tr>\n",
       "    <tr>\n",
       "      <th>10</th>\n",
       "      <td>527099</td>\n",
       "      <td>Sanford and Sons</td>\n",
       "      <td>98822.98</td>\n",
       "    </tr>\n",
       "    <tr>\n",
       "      <th>11</th>\n",
       "      <td>604255</td>\n",
       "      <td>Halvorson, Crona and Champlin</td>\n",
       "      <td>70004.36</td>\n",
       "    </tr>\n",
       "    <tr>\n",
       "      <th>12</th>\n",
       "      <td>642753</td>\n",
       "      <td>Pollich LLC</td>\n",
       "      <td>87347.18</td>\n",
       "    </tr>\n",
       "    <tr>\n",
       "      <th>13</th>\n",
       "      <td>672390</td>\n",
       "      <td>Kuhn-Gusikowski</td>\n",
       "      <td>91094.28</td>\n",
       "    </tr>\n",
       "    <tr>\n",
       "      <th>14</th>\n",
       "      <td>688981</td>\n",
       "      <td>Keeling LLC</td>\n",
       "      <td>100934.30</td>\n",
       "    </tr>\n",
       "    <tr>\n",
       "      <th>15</th>\n",
       "      <td>714466</td>\n",
       "      <td>Trantow-Barrows</td>\n",
       "      <td>123381.38</td>\n",
       "    </tr>\n",
       "    <tr>\n",
       "      <th>16</th>\n",
       "      <td>729833</td>\n",
       "      <td>Koepp Ltd</td>\n",
       "      <td>103660.54</td>\n",
       "    </tr>\n",
       "    <tr>\n",
       "      <th>17</th>\n",
       "      <td>737550</td>\n",
       "      <td>Fritsch, Russel and Anderson</td>\n",
       "      <td>112214.71</td>\n",
       "    </tr>\n",
       "    <tr>\n",
       "      <th>18</th>\n",
       "      <td>740150</td>\n",
       "      <td>Barton LLC</td>\n",
       "      <td>109438.50</td>\n",
       "    </tr>\n",
       "    <tr>\n",
       "      <th>19</th>\n",
       "      <td>786968</td>\n",
       "      <td>Frami, Hills and Schmidt</td>\n",
       "      <td>103569.59</td>\n",
       "    </tr>\n",
       "  </tbody>\n",
       "</table>\n",
       "</div>"
      ],
      "text/plain": [
       "    account number                             name  ext price\n",
       "0           141962                       Herman LLC   82865.00\n",
       "1           146832                     Kiehn-Spinka   99608.77\n",
       "2           163416                      Purdy-Kunde   77898.21\n",
       "3           218895                        Kulas Inc  137351.96\n",
       "4           239344                       Stokes LLC   91535.92\n",
       "5           257198  Cronin, Oberbrunner and Spencer   89734.55\n",
       "6           307599      Kassulke, Ondricka and Metz   86451.07\n",
       "7           383080                         Will LLC  104437.60\n",
       "8           412290                    Jerde-Hilpert  112591.43\n",
       "9           424914                    White-Trantow  135841.99\n",
       "10          527099                 Sanford and Sons   98822.98\n",
       "11          604255    Halvorson, Crona and Champlin   70004.36\n",
       "12          642753                      Pollich LLC   87347.18\n",
       "13          672390                  Kuhn-Gusikowski   91094.28\n",
       "14          688981                      Keeling LLC  100934.30\n",
       "15          714466                  Trantow-Barrows  123381.38\n",
       "16          729833                        Koepp Ltd  103660.54\n",
       "17          737550     Fritsch, Russel and Anderson  112214.71\n",
       "18          740150                       Barton LLC  109438.50\n",
       "19          786968         Frami, Hills and Schmidt  103569.59"
      ]
     },
     "execution_count": 38,
     "metadata": {},
     "output_type": "execute_result"
    }
   ],
   "source": [
    "df"
   ]
  },
  {
   "cell_type": "code",
   "execution_count": 39,
   "metadata": {},
   "outputs": [
    {
     "data": {
      "text/plain": [
       "<matplotlib.axes._subplots.AxesSubplot at 0x162ecd97198>"
      ]
     },
     "execution_count": 39,
     "metadata": {},
     "output_type": "execute_result"
    },
    {
     "data": {
      "image/png": "[encoded data removed]",
      "text/plain": [
       "<Figure size 432x288 with 1 Axes>"
      ]
     },
     "metadata": {},
     "output_type": "display_data"
    }
   ],
   "source": [
    "# HIstogram\n",
    "df['ext price'].plot(kind='hist')"
   ]
  },
  {
   "cell_type": "code",
   "execution_count": 40,
   "metadata": {},
   "outputs": [
    {
     "data": {
      "text/plain": [
       "count        20.000000\n",
       "mean     100939.216000\n",
       "std       17675.097485\n",
       "min       70004.360000\n",
       "25%       89137.707500\n",
       "50%      100271.535000\n",
       "75%      110132.552500\n",
       "max      137351.960000\n",
       "Name: ext price, dtype: float64"
      ]
     },
     "execution_count": 40,
     "metadata": {},
     "output_type": "execute_result"
    }
   ],
   "source": [
    "df['ext price'].describe()"
   ]
  },
  {
   "cell_type": "code",
   "execution_count": 41,
   "metadata": {},
   "outputs": [
    {
     "data": {
      "text/plain": [
       "0       (70004.359, 89137.708]\n",
       "1      (89137.708, 100271.535]\n",
       "2       (70004.359, 89137.708]\n",
       "3      (110132.552, 137351.96]\n",
       "4      (89137.708, 100271.535]\n",
       "5      (89137.708, 100271.535]\n",
       "6       (70004.359, 89137.708]\n",
       "7     (100271.535, 110132.552]\n",
       "8      (110132.552, 137351.96]\n",
       "9      (110132.552, 137351.96]\n",
       "10     (89137.708, 100271.535]\n",
       "11      (70004.359, 89137.708]\n",
       "12      (70004.359, 89137.708]\n",
       "13     (89137.708, 100271.535]\n",
       "14    (100271.535, 110132.552]\n",
       "15     (110132.552, 137351.96]\n",
       "16    (100271.535, 110132.552]\n",
       "17     (110132.552, 137351.96]\n",
       "18    (100271.535, 110132.552]\n",
       "19    (100271.535, 110132.552]\n",
       "Name: ext price, dtype: category\n",
       "Categories (4, interval[float64]): [(70004.359, 89137.708] < (89137.708, 100271.535] < (100271.535, 110132.552] < (110132.552, 137351.96]]"
      ]
     },
     "execution_count": 41,
     "metadata": {},
     "output_type": "execute_result"
    }
   ],
   "source": [
    "pd.qcut(df['ext price'], q=4)"
   ]
  },
  {
   "cell_type": "code",
   "execution_count": 42,
   "metadata": {},
   "outputs": [],
   "source": [
    "# Add the columns\n",
    "df['quantile_ex_1'] = pd.qcut(df['ext price'], q=4)\n",
    "df['quantile_ex_2'] = pd.qcut(df['ext price'], q=10, precision=0)"
   ]
  },
  {
   "cell_type": "code",
   "execution_count": 43,
   "metadata": {},
   "outputs": [
    {
     "data": {
      "text/html": [
       "<div>\n",
       "<style scoped>\n",
       "    .dataframe tbody tr th:only-of-type {\n",
       "        vertical-align: middle;\n",
       "    }\n",
       "\n",
       "    .dataframe tbody tr th {\n",
       "        vertical-align: top;\n",
       "    }\n",
       "\n",
       "    .dataframe thead th {\n",
       "        text-align: right;\n",
       "    }\n",
       "</style>\n",
       "<table border=\"1\" class=\"dataframe\">\n",
       "  <thead>\n",
       "    <tr style=\"text-align: right;\">\n",
       "      <th></th>\n",
       "      <th>account number</th>\n",
       "      <th>name</th>\n",
       "      <th>ext price</th>\n",
       "      <th>quantile_ex_1</th>\n",
       "      <th>quantile_ex_2</th>\n",
       "    </tr>\n",
       "  </thead>\n",
       "  <tbody>\n",
       "    <tr>\n",
       "      <th>0</th>\n",
       "      <td>141962</td>\n",
       "      <td>Herman LLC</td>\n",
       "      <td>82865.00</td>\n",
       "      <td>(70004.359, 89137.708]</td>\n",
       "      <td>(82368.0, 87168.0]</td>\n",
       "    </tr>\n",
       "    <tr>\n",
       "      <th>1</th>\n",
       "      <td>146832</td>\n",
       "      <td>Kiehn-Spinka</td>\n",
       "      <td>99608.77</td>\n",
       "      <td>(89137.708, 100271.535]</td>\n",
       "      <td>(95908.0, 100272.0]</td>\n",
       "    </tr>\n",
       "    <tr>\n",
       "      <th>2</th>\n",
       "      <td>163416</td>\n",
       "      <td>Purdy-Kunde</td>\n",
       "      <td>77898.21</td>\n",
       "      <td>(70004.359, 89137.708]</td>\n",
       "      <td>(70003.0, 82368.0]</td>\n",
       "    </tr>\n",
       "    <tr>\n",
       "      <th>3</th>\n",
       "      <td>218895</td>\n",
       "      <td>Kulas Inc</td>\n",
       "      <td>137351.96</td>\n",
       "      <td>(110132.552, 137351.96]</td>\n",
       "      <td>(124627.0, 137352.0]</td>\n",
       "    </tr>\n",
       "    <tr>\n",
       "      <th>4</th>\n",
       "      <td>239344</td>\n",
       "      <td>Stokes LLC</td>\n",
       "      <td>91535.92</td>\n",
       "      <td>(89137.708, 100271.535]</td>\n",
       "      <td>(90686.0, 95908.0]</td>\n",
       "    </tr>\n",
       "    <tr>\n",
       "      <th>5</th>\n",
       "      <td>257198</td>\n",
       "      <td>Cronin, Oberbrunner and Spencer</td>\n",
       "      <td>89734.55</td>\n",
       "      <td>(89137.708, 100271.535]</td>\n",
       "      <td>(87168.0, 90686.0]</td>\n",
       "    </tr>\n",
       "    <tr>\n",
       "      <th>6</th>\n",
       "      <td>307599</td>\n",
       "      <td>Kassulke, Ondricka and Metz</td>\n",
       "      <td>86451.07</td>\n",
       "      <td>(70004.359, 89137.708]</td>\n",
       "      <td>(82368.0, 87168.0]</td>\n",
       "    </tr>\n",
       "    <tr>\n",
       "      <th>7</th>\n",
       "      <td>383080</td>\n",
       "      <td>Will LLC</td>\n",
       "      <td>104437.60</td>\n",
       "      <td>(100271.535, 110132.552]</td>\n",
       "      <td>(103606.0, 105938.0]</td>\n",
       "    </tr>\n",
       "    <tr>\n",
       "      <th>8</th>\n",
       "      <td>412290</td>\n",
       "      <td>Jerde-Hilpert</td>\n",
       "      <td>112591.43</td>\n",
       "      <td>(110132.552, 137351.96]</td>\n",
       "      <td>(112290.0, 124627.0]</td>\n",
       "    </tr>\n",
       "    <tr>\n",
       "      <th>9</th>\n",
       "      <td>424914</td>\n",
       "      <td>White-Trantow</td>\n",
       "      <td>135841.99</td>\n",
       "      <td>(110132.552, 137351.96]</td>\n",
       "      <td>(124627.0, 137352.0]</td>\n",
       "    </tr>\n",
       "    <tr>\n",
       "      <th>10</th>\n",
       "      <td>527099</td>\n",
       "      <td>Sanford and Sons</td>\n",
       "      <td>98822.98</td>\n",
       "      <td>(89137.708, 100271.535]</td>\n",
       "      <td>(95908.0, 100272.0]</td>\n",
       "    </tr>\n",
       "    <tr>\n",
       "      <th>11</th>\n",
       "      <td>604255</td>\n",
       "      <td>Halvorson, Crona and Champlin</td>\n",
       "      <td>70004.36</td>\n",
       "      <td>(70004.359, 89137.708]</td>\n",
       "      <td>(70003.0, 82368.0]</td>\n",
       "    </tr>\n",
       "    <tr>\n",
       "      <th>12</th>\n",
       "      <td>642753</td>\n",
       "      <td>Pollich LLC</td>\n",
       "      <td>87347.18</td>\n",
       "      <td>(70004.359, 89137.708]</td>\n",
       "      <td>(87168.0, 90686.0]</td>\n",
       "    </tr>\n",
       "    <tr>\n",
       "      <th>13</th>\n",
       "      <td>672390</td>\n",
       "      <td>Kuhn-Gusikowski</td>\n",
       "      <td>91094.28</td>\n",
       "      <td>(89137.708, 100271.535]</td>\n",
       "      <td>(90686.0, 95908.0]</td>\n",
       "    </tr>\n",
       "    <tr>\n",
       "      <th>14</th>\n",
       "      <td>688981</td>\n",
       "      <td>Keeling LLC</td>\n",
       "      <td>100934.30</td>\n",
       "      <td>(100271.535, 110132.552]</td>\n",
       "      <td>(100272.0, 103606.0]</td>\n",
       "    </tr>\n",
       "    <tr>\n",
       "      <th>15</th>\n",
       "      <td>714466</td>\n",
       "      <td>Trantow-Barrows</td>\n",
       "      <td>123381.38</td>\n",
       "      <td>(110132.552, 137351.96]</td>\n",
       "      <td>(112290.0, 124627.0]</td>\n",
       "    </tr>\n",
       "    <tr>\n",
       "      <th>16</th>\n",
       "      <td>729833</td>\n",
       "      <td>Koepp Ltd</td>\n",
       "      <td>103660.54</td>\n",
       "      <td>(100271.535, 110132.552]</td>\n",
       "      <td>(103606.0, 105938.0]</td>\n",
       "    </tr>\n",
       "    <tr>\n",
       "      <th>17</th>\n",
       "      <td>737550</td>\n",
       "      <td>Fritsch, Russel and Anderson</td>\n",
       "      <td>112214.71</td>\n",
       "      <td>(110132.552, 137351.96]</td>\n",
       "      <td>(105938.0, 112290.0]</td>\n",
       "    </tr>\n",
       "    <tr>\n",
       "      <th>18</th>\n",
       "      <td>740150</td>\n",
       "      <td>Barton LLC</td>\n",
       "      <td>109438.50</td>\n",
       "      <td>(100271.535, 110132.552]</td>\n",
       "      <td>(105938.0, 112290.0]</td>\n",
       "    </tr>\n",
       "    <tr>\n",
       "      <th>19</th>\n",
       "      <td>786968</td>\n",
       "      <td>Frami, Hills and Schmidt</td>\n",
       "      <td>103569.59</td>\n",
       "      <td>(100271.535, 110132.552]</td>\n",
       "      <td>(100272.0, 103606.0]</td>\n",
       "    </tr>\n",
       "  </tbody>\n",
       "</table>\n",
       "</div>"
      ],
      "text/plain": [
       "    account number                             name  ext price  \\\n",
       "0           141962                       Herman LLC   82865.00   \n",
       "1           146832                     Kiehn-Spinka   99608.77   \n",
       "2           163416                      Purdy-Kunde   77898.21   \n",
       "3           218895                        Kulas Inc  137351.96   \n",
       "4           239344                       Stokes LLC   91535.92   \n",
       "5           257198  Cronin, Oberbrunner and Spencer   89734.55   \n",
       "6           307599      Kassulke, Ondricka and Metz   86451.07   \n",
       "7           383080                         Will LLC  104437.60   \n",
       "8           412290                    Jerde-Hilpert  112591.43   \n",
       "9           424914                    White-Trantow  135841.99   \n",
       "10          527099                 Sanford and Sons   98822.98   \n",
       "11          604255    Halvorson, Crona and Champlin   70004.36   \n",
       "12          642753                      Pollich LLC   87347.18   \n",
       "13          672390                  Kuhn-Gusikowski   91094.28   \n",
       "14          688981                      Keeling LLC  100934.30   \n",
       "15          714466                  Trantow-Barrows  123381.38   \n",
       "16          729833                        Koepp Ltd  103660.54   \n",
       "17          737550     Fritsch, Russel and Anderson  112214.71   \n",
       "18          740150                       Barton LLC  109438.50   \n",
       "19          786968         Frami, Hills and Schmidt  103569.59   \n",
       "\n",
       "               quantile_ex_1         quantile_ex_2  \n",
       "0     (70004.359, 89137.708]    (82368.0, 87168.0]  \n",
       "1    (89137.708, 100271.535]   (95908.0, 100272.0]  \n",
       "2     (70004.359, 89137.708]    (70003.0, 82368.0]  \n",
       "3    (110132.552, 137351.96]  (124627.0, 137352.0]  \n",
       "4    (89137.708, 100271.535]    (90686.0, 95908.0]  \n",
       "5    (89137.708, 100271.535]    (87168.0, 90686.0]  \n",
       "6     (70004.359, 89137.708]    (82368.0, 87168.0]  \n",
       "7   (100271.535, 110132.552]  (103606.0, 105938.0]  \n",
       "8    (110132.552, 137351.96]  (112290.0, 124627.0]  \n",
       "9    (110132.552, 137351.96]  (124627.0, 137352.0]  \n",
       "10   (89137.708, 100271.535]   (95908.0, 100272.0]  \n",
       "11    (70004.359, 89137.708]    (70003.0, 82368.0]  \n",
       "12    (70004.359, 89137.708]    (87168.0, 90686.0]  \n",
       "13   (89137.708, 100271.535]    (90686.0, 95908.0]  \n",
       "14  (100271.535, 110132.552]  (100272.0, 103606.0]  \n",
       "15   (110132.552, 137351.96]  (112290.0, 124627.0]  \n",
       "16  (100271.535, 110132.552]  (103606.0, 105938.0]  \n",
       "17   (110132.552, 137351.96]  (105938.0, 112290.0]  \n",
       "18  (100271.535, 110132.552]  (105938.0, 112290.0]  \n",
       "19  (100271.535, 110132.552]  (100272.0, 103606.0]  "
      ]
     },
     "execution_count": 43,
     "metadata": {},
     "output_type": "execute_result"
    }
   ],
   "source": [
    "df"
   ]
  },
  {
   "cell_type": "code",
   "execution_count": 44,
   "metadata": {},
   "outputs": [
    {
     "data": {
      "text/plain": [
       "(110132.552, 137351.96]     5\n",
       "(100271.535, 110132.552]    5\n",
       "(89137.708, 100271.535]     5\n",
       "(70004.359, 89137.708]      5\n",
       "Name: quantile_ex_1, dtype: int64"
      ]
     },
     "execution_count": 44,
     "metadata": {},
     "output_type": "execute_result"
    }
   ],
   "source": [
    "df['quantile_ex_1'].value_counts()"
   ]
  },
  {
   "cell_type": "code",
   "execution_count": 45,
   "metadata": {},
   "outputs": [
    {
     "data": {
      "text/plain": [
       "(124627.0, 137352.0]    2\n",
       "(112290.0, 124627.0]    2\n",
       "(105938.0, 112290.0]    2\n",
       "(103606.0, 105938.0]    2\n",
       "(100272.0, 103606.0]    2\n",
       "(95908.0, 100272.0]     2\n",
       "(90686.0, 95908.0]      2\n",
       "(87168.0, 90686.0]      2\n",
       "(82368.0, 87168.0]      2\n",
       "(70003.0, 82368.0]      2\n",
       "Name: quantile_ex_2, dtype: int64"
      ]
     },
     "execution_count": 45,
     "metadata": {},
     "output_type": "execute_result"
    }
   ],
   "source": [
    "df['quantile_ex_2'].value_counts()"
   ]
  },
  {
   "cell_type": "code",
   "execution_count": 46,
   "metadata": {},
   "outputs": [
    {
     "data": {
      "text/html": [
       "<div>\n",
       "<style scoped>\n",
       "    .dataframe tbody tr th:only-of-type {\n",
       "        vertical-align: middle;\n",
       "    }\n",
       "\n",
       "    .dataframe tbody tr th {\n",
       "        vertical-align: top;\n",
       "    }\n",
       "\n",
       "    .dataframe thead th {\n",
       "        text-align: right;\n",
       "    }\n",
       "</style>\n",
       "<table border=\"1\" class=\"dataframe\">\n",
       "  <thead>\n",
       "    <tr style=\"text-align: right;\">\n",
       "      <th></th>\n",
       "      <th>account number</th>\n",
       "      <th>name</th>\n",
       "      <th>ext price</th>\n",
       "      <th>quantile_ex_1</th>\n",
       "      <th>quantile_ex_2</th>\n",
       "      <th>quantile_ex_3</th>\n",
       "    </tr>\n",
       "  </thead>\n",
       "  <tbody>\n",
       "    <tr>\n",
       "      <th>0</th>\n",
       "      <td>141962</td>\n",
       "      <td>Herman LLC</td>\n",
       "      <td>82865.00</td>\n",
       "      <td>(70004.359, 89137.708]</td>\n",
       "      <td>(82368.0, 87168.0]</td>\n",
       "      <td>Bronze</td>\n",
       "    </tr>\n",
       "    <tr>\n",
       "      <th>1</th>\n",
       "      <td>146832</td>\n",
       "      <td>Kiehn-Spinka</td>\n",
       "      <td>99608.77</td>\n",
       "      <td>(89137.708, 100271.535]</td>\n",
       "      <td>(95908.0, 100272.0]</td>\n",
       "      <td>Gold</td>\n",
       "    </tr>\n",
       "    <tr>\n",
       "      <th>2</th>\n",
       "      <td>163416</td>\n",
       "      <td>Purdy-Kunde</td>\n",
       "      <td>77898.21</td>\n",
       "      <td>(70004.359, 89137.708]</td>\n",
       "      <td>(70003.0, 82368.0]</td>\n",
       "      <td>Bronze</td>\n",
       "    </tr>\n",
       "    <tr>\n",
       "      <th>3</th>\n",
       "      <td>218895</td>\n",
       "      <td>Kulas Inc</td>\n",
       "      <td>137351.96</td>\n",
       "      <td>(110132.552, 137351.96]</td>\n",
       "      <td>(124627.0, 137352.0]</td>\n",
       "      <td>Diamond</td>\n",
       "    </tr>\n",
       "    <tr>\n",
       "      <th>4</th>\n",
       "      <td>239344</td>\n",
       "      <td>Stokes LLC</td>\n",
       "      <td>91535.92</td>\n",
       "      <td>(89137.708, 100271.535]</td>\n",
       "      <td>(90686.0, 95908.0]</td>\n",
       "      <td>Silver</td>\n",
       "    </tr>\n",
       "  </tbody>\n",
       "</table>\n",
       "</div>"
      ],
      "text/plain": [
       "   account number          name  ext price            quantile_ex_1  \\\n",
       "0          141962    Herman LLC   82865.00   (70004.359, 89137.708]   \n",
       "1          146832  Kiehn-Spinka   99608.77  (89137.708, 100271.535]   \n",
       "2          163416   Purdy-Kunde   77898.21   (70004.359, 89137.708]   \n",
       "3          218895     Kulas Inc  137351.96  (110132.552, 137351.96]   \n",
       "4          239344    Stokes LLC   91535.92  (89137.708, 100271.535]   \n",
       "\n",
       "          quantile_ex_2 quantile_ex_3  \n",
       "0    (82368.0, 87168.0]        Bronze  \n",
       "1   (95908.0, 100272.0]          Gold  \n",
       "2    (70003.0, 82368.0]        Bronze  \n",
       "3  (124627.0, 137352.0]       Diamond  \n",
       "4    (90686.0, 95908.0]        Silver  "
      ]
     },
     "execution_count": 46,
     "metadata": {},
     "output_type": "execute_result"
    }
   ],
   "source": [
    "# Add labels\n",
    "bin_labels_5 = ['Bronze', 'Silver', 'Gold', 'Platinum', 'Diamond']\n",
    "df['quantile_ex_3'] = pd.qcut(df['ext price'],\n",
    "                              q=[0, .2, .4, .6, .8, 1],\n",
    "                              labels=bin_labels_5)\n",
    "df.head()"
   ]
  },
  {
   "cell_type": "code",
   "execution_count": 47,
   "metadata": {},
   "outputs": [],
   "source": [
    "# Create a results table\n",
    "results, bin_edges = pd.qcut(df['ext price'],\n",
    "                             q=[0, .2, .4, .6, .8, 1],\n",
    "                             labels=bin_labels_5,\n",
    "                             retbins=True)\n",
    "\n",
    "results_table = pd.DataFrame(zip(bin_edges, bin_labels_5),\n",
    "                             columns=['Threshold', 'Tier'])"
   ]
  },
  {
   "cell_type": "code",
   "execution_count": 48,
   "metadata": {},
   "outputs": [
    {
     "data": {
      "text/html": [
       "<div>\n",
       "<style scoped>\n",
       "    .dataframe tbody tr th:only-of-type {\n",
       "        vertical-align: middle;\n",
       "    }\n",
       "\n",
       "    .dataframe tbody tr th {\n",
       "        vertical-align: top;\n",
       "    }\n",
       "\n",
       "    .dataframe thead th {\n",
       "        text-align: right;\n",
       "    }\n",
       "</style>\n",
       "<table border=\"1\" class=\"dataframe\">\n",
       "  <thead>\n",
       "    <tr style=\"text-align: right;\">\n",
       "      <th></th>\n",
       "      <th>Threshold</th>\n",
       "      <th>Tier</th>\n",
       "    </tr>\n",
       "  </thead>\n",
       "  <tbody>\n",
       "    <tr>\n",
       "      <th>0</th>\n",
       "      <td>70004.360</td>\n",
       "      <td>Bronze</td>\n",
       "    </tr>\n",
       "    <tr>\n",
       "      <th>1</th>\n",
       "      <td>87167.958</td>\n",
       "      <td>Silver</td>\n",
       "    </tr>\n",
       "    <tr>\n",
       "      <th>2</th>\n",
       "      <td>95908.156</td>\n",
       "      <td>Gold</td>\n",
       "    </tr>\n",
       "    <tr>\n",
       "      <th>3</th>\n",
       "      <td>103605.970</td>\n",
       "      <td>Platinum</td>\n",
       "    </tr>\n",
       "    <tr>\n",
       "      <th>4</th>\n",
       "      <td>112290.054</td>\n",
       "      <td>Diamond</td>\n",
       "    </tr>\n",
       "  </tbody>\n",
       "</table>\n",
       "</div>"
      ],
      "text/plain": [
       "    Threshold      Tier\n",
       "0   70004.360    Bronze\n",
       "1   87167.958    Silver\n",
       "2   95908.156      Gold\n",
       "3  103605.970  Platinum\n",
       "4  112290.054   Diamond"
      ]
     },
     "execution_count": 48,
     "metadata": {},
     "output_type": "execute_result"
    }
   ],
   "source": [
    "results_table"
   ]
  },
  {
   "cell_type": "markdown",
   "metadata": {},
   "source": [
    "### cut"
   ]
  },
  {
   "cell_type": "code",
   "execution_count": 50,
   "metadata": {},
   "outputs": [],
   "source": [
    "df = df.drop(columns = ['quantile_ex_1','quantile_ex_2', 'quantile_ex_3'])"
   ]
  },
  {
   "cell_type": "code",
   "execution_count": 51,
   "metadata": {},
   "outputs": [
    {
     "data": {
      "text/html": [
       "<div>\n",
       "<style scoped>\n",
       "    .dataframe tbody tr th:only-of-type {\n",
       "        vertical-align: middle;\n",
       "    }\n",
       "\n",
       "    .dataframe tbody tr th {\n",
       "        vertical-align: top;\n",
       "    }\n",
       "\n",
       "    .dataframe thead th {\n",
       "        text-align: right;\n",
       "    }\n",
       "</style>\n",
       "<table border=\"1\" class=\"dataframe\">\n",
       "  <thead>\n",
       "    <tr style=\"text-align: right;\">\n",
       "      <th></th>\n",
       "      <th>account number</th>\n",
       "      <th>name</th>\n",
       "      <th>ext price</th>\n",
       "    </tr>\n",
       "  </thead>\n",
       "  <tbody>\n",
       "    <tr>\n",
       "      <th>0</th>\n",
       "      <td>141962</td>\n",
       "      <td>Herman LLC</td>\n",
       "      <td>82865.00</td>\n",
       "    </tr>\n",
       "    <tr>\n",
       "      <th>1</th>\n",
       "      <td>146832</td>\n",
       "      <td>Kiehn-Spinka</td>\n",
       "      <td>99608.77</td>\n",
       "    </tr>\n",
       "    <tr>\n",
       "      <th>2</th>\n",
       "      <td>163416</td>\n",
       "      <td>Purdy-Kunde</td>\n",
       "      <td>77898.21</td>\n",
       "    </tr>\n",
       "    <tr>\n",
       "      <th>3</th>\n",
       "      <td>218895</td>\n",
       "      <td>Kulas Inc</td>\n",
       "      <td>137351.96</td>\n",
       "    </tr>\n",
       "    <tr>\n",
       "      <th>4</th>\n",
       "      <td>239344</td>\n",
       "      <td>Stokes LLC</td>\n",
       "      <td>91535.92</td>\n",
       "    </tr>\n",
       "    <tr>\n",
       "      <th>5</th>\n",
       "      <td>257198</td>\n",
       "      <td>Cronin, Oberbrunner and Spencer</td>\n",
       "      <td>89734.55</td>\n",
       "    </tr>\n",
       "    <tr>\n",
       "      <th>6</th>\n",
       "      <td>307599</td>\n",
       "      <td>Kassulke, Ondricka and Metz</td>\n",
       "      <td>86451.07</td>\n",
       "    </tr>\n",
       "    <tr>\n",
       "      <th>7</th>\n",
       "      <td>383080</td>\n",
       "      <td>Will LLC</td>\n",
       "      <td>104437.60</td>\n",
       "    </tr>\n",
       "    <tr>\n",
       "      <th>8</th>\n",
       "      <td>412290</td>\n",
       "      <td>Jerde-Hilpert</td>\n",
       "      <td>112591.43</td>\n",
       "    </tr>\n",
       "    <tr>\n",
       "      <th>9</th>\n",
       "      <td>424914</td>\n",
       "      <td>White-Trantow</td>\n",
       "      <td>135841.99</td>\n",
       "    </tr>\n",
       "    <tr>\n",
       "      <th>10</th>\n",
       "      <td>527099</td>\n",
       "      <td>Sanford and Sons</td>\n",
       "      <td>98822.98</td>\n",
       "    </tr>\n",
       "    <tr>\n",
       "      <th>11</th>\n",
       "      <td>604255</td>\n",
       "      <td>Halvorson, Crona and Champlin</td>\n",
       "      <td>70004.36</td>\n",
       "    </tr>\n",
       "    <tr>\n",
       "      <th>12</th>\n",
       "      <td>642753</td>\n",
       "      <td>Pollich LLC</td>\n",
       "      <td>87347.18</td>\n",
       "    </tr>\n",
       "    <tr>\n",
       "      <th>13</th>\n",
       "      <td>672390</td>\n",
       "      <td>Kuhn-Gusikowski</td>\n",
       "      <td>91094.28</td>\n",
       "    </tr>\n",
       "    <tr>\n",
       "      <th>14</th>\n",
       "      <td>688981</td>\n",
       "      <td>Keeling LLC</td>\n",
       "      <td>100934.30</td>\n",
       "    </tr>\n",
       "    <tr>\n",
       "      <th>15</th>\n",
       "      <td>714466</td>\n",
       "      <td>Trantow-Barrows</td>\n",
       "      <td>123381.38</td>\n",
       "    </tr>\n",
       "    <tr>\n",
       "      <th>16</th>\n",
       "      <td>729833</td>\n",
       "      <td>Koepp Ltd</td>\n",
       "      <td>103660.54</td>\n",
       "    </tr>\n",
       "    <tr>\n",
       "      <th>17</th>\n",
       "      <td>737550</td>\n",
       "      <td>Fritsch, Russel and Anderson</td>\n",
       "      <td>112214.71</td>\n",
       "    </tr>\n",
       "    <tr>\n",
       "      <th>18</th>\n",
       "      <td>740150</td>\n",
       "      <td>Barton LLC</td>\n",
       "      <td>109438.50</td>\n",
       "    </tr>\n",
       "    <tr>\n",
       "      <th>19</th>\n",
       "      <td>786968</td>\n",
       "      <td>Frami, Hills and Schmidt</td>\n",
       "      <td>103569.59</td>\n",
       "    </tr>\n",
       "  </tbody>\n",
       "</table>\n",
       "</div>"
      ],
      "text/plain": [
       "    account number                             name  ext price\n",
       "0           141962                       Herman LLC   82865.00\n",
       "1           146832                     Kiehn-Spinka   99608.77\n",
       "2           163416                      Purdy-Kunde   77898.21\n",
       "3           218895                        Kulas Inc  137351.96\n",
       "4           239344                       Stokes LLC   91535.92\n",
       "5           257198  Cronin, Oberbrunner and Spencer   89734.55\n",
       "6           307599      Kassulke, Ondricka and Metz   86451.07\n",
       "7           383080                         Will LLC  104437.60\n",
       "8           412290                    Jerde-Hilpert  112591.43\n",
       "9           424914                    White-Trantow  135841.99\n",
       "10          527099                 Sanford and Sons   98822.98\n",
       "11          604255    Halvorson, Crona and Champlin   70004.36\n",
       "12          642753                      Pollich LLC   87347.18\n",
       "13          672390                  Kuhn-Gusikowski   91094.28\n",
       "14          688981                      Keeling LLC  100934.30\n",
       "15          714466                  Trantow-Barrows  123381.38\n",
       "16          729833                        Koepp Ltd  103660.54\n",
       "17          737550     Fritsch, Russel and Anderson  112214.71\n",
       "18          740150                       Barton LLC  109438.50\n",
       "19          786968         Frami, Hills and Schmidt  103569.59"
      ]
     },
     "execution_count": 51,
     "metadata": {},
     "output_type": "execute_result"
    }
   ],
   "source": [
    "df"
   ]
  },
  {
   "cell_type": "code",
   "execution_count": 52,
   "metadata": {},
   "outputs": [
    {
     "data": {
      "text/plain": [
       "(86841.26, 103678.16]     9\n",
       "(103678.16, 120515.06]    4\n",
       "(69937.012, 86841.26]     4\n",
       "(120515.06, 137351.96]    3\n",
       "Name: ext price, dtype: int64"
      ]
     },
     "execution_count": 52,
     "metadata": {},
     "output_type": "execute_result"
    }
   ],
   "source": [
    "pd.cut(df['ext price'], bins=4).value_counts()"
   ]
  },
  {
   "cell_type": "code",
   "execution_count": 53,
   "metadata": {},
   "outputs": [],
   "source": [
    "cut_labels_4 = ['silver', 'gold', 'platinum', 'diamond']\n",
    "cut_bins = [0, 70000, 100000, 130000, 200000]\n",
    "df['cut_ex1'] = pd.cut(df['ext price'], bins=cut_bins, labels=cut_labels_4)"
   ]
  },
  {
   "cell_type": "code",
   "execution_count": 54,
   "metadata": {},
   "outputs": [
    {
     "data": {
      "text/html": [
       "<div>\n",
       "<style scoped>\n",
       "    .dataframe tbody tr th:only-of-type {\n",
       "        vertical-align: middle;\n",
       "    }\n",
       "\n",
       "    .dataframe tbody tr th {\n",
       "        vertical-align: top;\n",
       "    }\n",
       "\n",
       "    .dataframe thead th {\n",
       "        text-align: right;\n",
       "    }\n",
       "</style>\n",
       "<table border=\"1\" class=\"dataframe\">\n",
       "  <thead>\n",
       "    <tr style=\"text-align: right;\">\n",
       "      <th></th>\n",
       "      <th>account number</th>\n",
       "      <th>name</th>\n",
       "      <th>ext price</th>\n",
       "      <th>cut_ex1</th>\n",
       "    </tr>\n",
       "  </thead>\n",
       "  <tbody>\n",
       "    <tr>\n",
       "      <th>0</th>\n",
       "      <td>141962</td>\n",
       "      <td>Herman LLC</td>\n",
       "      <td>82865.00</td>\n",
       "      <td>gold</td>\n",
       "    </tr>\n",
       "    <tr>\n",
       "      <th>1</th>\n",
       "      <td>146832</td>\n",
       "      <td>Kiehn-Spinka</td>\n",
       "      <td>99608.77</td>\n",
       "      <td>gold</td>\n",
       "    </tr>\n",
       "    <tr>\n",
       "      <th>2</th>\n",
       "      <td>163416</td>\n",
       "      <td>Purdy-Kunde</td>\n",
       "      <td>77898.21</td>\n",
       "      <td>gold</td>\n",
       "    </tr>\n",
       "    <tr>\n",
       "      <th>3</th>\n",
       "      <td>218895</td>\n",
       "      <td>Kulas Inc</td>\n",
       "      <td>137351.96</td>\n",
       "      <td>diamond</td>\n",
       "    </tr>\n",
       "    <tr>\n",
       "      <th>4</th>\n",
       "      <td>239344</td>\n",
       "      <td>Stokes LLC</td>\n",
       "      <td>91535.92</td>\n",
       "      <td>gold</td>\n",
       "    </tr>\n",
       "    <tr>\n",
       "      <th>5</th>\n",
       "      <td>257198</td>\n",
       "      <td>Cronin, Oberbrunner and Spencer</td>\n",
       "      <td>89734.55</td>\n",
       "      <td>gold</td>\n",
       "    </tr>\n",
       "    <tr>\n",
       "      <th>6</th>\n",
       "      <td>307599</td>\n",
       "      <td>Kassulke, Ondricka and Metz</td>\n",
       "      <td>86451.07</td>\n",
       "      <td>gold</td>\n",
       "    </tr>\n",
       "    <tr>\n",
       "      <th>7</th>\n",
       "      <td>383080</td>\n",
       "      <td>Will LLC</td>\n",
       "      <td>104437.60</td>\n",
       "      <td>platinum</td>\n",
       "    </tr>\n",
       "    <tr>\n",
       "      <th>8</th>\n",
       "      <td>412290</td>\n",
       "      <td>Jerde-Hilpert</td>\n",
       "      <td>112591.43</td>\n",
       "      <td>platinum</td>\n",
       "    </tr>\n",
       "    <tr>\n",
       "      <th>9</th>\n",
       "      <td>424914</td>\n",
       "      <td>White-Trantow</td>\n",
       "      <td>135841.99</td>\n",
       "      <td>diamond</td>\n",
       "    </tr>\n",
       "    <tr>\n",
       "      <th>10</th>\n",
       "      <td>527099</td>\n",
       "      <td>Sanford and Sons</td>\n",
       "      <td>98822.98</td>\n",
       "      <td>gold</td>\n",
       "    </tr>\n",
       "    <tr>\n",
       "      <th>11</th>\n",
       "      <td>604255</td>\n",
       "      <td>Halvorson, Crona and Champlin</td>\n",
       "      <td>70004.36</td>\n",
       "      <td>gold</td>\n",
       "    </tr>\n",
       "    <tr>\n",
       "      <th>12</th>\n",
       "      <td>642753</td>\n",
       "      <td>Pollich LLC</td>\n",
       "      <td>87347.18</td>\n",
       "      <td>gold</td>\n",
       "    </tr>\n",
       "    <tr>\n",
       "      <th>13</th>\n",
       "      <td>672390</td>\n",
       "      <td>Kuhn-Gusikowski</td>\n",
       "      <td>91094.28</td>\n",
       "      <td>gold</td>\n",
       "    </tr>\n",
       "    <tr>\n",
       "      <th>14</th>\n",
       "      <td>688981</td>\n",
       "      <td>Keeling LLC</td>\n",
       "      <td>100934.30</td>\n",
       "      <td>platinum</td>\n",
       "    </tr>\n",
       "    <tr>\n",
       "      <th>15</th>\n",
       "      <td>714466</td>\n",
       "      <td>Trantow-Barrows</td>\n",
       "      <td>123381.38</td>\n",
       "      <td>platinum</td>\n",
       "    </tr>\n",
       "    <tr>\n",
       "      <th>16</th>\n",
       "      <td>729833</td>\n",
       "      <td>Koepp Ltd</td>\n",
       "      <td>103660.54</td>\n",
       "      <td>platinum</td>\n",
       "    </tr>\n",
       "    <tr>\n",
       "      <th>17</th>\n",
       "      <td>737550</td>\n",
       "      <td>Fritsch, Russel and Anderson</td>\n",
       "      <td>112214.71</td>\n",
       "      <td>platinum</td>\n",
       "    </tr>\n",
       "    <tr>\n",
       "      <th>18</th>\n",
       "      <td>740150</td>\n",
       "      <td>Barton LLC</td>\n",
       "      <td>109438.50</td>\n",
       "      <td>platinum</td>\n",
       "    </tr>\n",
       "    <tr>\n",
       "      <th>19</th>\n",
       "      <td>786968</td>\n",
       "      <td>Frami, Hills and Schmidt</td>\n",
       "      <td>103569.59</td>\n",
       "      <td>platinum</td>\n",
       "    </tr>\n",
       "  </tbody>\n",
       "</table>\n",
       "</div>"
      ],
      "text/plain": [
       "    account number                             name  ext price   cut_ex1\n",
       "0           141962                       Herman LLC   82865.00      gold\n",
       "1           146832                     Kiehn-Spinka   99608.77      gold\n",
       "2           163416                      Purdy-Kunde   77898.21      gold\n",
       "3           218895                        Kulas Inc  137351.96   diamond\n",
       "4           239344                       Stokes LLC   91535.92      gold\n",
       "5           257198  Cronin, Oberbrunner and Spencer   89734.55      gold\n",
       "6           307599      Kassulke, Ondricka and Metz   86451.07      gold\n",
       "7           383080                         Will LLC  104437.60  platinum\n",
       "8           412290                    Jerde-Hilpert  112591.43  platinum\n",
       "9           424914                    White-Trantow  135841.99   diamond\n",
       "10          527099                 Sanford and Sons   98822.98      gold\n",
       "11          604255    Halvorson, Crona and Champlin   70004.36      gold\n",
       "12          642753                      Pollich LLC   87347.18      gold\n",
       "13          672390                  Kuhn-Gusikowski   91094.28      gold\n",
       "14          688981                      Keeling LLC  100934.30  platinum\n",
       "15          714466                  Trantow-Barrows  123381.38  platinum\n",
       "16          729833                        Koepp Ltd  103660.54  platinum\n",
       "17          737550     Fritsch, Russel and Anderson  112214.71  platinum\n",
       "18          740150                       Barton LLC  109438.50  platinum\n",
       "19          786968         Frami, Hills and Schmidt  103569.59  platinum"
      ]
     },
     "execution_count": 54,
     "metadata": {},
     "output_type": "execute_result"
    }
   ],
   "source": [
    "df"
   ]
  },
  {
   "cell_type": "code",
   "execution_count": 55,
   "metadata": {},
   "outputs": [
    {
     "data": {
      "text/plain": [
       "0      (75000.0, 100000.0]\n",
       "1      (75000.0, 100000.0]\n",
       "2      (75000.0, 100000.0]\n",
       "3     (125000.0, 150000.0]\n",
       "4      (75000.0, 100000.0]\n",
       "5      (75000.0, 100000.0]\n",
       "6      (75000.0, 100000.0]\n",
       "7     (100000.0, 125000.0]\n",
       "8     (100000.0, 125000.0]\n",
       "9     (125000.0, 150000.0]\n",
       "10     (75000.0, 100000.0]\n",
       "11      (50000.0, 75000.0]\n",
       "12     (75000.0, 100000.0]\n",
       "13     (75000.0, 100000.0]\n",
       "14    (100000.0, 125000.0]\n",
       "15    (100000.0, 125000.0]\n",
       "16    (100000.0, 125000.0]\n",
       "17    (100000.0, 125000.0]\n",
       "18    (100000.0, 125000.0]\n",
       "19    (100000.0, 125000.0]\n",
       "Name: ext price, dtype: category\n",
       "Categories (8, interval[float64]): [(0.0, 25000.0] < (25000.0, 50000.0] < (50000.0, 75000.0] < (75000.0, 100000.0] < (100000.0, 125000.0] < (125000.0, 150000.0] < (150000.0, 175000.0] < (175000.0, 200000.0]]"
      ]
     },
     "execution_count": 55,
     "metadata": {},
     "output_type": "execute_result"
    }
   ],
   "source": [
    "# Custom bins\n",
    "np.linspace(0, 200000, 9)\n",
    "pd.cut(df['ext price'], bins=np.linspace(0, 200000, 9))"
   ]
  },
  {
   "cell_type": "code",
   "execution_count": null,
   "metadata": {},
   "outputs": [],
   "source": []
  },
  {
   "cell_type": "markdown",
   "metadata": {},
   "source": [
    "### Lab: Bin the data with an interval of 10000 and a range from 100000 to 200000\n"
   ]
  },
  {
   "cell_type": "markdown",
   "metadata": {},
   "source": [
    "Use pd.interval_range() and pd.cut()"
   ]
  },
  {
   "cell_type": "code",
   "execution_count": 57,
   "metadata": {},
   "outputs": [
    {
     "data": {
      "text/plain": [
       "IntervalIndex([[0, 10000), [10000, 20000), [20000, 30000), [30000, 40000), [40000, 50000) ... [150000, 160000), [160000, 170000), [170000, 180000), [180000, 190000), [190000, 200000)],\n",
       "              closed='left',\n",
       "              dtype='interval[int64]')"
      ]
     },
     "execution_count": 57,
     "metadata": {},
     "output_type": "execute_result"
    }
   ],
   "source": []
  },
  {
   "cell_type": "code",
   "execution_count": 58,
   "metadata": {},
   "outputs": [
    {
     "data": {
      "text/html": [
       "<div>\n",
       "<style scoped>\n",
       "    .dataframe tbody tr th:only-of-type {\n",
       "        vertical-align: middle;\n",
       "    }\n",
       "\n",
       "    .dataframe tbody tr th {\n",
       "        vertical-align: top;\n",
       "    }\n",
       "\n",
       "    .dataframe thead th {\n",
       "        text-align: right;\n",
       "    }\n",
       "</style>\n",
       "<table border=\"1\" class=\"dataframe\">\n",
       "  <thead>\n",
       "    <tr style=\"text-align: right;\">\n",
       "      <th></th>\n",
       "      <th>account number</th>\n",
       "      <th>name</th>\n",
       "      <th>ext price</th>\n",
       "      <th>cut_ex1</th>\n",
       "      <th>cut_ex2</th>\n",
       "    </tr>\n",
       "  </thead>\n",
       "  <tbody>\n",
       "    <tr>\n",
       "      <th>0</th>\n",
       "      <td>141962</td>\n",
       "      <td>Herman LLC</td>\n",
       "      <td>82865.00</td>\n",
       "      <td>gold</td>\n",
       "      <td>(80000, 90000]</td>\n",
       "    </tr>\n",
       "    <tr>\n",
       "      <th>1</th>\n",
       "      <td>146832</td>\n",
       "      <td>Kiehn-Spinka</td>\n",
       "      <td>99608.77</td>\n",
       "      <td>gold</td>\n",
       "      <td>(90000, 100000]</td>\n",
       "    </tr>\n",
       "    <tr>\n",
       "      <th>2</th>\n",
       "      <td>163416</td>\n",
       "      <td>Purdy-Kunde</td>\n",
       "      <td>77898.21</td>\n",
       "      <td>gold</td>\n",
       "      <td>(70000, 80000]</td>\n",
       "    </tr>\n",
       "    <tr>\n",
       "      <th>3</th>\n",
       "      <td>218895</td>\n",
       "      <td>Kulas Inc</td>\n",
       "      <td>137351.96</td>\n",
       "      <td>diamond</td>\n",
       "      <td>(130000, 140000]</td>\n",
       "    </tr>\n",
       "    <tr>\n",
       "      <th>4</th>\n",
       "      <td>239344</td>\n",
       "      <td>Stokes LLC</td>\n",
       "      <td>91535.92</td>\n",
       "      <td>gold</td>\n",
       "      <td>(90000, 100000]</td>\n",
       "    </tr>\n",
       "  </tbody>\n",
       "</table>\n",
       "</div>"
      ],
      "text/plain": [
       "   account number          name  ext price  cut_ex1           cut_ex2\n",
       "0          141962    Herman LLC   82865.00     gold    (80000, 90000]\n",
       "1          146832  Kiehn-Spinka   99608.77     gold   (90000, 100000]\n",
       "2          163416   Purdy-Kunde   77898.21     gold    (70000, 80000]\n",
       "3          218895     Kulas Inc  137351.96  diamond  (130000, 140000]\n",
       "4          239344    Stokes LLC   91535.92     gold   (90000, 100000]"
      ]
     },
     "execution_count": 58,
     "metadata": {},
     "output_type": "execute_result"
    }
   ],
   "source": []
  },
  {
   "cell_type": "code",
   "execution_count": null,
   "metadata": {},
   "outputs": [],
   "source": []
  }
 ],
 "metadata": {
  "kernelspec": {
   "display_name": "Python 3",
   "language": "python",
   "name": "python3"
  },
  "language_info": {
   "codemirror_mode": {
    "name": "ipython",
    "version": 3
   },
   "file_extension": ".py",
   "mimetype": "text/x-python",
   "name": "python",
   "nbconvert_exporter": "python",
   "pygments_lexer": "ipython3",
   "version": "3.7.3"
  }
 },
 "nbformat": 4,
 "nbformat_minor": 2
}
