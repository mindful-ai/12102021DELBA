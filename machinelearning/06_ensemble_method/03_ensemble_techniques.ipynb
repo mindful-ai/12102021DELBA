{
 "cells": [
  {
   "cell_type": "code",
   "execution_count": 1,
   "metadata": {},
   "outputs": [],
   "source": [
    "from sklearn.ensemble import BaggingClassifier\n",
    "from sklearn.tree import DecisionTreeClassifier"
   ]
  },
  {
   "cell_type": "code",
   "execution_count": 2,
   "metadata": {},
   "outputs": [],
   "source": [
    "from sklearn.model_selection import train_test_split\n",
    "from sklearn.datasets import make_moons\n",
    "\n",
    "X, y = make_moons(n_samples=500, noise=0.30, random_state=42)\n",
    "X_train, X_test, y_train, y_test = train_test_split(X, y, random_state=42)"
   ]
  },
  {
   "cell_type": "markdown",
   "metadata": {},
   "source": [
    "### Random forest is nothing but a bag of decision trees"
   ]
  },
  {
   "cell_type": "code",
   "execution_count": 56,
   "metadata": {},
   "outputs": [],
   "source": [
    "bag = BaggingClassifier(\n",
    "        DecisionTreeClassifier(),  # Classifier\n",
    "        n_estimators=1000,         # Number of instances of the estimator\n",
    "        max_samples=100,           # Maximum samples to take\n",
    "        bootstrap=True,            # Bagging mode set\n",
    "        random_state=55    \n",
    ")\n",
    "bag.fit(X_train, y_train)\n",
    "bag_predictions = bag.predict(X_test)"
   ]
  },
  {
   "cell_type": "code",
   "execution_count": 57,
   "metadata": {},
   "outputs": [
    {
     "name": "stdout",
     "output_type": "stream",
     "text": [
      "0.92\n"
     ]
    }
   ],
   "source": [
    "from sklearn.metrics import accuracy_score\n",
    "print(accuracy_score(y_test, bag_predictions))"
   ]
  },
  {
   "cell_type": "markdown",
   "metadata": {},
   "source": [
    "### Random Forest using RandomForestClassifier"
   ]
  },
  {
   "cell_type": "code",
   "execution_count": 58,
   "metadata": {},
   "outputs": [],
   "source": [
    "from sklearn.ensemble import RandomForestClassifier"
   ]
  },
  {
   "cell_type": "code",
   "execution_count": 59,
   "metadata": {},
   "outputs": [],
   "source": [
    "rf = RandomForestClassifier(\n",
    "    n_estimators = 1000,\n",
    "    max_leaf_nodes=16,\n",
    "    oob_score=True,\n",
    "    max_depth=5,\n",
    "    criterion='gini',\n",
    "    random_state=50\n",
    ")"
   ]
  },
  {
   "cell_type": "code",
   "execution_count": 60,
   "metadata": {},
   "outputs": [
    {
     "data": {
      "text/plain": [
       "RandomForestClassifier(max_depth=5, max_leaf_nodes=16, n_estimators=1000,\n",
       "                       oob_score=True, random_state=50)"
      ]
     },
     "execution_count": 60,
     "metadata": {},
     "output_type": "execute_result"
    }
   ],
   "source": [
    "rf.fit(X_train, y_train)"
   ]
  },
  {
   "cell_type": "code",
   "execution_count": 61,
   "metadata": {},
   "outputs": [],
   "source": [
    "rf_predictions = rf.predict(X_test)"
   ]
  },
  {
   "cell_type": "code",
   "execution_count": 62,
   "metadata": {},
   "outputs": [
    {
     "name": "stdout",
     "output_type": "stream",
     "text": [
      "0.92\n"
     ]
    }
   ],
   "source": [
    "from sklearn.metrics import accuracy_score\n",
    "print(accuracy_score(y_test, rf_predictions))"
   ]
  },
  {
   "cell_type": "code",
   "execution_count": 63,
   "metadata": {},
   "outputs": [
    {
     "data": {
      "text/plain": [
       "0.9013333333333333"
      ]
     },
     "execution_count": 63,
     "metadata": {},
     "output_type": "execute_result"
    }
   ],
   "source": [
    "rf.oob_score_"
   ]
  },
  {
   "cell_type": "code",
   "execution_count": 66,
   "metadata": {},
   "outputs": [
    {
     "data": {
      "text/plain": [
       "0.968"
      ]
     },
     "execution_count": 66,
     "metadata": {},
     "output_type": "execute_result"
    }
   ],
   "source": [
    "import numpy as np\n",
    "np.sum(bag_predictions == rf_predictions)/len(bag_predictions)"
   ]
  },
  {
   "cell_type": "markdown",
   "metadata": {},
   "source": [
    "### Feature Importance"
   ]
  },
  {
   "cell_type": "code",
   "execution_count": 67,
   "metadata": {},
   "outputs": [],
   "source": [
    "from sklearn.datasets import load_iris\n",
    "iris = load_iris()"
   ]
  },
  {
   "cell_type": "code",
   "execution_count": 68,
   "metadata": {},
   "outputs": [
    {
     "data": {
      "text/plain": [
       "RandomForestClassifier(n_estimators=500, random_state=90)"
      ]
     },
     "execution_count": 68,
     "metadata": {},
     "output_type": "execute_result"
    }
   ],
   "source": [
    "rf_iris = RandomForestClassifier(n_estimators=500, random_state=90)\n",
    "rf_iris.fit(iris['data'], iris['target'])"
   ]
  },
  {
   "cell_type": "code",
   "execution_count": 69,
   "metadata": {},
   "outputs": [
    {
     "data": {
      "text/plain": [
       "['sepal length (cm)',\n",
       " 'sepal width (cm)',\n",
       " 'petal length (cm)',\n",
       " 'petal width (cm)']"
      ]
     },
     "execution_count": 69,
     "metadata": {},
     "output_type": "execute_result"
    }
   ],
   "source": [
    "iris[\"feature_names\"]"
   ]
  },
  {
   "cell_type": "code",
   "execution_count": 70,
   "metadata": {},
   "outputs": [
    {
     "data": {
      "text/plain": [
       "array([0.09465965, 0.02550421, 0.41111436, 0.46872178])"
      ]
     },
     "execution_count": 70,
     "metadata": {},
     "output_type": "execute_result"
    }
   ],
   "source": [
    "rf_iris.feature_importances_"
   ]
  },
  {
   "cell_type": "code",
   "execution_count": 72,
   "metadata": {},
   "outputs": [
    {
     "data": {
      "text/plain": [
       "[('sepal length (cm)', 0.09465964763772224),\n",
       " ('sepal width (cm)', 0.025504213597801688),\n",
       " ('petal length (cm)', 0.4111143596499693),\n",
       " ('petal width (cm)', 0.46872177911450674)]"
      ]
     },
     "execution_count": 72,
     "metadata": {},
     "output_type": "execute_result"
    }
   ],
   "source": [
    "list(zip(iris[\"feature_names\"], rf_iris.feature_importances_))"
   ]
  },
  {
   "cell_type": "code",
   "execution_count": 75,
   "metadata": {},
   "outputs": [
    {
     "name": "stdout",
     "output_type": "stream",
     "text": [
      "sepal length (cm)  ------>  9.465964763772224 %\n",
      "sepal width (cm)  ------>  2.550421359780169 %\n",
      "petal length (cm)  ------>  41.11143596499693 %\n",
      "petal width (cm)  ------>  46.87217791145068 %\n"
     ]
    }
   ],
   "source": [
    "for feature, score in zip(iris[\"feature_names\"], rf_iris.feature_importances_):\n",
    "    print(feature, ' ------> ', score*100, '%')"
   ]
  },
  {
   "cell_type": "markdown",
   "metadata": {},
   "source": [
    "### AdaBoost"
   ]
  },
  {
   "cell_type": "code",
   "execution_count": 76,
   "metadata": {},
   "outputs": [],
   "source": [
    "from sklearn.datasets import load_iris\n",
    "iris = load_iris()"
   ]
  },
  {
   "cell_type": "code",
   "execution_count": 77,
   "metadata": {},
   "outputs": [],
   "source": [
    "from sklearn.ensemble import AdaBoostClassifier\n",
    "from sklearn.model_selection import train_test_split\n",
    "from sklearn import metrics"
   ]
  },
  {
   "cell_type": "code",
   "execution_count": 86,
   "metadata": {},
   "outputs": [
    {
     "data": {
      "text/plain": [
       "<function sklearn.model_selection._split.train_test_split(*arrays, test_size=None, train_size=None, random_state=None, shuffle=True, stratify=None)>"
      ]
     },
     "execution_count": 86,
     "metadata": {},
     "output_type": "execute_result"
    }
   ],
   "source": [
    "X = iris.data\n",
    "y = iris.target\n",
    "X_train, X_test, y_train, y_test = train_test_split(X, y, test_size=0.33, random_state=42)\n",
    "train_test_split"
   ]
  },
  {
   "cell_type": "code",
   "execution_count": 87,
   "metadata": {},
   "outputs": [],
   "source": [
    "ab = AdaBoostClassifier( n_estimators=50, learning_rate=1)"
   ]
  },
  {
   "cell_type": "code",
   "execution_count": 88,
   "metadata": {},
   "outputs": [],
   "source": [
    "model = ab.fit(X_train, y_train)\n",
    "predictions = model.predict(X_test)"
   ]
  },
  {
   "cell_type": "code",
   "execution_count": 89,
   "metadata": {},
   "outputs": [
    {
     "name": "stdout",
     "output_type": "stream",
     "text": [
      "0.92\n"
     ]
    }
   ],
   "source": [
    "from sklearn.metrics import accuracy_score\n",
    "print(accuracy_score(y_test, predictions))"
   ]
  },
  {
   "cell_type": "code",
   "execution_count": 90,
   "metadata": {},
   "outputs": [],
   "source": [
    "from sklearn.svm import SVC\n",
    "svc = SVC(probability=True)\n",
    "ab = AdaBoostClassifier( n_estimators=50, learning_rate=1, base_estimator=svc)"
   ]
  },
  {
   "cell_type": "code",
   "execution_count": 91,
   "metadata": {},
   "outputs": [],
   "source": [
    "model = ab.fit(X_train, y_train)\n",
    "predictions = model.predict(X_test)"
   ]
  },
  {
   "cell_type": "code",
   "execution_count": 92,
   "metadata": {},
   "outputs": [
    {
     "name": "stdout",
     "output_type": "stream",
     "text": [
      "0.98\n"
     ]
    }
   ],
   "source": [
    "from sklearn.metrics import accuracy_score\n",
    "print(accuracy_score(y_test, predictions))"
   ]
  },
  {
   "cell_type": "markdown",
   "metadata": {},
   "source": [
    "### Gradient Boosting"
   ]
  },
  {
   "cell_type": "code",
   "execution_count": 93,
   "metadata": {},
   "outputs": [],
   "source": [
    "from sklearn.ensemble import GradientBoostingClassifier\n",
    "import numpy as np\n",
    "import pandas as pd\n",
    "from sklearn.preprocessing import StandardScaler\n",
    "from sklearn.model_selection import train_test_split\n",
    "from sklearn.metrics import accuracy_score, confusion_matrix\n",
    "from sklearn import preprocessing"
   ]
  },
  {
   "cell_type": "code",
   "execution_count": 94,
   "metadata": {},
   "outputs": [
    {
     "data": {
      "text/html": [
       "<div>\n",
       "<style scoped>\n",
       "    .dataframe tbody tr th:only-of-type {\n",
       "        vertical-align: middle;\n",
       "    }\n",
       "\n",
       "    .dataframe tbody tr th {\n",
       "        vertical-align: top;\n",
       "    }\n",
       "\n",
       "    .dataframe thead th {\n",
       "        text-align: right;\n",
       "    }\n",
       "</style>\n",
       "<table border=\"1\" class=\"dataframe\">\n",
       "  <thead>\n",
       "    <tr style=\"text-align: right;\">\n",
       "      <th></th>\n",
       "      <th>Pregnancies</th>\n",
       "      <th>Glucose</th>\n",
       "      <th>BloodPressure</th>\n",
       "      <th>SkinThickness</th>\n",
       "      <th>Insulin</th>\n",
       "      <th>BMI</th>\n",
       "      <th>DiabetesPedigreeFunction</th>\n",
       "      <th>Age</th>\n",
       "      <th>Outcome</th>\n",
       "    </tr>\n",
       "  </thead>\n",
       "  <tbody>\n",
       "    <tr>\n",
       "      <th>0</th>\n",
       "      <td>6</td>\n",
       "      <td>148</td>\n",
       "      <td>72</td>\n",
       "      <td>35</td>\n",
       "      <td>0</td>\n",
       "      <td>33.6</td>\n",
       "      <td>0.627</td>\n",
       "      <td>50</td>\n",
       "      <td>1</td>\n",
       "    </tr>\n",
       "    <tr>\n",
       "      <th>1</th>\n",
       "      <td>1</td>\n",
       "      <td>85</td>\n",
       "      <td>66</td>\n",
       "      <td>29</td>\n",
       "      <td>0</td>\n",
       "      <td>26.6</td>\n",
       "      <td>0.351</td>\n",
       "      <td>31</td>\n",
       "      <td>0</td>\n",
       "    </tr>\n",
       "    <tr>\n",
       "      <th>2</th>\n",
       "      <td>8</td>\n",
       "      <td>183</td>\n",
       "      <td>64</td>\n",
       "      <td>0</td>\n",
       "      <td>0</td>\n",
       "      <td>23.3</td>\n",
       "      <td>0.672</td>\n",
       "      <td>32</td>\n",
       "      <td>1</td>\n",
       "    </tr>\n",
       "    <tr>\n",
       "      <th>3</th>\n",
       "      <td>1</td>\n",
       "      <td>89</td>\n",
       "      <td>66</td>\n",
       "      <td>23</td>\n",
       "      <td>94</td>\n",
       "      <td>28.1</td>\n",
       "      <td>0.167</td>\n",
       "      <td>21</td>\n",
       "      <td>0</td>\n",
       "    </tr>\n",
       "    <tr>\n",
       "      <th>4</th>\n",
       "      <td>0</td>\n",
       "      <td>137</td>\n",
       "      <td>40</td>\n",
       "      <td>35</td>\n",
       "      <td>168</td>\n",
       "      <td>43.1</td>\n",
       "      <td>2.288</td>\n",
       "      <td>33</td>\n",
       "      <td>1</td>\n",
       "    </tr>\n",
       "  </tbody>\n",
       "</table>\n",
       "</div>"
      ],
      "text/plain": [
       "   Pregnancies  Glucose  BloodPressure  SkinThickness  Insulin   BMI  \\\n",
       "0            6      148             72             35        0  33.6   \n",
       "1            1       85             66             29        0  26.6   \n",
       "2            8      183             64              0        0  23.3   \n",
       "3            1       89             66             23       94  28.1   \n",
       "4            0      137             40             35      168  43.1   \n",
       "\n",
       "   DiabetesPedigreeFunction  Age  Outcome  \n",
       "0                     0.627   50        1  \n",
       "1                     0.351   31        0  \n",
       "2                     0.672   32        1  \n",
       "3                     0.167   21        0  \n",
       "4                     2.288   33        1  "
      ]
     },
     "execution_count": 94,
     "metadata": {},
     "output_type": "execute_result"
    }
   ],
   "source": [
    "# Load the dataset\n",
    "pima = pd.read_csv(r'C:\\Users\\Purushotham\\Desktop\\deloitte\\machinelearning\\datasets\\diabetes.csv')\n",
    "pima.head()"
   ]
  },
  {
   "cell_type": "code",
   "execution_count": 109,
   "metadata": {},
   "outputs": [],
   "source": [
    "X = pima.drop('Outcome', axis = 1)\n",
    "y = pima['Outcome']\n",
    "X_train, X_test, y_train, y_test = train_test_split(X, y, test_size=0.33, random_state=42)"
   ]
  },
  {
   "cell_type": "code",
   "execution_count": 110,
   "metadata": {},
   "outputs": [],
   "source": [
    "scaler = preprocessing.StandardScaler().fit(X_train)\n",
    "X_train_transformed = scaler.transform(X_train)\n",
    "X_test_transform = scaler.transform(X_test)"
   ]
  },
  {
   "cell_type": "code",
   "execution_count": 124,
   "metadata": {},
   "outputs": [],
   "source": [
    "gbc = GradientBoostingClassifier(\n",
    "            n_estimators = 1500,\n",
    "            learning_rate=0.008,\n",
    "            random_state=78,\n",
    "            max_features=8,\n",
    "            max_depth=5\n",
    ")\n",
    "gbc.fit(X_train_transformed, y_train)\n",
    "predictions = gbc.predict(X_test_transform)"
   ]
  },
  {
   "cell_type": "code",
   "execution_count": 125,
   "metadata": {},
   "outputs": [
    {
     "name": "stdout",
     "output_type": "stream",
     "text": [
      "[[131  37]\n",
      " [ 34  52]]\n"
     ]
    }
   ],
   "source": [
    "print(confusion_matrix(y_test, predictions))"
   ]
  },
  {
   "cell_type": "code",
   "execution_count": 126,
   "metadata": {},
   "outputs": [
    {
     "name": "stdout",
     "output_type": "stream",
     "text": [
      "0.7204724409448819\n"
     ]
    }
   ],
   "source": [
    "print(accuracy_score(y_test, predictions))"
   ]
  },
  {
   "cell_type": "markdown",
   "metadata": {},
   "source": [
    "### XGBoost"
   ]
  },
  {
   "cell_type": "code",
   "execution_count": null,
   "metadata": {},
   "outputs": [],
   "source": [
    "%pip install xgboost"
   ]
  },
  {
   "cell_type": "code",
   "execution_count": 127,
   "metadata": {},
   "outputs": [],
   "source": [
    "import xgboost as xgb"
   ]
  },
  {
   "cell_type": "code",
   "execution_count": 128,
   "metadata": {},
   "outputs": [],
   "source": [
    "import pandas as pd\n",
    "import numpy as np\n",
    "from sklearn.metrics import mean_squared_error"
   ]
  },
  {
   "cell_type": "code",
   "execution_count": 129,
   "metadata": {
    "scrolled": true
   },
   "outputs": [
    {
     "name": "stdout",
     "output_type": "stream",
     "text": [
      "dict_keys(['data', 'target', 'feature_names', 'DESCR', 'filename', 'data_module'])\n"
     ]
    },
    {
     "name": "stderr",
     "output_type": "stream",
     "text": [
      "C:\\Users\\Purushotham\\AppData\\Local\\Programs\\Python\\Python37\\lib\\site-packages\\sklearn\\utils\\deprecation.py:87: FutureWarning: Function load_boston is deprecated; `load_boston` is deprecated in 1.0 and will be removed in 1.2.\n",
      "\n",
      "    The Boston housing prices dataset has an ethical problem. You can refer to\n",
      "    the documentation of this function for further details.\n",
      "\n",
      "    The scikit-learn maintainers therefore strongly discourage the use of this\n",
      "    dataset unless the purpose of the code is to study and educate about\n",
      "    ethical issues in data science and machine learning.\n",
      "\n",
      "    In this case special case, you can fetch the dataset from the original\n",
      "    source::\n",
      "\n",
      "        import pandas as pd\n",
      "        import numpy as np\n",
      "\n",
      "\n",
      "        data_url = \"http://lib.stat.cmu.edu/datasets/boston\"\n",
      "        raw_df = pd.read_csv(data_url, sep=\"\\s+\", skiprows=22, header=None)\n",
      "        data = np.hstack([raw_df.values[::2, :], raw_df.values[1::2, :2]])\n",
      "        target = raw_df.values[1::2, 2]\n",
      "\n",
      "    Alternative datasets include the California housing dataset (i.e.\n",
      "    func:`~sklearn.datasets.fetch_california_housing`) and the Ames housing\n",
      "    dataset. You can load the datasets as follows:\n",
      "\n",
      "        from sklearn.datasets import fetch_california_housing\n",
      "        housing = fetch_california_housing()\n",
      "\n",
      "    for the California housing dataset and:\n",
      "\n",
      "        from sklearn.datasets import fetch_openml\n",
      "        housing = fetch_openml(name=\"house_prices\", as_frame=True)\n",
      "\n",
      "    for the Ames housing dataset.\n",
      "    \n",
      "  warnings.warn(msg, category=FutureWarning)\n"
     ]
    }
   ],
   "source": [
    "from sklearn.datasets import load_boston\n",
    "boston = load_boston()\n",
    "print(boston.keys())"
   ]
  },
  {
   "cell_type": "code",
   "execution_count": 130,
   "metadata": {},
   "outputs": [
    {
     "name": "stdout",
     "output_type": "stream",
     "text": [
      "['CRIM' 'ZN' 'INDUS' 'CHAS' 'NOX' 'RM' 'AGE' 'DIS' 'RAD' 'TAX' 'PTRATIO'\n",
      " 'B' 'LSTAT']\n"
     ]
    }
   ],
   "source": [
    "print(boston.feature_names)"
   ]
  },
  {
   "cell_type": "code",
   "execution_count": 131,
   "metadata": {},
   "outputs": [
    {
     "name": "stdout",
     "output_type": "stream",
     "text": [
      ".. _boston_dataset:\n",
      "\n",
      "Boston house prices dataset\n",
      "---------------------------\n",
      "\n",
      "**Data Set Characteristics:**  \n",
      "\n",
      "    :Number of Instances: 506 \n",
      "\n",
      "    :Number of Attributes: 13 numeric/categorical predictive. Median Value (attribute 14) is usually the target.\n",
      "\n",
      "    :Attribute Information (in order):\n",
      "        - CRIM     per capita crime rate by town\n",
      "        - ZN       proportion of residential land zoned for lots over 25,000 sq.ft.\n",
      "        - INDUS    proportion of non-retail business acres per town\n",
      "        - CHAS     Charles River dummy variable (= 1 if tract bounds river; 0 otherwise)\n",
      "        - NOX      nitric oxides concentration (parts per 10 million)\n",
      "        - RM       average number of rooms per dwelling\n",
      "        - AGE      proportion of owner-occupied units built prior to 1940\n",
      "        - DIS      weighted distances to five Boston employment centres\n",
      "        - RAD      index of accessibility to radial highways\n",
      "        - TAX      full-value property-tax rate per $10,000\n",
      "        - PTRATIO  pupil-teacher ratio by town\n",
      "        - B        1000(Bk - 0.63)^2 where Bk is the proportion of black people by town\n",
      "        - LSTAT    % lower status of the population\n",
      "        - MEDV     Median value of owner-occupied homes in $1000's\n",
      "\n",
      "    :Missing Attribute Values: None\n",
      "\n",
      "    :Creator: Harrison, D. and Rubinfeld, D.L.\n",
      "\n",
      "This is a copy of UCI ML housing dataset.\n",
      "https://archive.ics.uci.edu/ml/machine-learning-databases/housing/\n",
      "\n",
      "\n",
      "This dataset was taken from the StatLib library which is maintained at Carnegie Mellon University.\n",
      "\n",
      "The Boston house-price data of Harrison, D. and Rubinfeld, D.L. 'Hedonic\n",
      "prices and the demand for clean air', J. Environ. Economics & Management,\n",
      "vol.5, 81-102, 1978.   Used in Belsley, Kuh & Welsch, 'Regression diagnostics\n",
      "...', Wiley, 1980.   N.B. Various transformations are used in the table on\n",
      "pages 244-261 of the latter.\n",
      "\n",
      "The Boston house-price data has been used in many machine learning papers that address regression\n",
      "problems.   \n",
      "     \n",
      ".. topic:: References\n",
      "\n",
      "   - Belsley, Kuh & Welsch, 'Regression diagnostics: Identifying Influential Data and Sources of Collinearity', Wiley, 1980. 244-261.\n",
      "   - Quinlan,R. (1993). Combining Instance-Based and Model-Based Learning. In Proceedings on the Tenth International Conference of Machine Learning, 236-243, University of Massachusetts, Amherst. Morgan Kaufmann.\n",
      "\n"
     ]
    }
   ],
   "source": [
    "print(boston.DESCR)"
   ]
  },
  {
   "cell_type": "code",
   "execution_count": 132,
   "metadata": {},
   "outputs": [],
   "source": [
    "data = pd.DataFrame(boston.data)"
   ]
  },
  {
   "cell_type": "code",
   "execution_count": 134,
   "metadata": {},
   "outputs": [],
   "source": [
    "data.columns = boston.feature_names"
   ]
  },
  {
   "cell_type": "code",
   "execution_count": 135,
   "metadata": {},
   "outputs": [
    {
     "data": {
      "text/html": [
       "<div>\n",
       "<style scoped>\n",
       "    .dataframe tbody tr th:only-of-type {\n",
       "        vertical-align: middle;\n",
       "    }\n",
       "\n",
       "    .dataframe tbody tr th {\n",
       "        vertical-align: top;\n",
       "    }\n",
       "\n",
       "    .dataframe thead th {\n",
       "        text-align: right;\n",
       "    }\n",
       "</style>\n",
       "<table border=\"1\" class=\"dataframe\">\n",
       "  <thead>\n",
       "    <tr style=\"text-align: right;\">\n",
       "      <th></th>\n",
       "      <th>CRIM</th>\n",
       "      <th>ZN</th>\n",
       "      <th>INDUS</th>\n",
       "      <th>CHAS</th>\n",
       "      <th>NOX</th>\n",
       "      <th>RM</th>\n",
       "      <th>AGE</th>\n",
       "      <th>DIS</th>\n",
       "      <th>RAD</th>\n",
       "      <th>TAX</th>\n",
       "      <th>PTRATIO</th>\n",
       "      <th>B</th>\n",
       "      <th>LSTAT</th>\n",
       "    </tr>\n",
       "  </thead>\n",
       "  <tbody>\n",
       "    <tr>\n",
       "      <th>0</th>\n",
       "      <td>0.00632</td>\n",
       "      <td>18.0</td>\n",
       "      <td>2.31</td>\n",
       "      <td>0.0</td>\n",
       "      <td>0.538</td>\n",
       "      <td>6.575</td>\n",
       "      <td>65.2</td>\n",
       "      <td>4.0900</td>\n",
       "      <td>1.0</td>\n",
       "      <td>296.0</td>\n",
       "      <td>15.3</td>\n",
       "      <td>396.90</td>\n",
       "      <td>4.98</td>\n",
       "    </tr>\n",
       "    <tr>\n",
       "      <th>1</th>\n",
       "      <td>0.02731</td>\n",
       "      <td>0.0</td>\n",
       "      <td>7.07</td>\n",
       "      <td>0.0</td>\n",
       "      <td>0.469</td>\n",
       "      <td>6.421</td>\n",
       "      <td>78.9</td>\n",
       "      <td>4.9671</td>\n",
       "      <td>2.0</td>\n",
       "      <td>242.0</td>\n",
       "      <td>17.8</td>\n",
       "      <td>396.90</td>\n",
       "      <td>9.14</td>\n",
       "    </tr>\n",
       "    <tr>\n",
       "      <th>2</th>\n",
       "      <td>0.02729</td>\n",
       "      <td>0.0</td>\n",
       "      <td>7.07</td>\n",
       "      <td>0.0</td>\n",
       "      <td>0.469</td>\n",
       "      <td>7.185</td>\n",
       "      <td>61.1</td>\n",
       "      <td>4.9671</td>\n",
       "      <td>2.0</td>\n",
       "      <td>242.0</td>\n",
       "      <td>17.8</td>\n",
       "      <td>392.83</td>\n",
       "      <td>4.03</td>\n",
       "    </tr>\n",
       "    <tr>\n",
       "      <th>3</th>\n",
       "      <td>0.03237</td>\n",
       "      <td>0.0</td>\n",
       "      <td>2.18</td>\n",
       "      <td>0.0</td>\n",
       "      <td>0.458</td>\n",
       "      <td>6.998</td>\n",
       "      <td>45.8</td>\n",
       "      <td>6.0622</td>\n",
       "      <td>3.0</td>\n",
       "      <td>222.0</td>\n",
       "      <td>18.7</td>\n",
       "      <td>394.63</td>\n",
       "      <td>2.94</td>\n",
       "    </tr>\n",
       "    <tr>\n",
       "      <th>4</th>\n",
       "      <td>0.06905</td>\n",
       "      <td>0.0</td>\n",
       "      <td>2.18</td>\n",
       "      <td>0.0</td>\n",
       "      <td>0.458</td>\n",
       "      <td>7.147</td>\n",
       "      <td>54.2</td>\n",
       "      <td>6.0622</td>\n",
       "      <td>3.0</td>\n",
       "      <td>222.0</td>\n",
       "      <td>18.7</td>\n",
       "      <td>396.90</td>\n",
       "      <td>5.33</td>\n",
       "    </tr>\n",
       "  </tbody>\n",
       "</table>\n",
       "</div>"
      ],
      "text/plain": [
       "      CRIM    ZN  INDUS  CHAS    NOX     RM   AGE     DIS  RAD    TAX  \\\n",
       "0  0.00632  18.0   2.31   0.0  0.538  6.575  65.2  4.0900  1.0  296.0   \n",
       "1  0.02731   0.0   7.07   0.0  0.469  6.421  78.9  4.9671  2.0  242.0   \n",
       "2  0.02729   0.0   7.07   0.0  0.469  7.185  61.1  4.9671  2.0  242.0   \n",
       "3  0.03237   0.0   2.18   0.0  0.458  6.998  45.8  6.0622  3.0  222.0   \n",
       "4  0.06905   0.0   2.18   0.0  0.458  7.147  54.2  6.0622  3.0  222.0   \n",
       "\n",
       "   PTRATIO       B  LSTAT  \n",
       "0     15.3  396.90   4.98  \n",
       "1     17.8  396.90   9.14  \n",
       "2     17.8  392.83   4.03  \n",
       "3     18.7  394.63   2.94  \n",
       "4     18.7  396.90   5.33  "
      ]
     },
     "execution_count": 135,
     "metadata": {},
     "output_type": "execute_result"
    }
   ],
   "source": [
    "data.head()"
   ]
  },
  {
   "cell_type": "code",
   "execution_count": 136,
   "metadata": {},
   "outputs": [],
   "source": [
    "data['PRICE'] = boston.target"
   ]
  },
  {
   "cell_type": "code",
   "execution_count": 137,
   "metadata": {},
   "outputs": [
    {
     "data": {
      "text/html": [
       "<div>\n",
       "<style scoped>\n",
       "    .dataframe tbody tr th:only-of-type {\n",
       "        vertical-align: middle;\n",
       "    }\n",
       "\n",
       "    .dataframe tbody tr th {\n",
       "        vertical-align: top;\n",
       "    }\n",
       "\n",
       "    .dataframe thead th {\n",
       "        text-align: right;\n",
       "    }\n",
       "</style>\n",
       "<table border=\"1\" class=\"dataframe\">\n",
       "  <thead>\n",
       "    <tr style=\"text-align: right;\">\n",
       "      <th></th>\n",
       "      <th>CRIM</th>\n",
       "      <th>ZN</th>\n",
       "      <th>INDUS</th>\n",
       "      <th>CHAS</th>\n",
       "      <th>NOX</th>\n",
       "      <th>RM</th>\n",
       "      <th>AGE</th>\n",
       "      <th>DIS</th>\n",
       "      <th>RAD</th>\n",
       "      <th>TAX</th>\n",
       "      <th>PTRATIO</th>\n",
       "      <th>B</th>\n",
       "      <th>LSTAT</th>\n",
       "      <th>PRICE</th>\n",
       "    </tr>\n",
       "  </thead>\n",
       "  <tbody>\n",
       "    <tr>\n",
       "      <th>0</th>\n",
       "      <td>0.00632</td>\n",
       "      <td>18.0</td>\n",
       "      <td>2.31</td>\n",
       "      <td>0.0</td>\n",
       "      <td>0.538</td>\n",
       "      <td>6.575</td>\n",
       "      <td>65.2</td>\n",
       "      <td>4.0900</td>\n",
       "      <td>1.0</td>\n",
       "      <td>296.0</td>\n",
       "      <td>15.3</td>\n",
       "      <td>396.90</td>\n",
       "      <td>4.98</td>\n",
       "      <td>24.0</td>\n",
       "    </tr>\n",
       "    <tr>\n",
       "      <th>1</th>\n",
       "      <td>0.02731</td>\n",
       "      <td>0.0</td>\n",
       "      <td>7.07</td>\n",
       "      <td>0.0</td>\n",
       "      <td>0.469</td>\n",
       "      <td>6.421</td>\n",
       "      <td>78.9</td>\n",
       "      <td>4.9671</td>\n",
       "      <td>2.0</td>\n",
       "      <td>242.0</td>\n",
       "      <td>17.8</td>\n",
       "      <td>396.90</td>\n",
       "      <td>9.14</td>\n",
       "      <td>21.6</td>\n",
       "    </tr>\n",
       "    <tr>\n",
       "      <th>2</th>\n",
       "      <td>0.02729</td>\n",
       "      <td>0.0</td>\n",
       "      <td>7.07</td>\n",
       "      <td>0.0</td>\n",
       "      <td>0.469</td>\n",
       "      <td>7.185</td>\n",
       "      <td>61.1</td>\n",
       "      <td>4.9671</td>\n",
       "      <td>2.0</td>\n",
       "      <td>242.0</td>\n",
       "      <td>17.8</td>\n",
       "      <td>392.83</td>\n",
       "      <td>4.03</td>\n",
       "      <td>34.7</td>\n",
       "    </tr>\n",
       "    <tr>\n",
       "      <th>3</th>\n",
       "      <td>0.03237</td>\n",
       "      <td>0.0</td>\n",
       "      <td>2.18</td>\n",
       "      <td>0.0</td>\n",
       "      <td>0.458</td>\n",
       "      <td>6.998</td>\n",
       "      <td>45.8</td>\n",
       "      <td>6.0622</td>\n",
       "      <td>3.0</td>\n",
       "      <td>222.0</td>\n",
       "      <td>18.7</td>\n",
       "      <td>394.63</td>\n",
       "      <td>2.94</td>\n",
       "      <td>33.4</td>\n",
       "    </tr>\n",
       "    <tr>\n",
       "      <th>4</th>\n",
       "      <td>0.06905</td>\n",
       "      <td>0.0</td>\n",
       "      <td>2.18</td>\n",
       "      <td>0.0</td>\n",
       "      <td>0.458</td>\n",
       "      <td>7.147</td>\n",
       "      <td>54.2</td>\n",
       "      <td>6.0622</td>\n",
       "      <td>3.0</td>\n",
       "      <td>222.0</td>\n",
       "      <td>18.7</td>\n",
       "      <td>396.90</td>\n",
       "      <td>5.33</td>\n",
       "      <td>36.2</td>\n",
       "    </tr>\n",
       "  </tbody>\n",
       "</table>\n",
       "</div>"
      ],
      "text/plain": [
       "      CRIM    ZN  INDUS  CHAS    NOX     RM   AGE     DIS  RAD    TAX  \\\n",
       "0  0.00632  18.0   2.31   0.0  0.538  6.575  65.2  4.0900  1.0  296.0   \n",
       "1  0.02731   0.0   7.07   0.0  0.469  6.421  78.9  4.9671  2.0  242.0   \n",
       "2  0.02729   0.0   7.07   0.0  0.469  7.185  61.1  4.9671  2.0  242.0   \n",
       "3  0.03237   0.0   2.18   0.0  0.458  6.998  45.8  6.0622  3.0  222.0   \n",
       "4  0.06905   0.0   2.18   0.0  0.458  7.147  54.2  6.0622  3.0  222.0   \n",
       "\n",
       "   PTRATIO       B  LSTAT  PRICE  \n",
       "0     15.3  396.90   4.98   24.0  \n",
       "1     17.8  396.90   9.14   21.6  \n",
       "2     17.8  392.83   4.03   34.7  \n",
       "3     18.7  394.63   2.94   33.4  \n",
       "4     18.7  396.90   5.33   36.2  "
      ]
     },
     "execution_count": 137,
     "metadata": {},
     "output_type": "execute_result"
    }
   ],
   "source": [
    "data.head()"
   ]
  },
  {
   "cell_type": "code",
   "execution_count": 138,
   "metadata": {},
   "outputs": [],
   "source": [
    "X = data.drop('PRICE', axis=1)\n",
    "y = data['PRICE']\n",
    "X_train, X_test, y_train, y_test = train_test_split(X, y, test_size=0.33, random_state=42)"
   ]
  },
  {
   "cell_type": "code",
   "execution_count": 139,
   "metadata": {},
   "outputs": [],
   "source": [
    "xgb_model = xgb.XGBRegressor(\n",
    "    n_estimators = 100,\n",
    "    max_depth    = 5,\n",
    "    learning_rate = 1\n",
    ")\n",
    "xgb_model.fit(X_train, y_train)\n",
    "predictions = xgb_model.predict(X_test)"
   ]
  },
  {
   "cell_type": "code",
   "execution_count": 140,
   "metadata": {},
   "outputs": [
    {
     "data": {
      "text/plain": [
       "11.928297977115012"
      ]
     },
     "execution_count": 140,
     "metadata": {},
     "output_type": "execute_result"
    }
   ],
   "source": [
    "mean_squared_error(y_test, predictions)"
   ]
  },
  {
   "cell_type": "code",
   "execution_count": 141,
   "metadata": {},
   "outputs": [
    {
     "data": {
      "text/plain": [
       "3.4537368135274886"
      ]
     },
     "execution_count": 141,
     "metadata": {},
     "output_type": "execute_result"
    }
   ],
   "source": [
    "np.sqrt(mean_squared_error(y_test, predictions))"
   ]
  },
  {
   "cell_type": "code",
   "execution_count": 143,
   "metadata": {},
   "outputs": [
    {
     "data": {
      "text/plain": [
       "173    23.6\n",
       "274    32.4\n",
       "491    13.6\n",
       "72     22.8\n",
       "452    16.1\n",
       "       ... \n",
       "110    21.7\n",
       "321    23.1\n",
       "265    22.8\n",
       "29     21.0\n",
       "262    48.8\n",
       "Name: PRICE, Length: 167, dtype: float64"
      ]
     },
     "execution_count": 143,
     "metadata": {},
     "output_type": "execute_result"
    }
   ],
   "source": [
    "y_test"
   ]
  },
  {
   "cell_type": "code",
   "execution_count": 144,
   "metadata": {},
   "outputs": [
    {
     "data": {
      "text/plain": [
       "array([22.598682 , 33.292313 , 16.555943 , 23.527325 , 19.38802  ,\n",
       "       22.919498 , 20.920706 , 16.163965 , 21.262936 , 20.804565 ,\n",
       "       18.255228 , 18.547754 ,  9.516204 , 21.551603 , 18.958616 ,\n",
       "       28.278255 , 20.013836 ,  9.1252   , 45.79969  , 15.56578  ,\n",
       "       26.201157 , 28.640474 , 11.374868 , 22.686731 , 17.439508 ,\n",
       "       14.665616 , 22.388468 , 13.308808 , 21.475004 , 21.922255 ,\n",
       "       17.355383 , 24.244648 , 27.208096 , 19.273409 , 15.747137 ,\n",
       "       19.813288 , 31.291275 , 17.268402 , 23.571037 , 26.8954   ,\n",
       "       15.796409 , 29.692982 , 46.121418 , 18.327713 , 21.646044 ,\n",
       "       15.72399  , 13.397987 , 23.988005 , 20.625656 , 25.84197  ,\n",
       "       21.612173 , 32.269176 , 17.768179 , 31.895723 , 49.066204 ,\n",
       "       21.962914 , 14.418811 , 34.514126 , 21.713888 , 19.138311 ,\n",
       "       22.5896   , 37.30657  , 32.102776 , 16.3465   , 23.196297 ,\n",
       "       21.188519 ,  9.987312 , 26.926987 , 28.716509 , 14.536832 ,\n",
       "       19.218382 , 33.25865  , 12.972703 , 26.567896 , 22.470541 ,\n",
       "        7.6665854, 20.997902 , 46.087666 , 10.0687   , 11.064515 ,\n",
       "       20.351412 , 12.782439 , 17.678364 ,  7.7851167, 21.700563 ,\n",
       "       29.614643 , 15.540639 , 23.954805 , 28.35999  , 15.947959 ,\n",
       "       21.856783 ,  3.805028 , 18.676037 , 17.403809 , 25.433203 ,\n",
       "       20.026268 , 44.670353 , 12.020808 , 12.339064 , 14.989122 ,\n",
       "       21.114346 , 24.123938 , 10.725083 , 18.789381 , 26.406061 ,\n",
       "       12.219253 , 15.366855 , 24.392199 , 21.250517 , 24.36795  ,\n",
       "        5.6499324, 15.331833 , 22.74108  , 25.522171 , 35.617382 ,\n",
       "       20.998943 , 47.586388 , 13.362505 , 18.06987  , 27.490448 ,\n",
       "       15.286121 , 20.596157 ,  8.423853 , 17.813437 , 23.10083  ,\n",
       "       23.170372 , 23.110851 , 39.720722 , 20.798534 , 44.80263  ,\n",
       "       19.660606 , 28.341171 , 18.04828  , 17.229694 , 13.031849 ,\n",
       "       21.755135 , 20.603989 , 31.12661  , 27.143343 , 17.700697 ,\n",
       "       18.767626 , 26.271803 , 17.883244 , 21.556803 ,  4.973016 ,\n",
       "       19.437412 , 22.17586  , 17.806107 , 15.828322 , 44.369617 ,\n",
       "       15.762311 , 17.190035 , 22.597935 , 19.88293  , 19.256521 ,\n",
       "       20.902702 , 14.264592 , 24.762228 , 30.338902 ,  7.759078 ,\n",
       "       22.945393 , 16.291569 , 20.20262  , 24.24604  , 18.132244 ,\n",
       "       24.438177 , 44.298298 ], dtype=float32)"
      ]
     },
     "execution_count": 144,
     "metadata": {},
     "output_type": "execute_result"
    }
   ],
   "source": [
    "predictions"
   ]
  },
  {
   "cell_type": "markdown",
   "metadata": {},
   "source": [
    "### k-fold Cross Validation on XGBoost"
   ]
  },
  {
   "cell_type": "code",
   "execution_count": 154,
   "metadata": {},
   "outputs": [],
   "source": [
    "params = {\"objective\":\"reg:linear\",'colsample_bytree': 0.3,'learning_rate': 0.1,\n",
    "                'max_depth': 5, 'alpha': 10}\n",
    "\n"
   ]
  },
  {
   "cell_type": "code",
   "execution_count": 155,
   "metadata": {},
   "outputs": [
    {
     "name": "stdout",
     "output_type": "stream",
     "text": [
      "[14:51:46] WARNING: C:/Users/Administrator/workspace/xgboost-win64_release_1.5.0/src/objective/regression_obj.cu:188: reg:linear is now deprecated in favor of reg:squarederror.\n",
      "[14:51:46] WARNING: C:/Users/Administrator/workspace/xgboost-win64_release_1.5.0/src/objective/regression_obj.cu:188: reg:linear is now deprecated in favor of reg:squarederror.\n",
      "[14:51:46] WARNING: C:/Users/Administrator/workspace/xgboost-win64_release_1.5.0/src/objective/regression_obj.cu:188: reg:linear is now deprecated in favor of reg:squarederror.\n"
     ]
    }
   ],
   "source": [
    "data_dmatrix = xgb.DMatrix(data=X,label=y)\n",
    "cv_results = xgb.cv(\n",
    "    dtrain=data_dmatrix, \n",
    "    params=params, \n",
    "    nfold=3,\n",
    "    num_boost_round=50,\n",
    "    early_stopping_rounds=10,\n",
    "    metrics=\"rmse\", \n",
    "    as_pandas=True, \n",
    "    seed=123\n",
    ")"
   ]
  },
  {
   "cell_type": "code",
   "execution_count": 156,
   "metadata": {},
   "outputs": [
    {
     "data": {
      "text/html": [
       "<div>\n",
       "<style scoped>\n",
       "    .dataframe tbody tr th:only-of-type {\n",
       "        vertical-align: middle;\n",
       "    }\n",
       "\n",
       "    .dataframe tbody tr th {\n",
       "        vertical-align: top;\n",
       "    }\n",
       "\n",
       "    .dataframe thead th {\n",
       "        text-align: right;\n",
       "    }\n",
       "</style>\n",
       "<table border=\"1\" class=\"dataframe\">\n",
       "  <thead>\n",
       "    <tr style=\"text-align: right;\">\n",
       "      <th></th>\n",
       "      <th>train-rmse-mean</th>\n",
       "      <th>train-rmse-std</th>\n",
       "      <th>test-rmse-mean</th>\n",
       "      <th>test-rmse-std</th>\n",
       "    </tr>\n",
       "  </thead>\n",
       "  <tbody>\n",
       "    <tr>\n",
       "      <th>0</th>\n",
       "      <td>21.750758</td>\n",
       "      <td>0.036152</td>\n",
       "      <td>21.765523</td>\n",
       "      <td>0.028849</td>\n",
       "    </tr>\n",
       "    <tr>\n",
       "      <th>1</th>\n",
       "      <td>19.778532</td>\n",
       "      <td>0.077649</td>\n",
       "      <td>19.830760</td>\n",
       "      <td>0.031760</td>\n",
       "    </tr>\n",
       "    <tr>\n",
       "      <th>2</th>\n",
       "      <td>18.052810</td>\n",
       "      <td>0.118632</td>\n",
       "      <td>18.157336</td>\n",
       "      <td>0.116038</td>\n",
       "    </tr>\n",
       "    <tr>\n",
       "      <th>3</th>\n",
       "      <td>16.458958</td>\n",
       "      <td>0.169189</td>\n",
       "      <td>16.623975</td>\n",
       "      <td>0.191413</td>\n",
       "    </tr>\n",
       "    <tr>\n",
       "      <th>4</th>\n",
       "      <td>15.074781</td>\n",
       "      <td>0.183545</td>\n",
       "      <td>15.254608</td>\n",
       "      <td>0.213612</td>\n",
       "    </tr>\n",
       "  </tbody>\n",
       "</table>\n",
       "</div>"
      ],
      "text/plain": [
       "   train-rmse-mean  train-rmse-std  test-rmse-mean  test-rmse-std\n",
       "0        21.750758        0.036152       21.765523       0.028849\n",
       "1        19.778532        0.077649       19.830760       0.031760\n",
       "2        18.052810        0.118632       18.157336       0.116038\n",
       "3        16.458958        0.169189       16.623975       0.191413\n",
       "4        15.074781        0.183545       15.254608       0.213612"
      ]
     },
     "execution_count": 156,
     "metadata": {},
     "output_type": "execute_result"
    }
   ],
   "source": [
    "cv_results.head()"
   ]
  },
  {
   "cell_type": "markdown",
   "metadata": {},
   "source": [
    "### Visualizing XGBoost Trees and Feature Importance"
   ]
  },
  {
   "cell_type": "code",
   "execution_count": 157,
   "metadata": {},
   "outputs": [
    {
     "name": "stdout",
     "output_type": "stream",
     "text": [
      "[14:51:50] WARNING: C:/Users/Administrator/workspace/xgboost-win64_release_1.5.0/src/objective/regression_obj.cu:188: reg:linear is now deprecated in favor of reg:squarederror.\n"
     ]
    }
   ],
   "source": [
    "xg_reg = xgb.train(params=params, dtrain=data_dmatrix, num_boost_round=10)"
   ]
  },
  {
   "cell_type": "code",
   "execution_count": 160,
   "metadata": {},
   "outputs": [
    {
     "data": {
      "image/png": "[encoded data removed]",
      "text/plain": [
       "<Figure size 360x360 with 1 Axes>"
      ]
     },
     "metadata": {
      "needs_background": "light"
     },
     "output_type": "display_data"
    }
   ],
   "source": [
    "import matplotlib.pyplot as plt\n",
    "\n",
    "xgb.plot_tree(xg_reg,num_trees=0)\n",
    "plt.rcParams['figure.figsize'] = [50, 10]\n",
    "plt.show()"
   ]
  },
  {
   "cell_type": "code",
   "execution_count": 162,
   "metadata": {},
   "outputs": [
    {
     "data": {
      "image/png": "[encoded data removed]",
      "text/plain": [
       "<Figure size 360x360 with 1 Axes>"
      ]
     },
     "metadata": {
      "needs_background": "light"
     },
     "output_type": "display_data"
    }
   ],
   "source": [
    "xgb.plot_importance(xg_reg)\n",
    "plt.rcParams['figure.figsize'] = [50, 5]\n",
    "plt.show()"
   ]
  },
  {
   "cell_type": "markdown",
   "metadata": {},
   "source": [
    "### Hyperparameter Tuning using Scikit-Learn's Grid Search and Randomized Search"
   ]
  },
  {
   "cell_type": "code",
   "execution_count": 163,
   "metadata": {},
   "outputs": [],
   "source": [
    "from sklearn.datasets import load_diabetes\n",
    "from sklearn.model_selection import GridSearchCV, RandomizedSearchCV, train_test_split"
   ]
  },
  {
   "cell_type": "code",
   "execution_count": 164,
   "metadata": {},
   "outputs": [],
   "source": [
    "from sklearn.ensemble import RandomForestRegressor\n",
    "import numpy as np"
   ]
  },
  {
   "cell_type": "code",
   "execution_count": 165,
   "metadata": {},
   "outputs": [],
   "source": [
    "diabetes = load_diabetes()\n",
    "X = diabetes.data\n",
    "y = diabetes.target"
   ]
  },
  {
   "cell_type": "code",
   "execution_count": 166,
   "metadata": {},
   "outputs": [],
   "source": [
    "X_train, X_test, y_train, y_test = train_test_split(X, y, test_size=0.33, random_state=42)"
   ]
  },
  {
   "cell_type": "code",
   "execution_count": 167,
   "metadata": {},
   "outputs": [
    {
     "name": "stdout",
     "output_type": "stream",
     "text": [
      "Fitting 5 folds for each of 171 candidates, totalling 855 fits\n",
      "[CV 1/5] END ....max_features=1, n_estimators=5;, score=0.351 total time=   0.0s\n",
      "[CV 2/5] END ....max_features=1, n_estimators=5;, score=0.159 total time=   0.0s\n",
      "[CV 3/5] END ....max_features=1, n_estimators=5;, score=0.473 total time=   0.0s\n",
      "[CV 4/5] END ....max_features=1, n_estimators=5;, score=0.369 total time=   0.0s\n",
      "[CV 5/5] END ....max_features=1, n_estimators=5;, score=0.140 total time=   0.0s\n",
      "[CV 1/5] END ...max_features=1, n_estimators=10;, score=0.300 total time=   0.0s\n",
      "[CV 2/5] END ...max_features=1, n_estimators=10;, score=0.169 total time=   0.0s\n",
      "[CV 3/5] END ...max_features=1, n_estimators=10;, score=0.511 total time=   0.0s\n",
      "[CV 4/5] END ...max_features=1, n_estimators=10;, score=0.368 total time=   0.0s\n",
      "[CV 5/5] END ...max_features=1, n_estimators=10;, score=0.180 total time=   0.0s\n",
      "[CV 1/5] END ...max_features=1, n_estimators=15;, score=0.363 total time=   0.0s\n",
      "[CV 2/5] END ...max_features=1, n_estimators=15;, score=0.214 total time=   0.0s\n",
      "[CV 3/5] END ...max_features=1, n_estimators=15;, score=0.457 total time=   0.0s\n",
      "[CV 4/5] END ...max_features=1, n_estimators=15;, score=0.435 total time=   0.0s\n",
      "[CV 5/5] END ...max_features=1, n_estimators=15;, score=0.197 total time=   0.0s\n",
      "[CV 1/5] END ...max_features=1, n_estimators=20;, score=0.387 total time=   0.0s\n",
      "[CV 2/5] END ...max_features=1, n_estimators=20;, score=0.125 total time=   0.0s\n",
      "[CV 3/5] END ...max_features=1, n_estimators=20;, score=0.483 total time=   0.0s\n",
      "[CV 4/5] END ...max_features=1, n_estimators=20;, score=0.370 total time=   0.0s\n",
      "[CV 5/5] END ...max_features=1, n_estimators=20;, score=0.259 total time=   0.0s\n",
      "[CV 1/5] END ...max_features=1, n_estimators=25;, score=0.401 total time=   0.0s\n",
      "[CV 2/5] END ...max_features=1, n_estimators=25;, score=0.243 total time=   0.0s\n",
      "[CV 3/5] END ...max_features=1, n_estimators=25;, score=0.449 total time=   0.0s\n",
      "[CV 4/5] END ...max_features=1, n_estimators=25;, score=0.401 total time=   0.0s\n",
      "[CV 5/5] END ...max_features=1, n_estimators=25;, score=0.358 total time=   0.0s\n",
      "[CV 1/5] END ...max_features=1, n_estimators=30;, score=0.433 total time=   0.0s\n",
      "[CV 2/5] END ...max_features=1, n_estimators=30;, score=0.211 total time=   0.0s\n",
      "[CV 3/5] END ...max_features=1, n_estimators=30;, score=0.477 total time=   0.0s\n",
      "[CV 4/5] END ...max_features=1, n_estimators=30;, score=0.477 total time=   0.0s\n",
      "[CV 5/5] END ...max_features=1, n_estimators=30;, score=0.251 total time=   0.0s\n",
      "[CV 1/5] END ...max_features=1, n_estimators=35;, score=0.419 total time=   0.0s\n",
      "[CV 2/5] END ...max_features=1, n_estimators=35;, score=0.294 total time=   0.0s\n",
      "[CV 3/5] END ...max_features=1, n_estimators=35;, score=0.428 total time=   0.0s\n",
      "[CV 4/5] END ...max_features=1, n_estimators=35;, score=0.454 total time=   0.0s\n",
      "[CV 5/5] END ...max_features=1, n_estimators=35;, score=0.297 total time=   0.0s\n",
      "[CV 1/5] END ...max_features=1, n_estimators=40;, score=0.378 total time=   0.0s\n",
      "[CV 2/5] END ...max_features=1, n_estimators=40;, score=0.179 total time=   0.0s\n",
      "[CV 3/5] END ...max_features=1, n_estimators=40;, score=0.515 total time=   0.0s\n",
      "[CV 4/5] END ...max_features=1, n_estimators=40;, score=0.492 total time=   0.0s\n",
      "[CV 5/5] END ...max_features=1, n_estimators=40;, score=0.210 total time=   0.0s\n",
      "[CV 1/5] END ...max_features=1, n_estimators=45;, score=0.400 total time=   0.0s\n",
      "[CV 2/5] END ...max_features=1, n_estimators=45;, score=0.199 total time=   0.0s\n",
      "[CV 3/5] END ...max_features=1, n_estimators=45;, score=0.448 total time=   0.0s\n",
      "[CV 4/5] END ...max_features=1, n_estimators=45;, score=0.453 total time=   0.0s\n",
      "[CV 5/5] END ...max_features=1, n_estimators=45;, score=0.334 total time=   0.0s\n",
      "[CV 1/5] END ...max_features=1, n_estimators=50;, score=0.413 total time=   0.0s\n",
      "[CV 2/5] END ...max_features=1, n_estimators=50;, score=0.197 total time=   0.0s\n",
      "[CV 3/5] END ...max_features=1, n_estimators=50;, score=0.461 total time=   0.0s\n",
      "[CV 4/5] END ...max_features=1, n_estimators=50;, score=0.496 total time=   0.0s\n",
      "[CV 5/5] END ...max_features=1, n_estimators=50;, score=0.292 total time=   0.1s\n",
      "[CV 1/5] END ...max_features=1, n_estimators=55;, score=0.403 total time=   0.1s\n",
      "[CV 2/5] END ...max_features=1, n_estimators=55;, score=0.190 total time=   0.1s\n",
      "[CV 3/5] END ...max_features=1, n_estimators=55;, score=0.505 total time=   0.1s\n",
      "[CV 4/5] END ...max_features=1, n_estimators=55;, score=0.471 total time=   0.1s\n",
      "[CV 5/5] END ...max_features=1, n_estimators=55;, score=0.291 total time=   0.1s\n",
      "[CV 1/5] END ...max_features=1, n_estimators=60;, score=0.354 total time=   0.1s\n",
      "[CV 2/5] END ...max_features=1, n_estimators=60;, score=0.239 total time=   0.1s\n",
      "[CV 3/5] END ...max_features=1, n_estimators=60;, score=0.514 total time=   0.1s\n",
      "[CV 4/5] END ...max_features=1, n_estimators=60;, score=0.446 total time=   0.1s\n",
      "[CV 5/5] END ...max_features=1, n_estimators=60;, score=0.333 total time=   0.0s\n",
      "[CV 1/5] END ...max_features=1, n_estimators=65;, score=0.414 total time=   0.0s\n",
      "[CV 2/5] END ...max_features=1, n_estimators=65;, score=0.249 total time=   0.1s\n",
      "[CV 3/5] END ...max_features=1, n_estimators=65;, score=0.510 total time=   0.1s\n",
      "[CV 4/5] END ...max_features=1, n_estimators=65;, score=0.457 total time=   0.1s\n",
      "[CV 5/5] END ...max_features=1, n_estimators=65;, score=0.243 total time=   0.1s\n",
      "[CV 1/5] END ...max_features=1, n_estimators=70;, score=0.419 total time=   0.0s\n",
      "[CV 2/5] END ...max_features=1, n_estimators=70;, score=0.192 total time=   0.1s\n",
      "[CV 3/5] END ...max_features=1, n_estimators=70;, score=0.487 total time=   0.0s\n",
      "[CV 4/5] END ...max_features=1, n_estimators=70;, score=0.444 total time=   0.1s\n",
      "[CV 5/5] END ...max_features=1, n_estimators=70;, score=0.248 total time=   0.0s\n",
      "[CV 1/5] END ...max_features=1, n_estimators=75;, score=0.354 total time=   0.1s\n",
      "[CV 2/5] END ...max_features=1, n_estimators=75;, score=0.222 total time=   0.0s\n",
      "[CV 3/5] END ...max_features=1, n_estimators=75;, score=0.528 total time=   0.1s\n",
      "[CV 4/5] END ...max_features=1, n_estimators=75;, score=0.439 total time=   0.1s\n",
      "[CV 5/5] END ...max_features=1, n_estimators=75;, score=0.304 total time=   0.1s\n",
      "[CV 1/5] END ...max_features=1, n_estimators=80;, score=0.378 total time=   0.1s\n",
      "[CV 2/5] END ...max_features=1, n_estimators=80;, score=0.255 total time=   0.1s\n",
      "[CV 3/5] END ...max_features=1, n_estimators=80;, score=0.495 total time=   0.1s\n",
      "[CV 4/5] END ...max_features=1, n_estimators=80;, score=0.470 total time=   0.1s\n",
      "[CV 5/5] END ...max_features=1, n_estimators=80;, score=0.361 total time=   0.1s\n",
      "[CV 1/5] END ...max_features=1, n_estimators=85;, score=0.399 total time=   0.1s\n",
      "[CV 2/5] END ...max_features=1, n_estimators=85;, score=0.202 total time=   0.1s\n",
      "[CV 3/5] END ...max_features=1, n_estimators=85;, score=0.487 total time=   0.1s\n",
      "[CV 4/5] END ...max_features=1, n_estimators=85;, score=0.459 total time=   0.1s\n",
      "[CV 5/5] END ...max_features=1, n_estimators=85;, score=0.300 total time=   0.1s\n",
      "[CV 1/5] END ...max_features=1, n_estimators=90;, score=0.378 total time=   0.2s\n",
      "[CV 2/5] END ...max_features=1, n_estimators=90;, score=0.214 total time=   0.2s\n",
      "[CV 3/5] END ...max_features=1, n_estimators=90;, score=0.496 total time=   0.1s\n",
      "[CV 4/5] END ...max_features=1, n_estimators=90;, score=0.465 total time=   0.2s\n",
      "[CV 5/5] END ...max_features=1, n_estimators=90;, score=0.301 total time=   0.2s\n",
      "[CV 1/5] END ...max_features=1, n_estimators=95;, score=0.415 total time=   0.2s\n",
      "[CV 2/5] END ...max_features=1, n_estimators=95;, score=0.263 total time=   0.1s\n",
      "[CV 3/5] END ...max_features=1, n_estimators=95;, score=0.501 total time=   0.2s\n",
      "[CV 4/5] END ...max_features=1, n_estimators=95;, score=0.469 total time=   0.1s\n",
      "[CV 5/5] END ...max_features=1, n_estimators=95;, score=0.251 total time=   0.1s\n",
      "[CV 1/5] END ....max_features=2, n_estimators=5;, score=0.279 total time=   0.0s\n",
      "[CV 2/5] END ....max_features=2, n_estimators=5;, score=0.031 total time=   0.0s\n",
      "[CV 3/5] END ....max_features=2, n_estimators=5;, score=0.382 total time=   0.0s\n",
      "[CV 4/5] END ....max_features=2, n_estimators=5;, score=0.497 total time=   0.0s\n",
      "[CV 5/5] END ....max_features=2, n_estimators=5;, score=0.015 total time=   0.0s\n",
      "[CV 1/5] END ...max_features=2, n_estimators=10;, score=0.378 total time=   0.0s\n",
      "[CV 2/5] END ...max_features=2, n_estimators=10;, score=0.187 total time=   0.0s\n",
      "[CV 3/5] END ...max_features=2, n_estimators=10;, score=0.456 total time=   0.0s\n",
      "[CV 4/5] END ...max_features=2, n_estimators=10;, score=0.525 total time=   0.0s\n"
     ]
    },
    {
     "name": "stdout",
     "output_type": "stream",
     "text": [
      "[CV 5/5] END ...max_features=2, n_estimators=10;, score=0.311 total time=   0.0s\n",
      "[CV 1/5] END ...max_features=2, n_estimators=15;, score=0.336 total time=   0.0s\n",
      "[CV 2/5] END ...max_features=2, n_estimators=15;, score=0.227 total time=   0.0s\n",
      "[CV 3/5] END ...max_features=2, n_estimators=15;, score=0.436 total time=   0.0s\n",
      "[CV 4/5] END ...max_features=2, n_estimators=15;, score=0.457 total time=   0.0s\n",
      "[CV 5/5] END ...max_features=2, n_estimators=15;, score=0.287 total time=   0.0s\n",
      "[CV 1/5] END ...max_features=2, n_estimators=20;, score=0.411 total time=   0.0s\n",
      "[CV 2/5] END ...max_features=2, n_estimators=20;, score=0.212 total time=   0.0s\n",
      "[CV 3/5] END ...max_features=2, n_estimators=20;, score=0.501 total time=   0.0s\n",
      "[CV 4/5] END ...max_features=2, n_estimators=20;, score=0.494 total time=   0.0s\n",
      "[CV 5/5] END ...max_features=2, n_estimators=20;, score=0.280 total time=   0.0s\n",
      "[CV 1/5] END ...max_features=2, n_estimators=25;, score=0.465 total time=   0.0s\n",
      "[CV 2/5] END ...max_features=2, n_estimators=25;, score=0.145 total time=   0.0s\n",
      "[CV 3/5] END ...max_features=2, n_estimators=25;, score=0.505 total time=   0.0s\n",
      "[CV 4/5] END ...max_features=2, n_estimators=25;, score=0.476 total time=   0.0s\n",
      "[CV 5/5] END ...max_features=2, n_estimators=25;, score=0.303 total time=   0.0s\n",
      "[CV 1/5] END ...max_features=2, n_estimators=30;, score=0.407 total time=   0.0s\n",
      "[CV 2/5] END ...max_features=2, n_estimators=30;, score=0.197 total time=   0.0s\n",
      "[CV 3/5] END ...max_features=2, n_estimators=30;, score=0.514 total time=   0.0s\n",
      "[CV 4/5] END ...max_features=2, n_estimators=30;, score=0.473 total time=   0.0s\n",
      "[CV 5/5] END ...max_features=2, n_estimators=30;, score=0.253 total time=   0.0s\n",
      "[CV 1/5] END ...max_features=2, n_estimators=35;, score=0.430 total time=   0.0s\n",
      "[CV 2/5] END ...max_features=2, n_estimators=35;, score=0.221 total time=   0.0s\n",
      "[CV 3/5] END ...max_features=2, n_estimators=35;, score=0.514 total time=   0.0s\n",
      "[CV 4/5] END ...max_features=2, n_estimators=35;, score=0.507 total time=   0.0s\n",
      "[CV 5/5] END ...max_features=2, n_estimators=35;, score=0.302 total time=   0.0s\n",
      "[CV 1/5] END ...max_features=2, n_estimators=40;, score=0.459 total time=   0.0s\n",
      "[CV 2/5] END ...max_features=2, n_estimators=40;, score=0.262 total time=   0.0s\n",
      "[CV 3/5] END ...max_features=2, n_estimators=40;, score=0.509 total time=   0.0s\n",
      "[CV 4/5] END ...max_features=2, n_estimators=40;, score=0.487 total time=   0.0s\n",
      "[CV 5/5] END ...max_features=2, n_estimators=40;, score=0.289 total time=   0.0s\n",
      "[CV 1/5] END ...max_features=2, n_estimators=45;, score=0.416 total time=   0.0s\n",
      "[CV 2/5] END ...max_features=2, n_estimators=45;, score=0.211 total time=   0.0s\n",
      "[CV 3/5] END ...max_features=2, n_estimators=45;, score=0.531 total time=   0.0s\n",
      "[CV 4/5] END ...max_features=2, n_estimators=45;, score=0.507 total time=   0.0s\n",
      "[CV 5/5] END ...max_features=2, n_estimators=45;, score=0.314 total time=   0.0s\n",
      "[CV 1/5] END ...max_features=2, n_estimators=50;, score=0.429 total time=   0.0s\n",
      "[CV 2/5] END ...max_features=2, n_estimators=50;, score=0.198 total time=   0.0s\n",
      "[CV 3/5] END ...max_features=2, n_estimators=50;, score=0.509 total time=   0.1s\n",
      "[CV 4/5] END ...max_features=2, n_estimators=50;, score=0.532 total time=   0.0s\n",
      "[CV 5/5] END ...max_features=2, n_estimators=50;, score=0.319 total time=   0.0s\n",
      "[CV 1/5] END ...max_features=2, n_estimators=55;, score=0.453 total time=   0.0s\n",
      "[CV 2/5] END ...max_features=2, n_estimators=55;, score=0.205 total time=   0.0s\n",
      "[CV 3/5] END ...max_features=2, n_estimators=55;, score=0.477 total time=   0.0s\n",
      "[CV 4/5] END ...max_features=2, n_estimators=55;, score=0.521 total time=   0.0s\n",
      "[CV 5/5] END ...max_features=2, n_estimators=55;, score=0.244 total time=   0.1s\n",
      "[CV 1/5] END ...max_features=2, n_estimators=60;, score=0.432 total time=   0.1s\n",
      "[CV 2/5] END ...max_features=2, n_estimators=60;, score=0.168 total time=   0.1s\n",
      "[CV 3/5] END ...max_features=2, n_estimators=60;, score=0.488 total time=   0.1s\n",
      "[CV 4/5] END ...max_features=2, n_estimators=60;, score=0.506 total time=   0.1s\n",
      "[CV 5/5] END ...max_features=2, n_estimators=60;, score=0.330 total time=   0.1s\n",
      "[CV 1/5] END ...max_features=2, n_estimators=65;, score=0.400 total time=   0.1s\n",
      "[CV 2/5] END ...max_features=2, n_estimators=65;, score=0.211 total time=   0.1s\n",
      "[CV 3/5] END ...max_features=2, n_estimators=65;, score=0.507 total time=   0.1s\n",
      "[CV 4/5] END ...max_features=2, n_estimators=65;, score=0.497 total time=   0.1s\n",
      "[CV 5/5] END ...max_features=2, n_estimators=65;, score=0.338 total time=   0.0s\n",
      "[CV 1/5] END ...max_features=2, n_estimators=70;, score=0.426 total time=   0.1s\n",
      "[CV 2/5] END ...max_features=2, n_estimators=70;, score=0.249 total time=   0.0s\n",
      "[CV 3/5] END ...max_features=2, n_estimators=70;, score=0.508 total time=   0.1s\n",
      "[CV 4/5] END ...max_features=2, n_estimators=70;, score=0.492 total time=   0.0s\n",
      "[CV 5/5] END ...max_features=2, n_estimators=70;, score=0.273 total time=   0.1s\n",
      "[CV 1/5] END ...max_features=2, n_estimators=75;, score=0.467 total time=   0.1s\n",
      "[CV 2/5] END ...max_features=2, n_estimators=75;, score=0.239 total time=   0.0s\n",
      "[CV 3/5] END ...max_features=2, n_estimators=75;, score=0.537 total time=   0.1s\n",
      "[CV 4/5] END ...max_features=2, n_estimators=75;, score=0.494 total time=   0.1s\n",
      "[CV 5/5] END ...max_features=2, n_estimators=75;, score=0.312 total time=   0.1s\n",
      "[CV 1/5] END ...max_features=2, n_estimators=80;, score=0.424 total time=   0.1s\n",
      "[CV 2/5] END ...max_features=2, n_estimators=80;, score=0.239 total time=   0.0s\n",
      "[CV 3/5] END ...max_features=2, n_estimators=80;, score=0.492 total time=   0.1s\n",
      "[CV 4/5] END ...max_features=2, n_estimators=80;, score=0.523 total time=   0.0s\n",
      "[CV 5/5] END ...max_features=2, n_estimators=80;, score=0.303 total time=   0.1s\n",
      "[CV 1/5] END ...max_features=2, n_estimators=85;, score=0.482 total time=   0.1s\n",
      "[CV 2/5] END ...max_features=2, n_estimators=85;, score=0.226 total time=   0.1s\n",
      "[CV 3/5] END ...max_features=2, n_estimators=85;, score=0.541 total time=   0.2s\n",
      "[CV 4/5] END ...max_features=2, n_estimators=85;, score=0.520 total time=   0.2s\n",
      "[CV 5/5] END ...max_features=2, n_estimators=85;, score=0.324 total time=   0.2s\n",
      "[CV 1/5] END ...max_features=2, n_estimators=90;, score=0.452 total time=   0.1s\n",
      "[CV 2/5] END ...max_features=2, n_estimators=90;, score=0.249 total time=   0.2s\n",
      "[CV 3/5] END ...max_features=2, n_estimators=90;, score=0.534 total time=   0.2s\n",
      "[CV 4/5] END ...max_features=2, n_estimators=90;, score=0.544 total time=   0.2s\n",
      "[CV 5/5] END ...max_features=2, n_estimators=90;, score=0.267 total time=   0.2s\n",
      "[CV 1/5] END ...max_features=2, n_estimators=95;, score=0.472 total time=   0.2s\n",
      "[CV 2/5] END ...max_features=2, n_estimators=95;, score=0.222 total time=   0.1s\n",
      "[CV 3/5] END ...max_features=2, n_estimators=95;, score=0.536 total time=   0.2s\n",
      "[CV 4/5] END ...max_features=2, n_estimators=95;, score=0.503 total time=   0.1s\n",
      "[CV 5/5] END ...max_features=2, n_estimators=95;, score=0.307 total time=   0.1s\n",
      "[CV 1/5] END ....max_features=3, n_estimators=5;, score=0.378 total time=   0.0s\n",
      "[CV 2/5] END ....max_features=3, n_estimators=5;, score=0.126 total time=   0.0s\n",
      "[CV 3/5] END ....max_features=3, n_estimators=5;, score=0.443 total time=   0.0s\n",
      "[CV 4/5] END ....max_features=3, n_estimators=5;, score=0.434 total time=   0.0s\n",
      "[CV 5/5] END ....max_features=3, n_estimators=5;, score=0.283 total time=   0.0s\n",
      "[CV 1/5] END ...max_features=3, n_estimators=10;, score=0.418 total time=   0.0s\n",
      "[CV 2/5] END ...max_features=3, n_estimators=10;, score=0.013 total time=   0.0s\n",
      "[CV 3/5] END ...max_features=3, n_estimators=10;, score=0.465 total time=   0.0s\n",
      "[CV 4/5] END ...max_features=3, n_estimators=10;, score=0.486 total time=   0.0s\n",
      "[CV 5/5] END ...max_features=3, n_estimators=10;, score=0.289 total time=   0.0s\n",
      "[CV 1/5] END ...max_features=3, n_estimators=15;, score=0.431 total time=   0.0s\n",
      "[CV 2/5] END ...max_features=3, n_estimators=15;, score=0.199 total time=   0.0s\n",
      "[CV 3/5] END ...max_features=3, n_estimators=15;, score=0.520 total time=   0.0s\n",
      "[CV 4/5] END ...max_features=3, n_estimators=15;, score=0.527 total time=   0.0s\n",
      "[CV 5/5] END ...max_features=3, n_estimators=15;, score=0.366 total time=   0.0s\n",
      "[CV 1/5] END ...max_features=3, n_estimators=20;, score=0.454 total time=   0.0s\n",
      "[CV 2/5] END ...max_features=3, n_estimators=20;, score=0.245 total time=   0.0s\n",
      "[CV 3/5] END ...max_features=3, n_estimators=20;, score=0.545 total time=   0.0s\n"
     ]
    },
    {
     "name": "stdout",
     "output_type": "stream",
     "text": [
      "[CV 4/5] END ...max_features=3, n_estimators=20;, score=0.510 total time=   0.0s\n",
      "[CV 5/5] END ...max_features=3, n_estimators=20;, score=0.374 total time=   0.0s\n",
      "[CV 1/5] END ...max_features=3, n_estimators=25;, score=0.449 total time=   0.0s\n",
      "[CV 2/5] END ...max_features=3, n_estimators=25;, score=0.171 total time=   0.0s\n",
      "[CV 3/5] END ...max_features=3, n_estimators=25;, score=0.503 total time=   0.0s\n",
      "[CV 4/5] END ...max_features=3, n_estimators=25;, score=0.477 total time=   0.0s\n",
      "[CV 5/5] END ...max_features=3, n_estimators=25;, score=0.297 total time=   0.0s\n",
      "[CV 1/5] END ...max_features=3, n_estimators=30;, score=0.458 total time=   0.0s\n",
      "[CV 2/5] END ...max_features=3, n_estimators=30;, score=0.161 total time=   0.0s\n",
      "[CV 3/5] END ...max_features=3, n_estimators=30;, score=0.542 total time=   0.0s\n",
      "[CV 4/5] END ...max_features=3, n_estimators=30;, score=0.564 total time=   0.0s\n",
      "[CV 5/5] END ...max_features=3, n_estimators=30;, score=0.291 total time=   0.0s\n",
      "[CV 1/5] END ...max_features=3, n_estimators=35;, score=0.436 total time=   0.0s\n",
      "[CV 2/5] END ...max_features=3, n_estimators=35;, score=0.192 total time=   0.0s\n",
      "[CV 3/5] END ...max_features=3, n_estimators=35;, score=0.533 total time=   0.0s\n",
      "[CV 4/5] END ...max_features=3, n_estimators=35;, score=0.498 total time=   0.0s\n",
      "[CV 5/5] END ...max_features=3, n_estimators=35;, score=0.289 total time=   0.0s\n",
      "[CV 1/5] END ...max_features=3, n_estimators=40;, score=0.454 total time=   0.0s\n",
      "[CV 2/5] END ...max_features=3, n_estimators=40;, score=0.175 total time=   0.0s\n",
      "[CV 3/5] END ...max_features=3, n_estimators=40;, score=0.446 total time=   0.0s\n",
      "[CV 4/5] END ...max_features=3, n_estimators=40;, score=0.524 total time=   0.0s\n",
      "[CV 5/5] END ...max_features=3, n_estimators=40;, score=0.357 total time=   0.0s\n",
      "[CV 1/5] END ...max_features=3, n_estimators=45;, score=0.458 total time=   0.0s\n",
      "[CV 2/5] END ...max_features=3, n_estimators=45;, score=0.208 total time=   0.0s\n",
      "[CV 3/5] END ...max_features=3, n_estimators=45;, score=0.501 total time=   0.0s\n",
      "[CV 4/5] END ...max_features=3, n_estimators=45;, score=0.508 total time=   0.0s\n",
      "[CV 5/5] END ...max_features=3, n_estimators=45;, score=0.315 total time=   0.0s\n",
      "[CV 1/5] END ...max_features=3, n_estimators=50;, score=0.468 total time=   0.1s\n",
      "[CV 2/5] END ...max_features=3, n_estimators=50;, score=0.198 total time=   0.0s\n",
      "[CV 3/5] END ...max_features=3, n_estimators=50;, score=0.509 total time=   0.0s\n",
      "[CV 4/5] END ...max_features=3, n_estimators=50;, score=0.544 total time=   0.0s\n",
      "[CV 5/5] END ...max_features=3, n_estimators=50;, score=0.296 total time=   0.0s\n",
      "[CV 1/5] END ...max_features=3, n_estimators=55;, score=0.452 total time=   0.0s\n",
      "[CV 2/5] END ...max_features=3, n_estimators=55;, score=0.203 total time=   0.0s\n",
      "[CV 3/5] END ...max_features=3, n_estimators=55;, score=0.507 total time=   0.0s\n",
      "[CV 4/5] END ...max_features=3, n_estimators=55;, score=0.522 total time=   0.0s\n",
      "[CV 5/5] END ...max_features=3, n_estimators=55;, score=0.303 total time=   0.1s\n",
      "[CV 1/5] END ...max_features=3, n_estimators=60;, score=0.444 total time=   0.1s\n",
      "[CV 2/5] END ...max_features=3, n_estimators=60;, score=0.210 total time=   0.1s\n",
      "[CV 3/5] END ...max_features=3, n_estimators=60;, score=0.495 total time=   0.1s\n",
      "[CV 4/5] END ...max_features=3, n_estimators=60;, score=0.503 total time=   0.1s\n",
      "[CV 5/5] END ...max_features=3, n_estimators=60;, score=0.350 total time=   0.1s\n",
      "[CV 1/5] END ...max_features=3, n_estimators=65;, score=0.458 total time=   0.1s\n",
      "[CV 2/5] END ...max_features=3, n_estimators=65;, score=0.183 total time=   0.1s\n",
      "[CV 3/5] END ...max_features=3, n_estimators=65;, score=0.490 total time=   0.1s\n",
      "[CV 4/5] END ...max_features=3, n_estimators=65;, score=0.524 total time=   0.1s\n",
      "[CV 5/5] END ...max_features=3, n_estimators=65;, score=0.328 total time=   0.1s\n",
      "[CV 1/5] END ...max_features=3, n_estimators=70;, score=0.456 total time=   0.1s\n",
      "[CV 2/5] END ...max_features=3, n_estimators=70;, score=0.214 total time=   0.1s\n",
      "[CV 3/5] END ...max_features=3, n_estimators=70;, score=0.507 total time=   0.1s\n",
      "[CV 4/5] END ...max_features=3, n_estimators=70;, score=0.516 total time=   0.1s\n",
      "[CV 5/5] END ...max_features=3, n_estimators=70;, score=0.295 total time=   0.1s\n",
      "[CV 1/5] END ...max_features=3, n_estimators=75;, score=0.501 total time=   0.2s\n",
      "[CV 2/5] END ...max_features=3, n_estimators=75;, score=0.183 total time=   0.1s\n",
      "[CV 3/5] END ...max_features=3, n_estimators=75;, score=0.513 total time=   0.2s\n",
      "[CV 4/5] END ...max_features=3, n_estimators=75;, score=0.523 total time=   0.1s\n",
      "[CV 5/5] END ...max_features=3, n_estimators=75;, score=0.358 total time=   0.1s\n",
      "[CV 1/5] END ...max_features=3, n_estimators=80;, score=0.461 total time=   0.2s\n",
      "[CV 2/5] END ...max_features=3, n_estimators=80;, score=0.202 total time=   0.1s\n",
      "[CV 3/5] END ...max_features=3, n_estimators=80;, score=0.510 total time=   0.2s\n",
      "[CV 4/5] END ...max_features=3, n_estimators=80;, score=0.492 total time=   0.1s\n",
      "[CV 5/5] END ...max_features=3, n_estimators=80;, score=0.318 total time=   0.1s\n",
      "[CV 1/5] END ...max_features=3, n_estimators=85;, score=0.464 total time=   0.1s\n",
      "[CV 2/5] END ...max_features=3, n_estimators=85;, score=0.225 total time=   0.2s\n",
      "[CV 3/5] END ...max_features=3, n_estimators=85;, score=0.495 total time=   0.1s\n",
      "[CV 4/5] END ...max_features=3, n_estimators=85;, score=0.518 total time=   0.1s\n",
      "[CV 5/5] END ...max_features=3, n_estimators=85;, score=0.346 total time=   0.1s\n",
      "[CV 1/5] END ...max_features=3, n_estimators=90;, score=0.462 total time=   0.1s\n",
      "[CV 2/5] END ...max_features=3, n_estimators=90;, score=0.187 total time=   0.2s\n",
      "[CV 3/5] END ...max_features=3, n_estimators=90;, score=0.526 total time=   0.1s\n",
      "[CV 4/5] END ...max_features=3, n_estimators=90;, score=0.541 total time=   0.2s\n",
      "[CV 5/5] END ...max_features=3, n_estimators=90;, score=0.327 total time=   0.2s\n",
      "[CV 1/5] END ...max_features=3, n_estimators=95;, score=0.455 total time=   0.2s\n",
      "[CV 2/5] END ...max_features=3, n_estimators=95;, score=0.209 total time=   0.2s\n",
      "[CV 3/5] END ...max_features=3, n_estimators=95;, score=0.512 total time=   0.1s\n",
      "[CV 4/5] END ...max_features=3, n_estimators=95;, score=0.526 total time=   0.1s\n",
      "[CV 5/5] END ...max_features=3, n_estimators=95;, score=0.361 total time=   0.2s\n",
      "[CV 1/5] END ....max_features=4, n_estimators=5;, score=0.487 total time=   0.0s\n",
      "[CV 2/5] END ....max_features=4, n_estimators=5;, score=0.122 total time=   0.0s\n",
      "[CV 3/5] END ....max_features=4, n_estimators=5;, score=0.369 total time=   0.0s\n",
      "[CV 4/5] END ....max_features=4, n_estimators=5;, score=0.425 total time=   0.0s\n",
      "[CV 5/5] END ...max_features=4, n_estimators=5;, score=-0.017 total time=   0.0s\n",
      "[CV 1/5] END ...max_features=4, n_estimators=10;, score=0.457 total time=   0.0s\n",
      "[CV 2/5] END ...max_features=4, n_estimators=10;, score=0.008 total time=   0.0s\n",
      "[CV 3/5] END ...max_features=4, n_estimators=10;, score=0.433 total time=   0.0s\n",
      "[CV 4/5] END ...max_features=4, n_estimators=10;, score=0.521 total time=   0.0s\n",
      "[CV 5/5] END ...max_features=4, n_estimators=10;, score=0.227 total time=   0.0s\n",
      "[CV 1/5] END ...max_features=4, n_estimators=15;, score=0.431 total time=   0.0s\n",
      "[CV 2/5] END ...max_features=4, n_estimators=15;, score=0.105 total time=   0.0s\n",
      "[CV 3/5] END ...max_features=4, n_estimators=15;, score=0.428 total time=   0.0s\n",
      "[CV 4/5] END ...max_features=4, n_estimators=15;, score=0.526 total time=   0.0s\n",
      "[CV 5/5] END ...max_features=4, n_estimators=15;, score=0.194 total time=   0.0s\n",
      "[CV 1/5] END ...max_features=4, n_estimators=20;, score=0.457 total time=   0.0s\n",
      "[CV 2/5] END ...max_features=4, n_estimators=20;, score=0.134 total time=   0.0s\n",
      "[CV 3/5] END ...max_features=4, n_estimators=20;, score=0.511 total time=   0.0s\n",
      "[CV 4/5] END ...max_features=4, n_estimators=20;, score=0.520 total time=   0.0s\n",
      "[CV 5/5] END ...max_features=4, n_estimators=20;, score=0.328 total time=   0.0s\n",
      "[CV 1/5] END ...max_features=4, n_estimators=25;, score=0.423 total time=   0.0s\n",
      "[CV 2/5] END ...max_features=4, n_estimators=25;, score=0.119 total time=   0.0s\n",
      "[CV 3/5] END ...max_features=4, n_estimators=25;, score=0.504 total time=   0.0s\n",
      "[CV 4/5] END ...max_features=4, n_estimators=25;, score=0.542 total time=   0.0s\n",
      "[CV 5/5] END ...max_features=4, n_estimators=25;, score=0.314 total time=   0.0s\n"
     ]
    },
    {
     "name": "stdout",
     "output_type": "stream",
     "text": [
      "[CV 1/5] END ...max_features=4, n_estimators=30;, score=0.435 total time=   0.0s\n",
      "[CV 2/5] END ...max_features=4, n_estimators=30;, score=0.184 total time=   0.0s\n",
      "[CV 3/5] END ...max_features=4, n_estimators=30;, score=0.466 total time=   0.0s\n",
      "[CV 4/5] END ...max_features=4, n_estimators=30;, score=0.538 total time=   0.0s\n",
      "[CV 5/5] END ...max_features=4, n_estimators=30;, score=0.375 total time=   0.0s\n",
      "[CV 1/5] END ...max_features=4, n_estimators=35;, score=0.487 total time=   0.0s\n",
      "[CV 2/5] END ...max_features=4, n_estimators=35;, score=0.221 total time=   0.0s\n",
      "[CV 3/5] END ...max_features=4, n_estimators=35;, score=0.483 total time=   0.0s\n",
      "[CV 4/5] END ...max_features=4, n_estimators=35;, score=0.532 total time=   0.0s\n",
      "[CV 5/5] END ...max_features=4, n_estimators=35;, score=0.319 total time=   0.0s\n",
      "[CV 1/5] END ...max_features=4, n_estimators=40;, score=0.467 total time=   0.0s\n",
      "[CV 2/5] END ...max_features=4, n_estimators=40;, score=0.185 total time=   0.0s\n",
      "[CV 3/5] END ...max_features=4, n_estimators=40;, score=0.479 total time=   0.0s\n",
      "[CV 4/5] END ...max_features=4, n_estimators=40;, score=0.558 total time=   0.0s\n",
      "[CV 5/5] END ...max_features=4, n_estimators=40;, score=0.365 total time=   0.0s\n",
      "[CV 1/5] END ...max_features=4, n_estimators=45;, score=0.433 total time=   0.0s\n",
      "[CV 2/5] END ...max_features=4, n_estimators=45;, score=0.187 total time=   0.0s\n",
      "[CV 3/5] END ...max_features=4, n_estimators=45;, score=0.506 total time=   0.0s\n",
      "[CV 4/5] END ...max_features=4, n_estimators=45;, score=0.541 total time=   0.0s\n",
      "[CV 5/5] END ...max_features=4, n_estimators=45;, score=0.324 total time=   0.0s\n",
      "[CV 1/5] END ...max_features=4, n_estimators=50;, score=0.489 total time=   0.0s\n",
      "[CV 2/5] END ...max_features=4, n_estimators=50;, score=0.213 total time=   0.1s\n",
      "[CV 3/5] END ...max_features=4, n_estimators=50;, score=0.511 total time=   0.1s\n",
      "[CV 4/5] END ...max_features=4, n_estimators=50;, score=0.532 total time=   0.0s\n",
      "[CV 5/5] END ...max_features=4, n_estimators=50;, score=0.309 total time=   0.0s\n",
      "[CV 1/5] END ...max_features=4, n_estimators=55;, score=0.474 total time=   0.1s\n",
      "[CV 2/5] END ...max_features=4, n_estimators=55;, score=0.188 total time=   0.0s\n",
      "[CV 3/5] END ...max_features=4, n_estimators=55;, score=0.485 total time=   0.1s\n",
      "[CV 4/5] END ...max_features=4, n_estimators=55;, score=0.578 total time=   0.1s\n",
      "[CV 5/5] END ...max_features=4, n_estimators=55;, score=0.360 total time=   0.1s\n",
      "[CV 1/5] END ...max_features=4, n_estimators=60;, score=0.473 total time=   0.1s\n",
      "[CV 2/5] END ...max_features=4, n_estimators=60;, score=0.175 total time=   0.1s\n",
      "[CV 3/5] END ...max_features=4, n_estimators=60;, score=0.502 total time=   0.1s\n",
      "[CV 4/5] END ...max_features=4, n_estimators=60;, score=0.566 total time=   0.1s\n",
      "[CV 5/5] END ...max_features=4, n_estimators=60;, score=0.359 total time=   0.1s\n",
      "[CV 1/5] END ...max_features=4, n_estimators=65;, score=0.458 total time=   0.1s\n",
      "[CV 2/5] END ...max_features=4, n_estimators=65;, score=0.160 total time=   0.1s\n",
      "[CV 3/5] END ...max_features=4, n_estimators=65;, score=0.500 total time=   0.1s\n",
      "[CV 4/5] END ...max_features=4, n_estimators=65;, score=0.515 total time=   0.1s\n",
      "[CV 5/5] END ...max_features=4, n_estimators=65;, score=0.267 total time=   0.1s\n",
      "[CV 1/5] END ...max_features=4, n_estimators=70;, score=0.464 total time=   0.1s\n",
      "[CV 2/5] END ...max_features=4, n_estimators=70;, score=0.159 total time=   0.2s\n",
      "[CV 3/5] END ...max_features=4, n_estimators=70;, score=0.498 total time=   0.1s\n",
      "[CV 4/5] END ...max_features=4, n_estimators=70;, score=0.539 total time=   0.1s\n",
      "[CV 5/5] END ...max_features=4, n_estimators=70;, score=0.322 total time=   0.1s\n",
      "[CV 1/5] END ...max_features=4, n_estimators=75;, score=0.493 total time=   0.1s\n",
      "[CV 2/5] END ...max_features=4, n_estimators=75;, score=0.186 total time=   0.1s\n",
      "[CV 3/5] END ...max_features=4, n_estimators=75;, score=0.510 total time=   0.1s\n",
      "[CV 4/5] END ...max_features=4, n_estimators=75;, score=0.526 total time=   0.1s\n",
      "[CV 5/5] END ...max_features=4, n_estimators=75;, score=0.332 total time=   0.1s\n",
      "[CV 1/5] END ...max_features=4, n_estimators=80;, score=0.475 total time=   0.1s\n",
      "[CV 2/5] END ...max_features=4, n_estimators=80;, score=0.175 total time=   0.1s\n",
      "[CV 3/5] END ...max_features=4, n_estimators=80;, score=0.491 total time=   0.1s\n",
      "[CV 4/5] END ...max_features=4, n_estimators=80;, score=0.534 total time=   0.1s\n",
      "[CV 5/5] END ...max_features=4, n_estimators=80;, score=0.303 total time=   0.1s\n",
      "[CV 1/5] END ...max_features=4, n_estimators=85;, score=0.454 total time=   0.2s\n",
      "[CV 2/5] END ...max_features=4, n_estimators=85;, score=0.183 total time=   0.2s\n",
      "[CV 3/5] END ...max_features=4, n_estimators=85;, score=0.497 total time=   0.2s\n",
      "[CV 4/5] END ...max_features=4, n_estimators=85;, score=0.523 total time=   0.2s\n",
      "[CV 5/5] END ...max_features=4, n_estimators=85;, score=0.321 total time=   0.2s\n",
      "[CV 1/5] END ...max_features=4, n_estimators=90;, score=0.465 total time=   0.2s\n",
      "[CV 2/5] END ...max_features=4, n_estimators=90;, score=0.197 total time=   0.1s\n",
      "[CV 3/5] END ...max_features=4, n_estimators=90;, score=0.502 total time=   0.2s\n",
      "[CV 4/5] END ...max_features=4, n_estimators=90;, score=0.562 total time=   0.2s\n",
      "[CV 5/5] END ...max_features=4, n_estimators=90;, score=0.330 total time=   0.3s\n",
      "[CV 1/5] END ...max_features=4, n_estimators=95;, score=0.479 total time=   0.2s\n",
      "[CV 2/5] END ...max_features=4, n_estimators=95;, score=0.200 total time=   0.2s\n",
      "[CV 3/5] END ...max_features=4, n_estimators=95;, score=0.494 total time=   0.2s\n",
      "[CV 4/5] END ...max_features=4, n_estimators=95;, score=0.536 total time=   0.2s\n",
      "[CV 5/5] END ...max_features=4, n_estimators=95;, score=0.367 total time=   0.3s\n",
      "[CV 1/5] END ....max_features=5, n_estimators=5;, score=0.460 total time=   0.0s\n",
      "[CV 2/5] END ...max_features=5, n_estimators=5;, score=-0.095 total time=   0.0s\n",
      "[CV 3/5] END ....max_features=5, n_estimators=5;, score=0.334 total time=   0.0s\n",
      "[CV 4/5] END ....max_features=5, n_estimators=5;, score=0.420 total time=   0.0s\n",
      "[CV 5/5] END ....max_features=5, n_estimators=5;, score=0.238 total time=   0.0s\n",
      "[CV 1/5] END ...max_features=5, n_estimators=10;, score=0.440 total time=   0.0s\n",
      "[CV 2/5] END ...max_features=5, n_estimators=10;, score=0.136 total time=   0.0s\n",
      "[CV 3/5] END ...max_features=5, n_estimators=10;, score=0.418 total time=   0.0s\n",
      "[CV 4/5] END ...max_features=5, n_estimators=10;, score=0.374 total time=   0.0s\n",
      "[CV 5/5] END ...max_features=5, n_estimators=10;, score=0.304 total time=   0.0s\n",
      "[CV 1/5] END ...max_features=5, n_estimators=15;, score=0.448 total time=   0.0s\n",
      "[CV 2/5] END ...max_features=5, n_estimators=15;, score=0.077 total time=   0.0s\n",
      "[CV 3/5] END ...max_features=5, n_estimators=15;, score=0.447 total time=   0.0s\n",
      "[CV 4/5] END ...max_features=5, n_estimators=15;, score=0.489 total time=   0.0s\n",
      "[CV 5/5] END ...max_features=5, n_estimators=15;, score=0.345 total time=   0.0s\n",
      "[CV 1/5] END ...max_features=5, n_estimators=20;, score=0.407 total time=   0.0s\n",
      "[CV 2/5] END ...max_features=5, n_estimators=20;, score=0.103 total time=   0.0s\n",
      "[CV 3/5] END ...max_features=5, n_estimators=20;, score=0.476 total time=   0.0s\n",
      "[CV 4/5] END ...max_features=5, n_estimators=20;, score=0.536 total time=   0.0s\n",
      "[CV 5/5] END ...max_features=5, n_estimators=20;, score=0.335 total time=   0.0s\n",
      "[CV 1/5] END ...max_features=5, n_estimators=25;, score=0.462 total time=   0.0s\n",
      "[CV 2/5] END ...max_features=5, n_estimators=25;, score=0.113 total time=   0.0s\n",
      "[CV 3/5] END ...max_features=5, n_estimators=25;, score=0.486 total time=   0.0s\n",
      "[CV 4/5] END ...max_features=5, n_estimators=25;, score=0.565 total time=   0.0s\n",
      "[CV 5/5] END ...max_features=5, n_estimators=25;, score=0.287 total time=   0.0s\n",
      "[CV 1/5] END ...max_features=5, n_estimators=30;, score=0.485 total time=   0.0s\n",
      "[CV 2/5] END ...max_features=5, n_estimators=30;, score=0.195 total time=   0.0s\n",
      "[CV 3/5] END ...max_features=5, n_estimators=30;, score=0.525 total time=   0.0s\n",
      "[CV 4/5] END ...max_features=5, n_estimators=30;, score=0.537 total time=   0.0s\n",
      "[CV 5/5] END ...max_features=5, n_estimators=30;, score=0.301 total time=   0.0s\n",
      "[CV 1/5] END ...max_features=5, n_estimators=35;, score=0.477 total time=   0.1s\n",
      "[CV 2/5] END ...max_features=5, n_estimators=35;, score=0.171 total time=   0.0s\n"
     ]
    },
    {
     "name": "stdout",
     "output_type": "stream",
     "text": [
      "[CV 3/5] END ...max_features=5, n_estimators=35;, score=0.477 total time=   0.0s\n",
      "[CV 4/5] END ...max_features=5, n_estimators=35;, score=0.518 total time=   0.0s\n",
      "[CV 5/5] END ...max_features=5, n_estimators=35;, score=0.299 total time=   0.0s\n",
      "[CV 1/5] END ...max_features=5, n_estimators=40;, score=0.503 total time=   0.0s\n",
      "[CV 2/5] END ...max_features=5, n_estimators=40;, score=0.110 total time=   0.0s\n",
      "[CV 3/5] END ...max_features=5, n_estimators=40;, score=0.514 total time=   0.0s\n",
      "[CV 4/5] END ...max_features=5, n_estimators=40;, score=0.552 total time=   0.0s\n",
      "[CV 5/5] END ...max_features=5, n_estimators=40;, score=0.300 total time=   0.0s\n",
      "[CV 1/5] END ...max_features=5, n_estimators=45;, score=0.481 total time=   0.0s\n",
      "[CV 2/5] END ...max_features=5, n_estimators=45;, score=0.156 total time=   0.0s\n",
      "[CV 3/5] END ...max_features=5, n_estimators=45;, score=0.497 total time=   0.0s\n",
      "[CV 4/5] END ...max_features=5, n_estimators=45;, score=0.537 total time=   0.0s\n",
      "[CV 5/5] END ...max_features=5, n_estimators=45;, score=0.394 total time=   0.0s\n",
      "[CV 1/5] END ...max_features=5, n_estimators=50;, score=0.493 total time=   0.0s\n",
      "[CV 2/5] END ...max_features=5, n_estimators=50;, score=0.219 total time=   0.0s\n",
      "[CV 3/5] END ...max_features=5, n_estimators=50;, score=0.487 total time=   0.0s\n",
      "[CV 4/5] END ...max_features=5, n_estimators=50;, score=0.529 total time=   0.1s\n",
      "[CV 5/5] END ...max_features=5, n_estimators=50;, score=0.277 total time=   0.1s\n",
      "[CV 1/5] END ...max_features=5, n_estimators=55;, score=0.462 total time=   0.0s\n",
      "[CV 2/5] END ...max_features=5, n_estimators=55;, score=0.164 total time=   0.1s\n",
      "[CV 3/5] END ...max_features=5, n_estimators=55;, score=0.468 total time=   0.1s\n",
      "[CV 4/5] END ...max_features=5, n_estimators=55;, score=0.558 total time=   0.1s\n",
      "[CV 5/5] END ...max_features=5, n_estimators=55;, score=0.351 total time=   0.1s\n",
      "[CV 1/5] END ...max_features=5, n_estimators=60;, score=0.462 total time=   0.1s\n",
      "[CV 2/5] END ...max_features=5, n_estimators=60;, score=0.182 total time=   0.1s\n",
      "[CV 3/5] END ...max_features=5, n_estimators=60;, score=0.493 total time=   0.1s\n",
      "[CV 4/5] END ...max_features=5, n_estimators=60;, score=0.548 total time=   0.1s\n",
      "[CV 5/5] END ...max_features=5, n_estimators=60;, score=0.334 total time=   0.1s\n",
      "[CV 1/5] END ...max_features=5, n_estimators=65;, score=0.507 total time=   0.1s\n",
      "[CV 2/5] END ...max_features=5, n_estimators=65;, score=0.199 total time=   0.1s\n",
      "[CV 3/5] END ...max_features=5, n_estimators=65;, score=0.486 total time=   0.1s\n",
      "[CV 4/5] END ...max_features=5, n_estimators=65;, score=0.556 total time=   0.1s\n",
      "[CV 5/5] END ...max_features=5, n_estimators=65;, score=0.378 total time=   0.1s\n",
      "[CV 1/5] END ...max_features=5, n_estimators=70;, score=0.457 total time=   0.1s\n",
      "[CV 2/5] END ...max_features=5, n_estimators=70;, score=0.169 total time=   0.1s\n",
      "[CV 3/5] END ...max_features=5, n_estimators=70;, score=0.486 total time=   0.1s\n",
      "[CV 4/5] END ...max_features=5, n_estimators=70;, score=0.539 total time=   0.1s\n",
      "[CV 5/5] END ...max_features=5, n_estimators=70;, score=0.361 total time=   0.1s\n",
      "[CV 1/5] END ...max_features=5, n_estimators=75;, score=0.471 total time=   0.1s\n",
      "[CV 2/5] END ...max_features=5, n_estimators=75;, score=0.179 total time=   0.2s\n",
      "[CV 3/5] END ...max_features=5, n_estimators=75;, score=0.498 total time=   0.2s\n",
      "[CV 4/5] END ...max_features=5, n_estimators=75;, score=0.545 total time=   0.2s\n",
      "[CV 5/5] END ...max_features=5, n_estimators=75;, score=0.321 total time=   0.2s\n",
      "[CV 1/5] END ...max_features=5, n_estimators=80;, score=0.494 total time=   0.2s\n",
      "[CV 2/5] END ...max_features=5, n_estimators=80;, score=0.184 total time=   0.1s\n",
      "[CV 3/5] END ...max_features=5, n_estimators=80;, score=0.488 total time=   0.2s\n",
      "[CV 4/5] END ...max_features=5, n_estimators=80;, score=0.546 total time=   0.1s\n",
      "[CV 5/5] END ...max_features=5, n_estimators=80;, score=0.343 total time=   0.1s\n",
      "[CV 1/5] END ...max_features=5, n_estimators=85;, score=0.477 total time=   0.1s\n",
      "[CV 2/5] END ...max_features=5, n_estimators=85;, score=0.158 total time=   0.1s\n",
      "[CV 3/5] END ...max_features=5, n_estimators=85;, score=0.507 total time=   0.0s\n",
      "[CV 4/5] END ...max_features=5, n_estimators=85;, score=0.587 total time=   0.1s\n",
      "[CV 5/5] END ...max_features=5, n_estimators=85;, score=0.370 total time=   0.2s\n",
      "[CV 1/5] END ...max_features=5, n_estimators=90;, score=0.491 total time=   0.1s\n",
      "[CV 2/5] END ...max_features=5, n_estimators=90;, score=0.121 total time=   0.2s\n",
      "[CV 3/5] END ...max_features=5, n_estimators=90;, score=0.471 total time=   0.2s\n",
      "[CV 4/5] END ...max_features=5, n_estimators=90;, score=0.548 total time=   0.2s\n",
      "[CV 5/5] END ...max_features=5, n_estimators=90;, score=0.351 total time=   0.1s\n",
      "[CV 1/5] END ...max_features=5, n_estimators=95;, score=0.476 total time=   0.1s\n",
      "[CV 2/5] END ...max_features=5, n_estimators=95;, score=0.203 total time=   0.1s\n",
      "[CV 3/5] END ...max_features=5, n_estimators=95;, score=0.492 total time=   0.1s\n",
      "[CV 4/5] END ...max_features=5, n_estimators=95;, score=0.558 total time=   0.1s\n",
      "[CV 5/5] END ...max_features=5, n_estimators=95;, score=0.343 total time=   0.1s\n",
      "[CV 1/5] END ....max_features=6, n_estimators=5;, score=0.282 total time=   0.0s\n",
      "[CV 2/5] END ....max_features=6, n_estimators=5;, score=0.040 total time=   0.0s\n",
      "[CV 3/5] END ....max_features=6, n_estimators=5;, score=0.344 total time=   0.0s\n",
      "[CV 4/5] END ....max_features=6, n_estimators=5;, score=0.490 total time=   0.0s\n",
      "[CV 5/5] END ....max_features=6, n_estimators=5;, score=0.197 total time=   0.0s\n",
      "[CV 1/5] END ...max_features=6, n_estimators=10;, score=0.389 total time=   0.0s\n",
      "[CV 2/5] END ...max_features=6, n_estimators=10;, score=0.182 total time=   0.0s\n",
      "[CV 3/5] END ...max_features=6, n_estimators=10;, score=0.434 total time=   0.0s\n",
      "[CV 4/5] END ...max_features=6, n_estimators=10;, score=0.494 total time=   0.0s\n",
      "[CV 5/5] END ...max_features=6, n_estimators=10;, score=0.330 total time=   0.0s\n",
      "[CV 1/5] END ...max_features=6, n_estimators=15;, score=0.353 total time=   0.0s\n",
      "[CV 2/5] END ...max_features=6, n_estimators=15;, score=0.053 total time=   0.0s\n",
      "[CV 3/5] END ...max_features=6, n_estimators=15;, score=0.424 total time=   0.0s\n",
      "[CV 4/5] END ...max_features=6, n_estimators=15;, score=0.560 total time=   0.0s\n",
      "[CV 5/5] END ...max_features=6, n_estimators=15;, score=0.363 total time=   0.0s\n",
      "[CV 1/5] END ...max_features=6, n_estimators=20;, score=0.467 total time=   0.0s\n",
      "[CV 2/5] END ...max_features=6, n_estimators=20;, score=0.212 total time=   0.0s\n",
      "[CV 3/5] END ...max_features=6, n_estimators=20;, score=0.439 total time=   0.0s\n",
      "[CV 4/5] END ...max_features=6, n_estimators=20;, score=0.545 total time=   0.0s\n",
      "[CV 5/5] END ...max_features=6, n_estimators=20;, score=0.385 total time=   0.0s\n",
      "[CV 1/5] END ...max_features=6, n_estimators=25;, score=0.446 total time=   0.0s\n",
      "[CV 2/5] END ...max_features=6, n_estimators=25;, score=0.129 total time=   0.0s\n",
      "[CV 3/5] END ...max_features=6, n_estimators=25;, score=0.419 total time=   0.0s\n",
      "[CV 4/5] END ...max_features=6, n_estimators=25;, score=0.523 total time=   0.0s\n",
      "[CV 5/5] END ...max_features=6, n_estimators=25;, score=0.337 total time=   0.0s\n",
      "[CV 1/5] END ...max_features=6, n_estimators=30;, score=0.425 total time=   0.0s\n",
      "[CV 2/5] END ...max_features=6, n_estimators=30;, score=0.110 total time=   0.0s\n",
      "[CV 3/5] END ...max_features=6, n_estimators=30;, score=0.476 total time=   0.0s\n",
      "[CV 4/5] END ...max_features=6, n_estimators=30;, score=0.516 total time=   0.0s\n",
      "[CV 5/5] END ...max_features=6, n_estimators=30;, score=0.382 total time=   0.0s\n",
      "[CV 1/5] END ...max_features=6, n_estimators=35;, score=0.423 total time=   0.0s\n",
      "[CV 2/5] END ...max_features=6, n_estimators=35;, score=0.133 total time=   0.0s\n",
      "[CV 3/5] END ...max_features=6, n_estimators=35;, score=0.488 total time=   0.0s\n",
      "[CV 4/5] END ...max_features=6, n_estimators=35;, score=0.561 total time=   0.0s\n",
      "[CV 5/5] END ...max_features=6, n_estimators=35;, score=0.348 total time=   0.0s\n",
      "[CV 1/5] END ...max_features=6, n_estimators=40;, score=0.454 total time=   0.0s\n",
      "[CV 2/5] END ...max_features=6, n_estimators=40;, score=0.116 total time=   0.0s\n",
      "[CV 3/5] END ...max_features=6, n_estimators=40;, score=0.500 total time=   0.0s\n",
      "[CV 4/5] END ...max_features=6, n_estimators=40;, score=0.545 total time=   0.0s\n"
     ]
    },
    {
     "name": "stdout",
     "output_type": "stream",
     "text": [
      "[CV 5/5] END ...max_features=6, n_estimators=40;, score=0.303 total time=   0.1s\n",
      "[CV 1/5] END ...max_features=6, n_estimators=45;, score=0.474 total time=   0.0s\n",
      "[CV 2/5] END ...max_features=6, n_estimators=45;, score=0.165 total time=   0.0s\n",
      "[CV 3/5] END ...max_features=6, n_estimators=45;, score=0.478 total time=   0.1s\n",
      "[CV 4/5] END ...max_features=6, n_estimators=45;, score=0.532 total time=   0.0s\n",
      "[CV 5/5] END ...max_features=6, n_estimators=45;, score=0.307 total time=   0.0s\n",
      "[CV 1/5] END ...max_features=6, n_estimators=50;, score=0.438 total time=   0.1s\n",
      "[CV 2/5] END ...max_features=6, n_estimators=50;, score=0.138 total time=   0.1s\n",
      "[CV 3/5] END ...max_features=6, n_estimators=50;, score=0.501 total time=   0.1s\n",
      "[CV 4/5] END ...max_features=6, n_estimators=50;, score=0.543 total time=   0.1s\n",
      "[CV 5/5] END ...max_features=6, n_estimators=50;, score=0.313 total time=   0.0s\n",
      "[CV 1/5] END ...max_features=6, n_estimators=55;, score=0.463 total time=   0.1s\n",
      "[CV 2/5] END ...max_features=6, n_estimators=55;, score=0.159 total time=   0.0s\n",
      "[CV 3/5] END ...max_features=6, n_estimators=55;, score=0.518 total time=   0.0s\n",
      "[CV 4/5] END ...max_features=6, n_estimators=55;, score=0.502 total time=   0.0s\n",
      "[CV 5/5] END ...max_features=6, n_estimators=55;, score=0.340 total time=   0.1s\n",
      "[CV 1/5] END ...max_features=6, n_estimators=60;, score=0.468 total time=   0.0s\n",
      "[CV 2/5] END ...max_features=6, n_estimators=60;, score=0.156 total time=   0.1s\n",
      "[CV 3/5] END ...max_features=6, n_estimators=60;, score=0.506 total time=   0.1s\n",
      "[CV 4/5] END ...max_features=6, n_estimators=60;, score=0.536 total time=   0.1s\n",
      "[CV 5/5] END ...max_features=6, n_estimators=60;, score=0.373 total time=   0.1s\n",
      "[CV 1/5] END ...max_features=6, n_estimators=65;, score=0.475 total time=   0.1s\n",
      "[CV 2/5] END ...max_features=6, n_estimators=65;, score=0.160 total time=   0.0s\n",
      "[CV 3/5] END ...max_features=6, n_estimators=65;, score=0.488 total time=   0.1s\n",
      "[CV 4/5] END ...max_features=6, n_estimators=65;, score=0.556 total time=   0.0s\n",
      "[CV 5/5] END ...max_features=6, n_estimators=65;, score=0.350 total time=   0.1s\n",
      "[CV 1/5] END ...max_features=6, n_estimators=70;, score=0.470 total time=   0.1s\n",
      "[CV 2/5] END ...max_features=6, n_estimators=70;, score=0.139 total time=   0.1s\n",
      "[CV 3/5] END ...max_features=6, n_estimators=70;, score=0.497 total time=   0.1s\n",
      "[CV 4/5] END ...max_features=6, n_estimators=70;, score=0.556 total time=   0.1s\n",
      "[CV 5/5] END ...max_features=6, n_estimators=70;, score=0.338 total time=   0.1s\n",
      "[CV 1/5] END ...max_features=6, n_estimators=75;, score=0.465 total time=   0.1s\n",
      "[CV 2/5] END ...max_features=6, n_estimators=75;, score=0.126 total time=   0.1s\n",
      "[CV 3/5] END ...max_features=6, n_estimators=75;, score=0.473 total time=   0.2s\n",
      "[CV 4/5] END ...max_features=6, n_estimators=75;, score=0.564 total time=   0.1s\n",
      "[CV 5/5] END ...max_features=6, n_estimators=75;, score=0.377 total time=   0.1s\n",
      "[CV 1/5] END ...max_features=6, n_estimators=80;, score=0.447 total time=   0.1s\n",
      "[CV 2/5] END ...max_features=6, n_estimators=80;, score=0.138 total time=   0.2s\n",
      "[CV 3/5] END ...max_features=6, n_estimators=80;, score=0.496 total time=   0.2s\n",
      "[CV 4/5] END ...max_features=6, n_estimators=80;, score=0.544 total time=   0.2s\n",
      "[CV 5/5] END ...max_features=6, n_estimators=80;, score=0.344 total time=   0.2s\n",
      "[CV 1/5] END ...max_features=6, n_estimators=85;, score=0.468 total time=   0.2s\n",
      "[CV 2/5] END ...max_features=6, n_estimators=85;, score=0.198 total time=   0.1s\n",
      "[CV 3/5] END ...max_features=6, n_estimators=85;, score=0.496 total time=   0.2s\n",
      "[CV 4/5] END ...max_features=6, n_estimators=85;, score=0.557 total time=   0.1s\n",
      "[CV 5/5] END ...max_features=6, n_estimators=85;, score=0.393 total time=   0.1s\n",
      "[CV 1/5] END ...max_features=6, n_estimators=90;, score=0.473 total time=   0.1s\n",
      "[CV 2/5] END ...max_features=6, n_estimators=90;, score=0.148 total time=   0.2s\n",
      "[CV 3/5] END ...max_features=6, n_estimators=90;, score=0.497 total time=   0.1s\n",
      "[CV 4/5] END ...max_features=6, n_estimators=90;, score=0.575 total time=   0.2s\n",
      "[CV 5/5] END ...max_features=6, n_estimators=90;, score=0.351 total time=   0.1s\n",
      "[CV 1/5] END ...max_features=6, n_estimators=95;, score=0.499 total time=   0.1s\n",
      "[CV 2/5] END ...max_features=6, n_estimators=95;, score=0.160 total time=   0.2s\n",
      "[CV 3/5] END ...max_features=6, n_estimators=95;, score=0.464 total time=   0.2s\n",
      "[CV 4/5] END ...max_features=6, n_estimators=95;, score=0.542 total time=   0.2s\n",
      "[CV 5/5] END ...max_features=6, n_estimators=95;, score=0.368 total time=   0.2s\n",
      "[CV 1/5] END ....max_features=7, n_estimators=5;, score=0.391 total time=   0.0s\n",
      "[CV 2/5] END ...max_features=7, n_estimators=5;, score=-0.006 total time=   0.0s\n",
      "[CV 3/5] END ....max_features=7, n_estimators=5;, score=0.575 total time=   0.0s\n",
      "[CV 4/5] END ....max_features=7, n_estimators=5;, score=0.469 total time=   0.0s\n",
      "[CV 5/5] END ....max_features=7, n_estimators=5;, score=0.309 total time=   0.0s\n",
      "[CV 1/5] END ...max_features=7, n_estimators=10;, score=0.376 total time=   0.0s\n",
      "[CV 2/5] END ...max_features=7, n_estimators=10;, score=0.165 total time=   0.0s\n",
      "[CV 3/5] END ...max_features=7, n_estimators=10;, score=0.528 total time=   0.0s\n",
      "[CV 4/5] END ...max_features=7, n_estimators=10;, score=0.473 total time=   0.0s\n",
      "[CV 5/5] END ...max_features=7, n_estimators=10;, score=0.282 total time=   0.0s\n",
      "[CV 1/5] END ...max_features=7, n_estimators=15;, score=0.447 total time=   0.0s\n",
      "[CV 2/5] END ...max_features=7, n_estimators=15;, score=0.133 total time=   0.0s\n",
      "[CV 3/5] END ...max_features=7, n_estimators=15;, score=0.403 total time=   0.0s\n",
      "[CV 4/5] END ...max_features=7, n_estimators=15;, score=0.506 total time=   0.0s\n",
      "[CV 5/5] END ...max_features=7, n_estimators=15;, score=0.303 total time=   0.0s\n",
      "[CV 1/5] END ...max_features=7, n_estimators=20;, score=0.482 total time=   0.0s\n",
      "[CV 2/5] END ...max_features=7, n_estimators=20;, score=0.182 total time=   0.0s\n",
      "[CV 3/5] END ...max_features=7, n_estimators=20;, score=0.426 total time=   0.0s\n",
      "[CV 4/5] END ...max_features=7, n_estimators=20;, score=0.576 total time=   0.0s\n",
      "[CV 5/5] END ...max_features=7, n_estimators=20;, score=0.362 total time=   0.0s\n",
      "[CV 1/5] END ...max_features=7, n_estimators=25;, score=0.448 total time=   0.0s\n",
      "[CV 2/5] END ...max_features=7, n_estimators=25;, score=0.110 total time=   0.0s\n",
      "[CV 3/5] END ...max_features=7, n_estimators=25;, score=0.490 total time=   0.0s\n",
      "[CV 4/5] END ...max_features=7, n_estimators=25;, score=0.548 total time=   0.0s\n",
      "[CV 5/5] END ...max_features=7, n_estimators=25;, score=0.305 total time=   0.0s\n",
      "[CV 1/5] END ...max_features=7, n_estimators=30;, score=0.476 total time=   0.0s\n",
      "[CV 2/5] END ...max_features=7, n_estimators=30;, score=0.110 total time=   0.0s\n",
      "[CV 3/5] END ...max_features=7, n_estimators=30;, score=0.481 total time=   0.0s\n",
      "[CV 4/5] END ...max_features=7, n_estimators=30;, score=0.569 total time=   0.0s\n",
      "[CV 5/5] END ...max_features=7, n_estimators=30;, score=0.363 total time=   0.0s\n",
      "[CV 1/5] END ...max_features=7, n_estimators=35;, score=0.455 total time=   0.0s\n",
      "[CV 2/5] END ...max_features=7, n_estimators=35;, score=0.141 total time=   0.0s\n",
      "[CV 3/5] END ...max_features=7, n_estimators=35;, score=0.471 total time=   0.0s\n",
      "[CV 4/5] END ...max_features=7, n_estimators=35;, score=0.536 total time=   0.0s\n",
      "[CV 5/5] END ...max_features=7, n_estimators=35;, score=0.345 total time=   0.1s\n",
      "[CV 1/5] END ...max_features=7, n_estimators=40;, score=0.489 total time=   0.0s\n",
      "[CV 2/5] END ...max_features=7, n_estimators=40;, score=0.064 total time=   0.0s\n",
      "[CV 3/5] END ...max_features=7, n_estimators=40;, score=0.497 total time=   0.0s\n",
      "[CV 4/5] END ...max_features=7, n_estimators=40;, score=0.558 total time=   0.0s\n",
      "[CV 5/5] END ...max_features=7, n_estimators=40;, score=0.335 total time=   0.0s\n",
      "[CV 1/5] END ...max_features=7, n_estimators=45;, score=0.480 total time=   0.0s\n",
      "[CV 2/5] END ...max_features=7, n_estimators=45;, score=0.142 total time=   0.0s\n",
      "[CV 3/5] END ...max_features=7, n_estimators=45;, score=0.483 total time=   0.0s\n",
      "[CV 4/5] END ...max_features=7, n_estimators=45;, score=0.568 total time=   0.1s\n",
      "[CV 5/5] END ...max_features=7, n_estimators=45;, score=0.381 total time=   0.1s\n",
      "[CV 1/5] END ...max_features=7, n_estimators=50;, score=0.452 total time=   0.1s\n"
     ]
    },
    {
     "name": "stdout",
     "output_type": "stream",
     "text": [
      "[CV 2/5] END ...max_features=7, n_estimators=50;, score=0.109 total time=   0.1s\n",
      "[CV 3/5] END ...max_features=7, n_estimators=50;, score=0.483 total time=   0.0s\n",
      "[CV 4/5] END ...max_features=7, n_estimators=50;, score=0.545 total time=   0.0s\n",
      "[CV 5/5] END ...max_features=7, n_estimators=50;, score=0.332 total time=   0.1s\n",
      "[CV 1/5] END ...max_features=7, n_estimators=55;, score=0.441 total time=   0.1s\n",
      "[CV 2/5] END ...max_features=7, n_estimators=55;, score=0.158 total time=   0.1s\n",
      "[CV 3/5] END ...max_features=7, n_estimators=55;, score=0.453 total time=   0.1s\n",
      "[CV 4/5] END ...max_features=7, n_estimators=55;, score=0.528 total time=   0.1s\n",
      "[CV 5/5] END ...max_features=7, n_estimators=55;, score=0.347 total time=   0.1s\n",
      "[CV 1/5] END ...max_features=7, n_estimators=60;, score=0.434 total time=   0.1s\n",
      "[CV 2/5] END ...max_features=7, n_estimators=60;, score=0.157 total time=   0.0s\n",
      "[CV 3/5] END ...max_features=7, n_estimators=60;, score=0.457 total time=   0.1s\n",
      "[CV 4/5] END ...max_features=7, n_estimators=60;, score=0.574 total time=   0.0s\n",
      "[CV 5/5] END ...max_features=7, n_estimators=60;, score=0.369 total time=   0.1s\n",
      "[CV 1/5] END ...max_features=7, n_estimators=65;, score=0.468 total time=   0.2s\n",
      "[CV 2/5] END ...max_features=7, n_estimators=65;, score=0.115 total time=   0.2s\n",
      "[CV 3/5] END ...max_features=7, n_estimators=65;, score=0.492 total time=   0.1s\n",
      "[CV 4/5] END ...max_features=7, n_estimators=65;, score=0.533 total time=   0.1s\n",
      "[CV 5/5] END ...max_features=7, n_estimators=65;, score=0.341 total time=   0.1s\n",
      "[CV 1/5] END ...max_features=7, n_estimators=70;, score=0.482 total time=   0.1s\n",
      "[CV 2/5] END ...max_features=7, n_estimators=70;, score=0.115 total time=   0.1s\n",
      "[CV 3/5] END ...max_features=7, n_estimators=70;, score=0.476 total time=   0.1s\n",
      "[CV 4/5] END ...max_features=7, n_estimators=70;, score=0.574 total time=   0.1s\n",
      "[CV 5/5] END ...max_features=7, n_estimators=70;, score=0.325 total time=   0.1s\n",
      "[CV 1/5] END ...max_features=7, n_estimators=75;, score=0.470 total time=   0.1s\n",
      "[CV 2/5] END ...max_features=7, n_estimators=75;, score=0.169 total time=   0.1s\n",
      "[CV 3/5] END ...max_features=7, n_estimators=75;, score=0.471 total time=   0.1s\n",
      "[CV 4/5] END ...max_features=7, n_estimators=75;, score=0.543 total time=   0.1s\n",
      "[CV 5/5] END ...max_features=7, n_estimators=75;, score=0.324 total time=   0.1s\n",
      "[CV 1/5] END ...max_features=7, n_estimators=80;, score=0.509 total time=   0.2s\n",
      "[CV 2/5] END ...max_features=7, n_estimators=80;, score=0.118 total time=   0.1s\n",
      "[CV 3/5] END ...max_features=7, n_estimators=80;, score=0.479 total time=   0.1s\n",
      "[CV 4/5] END ...max_features=7, n_estimators=80;, score=0.555 total time=   0.1s\n",
      "[CV 5/5] END ...max_features=7, n_estimators=80;, score=0.320 total time=   0.1s\n",
      "[CV 1/5] END ...max_features=7, n_estimators=85;, score=0.480 total time=   0.1s\n",
      "[CV 2/5] END ...max_features=7, n_estimators=85;, score=0.143 total time=   0.1s\n",
      "[CV 3/5] END ...max_features=7, n_estimators=85;, score=0.490 total time=   0.1s\n",
      "[CV 4/5] END ...max_features=7, n_estimators=85;, score=0.575 total time=   0.1s\n",
      "[CV 5/5] END ...max_features=7, n_estimators=85;, score=0.319 total time=   0.2s\n",
      "[CV 1/5] END ...max_features=7, n_estimators=90;, score=0.465 total time=   0.1s\n",
      "[CV 2/5] END ...max_features=7, n_estimators=90;, score=0.150 total time=   0.1s\n",
      "[CV 3/5] END ...max_features=7, n_estimators=90;, score=0.506 total time=   0.3s\n",
      "[CV 4/5] END ...max_features=7, n_estimators=90;, score=0.549 total time=   0.3s\n",
      "[CV 5/5] END ...max_features=7, n_estimators=90;, score=0.346 total time=   0.3s\n",
      "[CV 1/5] END ...max_features=7, n_estimators=95;, score=0.476 total time=   0.2s\n",
      "[CV 2/5] END ...max_features=7, n_estimators=95;, score=0.132 total time=   0.2s\n",
      "[CV 3/5] END ...max_features=7, n_estimators=95;, score=0.490 total time=   0.2s\n",
      "[CV 4/5] END ...max_features=7, n_estimators=95;, score=0.557 total time=   0.1s\n",
      "[CV 5/5] END ...max_features=7, n_estimators=95;, score=0.364 total time=   0.2s\n",
      "[CV 1/5] END ....max_features=8, n_estimators=5;, score=0.288 total time=   0.0s\n",
      "[CV 2/5] END ....max_features=8, n_estimators=5;, score=0.055 total time=   0.0s\n",
      "[CV 3/5] END ....max_features=8, n_estimators=5;, score=0.400 total time=   0.0s\n",
      "[CV 4/5] END ....max_features=8, n_estimators=5;, score=0.418 total time=   0.0s\n",
      "[CV 5/5] END ....max_features=8, n_estimators=5;, score=0.195 total time=   0.0s\n",
      "[CV 1/5] END ...max_features=8, n_estimators=10;, score=0.482 total time=   0.0s\n",
      "[CV 2/5] END ...max_features=8, n_estimators=10;, score=0.027 total time=   0.0s\n",
      "[CV 3/5] END ...max_features=8, n_estimators=10;, score=0.470 total time=   0.0s\n",
      "[CV 4/5] END ...max_features=8, n_estimators=10;, score=0.476 total time=   0.0s\n",
      "[CV 5/5] END ...max_features=8, n_estimators=10;, score=0.263 total time=   0.0s\n",
      "[CV 1/5] END ...max_features=8, n_estimators=15;, score=0.429 total time=   0.0s\n",
      "[CV 2/5] END ...max_features=8, n_estimators=15;, score=0.084 total time=   0.0s\n",
      "[CV 3/5] END ...max_features=8, n_estimators=15;, score=0.406 total time=   0.0s\n",
      "[CV 4/5] END ...max_features=8, n_estimators=15;, score=0.538 total time=   0.0s\n",
      "[CV 5/5] END ...max_features=8, n_estimators=15;, score=0.251 total time=   0.0s\n",
      "[CV 1/5] END ...max_features=8, n_estimators=20;, score=0.425 total time=   0.0s\n",
      "[CV 2/5] END ...max_features=8, n_estimators=20;, score=0.073 total time=   0.0s\n",
      "[CV 3/5] END ...max_features=8, n_estimators=20;, score=0.462 total time=   0.0s\n",
      "[CV 4/5] END ...max_features=8, n_estimators=20;, score=0.510 total time=   0.0s\n",
      "[CV 5/5] END ...max_features=8, n_estimators=20;, score=0.328 total time=   0.0s\n",
      "[CV 1/5] END ...max_features=8, n_estimators=25;, score=0.432 total time=   0.0s\n",
      "[CV 2/5] END ...max_features=8, n_estimators=25;, score=0.201 total time=   0.0s\n",
      "[CV 3/5] END ...max_features=8, n_estimators=25;, score=0.417 total time=   0.0s\n",
      "[CV 4/5] END ...max_features=8, n_estimators=25;, score=0.582 total time=   0.0s\n",
      "[CV 5/5] END ...max_features=8, n_estimators=25;, score=0.329 total time=   0.0s\n",
      "[CV 1/5] END ...max_features=8, n_estimators=30;, score=0.468 total time=   0.0s\n",
      "[CV 2/5] END ...max_features=8, n_estimators=30;, score=0.169 total time=   0.0s\n",
      "[CV 3/5] END ...max_features=8, n_estimators=30;, score=0.455 total time=   0.0s\n",
      "[CV 4/5] END ...max_features=8, n_estimators=30;, score=0.575 total time=   0.0s\n",
      "[CV 5/5] END ...max_features=8, n_estimators=30;, score=0.337 total time=   0.0s\n",
      "[CV 1/5] END ...max_features=8, n_estimators=35;, score=0.475 total time=   0.0s\n",
      "[CV 2/5] END ...max_features=8, n_estimators=35;, score=0.142 total time=   0.0s\n",
      "[CV 3/5] END ...max_features=8, n_estimators=35;, score=0.495 total time=   0.0s\n",
      "[CV 4/5] END ...max_features=8, n_estimators=35;, score=0.536 total time=   0.0s\n",
      "[CV 5/5] END ...max_features=8, n_estimators=35;, score=0.359 total time=   0.1s\n",
      "[CV 1/5] END ...max_features=8, n_estimators=40;, score=0.466 total time=   0.1s\n",
      "[CV 2/5] END ...max_features=8, n_estimators=40;, score=0.133 total time=   0.0s\n",
      "[CV 3/5] END ...max_features=8, n_estimators=40;, score=0.469 total time=   0.0s\n",
      "[CV 4/5] END ...max_features=8, n_estimators=40;, score=0.551 total time=   0.1s\n",
      "[CV 5/5] END ...max_features=8, n_estimators=40;, score=0.319 total time=   0.0s\n",
      "[CV 1/5] END ...max_features=8, n_estimators=45;, score=0.480 total time=   0.1s\n",
      "[CV 2/5] END ...max_features=8, n_estimators=45;, score=0.113 total time=   0.1s\n",
      "[CV 3/5] END ...max_features=8, n_estimators=45;, score=0.468 total time=   0.1s\n",
      "[CV 4/5] END ...max_features=8, n_estimators=45;, score=0.559 total time=   0.1s\n",
      "[CV 5/5] END ...max_features=8, n_estimators=45;, score=0.345 total time=   0.1s\n",
      "[CV 1/5] END ...max_features=8, n_estimators=50;, score=0.452 total time=   0.1s\n",
      "[CV 2/5] END ...max_features=8, n_estimators=50;, score=0.081 total time=   0.1s\n",
      "[CV 3/5] END ...max_features=8, n_estimators=50;, score=0.500 total time=   0.1s\n",
      "[CV 4/5] END ...max_features=8, n_estimators=50;, score=0.512 total time=   0.0s\n",
      "[CV 5/5] END ...max_features=8, n_estimators=50;, score=0.325 total time=   0.0s\n",
      "[CV 1/5] END ...max_features=8, n_estimators=55;, score=0.481 total time=   0.1s\n",
      "[CV 2/5] END ...max_features=8, n_estimators=55;, score=0.159 total time=   0.1s\n",
      "[CV 3/5] END ...max_features=8, n_estimators=55;, score=0.484 total time=   0.1s\n"
     ]
    },
    {
     "name": "stdout",
     "output_type": "stream",
     "text": [
      "[CV 4/5] END ...max_features=8, n_estimators=55;, score=0.551 total time=   0.1s\n",
      "[CV 5/5] END ...max_features=8, n_estimators=55;, score=0.373 total time=   0.0s\n",
      "[CV 1/5] END ...max_features=8, n_estimators=60;, score=0.443 total time=   0.1s\n",
      "[CV 2/5] END ...max_features=8, n_estimators=60;, score=0.141 total time=   0.1s\n",
      "[CV 3/5] END ...max_features=8, n_estimators=60;, score=0.458 total time=   0.1s\n",
      "[CV 4/5] END ...max_features=8, n_estimators=60;, score=0.540 total time=   0.0s\n",
      "[CV 5/5] END ...max_features=8, n_estimators=60;, score=0.365 total time=   0.1s\n",
      "[CV 1/5] END ...max_features=8, n_estimators=65;, score=0.453 total time=   0.1s\n",
      "[CV 2/5] END ...max_features=8, n_estimators=65;, score=0.128 total time=   0.1s\n",
      "[CV 3/5] END ...max_features=8, n_estimators=65;, score=0.481 total time=   0.1s\n",
      "[CV 4/5] END ...max_features=8, n_estimators=65;, score=0.563 total time=   0.1s\n",
      "[CV 5/5] END ...max_features=8, n_estimators=65;, score=0.341 total time=   0.2s\n",
      "[CV 1/5] END ...max_features=8, n_estimators=70;, score=0.453 total time=   0.1s\n",
      "[CV 2/5] END ...max_features=8, n_estimators=70;, score=0.145 total time=   0.2s\n",
      "[CV 3/5] END ...max_features=8, n_estimators=70;, score=0.489 total time=   0.1s\n",
      "[CV 4/5] END ...max_features=8, n_estimators=70;, score=0.571 total time=   0.2s\n",
      "[CV 5/5] END ...max_features=8, n_estimators=70;, score=0.380 total time=   0.1s\n",
      "[CV 1/5] END ...max_features=8, n_estimators=75;, score=0.430 total time=   0.1s\n",
      "[CV 2/5] END ...max_features=8, n_estimators=75;, score=0.125 total time=   0.1s\n",
      "[CV 3/5] END ...max_features=8, n_estimators=75;, score=0.461 total time=   0.1s\n",
      "[CV 4/5] END ...max_features=8, n_estimators=75;, score=0.570 total time=   0.1s\n",
      "[CV 5/5] END ...max_features=8, n_estimators=75;, score=0.297 total time=   0.1s\n",
      "[CV 1/5] END ...max_features=8, n_estimators=80;, score=0.463 total time=   0.2s\n",
      "[CV 2/5] END ...max_features=8, n_estimators=80;, score=0.145 total time=   0.2s\n",
      "[CV 3/5] END ...max_features=8, n_estimators=80;, score=0.501 total time=   0.1s\n",
      "[CV 4/5] END ...max_features=8, n_estimators=80;, score=0.570 total time=   0.2s\n",
      "[CV 5/5] END ...max_features=8, n_estimators=80;, score=0.356 total time=   0.2s\n",
      "[CV 1/5] END ...max_features=8, n_estimators=85;, score=0.495 total time=   0.1s\n",
      "[CV 2/5] END ...max_features=8, n_estimators=85;, score=0.149 total time=   0.1s\n",
      "[CV 3/5] END ...max_features=8, n_estimators=85;, score=0.480 total time=   0.2s\n",
      "[CV 4/5] END ...max_features=8, n_estimators=85;, score=0.569 total time=   0.1s\n",
      "[CV 5/5] END ...max_features=8, n_estimators=85;, score=0.353 total time=   0.2s\n",
      "[CV 1/5] END ...max_features=8, n_estimators=90;, score=0.465 total time=   0.3s\n",
      "[CV 2/5] END ...max_features=8, n_estimators=90;, score=0.149 total time=   0.3s\n",
      "[CV 3/5] END ...max_features=8, n_estimators=90;, score=0.488 total time=   0.2s\n",
      "[CV 4/5] END ...max_features=8, n_estimators=90;, score=0.579 total time=   0.3s\n",
      "[CV 5/5] END ...max_features=8, n_estimators=90;, score=0.344 total time=   0.3s\n",
      "[CV 1/5] END ...max_features=8, n_estimators=95;, score=0.479 total time=   0.3s\n",
      "[CV 2/5] END ...max_features=8, n_estimators=95;, score=0.112 total time=   0.3s\n",
      "[CV 3/5] END ...max_features=8, n_estimators=95;, score=0.504 total time=   0.2s\n",
      "[CV 4/5] END ...max_features=8, n_estimators=95;, score=0.565 total time=   0.3s\n",
      "[CV 5/5] END ...max_features=8, n_estimators=95;, score=0.352 total time=   0.3s\n",
      "[CV 1/5] END ....max_features=9, n_estimators=5;, score=0.512 total time=   0.0s\n",
      "[CV 2/5] END ....max_features=9, n_estimators=5;, score=0.050 total time=   0.0s\n",
      "[CV 3/5] END ....max_features=9, n_estimators=5;, score=0.423 total time=   0.0s\n",
      "[CV 4/5] END ....max_features=9, n_estimators=5;, score=0.362 total time=   0.0s\n",
      "[CV 5/5] END ....max_features=9, n_estimators=5;, score=0.226 total time=   0.0s\n",
      "[CV 1/5] END ...max_features=9, n_estimators=10;, score=0.395 total time=   0.0s\n",
      "[CV 2/5] END ...max_features=9, n_estimators=10;, score=0.064 total time=   0.0s\n",
      "[CV 3/5] END ...max_features=9, n_estimators=10;, score=0.342 total time=   0.0s\n",
      "[CV 4/5] END ...max_features=9, n_estimators=10;, score=0.511 total time=   0.0s\n",
      "[CV 5/5] END ...max_features=9, n_estimators=10;, score=0.270 total time=   0.0s\n",
      "[CV 1/5] END ...max_features=9, n_estimators=15;, score=0.454 total time=   0.0s\n",
      "[CV 2/5] END ...max_features=9, n_estimators=15;, score=0.070 total time=   0.0s\n",
      "[CV 3/5] END ...max_features=9, n_estimators=15;, score=0.428 total time=   0.0s\n",
      "[CV 4/5] END ...max_features=9, n_estimators=15;, score=0.516 total time=   0.0s\n",
      "[CV 5/5] END ...max_features=9, n_estimators=15;, score=0.275 total time=   0.0s\n",
      "[CV 1/5] END ...max_features=9, n_estimators=20;, score=0.448 total time=   0.0s\n",
      "[CV 2/5] END ...max_features=9, n_estimators=20;, score=0.125 total time=   0.0s\n",
      "[CV 3/5] END ...max_features=9, n_estimators=20;, score=0.453 total time=   0.0s\n",
      "[CV 4/5] END ...max_features=9, n_estimators=20;, score=0.548 total time=   0.0s\n",
      "[CV 5/5] END ...max_features=9, n_estimators=20;, score=0.320 total time=   0.0s\n",
      "[CV 1/5] END ...max_features=9, n_estimators=25;, score=0.400 total time=   0.0s\n",
      "[CV 2/5] END ...max_features=9, n_estimators=25;, score=0.085 total time=   0.0s\n",
      "[CV 3/5] END ...max_features=9, n_estimators=25;, score=0.469 total time=   0.0s\n",
      "[CV 4/5] END ...max_features=9, n_estimators=25;, score=0.558 total time=   0.0s\n",
      "[CV 5/5] END ...max_features=9, n_estimators=25;, score=0.352 total time=   0.0s\n",
      "[CV 1/5] END ...max_features=9, n_estimators=30;, score=0.467 total time=   0.0s\n",
      "[CV 2/5] END ...max_features=9, n_estimators=30;, score=0.116 total time=   0.0s\n",
      "[CV 3/5] END ...max_features=9, n_estimators=30;, score=0.490 total time=   0.0s\n",
      "[CV 4/5] END ...max_features=9, n_estimators=30;, score=0.556 total time=   0.0s\n",
      "[CV 5/5] END ...max_features=9, n_estimators=30;, score=0.347 total time=   0.0s\n",
      "[CV 1/5] END ...max_features=9, n_estimators=35;, score=0.477 total time=   0.0s\n",
      "[CV 2/5] END ...max_features=9, n_estimators=35;, score=0.069 total time=   0.0s\n",
      "[CV 3/5] END ...max_features=9, n_estimators=35;, score=0.451 total time=   0.0s\n",
      "[CV 4/5] END ...max_features=9, n_estimators=35;, score=0.541 total time=   0.0s\n",
      "[CV 5/5] END ...max_features=9, n_estimators=35;, score=0.274 total time=   0.0s\n",
      "[CV 1/5] END ...max_features=9, n_estimators=40;, score=0.476 total time=   0.0s\n",
      "[CV 2/5] END ...max_features=9, n_estimators=40;, score=0.118 total time=   0.0s\n",
      "[CV 3/5] END ...max_features=9, n_estimators=40;, score=0.452 total time=   0.0s\n",
      "[CV 4/5] END ...max_features=9, n_estimators=40;, score=0.538 total time=   0.0s\n",
      "[CV 5/5] END ...max_features=9, n_estimators=40;, score=0.349 total time=   0.0s\n",
      "[CV 1/5] END ...max_features=9, n_estimators=45;, score=0.475 total time=   0.0s\n",
      "[CV 2/5] END ...max_features=9, n_estimators=45;, score=0.140 total time=   0.0s\n",
      "[CV 3/5] END ...max_features=9, n_estimators=45;, score=0.453 total time=   0.1s\n",
      "[CV 4/5] END ...max_features=9, n_estimators=45;, score=0.604 total time=   0.1s\n",
      "[CV 5/5] END ...max_features=9, n_estimators=45;, score=0.364 total time=   0.0s\n",
      "[CV 1/5] END ...max_features=9, n_estimators=50;, score=0.475 total time=   0.0s\n",
      "[CV 2/5] END ...max_features=9, n_estimators=50;, score=0.040 total time=   0.0s\n",
      "[CV 3/5] END ...max_features=9, n_estimators=50;, score=0.504 total time=   0.1s\n",
      "[CV 4/5] END ...max_features=9, n_estimators=50;, score=0.577 total time=   0.0s\n",
      "[CV 5/5] END ...max_features=9, n_estimators=50;, score=0.342 total time=   0.1s\n",
      "[CV 1/5] END ...max_features=9, n_estimators=55;, score=0.461 total time=   0.1s\n",
      "[CV 2/5] END ...max_features=9, n_estimators=55;, score=0.115 total time=   0.1s\n",
      "[CV 3/5] END ...max_features=9, n_estimators=55;, score=0.489 total time=   0.1s\n",
      "[CV 4/5] END ...max_features=9, n_estimators=55;, score=0.551 total time=   0.1s\n",
      "[CV 5/5] END ...max_features=9, n_estimators=55;, score=0.332 total time=   0.1s\n",
      "[CV 1/5] END ...max_features=9, n_estimators=60;, score=0.481 total time=   0.1s\n",
      "[CV 2/5] END ...max_features=9, n_estimators=60;, score=0.111 total time=   0.1s\n",
      "[CV 3/5] END ...max_features=9, n_estimators=60;, score=0.467 total time=   0.1s\n",
      "[CV 4/5] END ...max_features=9, n_estimators=60;, score=0.568 total time=   0.1s\n",
      "[CV 5/5] END ...max_features=9, n_estimators=60;, score=0.326 total time=   0.1s\n"
     ]
    },
    {
     "name": "stdout",
     "output_type": "stream",
     "text": [
      "[CV 1/5] END ...max_features=9, n_estimators=65;, score=0.492 total time=   0.1s\n",
      "[CV 2/5] END ...max_features=9, n_estimators=65;, score=0.113 total time=   0.1s\n",
      "[CV 3/5] END ...max_features=9, n_estimators=65;, score=0.476 total time=   0.1s\n",
      "[CV 4/5] END ...max_features=9, n_estimators=65;, score=0.539 total time=   0.1s\n",
      "[CV 5/5] END ...max_features=9, n_estimators=65;, score=0.362 total time=   0.1s\n",
      "[CV 1/5] END ...max_features=9, n_estimators=70;, score=0.483 total time=   0.1s\n",
      "[CV 2/5] END ...max_features=9, n_estimators=70;, score=0.131 total time=   0.1s\n",
      "[CV 3/5] END ...max_features=9, n_estimators=70;, score=0.489 total time=   0.1s\n",
      "[CV 4/5] END ...max_features=9, n_estimators=70;, score=0.561 total time=   0.2s\n",
      "[CV 5/5] END ...max_features=9, n_estimators=70;, score=0.366 total time=   0.2s\n",
      "[CV 1/5] END ...max_features=9, n_estimators=75;, score=0.478 total time=   0.2s\n",
      "[CV 2/5] END ...max_features=9, n_estimators=75;, score=0.151 total time=   0.2s\n",
      "[CV 3/5] END ...max_features=9, n_estimators=75;, score=0.489 total time=   0.2s\n",
      "[CV 4/5] END ...max_features=9, n_estimators=75;, score=0.574 total time=   0.2s\n",
      "[CV 5/5] END ...max_features=9, n_estimators=75;, score=0.332 total time=   0.1s\n",
      "[CV 1/5] END ...max_features=9, n_estimators=80;, score=0.470 total time=   0.2s\n",
      "[CV 2/5] END ...max_features=9, n_estimators=80;, score=0.133 total time=   0.2s\n",
      "[CV 3/5] END ...max_features=9, n_estimators=80;, score=0.508 total time=   0.2s\n",
      "[CV 4/5] END ...max_features=9, n_estimators=80;, score=0.554 total time=   0.1s\n",
      "[CV 5/5] END ...max_features=9, n_estimators=80;, score=0.306 total time=   0.1s\n",
      "[CV 1/5] END ...max_features=9, n_estimators=85;, score=0.479 total time=   0.3s\n",
      "[CV 2/5] END ...max_features=9, n_estimators=85;, score=0.120 total time=   0.2s\n",
      "[CV 3/5] END ...max_features=9, n_estimators=85;, score=0.462 total time=   0.3s\n",
      "[CV 4/5] END ...max_features=9, n_estimators=85;, score=0.565 total time=   0.2s\n",
      "[CV 5/5] END ...max_features=9, n_estimators=85;, score=0.371 total time=   0.2s\n",
      "[CV 1/5] END ...max_features=9, n_estimators=90;, score=0.494 total time=   0.1s\n",
      "[CV 2/5] END ...max_features=9, n_estimators=90;, score=0.134 total time=   0.2s\n",
      "[CV 3/5] END ...max_features=9, n_estimators=90;, score=0.466 total time=   0.2s\n",
      "[CV 4/5] END ...max_features=9, n_estimators=90;, score=0.551 total time=   0.2s\n",
      "[CV 5/5] END ...max_features=9, n_estimators=90;, score=0.347 total time=   0.2s\n",
      "[CV 1/5] END ...max_features=9, n_estimators=95;, score=0.461 total time=   0.3s\n",
      "[CV 2/5] END ...max_features=9, n_estimators=95;, score=0.095 total time=   0.2s\n",
      "[CV 3/5] END ...max_features=9, n_estimators=95;, score=0.496 total time=   0.3s\n",
      "[CV 4/5] END ...max_features=9, n_estimators=95;, score=0.561 total time=   0.2s\n",
      "[CV 5/5] END ...max_features=9, n_estimators=95;, score=0.359 total time=   0.2s\n"
     ]
    },
    {
     "data": {
      "text/plain": [
       "GridSearchCV(cv=5, estimator=RandomForestRegressor(), n_jobs=1,\n",
       "             param_grid={'max_features': array([1, 2, 3, 4, 5, 6, 7, 8, 9]),\n",
       "                         'n_estimators': array([ 5, 10, 15, 20, 25, 30, 35, 40, 45, 50, 55, 60, 65, 70, 75, 80, 85,\n",
       "       90, 95])},\n",
       "             scoring='r2', verbose=5)"
      ]
     },
     "execution_count": 167,
     "metadata": {},
     "output_type": "execute_result"
    }
   ],
   "source": [
    "gs = GridSearchCV(\n",
    "        estimator=RandomForestRegressor(),\n",
    "        param_grid={\n",
    "            'n_estimators':np.arange(5,100,5),\n",
    "            'max_features':np.arange(1, 10, 1)\n",
    "        },\n",
    "        n_jobs=1,\n",
    "        cv=5,\n",
    "        scoring='r2',\n",
    "        verbose=5\n",
    ")\n",
    "gs.fit(X_train, y_train)"
   ]
  },
  {
   "cell_type": "code",
   "execution_count": 168,
   "metadata": {},
   "outputs": [
    {
     "data": {
      "text/plain": [
       "{'max_features': 3, 'n_estimators': 20}"
      ]
     },
     "execution_count": 168,
     "metadata": {},
     "output_type": "execute_result"
    }
   ],
   "source": [
    "gs.best_params_"
   ]
  },
  {
   "cell_type": "code",
   "execution_count": 169,
   "metadata": {},
   "outputs": [
    {
     "name": "stdout",
     "output_type": "stream",
     "text": [
      "Fitting 5 folds for each of 10 candidates, totalling 50 fits\n",
      "[CV 1/5] END ...max_features=9, n_estimators=45;, score=0.485 total time=   0.1s\n",
      "[CV 2/5] END ...max_features=9, n_estimators=45;, score=0.140 total time=   0.1s\n",
      "[CV 3/5] END ...max_features=9, n_estimators=45;, score=0.444 total time=   0.1s\n",
      "[CV 4/5] END ...max_features=9, n_estimators=45;, score=0.511 total time=   0.1s\n",
      "[CV 5/5] END ...max_features=9, n_estimators=45;, score=0.382 total time=   0.0s\n",
      "[CV 1/5] END ...max_features=2, n_estimators=80;, score=0.425 total time=   0.0s\n",
      "[CV 2/5] END ...max_features=2, n_estimators=80;, score=0.244 total time=   0.1s\n",
      "[CV 3/5] END ...max_features=2, n_estimators=80;, score=0.491 total time=   0.1s\n",
      "[CV 4/5] END ...max_features=2, n_estimators=80;, score=0.515 total time=   0.1s\n",
      "[CV 5/5] END ...max_features=2, n_estimators=80;, score=0.301 total time=   0.1s\n",
      "[CV 1/5] END ...max_features=2, n_estimators=35;, score=0.450 total time=   0.0s\n",
      "[CV 2/5] END ...max_features=2, n_estimators=35;, score=0.177 total time=   0.0s\n",
      "[CV 3/5] END ...max_features=2, n_estimators=35;, score=0.493 total time=   0.0s\n",
      "[CV 4/5] END ...max_features=2, n_estimators=35;, score=0.500 total time=   0.0s\n",
      "[CV 5/5] END ...max_features=2, n_estimators=35;, score=0.224 total time=   0.0s\n",
      "[CV 1/5] END ...max_features=9, n_estimators=65;, score=0.461 total time=   0.1s\n",
      "[CV 2/5] END ...max_features=9, n_estimators=65;, score=0.077 total time=   0.1s\n",
      "[CV 3/5] END ...max_features=9, n_estimators=65;, score=0.493 total time=   0.1s\n",
      "[CV 4/5] END ...max_features=9, n_estimators=65;, score=0.532 total time=   0.2s\n",
      "[CV 5/5] END ...max_features=9, n_estimators=65;, score=0.358 total time=   0.1s\n",
      "[CV 1/5] END ...max_features=5, n_estimators=20;, score=0.462 total time=   0.0s\n",
      "[CV 2/5] END ...max_features=5, n_estimators=20;, score=0.104 total time=   0.0s\n",
      "[CV 3/5] END ...max_features=5, n_estimators=20;, score=0.485 total time=   0.0s\n",
      "[CV 4/5] END ...max_features=5, n_estimators=20;, score=0.548 total time=   0.0s\n",
      "[CV 5/5] END ...max_features=5, n_estimators=20;, score=0.391 total time=   0.0s\n",
      "[CV 1/5] END ...max_features=9, n_estimators=85;, score=0.471 total time=   0.2s\n",
      "[CV 2/5] END ...max_features=9, n_estimators=85;, score=0.141 total time=   0.2s\n",
      "[CV 3/5] END ...max_features=9, n_estimators=85;, score=0.469 total time=   0.2s\n",
      "[CV 4/5] END ...max_features=9, n_estimators=85;, score=0.561 total time=   0.2s\n",
      "[CV 5/5] END ...max_features=9, n_estimators=85;, score=0.327 total time=   0.2s\n",
      "[CV 1/5] END ...max_features=2, n_estimators=20;, score=0.404 total time=   0.0s\n",
      "[CV 2/5] END ...max_features=2, n_estimators=20;, score=0.231 total time=   0.0s\n",
      "[CV 3/5] END ...max_features=2, n_estimators=20;, score=0.500 total time=   0.0s\n",
      "[CV 4/5] END ...max_features=2, n_estimators=20;, score=0.486 total time=   0.0s\n",
      "[CV 5/5] END ...max_features=2, n_estimators=20;, score=0.331 total time=   0.0s\n",
      "[CV 1/5] END ...max_features=2, n_estimators=65;, score=0.424 total time=   0.0s\n",
      "[CV 2/5] END ...max_features=2, n_estimators=65;, score=0.209 total time=   0.1s\n",
      "[CV 3/5] END ...max_features=2, n_estimators=65;, score=0.517 total time=   0.1s\n",
      "[CV 4/5] END ...max_features=2, n_estimators=65;, score=0.508 total time=   0.1s\n",
      "[CV 5/5] END ...max_features=2, n_estimators=65;, score=0.310 total time=   0.0s\n",
      "[CV 1/5] END ...max_features=9, n_estimators=70;, score=0.480 total time=   0.1s\n",
      "[CV 2/5] END ...max_features=9, n_estimators=70;, score=0.126 total time=   0.1s\n",
      "[CV 3/5] END ...max_features=9, n_estimators=70;, score=0.483 total time=   0.2s\n",
      "[CV 4/5] END ...max_features=9, n_estimators=70;, score=0.562 total time=   0.1s\n",
      "[CV 5/5] END ...max_features=9, n_estimators=70;, score=0.343 total time=   0.2s\n",
      "[CV 1/5] END ...max_features=7, n_estimators=40;, score=0.469 total time=   0.0s\n",
      "[CV 2/5] END ...max_features=7, n_estimators=40;, score=0.094 total time=   0.1s\n",
      "[CV 3/5] END ...max_features=7, n_estimators=40;, score=0.447 total time=   0.0s\n",
      "[CV 4/5] END ...max_features=7, n_estimators=40;, score=0.533 total time=   0.0s\n",
      "[CV 5/5] END ...max_features=7, n_estimators=40;, score=0.342 total time=   0.0s\n"
     ]
    },
    {
     "data": {
      "text/plain": [
       "RandomizedSearchCV(cv=5, estimator=RandomForestRegressor(), n_jobs=1,\n",
       "                   param_distributions={'max_features': array([1, 2, 3, 4, 5, 6, 7, 8, 9]),\n",
       "                                        'n_estimators': array([ 5, 10, 15, 20, 25, 30, 35, 40, 45, 50, 55, 60, 65, 70, 75, 80, 85,\n",
       "       90, 95])},\n",
       "                   scoring='r2', verbose=5)"
      ]
     },
     "execution_count": 169,
     "metadata": {},
     "output_type": "execute_result"
    }
   ],
   "source": [
    "rs = RandomizedSearchCV(\n",
    "        estimator=RandomForestRegressor(),\n",
    "        param_distributions={\n",
    "            'n_estimators':np.arange(5,100,5),\n",
    "            'max_features':np.arange(1, 10, 1)\n",
    "        },\n",
    "        n_jobs=1,\n",
    "        cv=5,\n",
    "        scoring='r2',\n",
    "        verbose=5\n",
    ")\n",
    "rs.fit(X_train, y_train)"
   ]
  },
  {
   "cell_type": "code",
   "execution_count": 170,
   "metadata": {},
   "outputs": [
    {
     "data": {
      "text/plain": [
       "{'n_estimators': 70, 'max_features': 9}"
      ]
     },
     "execution_count": 170,
     "metadata": {},
     "output_type": "execute_result"
    }
   ],
   "source": [
    "rs.best_params_"
   ]
  },
  {
   "cell_type": "markdown",
   "metadata": {},
   "source": [
    "### Learning Curve"
   ]
  },
  {
   "cell_type": "code",
   "execution_count": 171,
   "metadata": {},
   "outputs": [
    {
     "name": "stdout",
     "output_type": "stream",
     "text": [
      "<class 'pandas.core.frame.DataFrame'>\n",
      "RangeIndex: 9568 entries, 0 to 9567\n",
      "Data columns (total 5 columns):\n",
      " #   Column  Non-Null Count  Dtype  \n",
      "---  ------  --------------  -----  \n",
      " 0   AT      9568 non-null   float64\n",
      " 1   V       9568 non-null   float64\n",
      " 2   AP      9568 non-null   float64\n",
      " 3   RH      9568 non-null   float64\n",
      " 4   PE      9568 non-null   float64\n",
      "dtypes: float64(5)\n",
      "memory usage: 373.9 KB\n",
      "None\n"
     ]
    },
    {
     "data": {
      "text/html": [
       "<div>\n",
       "<style scoped>\n",
       "    .dataframe tbody tr th:only-of-type {\n",
       "        vertical-align: middle;\n",
       "    }\n",
       "\n",
       "    .dataframe tbody tr th {\n",
       "        vertical-align: top;\n",
       "    }\n",
       "\n",
       "    .dataframe thead th {\n",
       "        text-align: right;\n",
       "    }\n",
       "</style>\n",
       "<table border=\"1\" class=\"dataframe\">\n",
       "  <thead>\n",
       "    <tr style=\"text-align: right;\">\n",
       "      <th></th>\n",
       "      <th>AT</th>\n",
       "      <th>V</th>\n",
       "      <th>AP</th>\n",
       "      <th>RH</th>\n",
       "      <th>PE</th>\n",
       "    </tr>\n",
       "  </thead>\n",
       "  <tbody>\n",
       "    <tr>\n",
       "      <th>0</th>\n",
       "      <td>14.96</td>\n",
       "      <td>41.76</td>\n",
       "      <td>1024.07</td>\n",
       "      <td>73.17</td>\n",
       "      <td>463.26</td>\n",
       "    </tr>\n",
       "    <tr>\n",
       "      <th>1</th>\n",
       "      <td>25.18</td>\n",
       "      <td>62.96</td>\n",
       "      <td>1020.04</td>\n",
       "      <td>59.08</td>\n",
       "      <td>444.37</td>\n",
       "    </tr>\n",
       "    <tr>\n",
       "      <th>2</th>\n",
       "      <td>5.11</td>\n",
       "      <td>39.40</td>\n",
       "      <td>1012.16</td>\n",
       "      <td>92.14</td>\n",
       "      <td>488.56</td>\n",
       "    </tr>\n",
       "  </tbody>\n",
       "</table>\n",
       "</div>"
      ],
      "text/plain": [
       "      AT      V       AP     RH      PE\n",
       "0  14.96  41.76  1024.07  73.17  463.26\n",
       "1  25.18  62.96  1020.04  59.08  444.37\n",
       "2   5.11  39.40  1012.16  92.14  488.56"
      ]
     },
     "execution_count": 171,
     "metadata": {},
     "output_type": "execute_result"
    }
   ],
   "source": [
    "import pandas as pd\n",
    "electricity = pd.read_csv(r'C:\\Users\\Purushotham\\Desktop\\deloitte\\machinelearning\\datasets\\electricity.csv')\n",
    "print(electricity.info())\n",
    "electricity.head(3)"
   ]
  },
  {
   "cell_type": "code",
   "execution_count": 172,
   "metadata": {},
   "outputs": [
    {
     "data": {
      "text/plain": [
       "(9568, 5)"
      ]
     },
     "execution_count": 172,
     "metadata": {},
     "output_type": "execute_result"
    }
   ],
   "source": [
    "electricity.shape"
   ]
  },
  {
   "cell_type": "code",
   "execution_count": 173,
   "metadata": {},
   "outputs": [],
   "source": [
    "train_sizes = [1, 100, 500, 2000, 5000, 7654]"
   ]
  },
  {
   "cell_type": "code",
   "execution_count": 174,
   "metadata": {},
   "outputs": [],
   "source": [
    "from sklearn.linear_model import LinearRegression\n",
    "from sklearn.model_selection import learning_curve\n",
    "features = ['AT', 'V', 'AP', 'RH']\n",
    "target = 'PE'\n",
    "train_sizes, train_scores, validation_scores = learning_curve(\n",
    "                                                                estimator = LinearRegression(),\n",
    "                                                                X = electricity[features],\n",
    "                                                                y = electricity[target], train_sizes = train_sizes, cv = 5,\n",
    "                                                                scoring = 'neg_mean_squared_error'\n",
    ")"
   ]
  },
  {
   "cell_type": "code",
   "execution_count": 175,
   "metadata": {},
   "outputs": [
    {
     "name": "stdout",
     "output_type": "stream",
     "text": [
      "Training scores:\n",
      "\n",
      " [[ -0.          -0.          -0.          -0.          -0.        ]\n",
      " [-19.71230701 -18.31492642 -18.31492642 -18.31492642 -18.31492642]\n",
      " [-18.14420459 -19.63885072 -19.63885072 -19.63885072 -19.63885072]\n",
      " [-21.53603444 -20.18568787 -19.98317419 -19.98317419 -19.98317419]\n",
      " [-20.47708899 -19.93364211 -20.56091569 -20.4150839  -20.4150839 ]\n",
      " [-20.98565335 -20.63006094 -21.04384703 -20.63526811 -20.52955609]]\n",
      "\n",
      " ----------------------------------------------------------------------\n",
      "\n",
      "Validation scores:\n",
      "\n",
      " [[-619.30514723 -379.81090366 -374.4107861  -370.03037109 -373.30597982]\n",
      " [ -21.80224219  -23.01103419  -20.81350389  -22.88459236  -23.44955492]\n",
      " [ -19.96005238  -21.2771561   -19.75136596  -21.4325615   -21.89067652]\n",
      " [ -19.92863783  -21.35440062  -19.62974239  -21.38631648  -21.811031  ]\n",
      " [ -19.88806264  -21.3183303   -19.68228562  -21.35019525  -21.75949097]\n",
      " [ -19.9046791   -21.33448781  -19.67831137  -21.31935146  -21.73778949]]\n"
     ]
    }
   ],
   "source": [
    "print('Training scores:\\n\\n', train_scores)\n",
    "print('\\n', '-' * 70) # separator to make the output easy to read\n",
    "print('\\nValidation scores:\\n\\n', validation_scores)"
   ]
  },
  {
   "cell_type": "code",
   "execution_count": 177,
   "metadata": {},
   "outputs": [],
   "source": [
    "train_scores_mean = -train_scores.mean(axis = 1)\n",
    "validation_scores_mean = -validation_scores.mean(axis = 1)"
   ]
  },
  {
   "cell_type": "code",
   "execution_count": 178,
   "metadata": {},
   "outputs": [
    {
     "data": {
      "text/plain": [
       "(0, 40)"
      ]
     },
     "execution_count": 178,
     "metadata": {},
     "output_type": "execute_result"
    },
    {
     "data": {
      "image/png": "[encoded data removed]",
      "text/plain": [
       "<Figure size 576x396 with 1 Axes>"
      ]
     },
     "metadata": {},
     "output_type": "display_data"
    }
   ],
   "source": [
    "import matplotlib.pyplot as plt\n",
    "\n",
    "plt.style.use('seaborn')\n",
    "plt.plot(train_sizes, train_scores_mean, label = 'Training error')\n",
    "plt.plot(train_sizes, validation_scores_mean, label = 'Validation error')\n",
    "plt.ylabel('MSE', fontsize = 14)\n",
    "plt.xlabel('Training set size', fontsize = 14)\n",
    "plt.title('Learning curves for a linear regression model', fontsize = 18, y = 1.03)\n",
    "plt.legend()\n",
    "plt.ylim(0,40)"
   ]
  },
  {
   "cell_type": "code",
   "execution_count": 179,
   "metadata": {},
   "outputs": [],
   "source": [
    "### Bundling our previous work into a function ###\n",
    "def learning_curves(estimator, data, features, target, train_sizes, cv):\n",
    "    train_sizes, train_scores, validation_scores = learning_curve(\n",
    "    estimator, data[features], data[target], train_sizes =\n",
    "    train_sizes,\n",
    "    cv = cv, scoring = 'neg_mean_squared_error')\n",
    "    train_scores_mean = -train_scores.mean(axis = 1)\n",
    "    validation_scores_mean = -validation_scores.mean(axis = 1)\n",
    "\n",
    "    plt.plot(train_sizes, train_scores_mean, label = 'Training error')\n",
    "    plt.plot(train_sizes, validation_scores_mean, label = 'Validation error')\n",
    "\n",
    "    plt.ylabel('MSE', fontsize = 14)\n",
    "    plt.xlabel('Training set size', fontsize = 14)\n",
    "    title = 'Learning curves for a ' + str(estimator).split('(')[0] + ' model'\n",
    "    plt.title(title, fontsize = 18, y = 1.03)\n",
    "    plt.legend()\n",
    "    plt.ylim(0,40)"
   ]
  },
  {
   "cell_type": "code",
   "execution_count": 180,
   "metadata": {},
   "outputs": [
    {
     "data": {
      "image/png": "[encoded data removed]",
      "text/plain": [
       "<Figure size 1152x360 with 2 Axes>"
      ]
     },
     "metadata": {},
     "output_type": "display_data"
    }
   ],
   "source": [
    "from sklearn.ensemble import RandomForestRegressor\n",
    "\n",
    "plt.figure(figsize = (16,5))\n",
    "\n",
    "for model, i in [(RandomForestRegressor(), 1), (LinearRegression(),2)]:\n",
    "    plt.subplot(1,2,i)\n",
    "    learning_curves(model, electricity, features, target, train_sizes, 5)"
   ]
  },
  {
   "cell_type": "code",
   "execution_count": null,
   "metadata": {},
   "outputs": [],
   "source": []
  }
 ],
 "metadata": {
  "kernelspec": {
   "display_name": "Python 3",
   "language": "python",
   "name": "python3"
  },
  "language_info": {
   "codemirror_mode": {
    "name": "ipython",
    "version": 3
   },
   "file_extension": ".py",
   "mimetype": "text/x-python",
   "name": "python",
   "nbconvert_exporter": "python",
   "pygments_lexer": "ipython3",
   "version": "3.7.3"
  }
 },
 "nbformat": 4,
 "nbformat_minor": 2
}
