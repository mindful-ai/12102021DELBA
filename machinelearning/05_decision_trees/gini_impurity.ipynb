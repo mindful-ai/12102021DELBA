{
 "cells": [
  {
   "cell_type": "code",
   "execution_count": 1,
   "metadata": {},
   "outputs": [],
   "source": [
    "# Import libraries\n",
    "import numpy as np\n",
    "import pandas as pd\n",
    "import os\n",
    "import matplotlib.pyplot as plt"
   ]
  },
  {
   "cell_type": "markdown",
   "metadata": {},
   "source": [
    "### Visualizing Gini Impurity Range"
   ]
  },
  {
   "cell_type": "markdown",
   "metadata": {},
   "source": [
    "For a two class problem, Graph of impurity measures as a function of probability of the first class"
   ]
  },
  {
   "cell_type": "code",
   "execution_count": 2,
   "metadata": {},
   "outputs": [
    {
     "data": {
      "image/png": "[encoded data removed]",
      "text/plain": [
       "<Figure size 432x288 with 1 Axes>"
      ]
     },
     "metadata": {
      "needs_background": "light"
     },
     "output_type": "display_data"
    }
   ],
   "source": [
    "#A figure is created to show Gini ımpurity measures \n",
    "plt.figure()\n",
    "x = np.linspace(0.01,1)\n",
    "y = 1 - (x*x) - (1-x)*(1-x) \n",
    "plt.plot(x,y)\n",
    "plt.title('Gini Impurity')\n",
    "plt.xlabel(\"Fraction of Class k ($p_k$)\")\n",
    "plt.ylabel(\"Impurity Measure\")\n",
    "plt.xticks(np.arange(0,1.1,0.1))\n",
    "\n",
    "plt.show()"
   ]
  },
  {
   "cell_type": "markdown",
   "metadata": {},
   "source": [
    "This figure shows that Gini impurity is maximum for the 50-50 sample ( p1 = 0.5 ) and minimum for the homogeneous sample ( p1 = 0 or p1 = 1)"
   ]
  },
  {
   "cell_type": "markdown",
   "metadata": {},
   "source": [
    "### Computation of Gini Impurity for a simple dataset"
   ]
  },
  {
   "cell_type": "code",
   "execution_count": 3,
   "metadata": {},
   "outputs": [
    {
     "name": "stdout",
     "output_type": "stream",
     "text": [
      "           age  income student credit_rate default\n",
      "0        youth    high      no        fair      no\n",
      "1        youth    high      no   excellent      no\n",
      "2   middle_age    high      no        fair     yes\n",
      "3       senior  medium      no        fair     yes\n",
      "4       senior     low     yes        fair     yes\n",
      "5       senior     low     yes   excellent      no\n",
      "6   middle_age     low     yes   excellent     yes\n",
      "7        youth  medium      no        fair      no\n",
      "8        youth     low     yes        fair     yes\n",
      "9       senior  medium     yes        fair     yes\n",
      "10       youth  medium     yes   excellent     yes\n",
      "11  middle_age  medium      no   excellent     yes\n",
      "12  middle_age    high     yes        fair     yes\n",
      "13      senior  medium      no   excellent      no\n"
     ]
    }
   ],
   "source": [
    "# Defining a simple dataset\n",
    "attribute_names =  ['age', 'income','student', 'credit_rate']\n",
    "class_name = 'default'\n",
    "data1 ={\n",
    "    'age' : ['youth', 'youth', 'middle_age', 'senior', 'senior', 'senior','middle_age', 'youth', 'youth', 'senior', 'youth', 'middle_age','middle_age', 'senior'],\n",
    "    'income' : ['high', 'high', 'high', 'medium', 'low', 'low', 'low', 'medium','low', 'medium', 'medium', 'medium', 'high', 'medium'],\n",
    "    'student' : ['no','no','no','no','yes','yes','yes','no','yes','yes','yes','no','yes','no'],\n",
    "    'credit_rate' : ['fair', 'excellent', 'fair', 'fair', 'fair', 'excellent', 'excellent', 'fair', 'fair', 'fair','excellent', 'excellent', 'fair', 'excellent'],\n",
    "    'default' : ['no', 'no', 'yes', 'yes', 'yes', 'no', 'yes', 'no', 'yes', 'yes','yes', 'yes', 'yes', 'no']\n",
    "}\n",
    "df1 = pd.DataFrame (data1, columns=data1.keys())\n",
    "print(df1)"
   ]
  },
  {
   "cell_type": "code",
   "execution_count": 4,
   "metadata": {},
   "outputs": [
    {
     "name": "stdout",
     "output_type": "stream",
     "text": [
      "Number of samples in each class is:\n",
      "yes    9\n",
      "no     5\n",
      "Name: default, dtype: int64\n",
      "\n",
      "Gini Impurity of the class is 0.459\n"
     ]
    }
   ],
   "source": [
    "# STEP 1: Calculate gini(D)\n",
    "def gini_impurity (value_counts):\n",
    "    n = value_counts.sum()\n",
    "    p_sum = 0\n",
    "    for key in value_counts.keys():\n",
    "        p_sum = p_sum  +  (value_counts[key] / n ) * (value_counts[key] / n ) \n",
    "    gini = 1 - p_sum\n",
    "    return gini\n",
    "\n",
    "class_value_counts = df1[class_name].value_counts()\n",
    "print(f'Number of samples in each class is:\\n{class_value_counts}')\n",
    "\n",
    "gini_class = gini_impurity(class_value_counts)\n",
    "print(f'\\nGini Impurity of the class is {gini_class:.3f}')"
   ]
  },
  {
   "cell_type": "code",
   "execution_count": 5,
   "metadata": {},
   "outputs": [
    {
     "name": "stdout",
     "output_type": "stream",
     "text": [
      "Gini for age is 0.343\n",
      "Gini for income is 0.440\n",
      "Gini for student is 0.367\n",
      "Gini for credit_rate is 0.429\n"
     ]
    }
   ],
   "source": [
    "# STEP 2: \n",
    "# Calculating  gini impurity for the attiributes\n",
    "def gini_split_a(attribute_name):\n",
    "    attribute_values = df1[attribute_name].value_counts()\n",
    "    gini_A = 0 \n",
    "    for key in attribute_values.keys():\n",
    "        df_k = df1[class_name][df1[attribute_name] == key].value_counts()\n",
    "        n_k = attribute_values[key]\n",
    "        n = df1.shape[0]\n",
    "        gini_A = gini_A + (( n_k / n) * gini_impurity(df_k))\n",
    "    return gini_A\n",
    "\n",
    "gini_attiribute ={}\n",
    "for key in attribute_names:\n",
    "    gini_attiribute[key] = gini_split_a(key)\n",
    "    print(f'Gini for {key} is {gini_attiribute[key]:.3f}')"
   ]
  },
  {
   "cell_type": "code",
   "execution_count": 6,
   "metadata": {},
   "outputs": [
    {
     "name": "stdout",
     "output_type": "stream",
     "text": [
      "The minimum value of Gini Impurity : 0.343 \n",
      "The maximum value of Gini Gain     : 0.657 \n",
      "The selected attiribute is:  age\n"
     ]
    }
   ],
   "source": [
    "# STEP 3: \n",
    "# Compute Gini gain values to find the best split\n",
    "# An attribute has maximum Gini gain is selected for splitting.\n",
    "\n",
    "min_value = min(gini_attiribute.values())\n",
    "print('The minimum value of Gini Impurity : {0:.3} '.format(min_value))\n",
    "print('The maximum value of Gini Gain     : {0:.3} '.format(1-min_value))\n",
    "\n",
    "selected_attribute = min(gini_attiribute.keys())\n",
    "print('The selected attiribute is: ', selected_attribute)"
   ]
  },
  {
   "cell_type": "code",
   "execution_count": null,
   "metadata": {},
   "outputs": [],
   "source": []
  }
 ],
 "metadata": {
  "kernelspec": {
   "display_name": "Python 3",
   "language": "python",
   "name": "python3"
  },
  "language_info": {
   "codemirror_mode": {
    "name": "ipython",
    "version": 3
   },
   "file_extension": ".py",
   "mimetype": "text/x-python",
   "name": "python",
   "nbconvert_exporter": "python",
   "pygments_lexer": "ipython3",
   "version": "3.7.3"
  }
 },
 "nbformat": 4,
 "nbformat_minor": 2
}
