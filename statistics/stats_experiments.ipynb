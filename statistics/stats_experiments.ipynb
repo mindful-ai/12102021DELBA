{
 "cells": [
  {
   "cell_type": "code",
   "execution_count": 1,
   "metadata": {},
   "outputs": [
    {
     "data": {
      "text/plain": [
       "[54, 100, 44, 35, 43, 45, 53, 7, 92, 92, 36, 2, 74, 8, 36, 81, 5, 96, 67, 25]"
      ]
     },
     "execution_count": 1,
     "metadata": {},
     "output_type": "execute_result"
    }
   ],
   "source": [
    "import random\n",
    "N = [random.randint(1, 100) for i in range(20)]\n",
    "N"
   ]
  },
  {
   "cell_type": "markdown",
   "metadata": {},
   "source": [
    "### Building a frequency table"
   ]
  },
  {
   "cell_type": "code",
   "execution_count": 2,
   "metadata": {},
   "outputs": [
    {
     "data": {
      "text/plain": [
       "{54: 1,\n",
       " 100: 1,\n",
       " 44: 1,\n",
       " 35: 1,\n",
       " 43: 1,\n",
       " 45: 1,\n",
       " 53: 1,\n",
       " 7: 1,\n",
       " 92: 2,\n",
       " 36: 2,\n",
       " 2: 1,\n",
       " 74: 1,\n",
       " 8: 1,\n",
       " 81: 1,\n",
       " 5: 1,\n",
       " 96: 1,\n",
       " 67: 1,\n",
       " 25: 1}"
      ]
     },
     "execution_count": 2,
     "metadata": {},
     "output_type": "execute_result"
    }
   ],
   "source": [
    "D = {}\n",
    "for n in N:\n",
    "    if n in D.keys():\n",
    "        D[n] = D[n] + 1\n",
    "    else:\n",
    "        D[n] = 1\n",
    "D"
   ]
  },
  {
   "cell_type": "code",
   "execution_count": 4,
   "metadata": {},
   "outputs": [],
   "source": [
    "from collections import Counter"
   ]
  },
  {
   "cell_type": "code",
   "execution_count": 7,
   "metadata": {},
   "outputs": [
    {
     "data": {
      "text/plain": [
       "Counter({54: 3,\n",
       "         100: 2,\n",
       "         44: 1,\n",
       "         35: 1,\n",
       "         43: 1,\n",
       "         45: 1,\n",
       "         53: 1,\n",
       "         7: 1,\n",
       "         92: 2,\n",
       "         36: 2,\n",
       "         2: 1,\n",
       "         74: 1,\n",
       "         8: 1,\n",
       "         81: 1,\n",
       "         5: 1,\n",
       "         96: 1,\n",
       "         67: 1,\n",
       "         25: 1})"
      ]
     },
     "execution_count": 7,
     "metadata": {},
     "output_type": "execute_result"
    }
   ],
   "source": [
    "z = Counter(N)\n",
    "z"
   ]
  },
  {
   "cell_type": "code",
   "execution_count": 6,
   "metadata": {},
   "outputs": [],
   "source": [
    "N.append(100)\n",
    "N.append(54)\n",
    "N.append(54)"
   ]
  },
  {
   "cell_type": "markdown",
   "metadata": {},
   "source": [
    "### Descriptive Statistics"
   ]
  },
  {
   "cell_type": "code",
   "execution_count": 8,
   "metadata": {},
   "outputs": [
    {
     "data": {
      "text/plain": [
       "[39,\n",
       " 3,\n",
       " 55,\n",
       " 10,\n",
       " 70,\n",
       " 10,\n",
       " 51,\n",
       " 25,\n",
       " 94,\n",
       " 2,\n",
       " 70,\n",
       " 97,\n",
       " 37,\n",
       " 58,\n",
       " 3,\n",
       " 22,\n",
       " 59,\n",
       " 49,\n",
       " 12,\n",
       " 27,\n",
       " 55,\n",
       " 1,\n",
       " 76,\n",
       " 2,\n",
       " 93,\n",
       " 52,\n",
       " 100,\n",
       " 34,\n",
       " 16,\n",
       " 95,\n",
       " 4,\n",
       " 39,\n",
       " 89,\n",
       " 92,\n",
       " 81,\n",
       " 26,\n",
       " 85,\n",
       " 56,\n",
       " 95,\n",
       " 87,\n",
       " 17,\n",
       " 82,\n",
       " 20,\n",
       " 53,\n",
       " 85,\n",
       " 24,\n",
       " 40,\n",
       " 83,\n",
       " 75,\n",
       " 17,\n",
       " 23,\n",
       " 36,\n",
       " 41,\n",
       " 29,\n",
       " 6,\n",
       " 15,\n",
       " 97,\n",
       " 20,\n",
       " 6,\n",
       " 9,\n",
       " 69,\n",
       " 98,\n",
       " 97,\n",
       " 12,\n",
       " 38,\n",
       " 42,\n",
       " 62,\n",
       " 4,\n",
       " 86,\n",
       " 95,\n",
       " 88,\n",
       " 20,\n",
       " 72,\n",
       " 67,\n",
       " 67,\n",
       " 28,\n",
       " 27,\n",
       " 47,\n",
       " 5,\n",
       " 28,\n",
       " 98,\n",
       " 96,\n",
       " 14,\n",
       " 10,\n",
       " 40,\n",
       " 26,\n",
       " 42,\n",
       " 87,\n",
       " 47,\n",
       " 68,\n",
       " 4,\n",
       " 33,\n",
       " 69,\n",
       " 21,\n",
       " 77,\n",
       " 56,\n",
       " 73,\n",
       " 4,\n",
       " 90,\n",
       " 38,\n",
       " 1,\n",
       " 58,\n",
       " 90,\n",
       " 77,\n",
       " 32,\n",
       " 21,\n",
       " 87,\n",
       " 28,\n",
       " 47,\n",
       " 92,\n",
       " 88,\n",
       " 100,\n",
       " 66,\n",
       " 43,\n",
       " 27,\n",
       " 68,\n",
       " 10,\n",
       " 85,\n",
       " 95,\n",
       " 57,\n",
       " 40,\n",
       " 90,\n",
       " 51,\n",
       " 95,\n",
       " 10,\n",
       " 7,\n",
       " 24,\n",
       " 27,\n",
       " 60,\n",
       " 14,\n",
       " 44,\n",
       " 42,\n",
       " 76,\n",
       " 3,\n",
       " 21,\n",
       " 50,\n",
       " 90,\n",
       " 52,\n",
       " 35,\n",
       " 56,\n",
       " 96,\n",
       " 50,\n",
       " 32,\n",
       " 10,\n",
       " 75,\n",
       " 42,\n",
       " 65,\n",
       " 55,\n",
       " 98,\n",
       " 47,\n",
       " 83,\n",
       " 95,\n",
       " 7,\n",
       " 26,\n",
       " 57,\n",
       " 94,\n",
       " 18,\n",
       " 89,\n",
       " 2,\n",
       " 62,\n",
       " 49,\n",
       " 45,\n",
       " 73,\n",
       " 92,\n",
       " 38,\n",
       " 82,\n",
       " 65,\n",
       " 58,\n",
       " 35,\n",
       " 57,\n",
       " 67,\n",
       " 44,\n",
       " 22,\n",
       " 100,\n",
       " 2,\n",
       " 37,\n",
       " 96,\n",
       " 97,\n",
       " 94,\n",
       " 60,\n",
       " 26,\n",
       " 40,\n",
       " 98,\n",
       " 22,\n",
       " 38,\n",
       " 60,\n",
       " 23,\n",
       " 3,\n",
       " 13,\n",
       " 88,\n",
       " 49,\n",
       " 32,\n",
       " 47,\n",
       " 82,\n",
       " 90,\n",
       " 74,\n",
       " 75,\n",
       " 73,\n",
       " 13,\n",
       " 99,\n",
       " 20,\n",
       " 43,\n",
       " 32,\n",
       " 90,\n",
       " 92,\n",
       " 98,\n",
       " 75,\n",
       " 58,\n",
       " 23,\n",
       " 25,\n",
       " 100,\n",
       " 68,\n",
       " 83,\n",
       " 52,\n",
       " 24,\n",
       " 80,\n",
       " 6,\n",
       " 21,\n",
       " 54,\n",
       " 15,\n",
       " 43,\n",
       " 52,\n",
       " 42,\n",
       " 74,\n",
       " 70,\n",
       " 58,\n",
       " 76,\n",
       " 39,\n",
       " 36,\n",
       " 45,\n",
       " 67,\n",
       " 29,\n",
       " 21,\n",
       " 50,\n",
       " 75,\n",
       " 21,\n",
       " 91,\n",
       " 20,\n",
       " 58,\n",
       " 12,\n",
       " 14,\n",
       " 77,\n",
       " 76,\n",
       " 88,\n",
       " 96,\n",
       " 85,\n",
       " 82,\n",
       " 75,\n",
       " 7,\n",
       " 17,\n",
       " 36,\n",
       " 55,\n",
       " 4,\n",
       " 22,\n",
       " 86,\n",
       " 4,\n",
       " 21,\n",
       " 82,\n",
       " 64,\n",
       " 86,\n",
       " 52,\n",
       " 25,\n",
       " 60,\n",
       " 95,\n",
       " 77,\n",
       " 65,\n",
       " 45,\n",
       " 15,\n",
       " 6,\n",
       " 77,\n",
       " 35,\n",
       " 18,\n",
       " 93,\n",
       " 70,\n",
       " 57,\n",
       " 60,\n",
       " 57,\n",
       " 78,\n",
       " 5,\n",
       " 96,\n",
       " 44,\n",
       " 29,\n",
       " 76,\n",
       " 5,\n",
       " 37,\n",
       " 80,\n",
       " 61,\n",
       " 10,\n",
       " 97,\n",
       " 37,\n",
       " 63,\n",
       " 92,\n",
       " 78,\n",
       " 6,\n",
       " 16,\n",
       " 44,\n",
       " 58,\n",
       " 24,\n",
       " 87,\n",
       " 84,\n",
       " 39,\n",
       " 78,\n",
       " 97,\n",
       " 28,\n",
       " 92,\n",
       " 5,\n",
       " 55,\n",
       " 69,\n",
       " 65,\n",
       " 1,\n",
       " 62,\n",
       " 33,\n",
       " 9,\n",
       " 78,\n",
       " 29,\n",
       " 37,\n",
       " 53,\n",
       " 85,\n",
       " 23,\n",
       " 19,\n",
       " 66,\n",
       " 11,\n",
       " 40,\n",
       " 78,\n",
       " 71,\n",
       " 43,\n",
       " 16,\n",
       " 4,\n",
       " 92,\n",
       " 98,\n",
       " 2,\n",
       " 59,\n",
       " 46,\n",
       " 19,\n",
       " 58,\n",
       " 48,\n",
       " 95,\n",
       " 38,\n",
       " 80,\n",
       " 42,\n",
       " 44,\n",
       " 14,\n",
       " 57,\n",
       " 2,\n",
       " 23,\n",
       " 92,\n",
       " 29,\n",
       " 47,\n",
       " 76,\n",
       " 16,\n",
       " 7,\n",
       " 5,\n",
       " 96,\n",
       " 6,\n",
       " 43,\n",
       " 82,\n",
       " 41,\n",
       " 61,\n",
       " 2,\n",
       " 16,\n",
       " 14,\n",
       " 26,\n",
       " 90,\n",
       " 43,\n",
       " 64,\n",
       " 11,\n",
       " 47,\n",
       " 50,\n",
       " 26,\n",
       " 60,\n",
       " 76,\n",
       " 79,\n",
       " 98,\n",
       " 43,\n",
       " 77,\n",
       " 22,\n",
       " 11,\n",
       " 92,\n",
       " 70,\n",
       " 17,\n",
       " 96,\n",
       " 42,\n",
       " 98,\n",
       " 82,\n",
       " 21,\n",
       " 34,\n",
       " 10,\n",
       " 46,\n",
       " 77,\n",
       " 56,\n",
       " 6,\n",
       " 12,\n",
       " 4,\n",
       " 45,\n",
       " 41,\n",
       " 40,\n",
       " 85,\n",
       " 84,\n",
       " 75,\n",
       " 64,\n",
       " 61,\n",
       " 7,\n",
       " 42,\n",
       " 20,\n",
       " 46,\n",
       " 32,\n",
       " 33,\n",
       " 93,\n",
       " 93,\n",
       " 59,\n",
       " 10,\n",
       " 50,\n",
       " 40,\n",
       " 49,\n",
       " 88,\n",
       " 6,\n",
       " 28,\n",
       " 31,\n",
       " 87,\n",
       " 45,\n",
       " 19,\n",
       " 44,\n",
       " 62,\n",
       " 10,\n",
       " 29,\n",
       " 71,\n",
       " 47,\n",
       " 17,\n",
       " 69,\n",
       " 66,\n",
       " 45,\n",
       " 14,\n",
       " 33,\n",
       " 6,\n",
       " 92,\n",
       " 70,\n",
       " 11,\n",
       " 55,\n",
       " 5,\n",
       " 86,\n",
       " 59,\n",
       " 9,\n",
       " 1,\n",
       " 35,\n",
       " 74,\n",
       " 84,\n",
       " 46,\n",
       " 49,\n",
       " 33,\n",
       " 99,\n",
       " 89,\n",
       " 10,\n",
       " 72,\n",
       " 59,\n",
       " 13,\n",
       " 15,\n",
       " 58,\n",
       " 1,\n",
       " 55,\n",
       " 63,\n",
       " 1,\n",
       " 40,\n",
       " 35,\n",
       " 56,\n",
       " 52,\n",
       " 70,\n",
       " 15,\n",
       " 52,\n",
       " 68,\n",
       " 26,\n",
       " 67,\n",
       " 17,\n",
       " 56,\n",
       " 84,\n",
       " 85,\n",
       " 4,\n",
       " 61,\n",
       " 68,\n",
       " 65,\n",
       " 47,\n",
       " 98,\n",
       " 57,\n",
       " 59,\n",
       " 94,\n",
       " 70,\n",
       " 86,\n",
       " 12,\n",
       " 23,\n",
       " 56,\n",
       " 4,\n",
       " 6,\n",
       " 43,\n",
       " 26,\n",
       " 20,\n",
       " 60,\n",
       " 43,\n",
       " 11,\n",
       " 48,\n",
       " 77,\n",
       " 44,\n",
       " 24,\n",
       " 70,\n",
       " 84,\n",
       " 28,\n",
       " 100,\n",
       " 25,\n",
       " 85,\n",
       " 33,\n",
       " 67,\n",
       " 66,\n",
       " 20,\n",
       " 84,\n",
       " 53,\n",
       " 82,\n",
       " 52,\n",
       " 12,\n",
       " 95,\n",
       " 10,\n",
       " 31,\n",
       " 4,\n",
       " 14,\n",
       " 77,\n",
       " 2,\n",
       " 66,\n",
       " 33,\n",
       " 3,\n",
       " 4,\n",
       " 43,\n",
       " 76,\n",
       " 26,\n",
       " 23,\n",
       " 76,\n",
       " 67,\n",
       " 86,\n",
       " 51,\n",
       " 98,\n",
       " 70,\n",
       " 4,\n",
       " 88,\n",
       " 100,\n",
       " 59,\n",
       " 1,\n",
       " 66,\n",
       " 18,\n",
       " 72,\n",
       " 95,\n",
       " 23,\n",
       " 24,\n",
       " 83,\n",
       " 76,\n",
       " 11,\n",
       " 93,\n",
       " 13,\n",
       " 44,\n",
       " 55,\n",
       " 79,\n",
       " 86,\n",
       " 47,\n",
       " 82,\n",
       " 72,\n",
       " 93,\n",
       " 92,\n",
       " 44,\n",
       " 86,\n",
       " 77,\n",
       " 60,\n",
       " 59,\n",
       " 4,\n",
       " 13,\n",
       " 26,\n",
       " 34,\n",
       " 56,\n",
       " 45,\n",
       " 81,\n",
       " 48,\n",
       " 46,\n",
       " 30,\n",
       " 67,\n",
       " 3,\n",
       " 19,\n",
       " 44,\n",
       " 27,\n",
       " 24,\n",
       " 29,\n",
       " 26,\n",
       " 26,\n",
       " 43,\n",
       " 69,\n",
       " 42,\n",
       " 1,\n",
       " 57,\n",
       " 48,\n",
       " 57,\n",
       " 44,\n",
       " 66,\n",
       " 89,\n",
       " 70,\n",
       " 34,\n",
       " 17,\n",
       " 36,\n",
       " 84,\n",
       " 48,\n",
       " 98,\n",
       " 46,\n",
       " 38,\n",
       " 10,\n",
       " 51,\n",
       " 25,\n",
       " 61,\n",
       " 29,\n",
       " 78,\n",
       " 21,\n",
       " 40,\n",
       " 13,\n",
       " 62,\n",
       " 43,\n",
       " 9,\n",
       " 54,\n",
       " 71,\n",
       " 64,\n",
       " 85,\n",
       " 40,\n",
       " 83,\n",
       " 91,\n",
       " 99,\n",
       " 6,\n",
       " 51,\n",
       " 75,\n",
       " 36,\n",
       " 45,\n",
       " 78,\n",
       " 72,\n",
       " 24,\n",
       " 2,\n",
       " 54,\n",
       " 61,\n",
       " 49,\n",
       " 87,\n",
       " 89,\n",
       " 99,\n",
       " 93,\n",
       " 5,\n",
       " 55,\n",
       " 26,\n",
       " 64,\n",
       " 64,\n",
       " 89,\n",
       " 1,\n",
       " 89,\n",
       " 95,\n",
       " 14,\n",
       " 37,\n",
       " 83,\n",
       " 7,\n",
       " 23,\n",
       " 20,\n",
       " 93,\n",
       " 96,\n",
       " 33,\n",
       " 25,\n",
       " 27,\n",
       " 39,\n",
       " 66,\n",
       " 84,\n",
       " 85,\n",
       " 11,\n",
       " 2,\n",
       " 10,\n",
       " 1,\n",
       " 37,\n",
       " 28,\n",
       " 88,\n",
       " 62,\n",
       " 22,\n",
       " 22,\n",
       " 5,\n",
       " 88,\n",
       " 14,\n",
       " 37,\n",
       " 96,\n",
       " 99,\n",
       " 72,\n",
       " 94,\n",
       " 7,\n",
       " 1,\n",
       " 23,\n",
       " 32,\n",
       " 36,\n",
       " 63,\n",
       " 99,\n",
       " 39,\n",
       " 80,\n",
       " 49,\n",
       " 37,\n",
       " 75,\n",
       " 49,\n",
       " 69,\n",
       " 81,\n",
       " 79,\n",
       " 66,\n",
       " 83,\n",
       " 88,\n",
       " 34,\n",
       " 86,\n",
       " 38,\n",
       " 69,\n",
       " 88,\n",
       " 93,\n",
       " 61,\n",
       " 53,\n",
       " 18,\n",
       " 97,\n",
       " 76,\n",
       " 52,\n",
       " 36,\n",
       " 43,\n",
       " 49,\n",
       " 34,\n",
       " 24,\n",
       " 81,\n",
       " 51,\n",
       " 73,\n",
       " 67,\n",
       " 16,\n",
       " 85,\n",
       " 12,\n",
       " 71,\n",
       " 39,\n",
       " 89,\n",
       " 40,\n",
       " 61,\n",
       " 25,\n",
       " 26,\n",
       " 59,\n",
       " 34,\n",
       " 63,\n",
       " 97,\n",
       " 83,\n",
       " 70,\n",
       " 75,\n",
       " 35,\n",
       " 73,\n",
       " 27,\n",
       " 75,\n",
       " 41,\n",
       " 57,\n",
       " 9,\n",
       " 76,\n",
       " 2,\n",
       " 29,\n",
       " 8,\n",
       " 78,\n",
       " 35,\n",
       " 97,\n",
       " 34,\n",
       " 88,\n",
       " 97,\n",
       " 84,\n",
       " 19,\n",
       " 32,\n",
       " 9,\n",
       " 79,\n",
       " 53,\n",
       " 52,\n",
       " 10,\n",
       " 78,\n",
       " 43,\n",
       " 74,\n",
       " 94,\n",
       " 85,\n",
       " 100,\n",
       " 33,\n",
       " 31,\n",
       " 25,\n",
       " 41,\n",
       " 53,\n",
       " 61,\n",
       " 62,\n",
       " 82,\n",
       " 67,\n",
       " 74,\n",
       " 25,\n",
       " 36,\n",
       " 6,\n",
       " 46,\n",
       " 59,\n",
       " 61,\n",
       " 56,\n",
       " 73,\n",
       " 47,\n",
       " 40,\n",
       " 80,\n",
       " 45,\n",
       " 63,\n",
       " 66,\n",
       " 41,\n",
       " 64,\n",
       " 80,\n",
       " 24,\n",
       " 31,\n",
       " 100,\n",
       " 93,\n",
       " 47,\n",
       " 68,\n",
       " 12,\n",
       " 47,\n",
       " 25,\n",
       " 57,\n",
       " 62,\n",
       " 15,\n",
       " 54,\n",
       " 12,\n",
       " 32,\n",
       " 93,\n",
       " 28,\n",
       " 14,\n",
       " 11,\n",
       " 39,\n",
       " 23,\n",
       " 29,\n",
       " 14,\n",
       " 65,\n",
       " 93,\n",
       " 29,\n",
       " 92,\n",
       " 96,\n",
       " 20,\n",
       " 3,\n",
       " 11,\n",
       " 77,\n",
       " 44,\n",
       " 7,\n",
       " 76,\n",
       " 80,\n",
       " 2,\n",
       " 64,\n",
       " 89,\n",
       " 23,\n",
       " 66,\n",
       " 97,\n",
       " 39,\n",
       " 20,\n",
       " 11,\n",
       " 39,\n",
       " 49,\n",
       " 100,\n",
       " 31,\n",
       " 68,\n",
       " 85,\n",
       " 18,\n",
       " 88,\n",
       " 13,\n",
       " 55,\n",
       " 34,\n",
       " 74,\n",
       " 47,\n",
       " 19,\n",
       " 35,\n",
       " 61,\n",
       " 45,\n",
       " 31,\n",
       " 41,\n",
       " 12,\n",
       " 21,\n",
       " 8,\n",
       " 3,\n",
       " 67,\n",
       " 59,\n",
       " 68,\n",
       " 27,\n",
       " 3,\n",
       " 45,\n",
       " 22,\n",
       " 77,\n",
       " 33,\n",
       " 46,\n",
       " 97,\n",
       " 67,\n",
       " 51,\n",
       " 71,\n",
       " 54,\n",
       " 41,\n",
       " 30,\n",
       " 57,\n",
       " 33,\n",
       " 65,\n",
       " 44,\n",
       " 23,\n",
       " 28,\n",
       " 74,\n",
       " 84,\n",
       " 27,\n",
       " 67,\n",
       " 3,\n",
       " 7,\n",
       " 50,\n",
       " 65,\n",
       " 50,\n",
       " 87,\n",
       " 74,\n",
       " 82,\n",
       " 7,\n",
       " 88,\n",
       " 64,\n",
       " 10,\n",
       " 74,\n",
       " 12,\n",
       " 93,\n",
       " 68,\n",
       " 64,\n",
       " 11,\n",
       " 91,\n",
       " 59,\n",
       " 7,\n",
       " 92,\n",
       " 15,\n",
       " 57,\n",
       " 60,\n",
       " 90,\n",
       " 82,\n",
       " 33,\n",
       " 29,\n",
       " 67,\n",
       " 43,\n",
       " 34,\n",
       " 36,\n",
       " 76,\n",
       " 58,\n",
       " 26,\n",
       " 99,\n",
       " 27,\n",
       " 61,\n",
       " 38,\n",
       " 81,\n",
       " 71,\n",
       " 8,\n",
       " 72,\n",
       " 30,\n",
       " 43,\n",
       " 8,\n",
       " 28,\n",
       " 7,\n",
       " 13,\n",
       " 96,\n",
       " 78,\n",
       " 2,\n",
       " 100,\n",
       " 76,\n",
       " 55,\n",
       " 70,\n",
       " 64,\n",
       " 46,\n",
       " 12,\n",
       " 70,\n",
       " 78,\n",
       " 7,\n",
       " 59,\n",
       " 71,\n",
       " 47,\n",
       " 38,\n",
       " 57,\n",
       " 16,\n",
       " 52,\n",
       " 15,\n",
       " 16,\n",
       " 16,\n",
       " 16,\n",
       " 77,\n",
       " 34,\n",
       " 53,\n",
       " 70,\n",
       " 98,\n",
       " 50,\n",
       " 77,\n",
       " 32,\n",
       " 52,\n",
       " 95,\n",
       " 49,\n",
       " 60,\n",
       " 41,\n",
       " 68,\n",
       " 98,\n",
       " 14,\n",
       " 35,\n",
       " 16,\n",
       " 24,\n",
       " 11,\n",
       " 46,\n",
       " 32,\n",
       " 7,\n",
       " 74,\n",
       " 26,\n",
       " 98,\n",
       " 29,\n",
       " 19,\n",
       " 86,\n",
       " 97,\n",
       " 94,\n",
       " 41,\n",
       " 20]"
      ]
     },
     "execution_count": 8,
     "metadata": {},
     "output_type": "execute_result"
    }
   ],
   "source": [
    "N = [random.randint(1, 100) for i in range(1000)]\n",
    "N"
   ]
  },
  {
   "cell_type": "code",
   "execution_count": 9,
   "metadata": {},
   "outputs": [
    {
     "data": {
      "text/plain": [
       "1"
      ]
     },
     "execution_count": 9,
     "metadata": {},
     "output_type": "execute_result"
    }
   ],
   "source": [
    "min(N)"
   ]
  },
  {
   "cell_type": "code",
   "execution_count": 10,
   "metadata": {},
   "outputs": [
    {
     "data": {
      "text/plain": [
       "100"
      ]
     },
     "execution_count": 10,
     "metadata": {},
     "output_type": "execute_result"
    }
   ],
   "source": [
    "max(N)"
   ]
  },
  {
   "cell_type": "code",
   "execution_count": 11,
   "metadata": {},
   "outputs": [
    {
     "data": {
      "text/plain": [
       "50.05"
      ]
     },
     "execution_count": 11,
     "metadata": {},
     "output_type": "execute_result"
    }
   ],
   "source": [
    "avg = sum(N)/len(N)\n",
    "avg"
   ]
  },
  {
   "cell_type": "code",
   "execution_count": 12,
   "metadata": {},
   "outputs": [],
   "source": [
    "import statistics"
   ]
  },
  {
   "cell_type": "code",
   "execution_count": 13,
   "metadata": {},
   "outputs": [
    {
     "data": {
      "text/plain": [
       "50.05"
      ]
     },
     "execution_count": 13,
     "metadata": {},
     "output_type": "execute_result"
    }
   ],
   "source": [
    "statistics.mean(N)"
   ]
  },
  {
   "cell_type": "code",
   "execution_count": 14,
   "metadata": {},
   "outputs": [
    {
     "data": {
      "text/plain": [
       "49.0"
      ]
     },
     "execution_count": 14,
     "metadata": {},
     "output_type": "execute_result"
    }
   ],
   "source": [
    "statistics.median(N)"
   ]
  },
  {
   "cell_type": "code",
   "execution_count": 15,
   "metadata": {},
   "outputs": [
    {
     "ename": "StatisticsError",
     "evalue": "no unique mode; found 3 equally common values",
     "output_type": "error",
     "traceback": [
      "\u001b[1;31m---------------------------------------------------------------------------\u001b[0m",
      "\u001b[1;31mStatisticsError\u001b[0m                           Traceback (most recent call last)",
      "\u001b[1;32m<ipython-input-15-7f91402d9eb7>\u001b[0m in \u001b[0;36m<module>\u001b[1;34m\u001b[0m\n\u001b[1;32m----> 1\u001b[1;33m \u001b[0mstatistics\u001b[0m\u001b[1;33m.\u001b[0m\u001b[0mmode\u001b[0m\u001b[1;33m(\u001b[0m\u001b[0mN\u001b[0m\u001b[1;33m)\u001b[0m\u001b[1;33m\u001b[0m\u001b[1;33m\u001b[0m\u001b[0m\n\u001b[0m",
      "\u001b[1;32m~\\AppData\\Local\\Programs\\Python\\Python37\\lib\\statistics.py\u001b[0m in \u001b[0;36mmode\u001b[1;34m(data)\u001b[0m\n\u001b[0;32m    504\u001b[0m     \u001b[1;32melif\u001b[0m \u001b[0mtable\u001b[0m\u001b[1;33m:\u001b[0m\u001b[1;33m\u001b[0m\u001b[1;33m\u001b[0m\u001b[0m\n\u001b[0;32m    505\u001b[0m         raise StatisticsError(\n\u001b[1;32m--> 506\u001b[1;33m                 \u001b[1;34m'no unique mode; found %d equally common values'\u001b[0m \u001b[1;33m%\u001b[0m \u001b[0mlen\u001b[0m\u001b[1;33m(\u001b[0m\u001b[0mtable\u001b[0m\u001b[1;33m)\u001b[0m\u001b[1;33m\u001b[0m\u001b[1;33m\u001b[0m\u001b[0m\n\u001b[0m\u001b[0;32m    507\u001b[0m                 )\n\u001b[0;32m    508\u001b[0m     \u001b[1;32melse\u001b[0m\u001b[1;33m:\u001b[0m\u001b[1;33m\u001b[0m\u001b[1;33m\u001b[0m\u001b[0m\n",
      "\u001b[1;31mStatisticsError\u001b[0m: no unique mode; found 3 equally common values"
     ]
    }
   ],
   "source": [
    "statistics.mode(N)"
   ]
  },
  {
   "cell_type": "code",
   "execution_count": 16,
   "metadata": {},
   "outputs": [
    {
     "data": {
      "text/plain": [
       "1"
      ]
     },
     "execution_count": 16,
     "metadata": {},
     "output_type": "execute_result"
    }
   ],
   "source": [
    "L = [1,1,1,2,3]\n",
    "statistics.mode(L)"
   ]
  },
  {
   "cell_type": "code",
   "execution_count": 17,
   "metadata": {},
   "outputs": [
    {
     "ename": "StatisticsError",
     "evalue": "no unique mode; found 2 equally common values",
     "output_type": "error",
     "traceback": [
      "\u001b[1;31m---------------------------------------------------------------------------\u001b[0m",
      "\u001b[1;31mStatisticsError\u001b[0m                           Traceback (most recent call last)",
      "\u001b[1;32m<ipython-input-17-a8f1bbe39791>\u001b[0m in \u001b[0;36m<module>\u001b[1;34m\u001b[0m\n\u001b[0;32m      1\u001b[0m \u001b[0mL\u001b[0m \u001b[1;33m=\u001b[0m \u001b[1;33m[\u001b[0m\u001b[1;36m1\u001b[0m\u001b[1;33m,\u001b[0m\u001b[1;36m1\u001b[0m\u001b[1;33m,\u001b[0m\u001b[1;36m1\u001b[0m\u001b[1;33m,\u001b[0m\u001b[1;36m2\u001b[0m\u001b[1;33m,\u001b[0m\u001b[1;36m2\u001b[0m\u001b[1;33m,\u001b[0m\u001b[1;36m2\u001b[0m\u001b[1;33m,\u001b[0m\u001b[1;36m3\u001b[0m\u001b[1;33m]\u001b[0m\u001b[1;33m\u001b[0m\u001b[1;33m\u001b[0m\u001b[0m\n\u001b[1;32m----> 2\u001b[1;33m \u001b[0mstatistics\u001b[0m\u001b[1;33m.\u001b[0m\u001b[0mmode\u001b[0m\u001b[1;33m(\u001b[0m\u001b[0mL\u001b[0m\u001b[1;33m)\u001b[0m\u001b[1;33m\u001b[0m\u001b[1;33m\u001b[0m\u001b[0m\n\u001b[0m",
      "\u001b[1;32m~\\AppData\\Local\\Programs\\Python\\Python37\\lib\\statistics.py\u001b[0m in \u001b[0;36mmode\u001b[1;34m(data)\u001b[0m\n\u001b[0;32m    504\u001b[0m     \u001b[1;32melif\u001b[0m \u001b[0mtable\u001b[0m\u001b[1;33m:\u001b[0m\u001b[1;33m\u001b[0m\u001b[1;33m\u001b[0m\u001b[0m\n\u001b[0;32m    505\u001b[0m         raise StatisticsError(\n\u001b[1;32m--> 506\u001b[1;33m                 \u001b[1;34m'no unique mode; found %d equally common values'\u001b[0m \u001b[1;33m%\u001b[0m \u001b[0mlen\u001b[0m\u001b[1;33m(\u001b[0m\u001b[0mtable\u001b[0m\u001b[1;33m)\u001b[0m\u001b[1;33m\u001b[0m\u001b[1;33m\u001b[0m\u001b[0m\n\u001b[0m\u001b[0;32m    507\u001b[0m                 )\n\u001b[0;32m    508\u001b[0m     \u001b[1;32melse\u001b[0m\u001b[1;33m:\u001b[0m\u001b[1;33m\u001b[0m\u001b[1;33m\u001b[0m\u001b[0m\n",
      "\u001b[1;31mStatisticsError\u001b[0m: no unique mode; found 2 equally common values"
     ]
    }
   ],
   "source": [
    "L = [1,1,1,2,2,2,3]\n",
    "statistics.mode(L)"
   ]
  },
  {
   "cell_type": "code",
   "execution_count": 18,
   "metadata": {},
   "outputs": [
    {
     "data": {
      "text/plain": [
       "29.106966520061825"
      ]
     },
     "execution_count": 18,
     "metadata": {},
     "output_type": "execute_result"
    }
   ],
   "source": [
    "statistics.pstdev(N)"
   ]
  },
  {
   "cell_type": "code",
   "execution_count": 19,
   "metadata": {},
   "outputs": [
    {
     "data": {
      "text/plain": [
       "847.2155"
      ]
     },
     "execution_count": 19,
     "metadata": {},
     "output_type": "execute_result"
    }
   ],
   "source": [
    "statistics.pvariance(N)"
   ]
  },
  {
   "cell_type": "code",
   "execution_count": 20,
   "metadata": {},
   "outputs": [
    {
     "data": {
      "text/plain": [
       "29.106966520061825"
      ]
     },
     "execution_count": 20,
     "metadata": {},
     "output_type": "execute_result"
    }
   ],
   "source": [
    "import math\n",
    "math.sqrt(statistics.pvariance(N))"
   ]
  },
  {
   "cell_type": "markdown",
   "metadata": {},
   "source": [
    "### Sampling with replacement"
   ]
  },
  {
   "cell_type": "markdown",
   "metadata": {},
   "source": [
    "An ice-cream manufacturer wants to study the sales of ice-creams to decide the production policies of the company. He collects the data for the number of ice-creams sold in a month from the 30 franchise. Randomly select the sales of 10 franchise for the study. data = [21, 93, 62, 76, 73, 20, 56, 95, 41, 36, 38, 13, 80, 88, 34, 18, 40, 11, 25, 29, 61, 23, 82, 10, 92, 69, 60, 87, 14, 91]"
   ]
  },
  {
   "cell_type": "code",
   "execution_count": 21,
   "metadata": {},
   "outputs": [],
   "source": [
    "data = [21, 93, 62, 76, 73, 20, 56, 95, 41, 36, 38, 13, 80, 88, 34, 18, 40, 11, 25, 29, 61, 23, 82, 10, 92, 69, 60, 87, 14, 91]\n"
   ]
  },
  {
   "cell_type": "code",
   "execution_count": 22,
   "metadata": {},
   "outputs": [
    {
     "data": {
      "text/plain": [
       "[60, 18, 21, 38, 34, 93, 14, 29, 10, 76]"
      ]
     },
     "execution_count": 22,
     "metadata": {},
     "output_type": "execute_result"
    }
   ],
   "source": [
    "import random\n",
    "random.sample(data, k=10)"
   ]
  },
  {
   "cell_type": "code",
   "execution_count": 23,
   "metadata": {},
   "outputs": [
    {
     "data": {
      "text/plain": [
       "[40, 61, 60, 23, 21, 56, 36, 76, 82, 88]"
      ]
     },
     "execution_count": 23,
     "metadata": {},
     "output_type": "execute_result"
    }
   ],
   "source": [
    "random.sample(data, k=10)"
   ]
  },
  {
   "cell_type": "code",
   "execution_count": 24,
   "metadata": {},
   "outputs": [
    {
     "data": {
      "text/plain": [
       "[[20, 23, 56, 13, 40, 21, 36, 18, 69, 87],\n",
       " [93, 88, 21, 18, 95, 14, 92, 60, 13, 36],\n",
       " [11, 29, 25, 21, 61, 20, 56, 91, 13, 80],\n",
       " [20, 91, 34, 76, 36, 80, 40, 62, 14, 41],\n",
       " [34, 23, 11, 62, 21, 69, 14, 80, 91, 10],\n",
       " [11, 62, 91, 69, 23, 20, 93, 80, 41, 95],\n",
       " [56, 14, 61, 60, 38, 10, 25, 11, 62, 13],\n",
       " [61, 82, 60, 20, 73, 91, 13, 41, 29, 56],\n",
       " [80, 21, 10, 69, 91, 11, 41, 62, 61, 29],\n",
       " [91, 40, 82, 88, 38, 23, 73, 92, 87, 95]]"
      ]
     },
     "execution_count": 24,
     "metadata": {},
     "output_type": "execute_result"
    }
   ],
   "source": [
    "samples = []\n",
    "for i in range(10):\n",
    "    samples.append(random.sample(data, k=10))\n",
    "samples"
   ]
  },
  {
   "cell_type": "markdown",
   "metadata": {},
   "source": [
    "### Sampling with Replacements"
   ]
  },
  {
   "cell_type": "markdown",
   "metadata": {},
   "source": [
    "Consider 8 identical boxes that contain different number of shuttlecocks. Draw a sample of 20 boxes with replacement.\n",
    "\n",
    "data = [18, 13, 16, 17, 15, 21, 19, 12]"
   ]
  },
  {
   "cell_type": "code",
   "execution_count": 25,
   "metadata": {},
   "outputs": [],
   "source": [
    "data = [18, 13, 16, 17, 15, 21, 19, 12]"
   ]
  },
  {
   "cell_type": "code",
   "execution_count": 26,
   "metadata": {},
   "outputs": [
    {
     "data": {
      "text/plain": [
       "[17,\n",
       " 12,\n",
       " 17,\n",
       " 17,\n",
       " 18,\n",
       " 16,\n",
       " 16,\n",
       " 15,\n",
       " 12,\n",
       " 17,\n",
       " 15,\n",
       " 21,\n",
       " 15,\n",
       " 17,\n",
       " 17,\n",
       " 12,\n",
       " 15,\n",
       " 13,\n",
       " 17,\n",
       " 12]"
      ]
     },
     "execution_count": 26,
     "metadata": {},
     "output_type": "execute_result"
    }
   ],
   "source": [
    "random.choices(data, k=20)"
   ]
  },
  {
   "cell_type": "markdown",
   "metadata": {},
   "source": [
    "### Stratified Sampling"
   ]
  },
  {
   "cell_type": "code",
   "execution_count": 28,
   "metadata": {},
   "outputs": [],
   "source": [
    "import pandas as pd"
   ]
  },
  {
   "cell_type": "code",
   "execution_count": 29,
   "metadata": {},
   "outputs": [],
   "source": [
    "income = pd.DataFrame({'status':['Low', 'High', 'Below Poverty', 'Middle', 'Low', 'High','Middle', 'Low', 'Middle', \n",
    "                                      'High', 'Middle', 'Below Poverty', 'Low', 'Below Poverty', 'High'],\n",
    "                       'inc':[4850, 9270, 2520, 6020, 5790, 10400, 7140, 3100, 6850, 9740, 6540, 1230, 4400, 2210, 9880]})"
   ]
  },
  {
   "cell_type": "code",
   "execution_count": 30,
   "metadata": {},
   "outputs": [
    {
     "data": {
      "text/html": [
       "<div>\n",
       "<style scoped>\n",
       "    .dataframe tbody tr th:only-of-type {\n",
       "        vertical-align: middle;\n",
       "    }\n",
       "\n",
       "    .dataframe tbody tr th {\n",
       "        vertical-align: top;\n",
       "    }\n",
       "\n",
       "    .dataframe thead th {\n",
       "        text-align: right;\n",
       "    }\n",
       "</style>\n",
       "<table border=\"1\" class=\"dataframe\">\n",
       "  <thead>\n",
       "    <tr style=\"text-align: right;\">\n",
       "      <th></th>\n",
       "      <th>status</th>\n",
       "      <th>inc</th>\n",
       "    </tr>\n",
       "  </thead>\n",
       "  <tbody>\n",
       "    <tr>\n",
       "      <th>0</th>\n",
       "      <td>Low</td>\n",
       "      <td>4850</td>\n",
       "    </tr>\n",
       "    <tr>\n",
       "      <th>1</th>\n",
       "      <td>High</td>\n",
       "      <td>9270</td>\n",
       "    </tr>\n",
       "    <tr>\n",
       "      <th>2</th>\n",
       "      <td>Below Poverty</td>\n",
       "      <td>2520</td>\n",
       "    </tr>\n",
       "    <tr>\n",
       "      <th>3</th>\n",
       "      <td>Middle</td>\n",
       "      <td>6020</td>\n",
       "    </tr>\n",
       "    <tr>\n",
       "      <th>4</th>\n",
       "      <td>Low</td>\n",
       "      <td>5790</td>\n",
       "    </tr>\n",
       "    <tr>\n",
       "      <th>5</th>\n",
       "      <td>High</td>\n",
       "      <td>10400</td>\n",
       "    </tr>\n",
       "    <tr>\n",
       "      <th>6</th>\n",
       "      <td>Middle</td>\n",
       "      <td>7140</td>\n",
       "    </tr>\n",
       "    <tr>\n",
       "      <th>7</th>\n",
       "      <td>Low</td>\n",
       "      <td>3100</td>\n",
       "    </tr>\n",
       "    <tr>\n",
       "      <th>8</th>\n",
       "      <td>Middle</td>\n",
       "      <td>6850</td>\n",
       "    </tr>\n",
       "    <tr>\n",
       "      <th>9</th>\n",
       "      <td>High</td>\n",
       "      <td>9740</td>\n",
       "    </tr>\n",
       "    <tr>\n",
       "      <th>10</th>\n",
       "      <td>Middle</td>\n",
       "      <td>6540</td>\n",
       "    </tr>\n",
       "    <tr>\n",
       "      <th>11</th>\n",
       "      <td>Below Poverty</td>\n",
       "      <td>1230</td>\n",
       "    </tr>\n",
       "    <tr>\n",
       "      <th>12</th>\n",
       "      <td>Low</td>\n",
       "      <td>4400</td>\n",
       "    </tr>\n",
       "    <tr>\n",
       "      <th>13</th>\n",
       "      <td>Below Poverty</td>\n",
       "      <td>2210</td>\n",
       "    </tr>\n",
       "    <tr>\n",
       "      <th>14</th>\n",
       "      <td>High</td>\n",
       "      <td>9880</td>\n",
       "    </tr>\n",
       "  </tbody>\n",
       "</table>\n",
       "</div>"
      ],
      "text/plain": [
       "           status    inc\n",
       "0             Low   4850\n",
       "1            High   9270\n",
       "2   Below Poverty   2520\n",
       "3          Middle   6020\n",
       "4             Low   5790\n",
       "5            High  10400\n",
       "6          Middle   7140\n",
       "7             Low   3100\n",
       "8          Middle   6850\n",
       "9            High   9740\n",
       "10         Middle   6540\n",
       "11  Below Poverty   1230\n",
       "12            Low   4400\n",
       "13  Below Poverty   2210\n",
       "14           High   9880"
      ]
     },
     "execution_count": 30,
     "metadata": {},
     "output_type": "execute_result"
    }
   ],
   "source": [
    "income\n"
   ]
  },
  {
   "cell_type": "code",
   "execution_count": 32,
   "metadata": {},
   "outputs": [
    {
     "data": {
      "text/plain": [
       "Low              4\n",
       "Middle           4\n",
       "High             4\n",
       "Below Poverty    3\n",
       "Name: status, dtype: int64"
      ]
     },
     "execution_count": 32,
     "metadata": {},
     "output_type": "execute_result"
    }
   ],
   "source": [
    "income.status.value_counts()"
   ]
  },
  {
   "cell_type": "code",
   "execution_count": 34,
   "metadata": {},
   "outputs": [],
   "source": [
    "sample = income.groupby('status').apply(lambda x : x.sample(2))"
   ]
  },
  {
   "cell_type": "code",
   "execution_count": 35,
   "metadata": {},
   "outputs": [
    {
     "data": {
      "text/html": [
       "<div>\n",
       "<style scoped>\n",
       "    .dataframe tbody tr th:only-of-type {\n",
       "        vertical-align: middle;\n",
       "    }\n",
       "\n",
       "    .dataframe tbody tr th {\n",
       "        vertical-align: top;\n",
       "    }\n",
       "\n",
       "    .dataframe thead th {\n",
       "        text-align: right;\n",
       "    }\n",
       "</style>\n",
       "<table border=\"1\" class=\"dataframe\">\n",
       "  <thead>\n",
       "    <tr style=\"text-align: right;\">\n",
       "      <th></th>\n",
       "      <th></th>\n",
       "      <th>status</th>\n",
       "      <th>inc</th>\n",
       "    </tr>\n",
       "    <tr>\n",
       "      <th>status</th>\n",
       "      <th></th>\n",
       "      <th></th>\n",
       "      <th></th>\n",
       "    </tr>\n",
       "  </thead>\n",
       "  <tbody>\n",
       "    <tr>\n",
       "      <th rowspan=\"2\" valign=\"top\">Below Poverty</th>\n",
       "      <th>13</th>\n",
       "      <td>Below Poverty</td>\n",
       "      <td>2210</td>\n",
       "    </tr>\n",
       "    <tr>\n",
       "      <th>2</th>\n",
       "      <td>Below Poverty</td>\n",
       "      <td>2520</td>\n",
       "    </tr>\n",
       "    <tr>\n",
       "      <th rowspan=\"2\" valign=\"top\">High</th>\n",
       "      <th>9</th>\n",
       "      <td>High</td>\n",
       "      <td>9740</td>\n",
       "    </tr>\n",
       "    <tr>\n",
       "      <th>5</th>\n",
       "      <td>High</td>\n",
       "      <td>10400</td>\n",
       "    </tr>\n",
       "    <tr>\n",
       "      <th rowspan=\"2\" valign=\"top\">Low</th>\n",
       "      <th>7</th>\n",
       "      <td>Low</td>\n",
       "      <td>3100</td>\n",
       "    </tr>\n",
       "    <tr>\n",
       "      <th>0</th>\n",
       "      <td>Low</td>\n",
       "      <td>4850</td>\n",
       "    </tr>\n",
       "    <tr>\n",
       "      <th rowspan=\"2\" valign=\"top\">Middle</th>\n",
       "      <th>3</th>\n",
       "      <td>Middle</td>\n",
       "      <td>6020</td>\n",
       "    </tr>\n",
       "    <tr>\n",
       "      <th>8</th>\n",
       "      <td>Middle</td>\n",
       "      <td>6850</td>\n",
       "    </tr>\n",
       "  </tbody>\n",
       "</table>\n",
       "</div>"
      ],
      "text/plain": [
       "                         status    inc\n",
       "status                                \n",
       "Below Poverty 13  Below Poverty   2210\n",
       "              2   Below Poverty   2520\n",
       "High          9            High   9740\n",
       "              5            High  10400\n",
       "Low           7             Low   3100\n",
       "              0             Low   4850\n",
       "Middle        3          Middle   6020\n",
       "              8          Middle   6850"
      ]
     },
     "execution_count": 35,
     "metadata": {},
     "output_type": "execute_result"
    }
   ],
   "source": [
    "sample"
   ]
  },
  {
   "cell_type": "code",
   "execution_count": 36,
   "metadata": {},
   "outputs": [],
   "source": [
    "import scipy\n"
   ]
  },
  {
   "cell_type": "code",
   "execution_count": 37,
   "metadata": {},
   "outputs": [],
   "source": [
    "import math\n"
   ]
  },
  {
   "cell_type": "code",
   "execution_count": 38,
   "metadata": {},
   "outputs": [
    {
     "data": {
      "text/plain": [
       "2.718281828459045"
      ]
     },
     "execution_count": 38,
     "metadata": {},
     "output_type": "execute_result"
    }
   ],
   "source": [
    "math.e"
   ]
  },
  {
   "cell_type": "markdown",
   "metadata": {},
   "source": [
    "### Binomial Distribution"
   ]
  },
  {
   "cell_type": "markdown",
   "metadata": {},
   "source": [
    "Tossing a coin 3 times\n",
    "Find the probability of getting atleast 2 heads"
   ]
  },
  {
   "cell_type": "code",
   "execution_count": 45,
   "metadata": {},
   "outputs": [],
   "source": [
    "import scipy.stats as stats\n",
    "import matplotlib.pyplot as plt"
   ]
  },
  {
   "cell_type": "code",
   "execution_count": 42,
   "metadata": {},
   "outputs": [],
   "source": [
    "n = 3\n",
    "p = 0.5\n",
    "x = [0, 1, 2, 3, 4, 5]"
   ]
  },
  {
   "cell_type": "code",
   "execution_count": 43,
   "metadata": {},
   "outputs": [],
   "source": [
    "pmf = stats.binom.pmf(x, n, p)"
   ]
  },
  {
   "cell_type": "code",
   "execution_count": 44,
   "metadata": {},
   "outputs": [
    {
     "data": {
      "text/plain": [
       "array([0.125, 0.375, 0.375, 0.125, 0.   , 0.   ])"
      ]
     },
     "execution_count": 44,
     "metadata": {},
     "output_type": "execute_result"
    }
   ],
   "source": [
    "pmf"
   ]
  },
  {
   "cell_type": "code",
   "execution_count": 46,
   "metadata": {},
   "outputs": [
    {
     "data": {
      "text/plain": [
       "<BarContainer object of 6 artists>"
      ]
     },
     "execution_count": 46,
     "metadata": {},
     "output_type": "execute_result"
    },
    {
     "data": {
      "image/png": "[encoded data removed]",
      "text/plain": [
       "<Figure size 432x288 with 1 Axes>"
      ]
     },
     "metadata": {
      "needs_background": "light"
     },
     "output_type": "display_data"
    }
   ],
   "source": [
    "plt.bar(x, pmf)"
   ]
  },
  {
   "cell_type": "markdown",
   "metadata": {},
   "source": [
    "##### Hands-on:  When you toss a coin 20 times what is the prob that you get 10 heads?"
   ]
  },
  {
   "cell_type": "code",
   "execution_count": 47,
   "metadata": {},
   "outputs": [
    {
     "data": {
      "text/plain": [
       "(array(1.5), array(0.75))"
      ]
     },
     "execution_count": 47,
     "metadata": {},
     "output_type": "execute_result"
    }
   ],
   "source": [
    "stats.binom.stats(n, p)"
   ]
  },
  {
   "cell_type": "code",
   "execution_count": 48,
   "metadata": {},
   "outputs": [],
   "source": [
    "# Expected value 1.5\n",
    "# Variance 0.75"
   ]
  },
  {
   "cell_type": "code",
   "execution_count": 51,
   "metadata": {},
   "outputs": [],
   "source": [
    "cdf = stats.binom.cdf(x, n, p)"
   ]
  },
  {
   "cell_type": "code",
   "execution_count": 52,
   "metadata": {},
   "outputs": [
    {
     "data": {
      "text/plain": [
       "<BarContainer object of 6 artists>"
      ]
     },
     "execution_count": 52,
     "metadata": {},
     "output_type": "execute_result"
    },
    {
     "data": {
      "image/png": "[encoded data removed]",
      "text/plain": [
       "<Figure size 432x288 with 1 Axes>"
      ]
     },
     "metadata": {
      "needs_background": "light"
     },
     "output_type": "display_data"
    }
   ],
   "source": [
    "plt.bar(x, cdf)"
   ]
  },
  {
   "cell_type": "markdown",
   "metadata": {},
   "source": [
    "### Poisson Distribution"
   ]
  },
  {
   "cell_type": "markdown",
   "metadata": {},
   "source": [
    "In a super market , on an average 35 people visits per day. What is the probability that 100 people visits in a given day?"
   ]
  },
  {
   "cell_type": "code",
   "execution_count": 68,
   "metadata": {},
   "outputs": [],
   "source": [
    "lam = 35\n",
    "x = 100\n",
    "pmf = stats.poisson.pmf(x, lam)"
   ]
  },
  {
   "cell_type": "code",
   "execution_count": 69,
   "metadata": {},
   "outputs": [
    {
     "data": {
      "text/plain": [
       "1.7238279327394187e-19"
      ]
     },
     "execution_count": 69,
     "metadata": {},
     "output_type": "execute_result"
    }
   ],
   "source": [
    "pmf"
   ]
  },
  {
   "cell_type": "code",
   "execution_count": 70,
   "metadata": {},
   "outputs": [
    {
     "data": {
      "text/plain": [
       "1.0"
      ]
     },
     "execution_count": 70,
     "metadata": {},
     "output_type": "execute_result"
    }
   ],
   "source": [
    "1 - pmf"
   ]
  },
  {
   "cell_type": "code",
   "execution_count": 59,
   "metadata": {},
   "outputs": [],
   "source": [
    "x = list(range(0, 100))"
   ]
  },
  {
   "cell_type": "code",
   "execution_count": 60,
   "metadata": {},
   "outputs": [],
   "source": [
    "pmf = stats.poisson.pmf(x, lam)"
   ]
  },
  {
   "cell_type": "code",
   "execution_count": 61,
   "metadata": {},
   "outputs": [
    {
     "data": {
      "text/plain": [
       "<BarContainer object of 100 artists>"
      ]
     },
     "execution_count": 61,
     "metadata": {},
     "output_type": "execute_result"
    },
    {
     "data": {
      "image/png": "[encoded data removed]",
      "text/plain": [
       "<Figure size 432x288 with 1 Axes>"
      ]
     },
     "metadata": {
      "needs_background": "light"
     },
     "output_type": "display_data"
    }
   ],
   "source": [
    "plt.bar(x, pmf)"
   ]
  },
  {
   "cell_type": "code",
   "execution_count": 62,
   "metadata": {},
   "outputs": [
    {
     "data": {
      "text/plain": [
       "4.793034378392434e-07"
      ]
     },
     "execution_count": 62,
     "metadata": {},
     "output_type": "execute_result"
    }
   ],
   "source": [
    "stats.poisson.pmf(10, lam)"
   ]
  },
  {
   "cell_type": "code",
   "execution_count": 63,
   "metadata": {},
   "outputs": [
    {
     "data": {
      "text/plain": [
       "0.06727319239963186"
      ]
     },
     "execution_count": 63,
     "metadata": {},
     "output_type": "execute_result"
    }
   ],
   "source": [
    "stats.poisson.pmf(35, lam)"
   ]
  },
  {
   "cell_type": "code",
   "execution_count": 71,
   "metadata": {},
   "outputs": [
    {
     "data": {
      "text/plain": [
       "0.8967422664691558"
      ]
     },
     "execution_count": 71,
     "metadata": {},
     "output_type": "execute_result"
    }
   ],
   "source": [
    "1 - stats.poisson.pmf(8,6)"
   ]
  },
  {
   "cell_type": "code",
   "execution_count": 72,
   "metadata": {},
   "outputs": [
    {
     "data": {
      "text/plain": [
       "0.1032577335308442"
      ]
     },
     "execution_count": 72,
     "metadata": {},
     "output_type": "execute_result"
    }
   ],
   "source": [
    "stats.poisson.pmf(8,6)"
   ]
  },
  {
   "cell_type": "code",
   "execution_count": 73,
   "metadata": {},
   "outputs": [
    {
     "data": {
      "text/plain": [
       "0.15276250601543884"
      ]
     },
     "execution_count": 73,
     "metadata": {},
     "output_type": "execute_result"
    }
   ],
   "source": [
    "1 - stats.poisson.cdf(8,6)"
   ]
  },
  {
   "cell_type": "code",
   "execution_count": 74,
   "metadata": {},
   "outputs": [],
   "source": [
    "pmf = stats.poisson.cdf(x, lam)"
   ]
  },
  {
   "cell_type": "code",
   "execution_count": 75,
   "metadata": {},
   "outputs": [
    {
     "data": {
      "text/plain": [
       "1.0"
      ]
     },
     "execution_count": 75,
     "metadata": {},
     "output_type": "execute_result"
    }
   ],
   "source": [
    "pmf"
   ]
  },
  {
   "cell_type": "markdown",
   "metadata": {},
   "source": [
    "### ttest_1samp calculates a univariate T-test."
   ]
  },
  {
   "cell_type": "code",
   "execution_count": 76,
   "metadata": {},
   "outputs": [
    {
     "name": "stdout",
     "output_type": "stream",
     "text": [
      "mean: 38.0\n",
      "Age 30 Ttest_1sampResult(statistic=2.5616116105229776, pvalue=0.014193102241687204)\n",
      "Age 3 Ttest_1sampResult(statistic=11.258819892957282, pvalue=4.040587912900779e-14)\n"
     ]
    }
   ],
   "source": [
    "from scipy.stats import ttest_1samp\n",
    "import numpy as np   \n",
    " \n",
    "#Source an \"age of visitors\" CSV\n",
    "import urllib.request as urllib2\n",
    "URL = \"https://raw.githubusercontent.com/edbullen/Hypothesis/master/ages.csv\"\n",
    "r = urllib2.urlopen(URL)\n",
    "ages = list(r.read())\n",
    "ages = np.asarray(ages)  \n",
    " \n",
    "#Calculate the Mean of the ages\n",
    "mu = np.mean(ages)\n",
    "print(\"mean:\", mu.round())\n",
    "#Use scipy T-Test to find:\n",
    "# + p-value for age of 30 given the \"ages\" distribution\n",
    "# + p-value for age of 3 given the \"ages\" distribution\n",
    "print(\"Age 30\", ttest_1samp(ages,30))\n",
    "print(\"Age 3\", ttest_1samp(ages,3))"
   ]
  },
  {
   "cell_type": "markdown",
   "metadata": {},
   "source": [
    "For the age of 30 we got a p-value that was much higher than 0.05, so we cannot reject the null hypothesis. This means a mean age of 30 could occur by chance for this population (even though our comparison has a mean of 38).\n",
    "\n",
    "For the other example, for the age of 3 we got a very small p-value and accept the alternative hypothesis; this would be a very unusual age based on the original sample – if we had a set of visitors with average age 3, something special is going on.\n",
    "\n",
    "Does this mean that if we wait for more visitors, the average age would definitely be 30 and not 38? Not necessarily. In fact, in this case, we know that the mean of our sample was 38.\n",
    "\n",
    "P-values give us an idea of how confident we can be in a result.  Just because we don’t have enough data to detect a difference doesn’t mean that there isn’t one."
   ]
  },
  {
   "cell_type": "markdown",
   "metadata": {},
   "source": [
    "### Use a Two-Sample T-Test to compare two independent data-sets that are approximately normally distributed."
   ]
  },
  {
   "cell_type": "code",
   "execution_count": 77,
   "metadata": {},
   "outputs": [
    {
     "data": {
      "image/png": "[encoded data removed]",
      "text/plain": [
       "<Figure size 432x288 with 1 Axes>"
      ]
     },
     "metadata": {
      "needs_background": "light"
     },
     "output_type": "display_data"
    }
   ],
   "source": [
    "import numpy as np\n",
    "import urllib.request as urllib2\n",
    "import matplotlib.pyplot as plt\n",
    " \n",
    "# Source two sets of data from web - not really CSVs !\n",
    "# just a list of numbers separated by new-line character\n",
    "URL1 = \"https://raw.githubusercontent.com/edbullen/Hypothesis/master/week1.csv\"\n",
    "URL2 = \"https://raw.githubusercontent.com/edbullen/Hypothesis/master/week2.csv\"\n",
    " \n",
    "r = urllib2.urlopen(URL1)\n",
    "week1 = r.read().decode('utf-8')\n",
    "r = urllib2.urlopen(URL2)\n",
    "week2 = r.read().decode('utf-8')\n",
    " \n",
    "#split the data by newline, convert list to np array float\n",
    "week1 = np.asarray(week1.split()).astype(float)\n",
    "week2 = np.asarray(week2.split()).astype(float)\n",
    " \n",
    "# plot\n",
    "plt.hist(week1, bins=20, color='b', alpha=0.5)\n",
    "plt.hist(week2, bins=20, color='r', alpha=0.5)\n",
    "plt.show()"
   ]
  },
  {
   "cell_type": "code",
   "execution_count": 78,
   "metadata": {},
   "outputs": [
    {
     "name": "stdout",
     "output_type": "stream",
     "text": [
      "Week 1 Sample Mean: 25.4480593952\n",
      "Week 2 Sample Mean: 29.0215681076\n",
      "Ttest_indResult(statistic=-3.510875818698744, pvalue=0.000676767690454633)\n"
     ]
    }
   ],
   "source": [
    "from scipy.stats import ttest_ind  \n",
    " \n",
    "week1_mean = week1.mean()\n",
    "week2_mean = week2.mean()\n",
    " \n",
    "print(\"Week 1 Sample Mean:\", week1_mean)\n",
    "print(\"Week 2 Sample Mean:\", week2_mean)\n",
    " \n",
    "pval = ttest_ind(week1,week2)\n",
    "print(pval)"
   ]
  },
  {
   "cell_type": "code",
   "execution_count": 79,
   "metadata": {},
   "outputs": [
    {
     "name": "stdout",
     "output_type": "stream",
     "text": [
      "pval is  0.000676767690454633 Null Hypothesis Rejected\n",
      "samples are statistically different\n"
     ]
    }
   ],
   "source": [
    "if pval[1] < 0.05:\n",
    " print(\"pval is \", pval[1], \"Null Hypothesis Rejected\")\n",
    " print(\"samples are statistically different\")\n",
    "else:\n",
    " print(\"pval is \", pval[1], \"Null Hypothesis Accepted\")\n",
    " print(\"samples are NOT statistically different\")"
   ]
  },
  {
   "cell_type": "markdown",
   "metadata": {},
   "source": [
    "### Perform an ANOVA test for Daily Sales on Stores a, b, and c and store the p-value in a variable called pval."
   ]
  },
  {
   "cell_type": "markdown",
   "metadata": {},
   "source": [
    "“The one-way ANOVA tests the null hypothesis that two or more groups have the same population mean.”\n",
    "\n",
    "A one-way test identifies if at least two groups are different from each other, but doesn’t identify which groups. Used when there is one independent variable and one dependent variable.\n",
    "\n",
    "A two-way test can be used when there are two independent variables – i.e. Store and Hour-of-Day (factors).\n",
    "\n",
    "Anova Test Assumptions\n",
    "\n",
    "The samples are independent.\n",
    "Each sample is from a normally distributed population.\n",
    "The population standard deviations of the groups are all equal. This property is known as homoscedasticity.\n",
    "Consider “Kruskal-Wallis H-test” if these assumptions are not valid."
   ]
  },
  {
   "cell_type": "code",
   "execution_count": 81,
   "metadata": {},
   "outputs": [],
   "source": [
    "import numpy as np\n",
    "#import seaborn as sns # Seaborn has some nice looking plots\n",
    "import pandas as pd\n",
    "import urllib.request as urllib2\n",
    " \n",
    "# Source data from web - not really CSVs - just a list separated by new-line\n",
    "URLA = \"https://raw.githubusercontent.com/edbullen/Hypothesis/master/storeA.csv\"\n",
    "URLB = \"https://raw.githubusercontent.com/edbullen/Hypothesis/master/storeB.csv\"\n",
    "URLC = \"https://raw.githubusercontent.com/edbullen/Hypothesis/master/storeC.csv\"\n",
    " \n",
    "A = urllib2.urlopen(URLA).read().decode('utf-8')\n",
    "B = urllib2.urlopen(URLB).read().decode('utf-8')\n",
    "C = urllib2.urlopen(URLC).read().decode('utf-8')\n",
    " \n",
    "#split the data by newline, convert list to np array float\n",
    "A = np.asarray(A.split()).astype(float)\n",
    "B = np.asarray(B.split()).astype(float)\n",
    "C = np.asarray(C.split()).astype(float)\n",
    " \n",
    "# Create a Pandas Data Frame with Store A,B,C as the columns\n",
    "df = pd.DataFrame({'StoreA':A, 'StoreB':B, 'StoreC':C})\n",
    "# Have to \"melt\" the data-frame for Seaborn\n",
    "#sns.boxplot(x=\"variable\", y=\"value\", data=pd.melt(df))"
   ]
  },
  {
   "cell_type": "code",
   "execution_count": 82,
   "metadata": {},
   "outputs": [
    {
     "name": "stdout",
     "output_type": "stream",
     "text": [
      "Store A Mean: 58.35\n",
      "Store B Mean: 55.754\n",
      "Store C Mean: 56.767\n"
     ]
    }
   ],
   "source": [
    "print(\"Store A Mean:\", A.mean().round(3))\n",
    "print(\"Store B Mean:\", B.mean().round(3))\n",
    "print(\"Store C Mean:\", C.mean().round(3))"
   ]
  },
  {
   "cell_type": "code",
   "execution_count": 83,
   "metadata": {},
   "outputs": [
    {
     "name": "stdout",
     "output_type": "stream",
     "text": [
      "0.32132\n"
     ]
    }
   ],
   "source": [
    "from scipy.stats import ttest_ind\n",
    "from scipy.stats import f_oneway\n",
    " \n",
    "pval = f_oneway(A,B,C)[1]\n",
    "print(pval.round(5))"
   ]
  },
  {
   "cell_type": "markdown",
   "metadata": {},
   "source": [
    "As the p-value is greater than 0.05 we reject the Null Hypothesis and assume there is no significant difference in sales between stores, even though the mean values are slightly different."
   ]
  },
  {
   "cell_type": "markdown",
   "metadata": {},
   "source": [
    "##### Now – load some new data after a Sales Campaign is run for Store C."
   ]
  },
  {
   "cell_type": "code",
   "execution_count": 84,
   "metadata": {},
   "outputs": [],
   "source": [
    "URLC_NEW = \"https://raw.githubusercontent.com/edbullen/Hypothesis/master/storeC_NEW.csv\"\n",
    "C_NEW = urllib2.urlopen(URLC_NEW).read().decode('utf-8')\n",
    "C_NEW = np.asarray(C_NEW.split()).astype(float)\n",
    "# Create a Pandas Data Frame with Store A,B,C as the columns\n",
    "df = pd.DataFrame({'StoreA':A, 'StoreB':B, 'StoreC':C_NEW})\n",
    " \n",
    "#plot\n",
    "#sns.boxplot(x=\"variable\", y=\"value\", data=pd.melt(df))"
   ]
  },
  {
   "cell_type": "code",
   "execution_count": 85,
   "metadata": {},
   "outputs": [
    {
     "name": "stdout",
     "output_type": "stream",
     "text": [
      "0.01859\n"
     ]
    }
   ],
   "source": [
    "from scipy.stats import ttest_ind\n",
    "from scipy.stats import f_oneway\n",
    " \n",
    "pval = f_oneway(A,B,C_NEW)[1]\n",
    " \n",
    "print(pval.round(5))"
   ]
  },
  {
   "cell_type": "markdown",
   "metadata": {},
   "source": [
    "So if your \\alpha  is 0.05 then we Reject the Null Hypothesis and say that it is unlikely this variation in the mean has occurred by chance as 0.0185 is less than 0.05.\n",
    "\n",
    "If, however, we had chosen our \\alpha  threshold to be 0.01 (1%) then we would still accept the null hypothesis and say there is still a reasonable statistical likelihood that this variation in the mean has occurred by chance. This is because 0.01859 is great than 0.01"
   ]
  },
  {
   "cell_type": "markdown",
   "metadata": {},
   "source": [
    "### Chi-Square Test for Differences Between Groups with Multiple Factors"
   ]
  },
  {
   "cell_type": "markdown",
   "metadata": {},
   "source": [
    "The Pearson Chi-Square test can be used to test for significant differences between groups where multiple factors are involved in the outcome – i.e. a comparison of survey responses (“A” vs “B”) for some people who have been given one of two sets of information (such as “true” info and “false” info, for example).\n",
    "\n",
    "The Chi-Square takes a contingency table input similar to the following:\n",
    "\n",
    "      | A   |  B\n",
    "-----------------\n",
    "true  | 30  | 10\n",
    "false | 20  | 20\n",
    "\n",
    "… so it looks like giving people false information skews the result by 10/40 or 25% in this example.\n",
    "\n",
    "The Contingency Table can have as many columns and rows as necessary.\n",
    "\n",
    "Rows = Outcomes\n",
    "Columns = Conditions\n",
    "Use the SciPy Stats chi2_contingency function to perform a Chi Square test:"
   ]
  },
  {
   "cell_type": "code",
   "execution_count": 87,
   "metadata": {},
   "outputs": [
    {
     "name": "stdout",
     "output_type": "stream",
     "text": [
      "0.03767\n"
     ]
    }
   ],
   "source": [
    "from scipy.stats import chi2_contingency\n",
    " \n",
    "X = [[30,10],\n",
    "[20,20]]\n",
    " \n",
    "chi2, pval, dof, expected = chi2_contingency(X)\n",
    "print(pval.round(5))\n"
   ]
  },
  {
   "cell_type": "markdown",
   "metadata": {},
   "source": [
    "On the basis of this we Accept the Null Hypothesis and say this variation could have occured by chance.\n",
    "\n",
    "What if we got the same ratio difference for a larger sample?"
   ]
  },
  {
   "cell_type": "code",
   "execution_count": 88,
   "metadata": {},
   "outputs": [
    {
     "name": "stdout",
     "output_type": "stream",
     "text": [
      "0.0\n"
     ]
    }
   ],
   "source": [
    "from scipy.stats import chi2_contingency\n",
    " \n",
    "X = [[300,100],\n",
    " [200,200]]\n",
    " \n",
    "chi2, pval, dof, expected = chi2_contingency(X)\n",
    "print(pval.round(5))"
   ]
  },
  {
   "cell_type": "markdown",
   "metadata": {},
   "source": [
    "we can be pretty sure that this is a significant difference and we definitely Reject the Null Hypothesis."
   ]
  },
  {
   "cell_type": "code",
   "execution_count": null,
   "metadata": {},
   "outputs": [],
   "source": []
  }
 ],
 "metadata": {
  "kernelspec": {
   "display_name": "Python 3",
   "language": "python",
   "name": "python3"
  },
  "language_info": {
   "codemirror_mode": {
    "name": "ipython",
    "version": 3
   },
   "file_extension": ".py",
   "mimetype": "text/x-python",
   "name": "python",
   "nbconvert_exporter": "python",
   "pygments_lexer": "ipython3",
   "version": "3.7.3"
  }
 },
 "nbformat": 4,
 "nbformat_minor": 2
}
