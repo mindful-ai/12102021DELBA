{
 "cells": [
  {
   "cell_type": "markdown",
   "metadata": {},
   "source": [
    "### Z- Score"
   ]
  },
  {
   "cell_type": "markdown",
   "metadata": {},
   "source": [
    "A company is looking to hire a new  database administrator.\n",
    "They give a standardized test to applicants  to measure their technical knowledge.\n",
    "Their first applicant, Amy, scores an 87\n",
    "Based on her score, is Amy exceptionally  qualified?\n"
   ]
  },
  {
   "cell_type": "code",
   "execution_count": 2,
   "metadata": {},
   "outputs": [],
   "source": [
    "# Given\n",
    "mean = 75\n",
    "x = 87\n",
    "sd = 7"
   ]
  },
  {
   "cell_type": "code",
   "execution_count": 3,
   "metadata": {},
   "outputs": [],
   "source": [
    "z = (x - mean)/sd"
   ]
  },
  {
   "cell_type": "code",
   "execution_count": 4,
   "metadata": {},
   "outputs": [
    {
     "data": {
      "text/plain": [
       "1.7142857142857142"
      ]
     },
     "execution_count": 4,
     "metadata": {},
     "output_type": "execute_result"
    }
   ],
   "source": [
    "z"
   ]
  },
  {
   "cell_type": "code",
   "execution_count": 5,
   "metadata": {},
   "outputs": [],
   "source": [
    "from scipy import stats\n",
    "zvalue = stats.norm.cdf(z)"
   ]
  },
  {
   "cell_type": "code",
   "execution_count": 6,
   "metadata": {},
   "outputs": [
    {
     "data": {
      "text/plain": [
       "0.9567618672531671"
      ]
     },
     "execution_count": 6,
     "metadata": {},
     "output_type": "execute_result"
    }
   ],
   "source": [
    "zvalue\n"
   ]
  },
  {
   "cell_type": "markdown",
   "metadata": {},
   "source": [
    "Conclusion: Amy has score better than 95.67% of all other applicants.\n",
    "It is suggested that you could hire Amy."
   ]
  },
  {
   "cell_type": "markdown",
   "metadata": {},
   "source": [
    "### Prime Numbers"
   ]
  },
  {
   "cell_type": "code",
   "execution_count": 8,
   "metadata": {},
   "outputs": [
    {
     "name": "stdout",
     "output_type": "stream",
     "text": [
      "The number is prime\n"
     ]
    }
   ],
   "source": [
    "# Data\n",
    "N = 7\n",
    "\n",
    "# Assumption => Hypothesis => Null Hypothesis\n",
    "prime = True\n",
    "\n",
    "# Subject it to test => Hypothesis Testing\n",
    "# We do a test either to accept the assumption or reject\n",
    "for i in range(2, N):\n",
    "    if(N % i == 0):\n",
    "        prime = False\n",
    "        break\n",
    "        \n",
    "# Taking a decision (concluding) based on the test result\n",
    "if(prime == True):\n",
    "    print(\"The number is prime\")\n",
    "else:\n",
    "    print(\"The number is not prime\")\n",
    "\n"
   ]
  },
  {
   "cell_type": "markdown",
   "metadata": {},
   "source": [
    "### Hypothesis Test: 1 sample T-test"
   ]
  },
  {
   "cell_type": "code",
   "execution_count": 19,
   "metadata": {},
   "outputs": [
    {
     "data": {
      "text/plain": [
       "[32, 34, 29, 29, 22, 39, 38, 37, 38, 36, 30, 26, 22, 22]"
      ]
     },
     "execution_count": 19,
     "metadata": {},
     "output_type": "execute_result"
    }
   ],
   "source": [
    "import urllib.request as url\n",
    "URL = r\"https://raw.githubusercontent.com/edbullen/Hypothesis/master/ages.csv\"\n",
    "r = url.urlopen(URL)\n",
    "data = [int(x) for x in r.read().decode().split()]\n",
    "data"
   ]
  },
  {
   "cell_type": "code",
   "execution_count": 20,
   "metadata": {},
   "outputs": [],
   "source": [
    "import numpy as np"
   ]
  },
  {
   "cell_type": "code",
   "execution_count": 21,
   "metadata": {},
   "outputs": [
    {
     "data": {
      "text/plain": [
       "31.0"
      ]
     },
     "execution_count": 21,
     "metadata": {},
     "output_type": "execute_result"
    }
   ],
   "source": [
    "# Calculate the mean of ages\n",
    "mu = np.mean(data)\n",
    "mu"
   ]
  },
  {
   "cell_type": "code",
   "execution_count": 23,
   "metadata": {},
   "outputs": [],
   "source": [
    "from scipy.stats import ttest_1samp"
   ]
  },
  {
   "cell_type": "code",
   "execution_count": 26,
   "metadata": {},
   "outputs": [
    {
     "data": {
      "text/plain": [
       "Ttest_1sampResult(statistic=5.376419101310944, pvalue=0.0001261384429324314)"
      ]
     },
     "execution_count": 26,
     "metadata": {},
     "output_type": "execute_result"
    }
   ],
   "source": [
    "ttest_1samp(data, 22)"
   ]
  },
  {
   "cell_type": "code",
   "execution_count": 27,
   "metadata": {},
   "outputs": [
    {
     "data": {
      "text/plain": [
       "Ttest_1sampResult(statistic=-40.621833209904906, pvalue=4.392449445242653e-15)"
      ]
     },
     "execution_count": 27,
     "metadata": {},
     "output_type": "execute_result"
    }
   ],
   "source": [
    "ttest_1samp(data, 99)"
   ]
  },
  {
   "cell_type": "markdown",
   "metadata": {},
   "source": [
    "#### Hypothesis Test: Use a Two-Sample T-Test to compare two independent data-sets that are approximately normally distributed"
   ]
  },
  {
   "cell_type": "code",
   "execution_count": 28,
   "metadata": {},
   "outputs": [],
   "source": [
    "URL1 = \"https://raw.githubusercontent.com/edbullen/Hypothesis/master/week1.csv\"\n",
    "URL2 = \"https://raw.githubusercontent.com/edbullen/Hypothesis/master/week2.csv\""
   ]
  },
  {
   "cell_type": "code",
   "execution_count": 29,
   "metadata": {},
   "outputs": [],
   "source": [
    "import numpy as np\n",
    "import urllib.request as urllib2\n",
    "import matplotlib.pyplot as plt"
   ]
  },
  {
   "cell_type": "code",
   "execution_count": 30,
   "metadata": {},
   "outputs": [],
   "source": [
    "r = urllib2.urlopen(URL1)\n",
    "week1 = r.read().decode('utf-8')\n",
    "r = urllib2.urlopen(URL2)\n",
    "week2 = r.read().decode('utf-8')"
   ]
  },
  {
   "cell_type": "code",
   "execution_count": 31,
   "metadata": {},
   "outputs": [],
   "source": [
    "#split the data by newline, convert list to np array float\n",
    "week1 = np.asarray(week1.split()).astype(float)\n",
    "week2 = np.asarray(week2.split()).astype(float)"
   ]
  },
  {
   "cell_type": "code",
   "execution_count": 32,
   "metadata": {},
   "outputs": [
    {
     "data": {
      "image/png": "[encoded data removed]",
      "text/plain": [
       "<Figure size 432x288 with 1 Axes>"
      ]
     },
     "metadata": {
      "needs_background": "light"
     },
     "output_type": "display_data"
    }
   ],
   "source": [
    "# plot\n",
    "plt.hist(week1, bins=20, color='b', alpha=0.5)\n",
    "#plt.hist(week2, bins=20, color='r', alpha=0.5)\n",
    "plt.show()"
   ]
  },
  {
   "cell_type": "code",
   "execution_count": 33,
   "metadata": {},
   "outputs": [
    {
     "data": {
      "image/png": "[encoded data removed]",
      "text/plain": [
       "<Figure size 432x288 with 1 Axes>"
      ]
     },
     "metadata": {
      "needs_background": "light"
     },
     "output_type": "display_data"
    }
   ],
   "source": [
    "# plot\n",
    "#plt.hist(week1, bins=20, color='b', alpha=0.5)\n",
    "plt.hist(week2, bins=20, color='r', alpha=0.5)\n",
    "plt.show()"
   ]
  },
  {
   "cell_type": "code",
   "execution_count": 34,
   "metadata": {},
   "outputs": [
    {
     "name": "stdout",
     "output_type": "stream",
     "text": [
      "Week 1 Sample Mean: 25.4480593952\n",
      "Week 2 Sample Mean: 29.0215681076\n",
      "Ttest_indResult(statistic=-3.510875818698744, pvalue=0.000676767690454633)\n"
     ]
    }
   ],
   "source": [
    "from scipy.stats import ttest_ind  \n",
    " \n",
    "week1_mean = week1.mean()\n",
    "week2_mean = week2.mean()\n",
    " \n",
    "print(\"Week 1 Sample Mean:\", week1_mean)\n",
    "print(\"Week 2 Sample Mean:\", week2_mean)\n",
    " \n",
    "pval = ttest_ind(week1,week2)\n",
    "print(pval)"
   ]
  },
  {
   "cell_type": "code",
   "execution_count": 35,
   "metadata": {},
   "outputs": [
    {
     "name": "stdout",
     "output_type": "stream",
     "text": [
      "pval is  0.000676767690454633 Null Hypothesis Rejected\n",
      "samples are statistically different\n"
     ]
    }
   ],
   "source": [
    "if pval[1] < 0.05:\n",
    " print(\"pval is \", pval[1], \"Null Hypothesis Rejected\")\n",
    " print(\"samples are statistically different\")\n",
    "else:\n",
    " print(\"pval is \", pval[1], \"Null Hypothesis Accepted\")\n",
    " print(\"samples are NOT statistically different\")"
   ]
  },
  {
   "cell_type": "markdown",
   "metadata": {},
   "source": [
    "### ANOVA"
   ]
  },
  {
   "cell_type": "markdown",
   "metadata": {},
   "source": [
    "“The one-way ANOVA tests the null hypothesis that two or more groups have the same population mean.”\n",
    "\n",
    "A one-way test identifies if at least two groups are different from each other, but doesn’t identify which groups. Used when there is one independent variable and one dependent variable.\n",
    "\n",
    "A two-way test can be used when there are two independent variables – i.e. Store and Hour-of-Day (factors).\n",
    "\n",
    "Anova Test Assumptions\n",
    "\n",
    "The samples are independent.\n",
    "Each sample is from a normally distributed population.\n",
    "The population standard deviations of the groups are all equal. This property is known as homoscedasticity.\n",
    "Consider “Kruskal-Wallis H-test” if these assumptions are not valid."
   ]
  },
  {
   "cell_type": "code",
   "execution_count": 36,
   "metadata": {},
   "outputs": [],
   "source": [
    "import numpy as np\n",
    "#import seaborn as sns # Seaborn has some nice looking plots\n",
    "import pandas as pd\n",
    "import urllib.request as urllib2\n",
    " \n",
    "# Source data from web - not really CSVs - just a list separated by new-line\n",
    "URLA = \"https://raw.githubusercontent.com/edbullen/Hypothesis/master/storeA.csv\"\n",
    "URLB = \"https://raw.githubusercontent.com/edbullen/Hypothesis/master/storeB.csv\"\n",
    "URLC = \"https://raw.githubusercontent.com/edbullen/Hypothesis/master/storeC.csv\"\n",
    " \n",
    "A = urllib2.urlopen(URLA).read().decode('utf-8')\n",
    "B = urllib2.urlopen(URLB).read().decode('utf-8')\n",
    "C = urllib2.urlopen(URLC).read().decode('utf-8')\n",
    " \n",
    "#split the data by newline, convert list to np array float\n",
    "A = np.asarray(A.split()).astype(float)\n",
    "B = np.asarray(B.split()).astype(float)\n",
    "C = np.asarray(C.split()).astype(float)\n",
    " \n",
    "# Create a Pandas Data Frame with Store A,B,C as the columns\n",
    "df = pd.DataFrame({'StoreA':A, 'StoreB':B, 'StoreC':C})\n",
    "# Have to \"melt\" the data-frame for Seaborn\n",
    "#sns.boxplot(x=\"variable\", y=\"value\", data=pd.melt(df))"
   ]
  },
  {
   "cell_type": "code",
   "execution_count": 37,
   "metadata": {},
   "outputs": [
    {
     "data": {
      "image/png": "[encoded data removed]",
      "text/plain": [
       "<Figure size 432x288 with 1 Axes>"
      ]
     },
     "metadata": {
      "needs_background": "light"
     },
     "output_type": "display_data"
    }
   ],
   "source": [
    "plt.hist(A, bins=20, color='r', alpha=0.5)\n",
    "plt.show()"
   ]
  },
  {
   "cell_type": "code",
   "execution_count": 39,
   "metadata": {},
   "outputs": [
    {
     "data": {
      "image/png": "[encoded data removed]",
      "text/plain": [
       "<Figure size 432x288 with 1 Axes>"
      ]
     },
     "metadata": {
      "needs_background": "light"
     },
     "output_type": "display_data"
    }
   ],
   "source": [
    "plt.hist(B, bins=20, color='b', alpha=0.5)\n",
    "plt.show()"
   ]
  },
  {
   "cell_type": "code",
   "execution_count": 40,
   "metadata": {},
   "outputs": [
    {
     "data": {
      "image/png": "[encoded data removed]",
      "text/plain": [
       "<Figure size 432x288 with 1 Axes>"
      ]
     },
     "metadata": {
      "needs_background": "light"
     },
     "output_type": "display_data"
    }
   ],
   "source": [
    "plt.hist(C, bins=20, color='g', alpha=0.5)\n",
    "plt.show()"
   ]
  },
  {
   "cell_type": "code",
   "execution_count": 41,
   "metadata": {},
   "outputs": [
    {
     "data": {
      "text/html": [
       "<div>\n",
       "<style scoped>\n",
       "    .dataframe tbody tr th:only-of-type {\n",
       "        vertical-align: middle;\n",
       "    }\n",
       "\n",
       "    .dataframe tbody tr th {\n",
       "        vertical-align: top;\n",
       "    }\n",
       "\n",
       "    .dataframe thead th {\n",
       "        text-align: right;\n",
       "    }\n",
       "</style>\n",
       "<table border=\"1\" class=\"dataframe\">\n",
       "  <thead>\n",
       "    <tr style=\"text-align: right;\">\n",
       "      <th></th>\n",
       "      <th>StoreA</th>\n",
       "      <th>StoreB</th>\n",
       "      <th>StoreC</th>\n",
       "    </tr>\n",
       "  </thead>\n",
       "  <tbody>\n",
       "    <tr>\n",
       "      <th>0</th>\n",
       "      <td>73.571950</td>\n",
       "      <td>78.358550</td>\n",
       "      <td>32.232597</td>\n",
       "    </tr>\n",
       "    <tr>\n",
       "      <th>1</th>\n",
       "      <td>38.367363</td>\n",
       "      <td>76.019629</td>\n",
       "      <td>61.365497</td>\n",
       "    </tr>\n",
       "    <tr>\n",
       "      <th>2</th>\n",
       "      <td>49.363988</td>\n",
       "      <td>31.368729</td>\n",
       "      <td>60.259047</td>\n",
       "    </tr>\n",
       "    <tr>\n",
       "      <th>3</th>\n",
       "      <td>61.961714</td>\n",
       "      <td>45.475715</td>\n",
       "      <td>56.874925</td>\n",
       "    </tr>\n",
       "    <tr>\n",
       "      <th>4</th>\n",
       "      <td>38.739590</td>\n",
       "      <td>90.219779</td>\n",
       "      <td>74.783921</td>\n",
       "    </tr>\n",
       "  </tbody>\n",
       "</table>\n",
       "</div>"
      ],
      "text/plain": [
       "      StoreA     StoreB     StoreC\n",
       "0  73.571950  78.358550  32.232597\n",
       "1  38.367363  76.019629  61.365497\n",
       "2  49.363988  31.368729  60.259047\n",
       "3  61.961714  45.475715  56.874925\n",
       "4  38.739590  90.219779  74.783921"
      ]
     },
     "execution_count": 41,
     "metadata": {},
     "output_type": "execute_result"
    }
   ],
   "source": [
    "df.head()\n"
   ]
  },
  {
   "cell_type": "code",
   "execution_count": 42,
   "metadata": {},
   "outputs": [
    {
     "name": "stdout",
     "output_type": "stream",
     "text": [
      "Store A Mean: 58.35\n",
      "Store B Mean: 55.754\n",
      "Store C Mean: 56.767\n"
     ]
    }
   ],
   "source": [
    "print(\"Store A Mean:\", A.mean().round(3))\n",
    "print(\"Store B Mean:\", B.mean().round(3))\n",
    "print(\"Store C Mean:\", C.mean().round(3))"
   ]
  },
  {
   "cell_type": "code",
   "execution_count": 43,
   "metadata": {},
   "outputs": [
    {
     "data": {
      "text/plain": [
       "F_onewayResult(statistic=1.138202781097911, pvalue=0.32132109475363463)"
      ]
     },
     "execution_count": 43,
     "metadata": {},
     "output_type": "execute_result"
    }
   ],
   "source": [
    "from scipy.stats import ttest_ind\n",
    "from scipy.stats import f_oneway\n",
    " \n",
    "pval = f_oneway(A,B,C)\n",
    "pval"
   ]
  },
  {
   "cell_type": "code",
   "execution_count": 44,
   "metadata": {},
   "outputs": [],
   "source": [
    "URLC_NEW = \"https://raw.githubusercontent.com/edbullen/Hypothesis/master/storeC_NEW.csv\"\n",
    "C_NEW = urllib2.urlopen(URLC_NEW).read().decode('utf-8')\n",
    "C_NEW = np.asarray(C_NEW.split()).astype(float)\n",
    "# Create a Pandas Data Frame with Store A,B,C as the columns\n",
    "df = pd.DataFrame({'StoreA':A, 'StoreB':B, 'StoreC':C_NEW})"
   ]
  },
  {
   "cell_type": "code",
   "execution_count": 45,
   "metadata": {},
   "outputs": [
    {
     "data": {
      "text/html": [
       "<div>\n",
       "<style scoped>\n",
       "    .dataframe tbody tr th:only-of-type {\n",
       "        vertical-align: middle;\n",
       "    }\n",
       "\n",
       "    .dataframe tbody tr th {\n",
       "        vertical-align: top;\n",
       "    }\n",
       "\n",
       "    .dataframe thead th {\n",
       "        text-align: right;\n",
       "    }\n",
       "</style>\n",
       "<table border=\"1\" class=\"dataframe\">\n",
       "  <thead>\n",
       "    <tr style=\"text-align: right;\">\n",
       "      <th></th>\n",
       "      <th>StoreA</th>\n",
       "      <th>StoreB</th>\n",
       "      <th>StoreC</th>\n",
       "    </tr>\n",
       "  </thead>\n",
       "  <tbody>\n",
       "    <tr>\n",
       "      <th>0</th>\n",
       "      <td>73.571950</td>\n",
       "      <td>78.358550</td>\n",
       "      <td>79.888225</td>\n",
       "    </tr>\n",
       "    <tr>\n",
       "      <th>1</th>\n",
       "      <td>38.367363</td>\n",
       "      <td>76.019629</td>\n",
       "      <td>85.463442</td>\n",
       "    </tr>\n",
       "    <tr>\n",
       "      <th>2</th>\n",
       "      <td>49.363988</td>\n",
       "      <td>31.368729</td>\n",
       "      <td>49.389869</td>\n",
       "    </tr>\n",
       "    <tr>\n",
       "      <th>3</th>\n",
       "      <td>61.961714</td>\n",
       "      <td>45.475715</td>\n",
       "      <td>76.974372</td>\n",
       "    </tr>\n",
       "    <tr>\n",
       "      <th>4</th>\n",
       "      <td>38.739590</td>\n",
       "      <td>90.219779</td>\n",
       "      <td>60.343773</td>\n",
       "    </tr>\n",
       "  </tbody>\n",
       "</table>\n",
       "</div>"
      ],
      "text/plain": [
       "      StoreA     StoreB     StoreC\n",
       "0  73.571950  78.358550  79.888225\n",
       "1  38.367363  76.019629  85.463442\n",
       "2  49.363988  31.368729  49.389869\n",
       "3  61.961714  45.475715  76.974372\n",
       "4  38.739590  90.219779  60.343773"
      ]
     },
     "execution_count": 45,
     "metadata": {},
     "output_type": "execute_result"
    }
   ],
   "source": [
    "df.head()"
   ]
  },
  {
   "cell_type": "code",
   "execution_count": 46,
   "metadata": {},
   "outputs": [
    {
     "data": {
      "text/plain": [
       "F_onewayResult(statistic=4.020708474960448, pvalue=0.018592989397402296)"
      ]
     },
     "execution_count": 46,
     "metadata": {},
     "output_type": "execute_result"
    }
   ],
   "source": [
    "pval = f_oneway(A,B,C_NEW)\n",
    "pval"
   ]
  },
  {
   "cell_type": "code",
   "execution_count": null,
   "metadata": {},
   "outputs": [],
   "source": []
  }
 ],
 "metadata": {
  "kernelspec": {
   "display_name": "Python 3",
   "language": "python",
   "name": "python3"
  },
  "language_info": {
   "codemirror_mode": {
    "name": "ipython",
    "version": 3
   },
   "file_extension": ".py",
   "mimetype": "text/x-python",
   "name": "python",
   "nbconvert_exporter": "python",
   "pygments_lexer": "ipython3",
   "version": "3.7.3"
  }
 },
 "nbformat": 4,
 "nbformat_minor": 2
}
